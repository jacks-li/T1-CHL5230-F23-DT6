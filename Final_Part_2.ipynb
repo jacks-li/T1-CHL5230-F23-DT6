{
  "cells": [
    {
      "cell_type": "markdown",
      "metadata": {
        "id": "view-in-github",
        "colab_type": "text"
      },
      "source": [
        "<a href=\"https://colab.research.google.com/github/jacks-li/T1-CHL5230-F23-DT6/blob/main/Final_Part_2.ipynb\" target=\"_parent\"><img src=\"https://colab.research.google.com/assets/colab-badge.svg\" alt=\"Open In Colab\"/></a>"
      ]
    },
    {
      "cell_type": "code",
      "execution_count": null,
      "metadata": {
        "id": "CI9S4rdBJ8Sx",
        "colab": {
          "base_uri": "https://localhost:8080/"
        },
        "outputId": "59810387-017b-441a-bca5-75812bee338f"
      },
      "outputs": [
        {
          "output_type": "stream",
          "name": "stdout",
          "text": [
            "Requirement already satisfied: scikit-learn in /usr/local/lib/python3.10/dist-packages (1.2.2)\n",
            "Collecting scikit-learn\n",
            "  Downloading scikit_learn-1.3.2-cp310-cp310-manylinux_2_17_x86_64.manylinux2014_x86_64.whl (10.8 MB)\n",
            "\u001b[2K     \u001b[90m━━━━━━━━━━━━━━━━━━━━━━━━━━━━━━━━━━━━━━━━\u001b[0m \u001b[32m10.8/10.8 MB\u001b[0m \u001b[31m66.1 MB/s\u001b[0m eta \u001b[36m0:00:00\u001b[0m\n",
            "\u001b[?25hRequirement already satisfied: numpy<2.0,>=1.17.3 in /usr/local/lib/python3.10/dist-packages (from scikit-learn) (1.23.5)\n",
            "Requirement already satisfied: scipy>=1.5.0 in /usr/local/lib/python3.10/dist-packages (from scikit-learn) (1.11.4)\n",
            "Requirement already satisfied: joblib>=1.1.1 in /usr/local/lib/python3.10/dist-packages (from scikit-learn) (1.3.2)\n",
            "Requirement already satisfied: threadpoolctl>=2.0.0 in /usr/local/lib/python3.10/dist-packages (from scikit-learn) (3.2.0)\n",
            "Installing collected packages: scikit-learn\n",
            "  Attempting uninstall: scikit-learn\n",
            "    Found existing installation: scikit-learn 1.2.2\n",
            "    Uninstalling scikit-learn-1.2.2:\n",
            "      Successfully uninstalled scikit-learn-1.2.2\n",
            "Successfully installed scikit-learn-1.3.2\n",
            "Collecting category_encoders\n",
            "  Downloading category_encoders-2.6.3-py2.py3-none-any.whl (81 kB)\n",
            "\u001b[2K     \u001b[90m━━━━━━━━━━━━━━━━━━━━━━━━━━━━━━━━━━━━━━━━\u001b[0m \u001b[32m81.9/81.9 kB\u001b[0m \u001b[31m1.0 MB/s\u001b[0m eta \u001b[36m0:00:00\u001b[0m\n",
            "\u001b[?25hRequirement already satisfied: numpy>=1.14.0 in /usr/local/lib/python3.10/dist-packages (from category_encoders) (1.23.5)\n",
            "Requirement already satisfied: scikit-learn>=0.20.0 in /usr/local/lib/python3.10/dist-packages (from category_encoders) (1.3.2)\n",
            "Requirement already satisfied: scipy>=1.0.0 in /usr/local/lib/python3.10/dist-packages (from category_encoders) (1.11.4)\n",
            "Requirement already satisfied: statsmodels>=0.9.0 in /usr/local/lib/python3.10/dist-packages (from category_encoders) (0.14.0)\n",
            "Requirement already satisfied: pandas>=1.0.5 in /usr/local/lib/python3.10/dist-packages (from category_encoders) (1.5.3)\n",
            "Requirement already satisfied: patsy>=0.5.1 in /usr/local/lib/python3.10/dist-packages (from category_encoders) (0.5.3)\n",
            "Requirement already satisfied: python-dateutil>=2.8.1 in /usr/local/lib/python3.10/dist-packages (from pandas>=1.0.5->category_encoders) (2.8.2)\n",
            "Requirement already satisfied: pytz>=2020.1 in /usr/local/lib/python3.10/dist-packages (from pandas>=1.0.5->category_encoders) (2023.3.post1)\n",
            "Requirement already satisfied: six in /usr/local/lib/python3.10/dist-packages (from patsy>=0.5.1->category_encoders) (1.16.0)\n",
            "Requirement already satisfied: joblib>=1.1.1 in /usr/local/lib/python3.10/dist-packages (from scikit-learn>=0.20.0->category_encoders) (1.3.2)\n",
            "Requirement already satisfied: threadpoolctl>=2.0.0 in /usr/local/lib/python3.10/dist-packages (from scikit-learn>=0.20.0->category_encoders) (3.2.0)\n",
            "Requirement already satisfied: packaging>=21.3 in /usr/local/lib/python3.10/dist-packages (from statsmodels>=0.9.0->category_encoders) (23.2)\n",
            "Installing collected packages: category_encoders\n",
            "Successfully installed category_encoders-2.6.3\n"
          ]
        }
      ],
      "source": [
        "!pip install -U scikit-learn\n",
        "!pip install --upgrade category_encoders"
      ]
    },
    {
      "cell_type": "code",
      "execution_count": null,
      "metadata": {
        "id": "XXtqZhp8-5Cd"
      },
      "outputs": [],
      "source": [
        "import io\n",
        "import pandas as pd\n",
        "import numpy as np\n",
        "from sklearn.linear_model import LogisticRegression\n",
        "from sklearn.metrics import roc_auc_score, accuracy_score\n",
        "import warnings\n",
        "from sklearn.metrics import classification_report, confusion_matrix\n",
        "from sklearn.preprocessing import TargetEncoder\n",
        "import plotly.express as px\n",
        "import seaborn as sns\n",
        "import matplotlib.pyplot as plt\n",
        "from sklearn.discriminant_analysis import StandardScaler\n",
        "from sklearn.naive_bayes import CategoricalNB, GaussianNB, MultinomialNB\n",
        "from sklearn.experimental import enable_iterative_imputer\n",
        "from sklearn.impute import IterativeImputer\n",
        "from sklearn.metrics import RocCurveDisplay, auc, roc_curve\n",
        "from sklearn.experimental import enable_iterative_imputer\n",
        "from sklearn.impute import IterativeImputer\n",
        "from sklearn.model_selection import train_test_split\n",
        "from sklearn.linear_model import LinearRegression\n",
        "from sklearn.model_selection import KFold\n",
        "from sklearn.metrics import mean_squared_error\n",
        "from sklearn.naive_bayes import BernoulliNB\n",
        "from sklearn.feature_selection import RFECV\n",
        "from sklearn.model_selection import StratifiedKFold\n",
        "from sklearn import tree\n",
        "from sklearn.ensemble import RandomForestClassifier, GradientBoostingClassifier\n",
        "from sklearn.compose import ColumnTransformer\n",
        "from sklearn.pipeline import Pipeline\n",
        "from sklearn.model_selection import RandomizedSearchCV, StratifiedKFold, GridSearchCV\n",
        "from category_encoders import OneHotEncoder, TargetEncoder\n",
        "import scipy.stats as stats\n",
        "\n",
        "warnings.filterwarnings('ignore')"
      ]
    },
    {
      "cell_type": "code",
      "source": [
        "## Uploading the Data\n",
        "\n",
        "from google.colab import files\n",
        "uploaded = files.upload()"
      ],
      "metadata": {
        "colab": {
          "base_uri": "https://localhost:8080/",
          "height": 74
        },
        "id": "Uxu4RxBGHB3t",
        "outputId": "64684a5a-2ea6-405c-95f6-88ada6a087ee"
      },
      "execution_count": null,
      "outputs": [
        {
          "output_type": "display_data",
          "data": {
            "text/plain": [
              "<IPython.core.display.HTML object>"
            ],
            "text/html": [
              "\n",
              "     <input type=\"file\" id=\"files-857b7c20-df48-4aa9-9bb6-74260919addc\" name=\"files[]\" multiple disabled\n",
              "        style=\"border:none\" />\n",
              "     <output id=\"result-857b7c20-df48-4aa9-9bb6-74260919addc\">\n",
              "      Upload widget is only available when the cell has been executed in the\n",
              "      current browser session. Please rerun this cell to enable.\n",
              "      </output>\n",
              "      <script>// Copyright 2017 Google LLC\n",
              "//\n",
              "// Licensed under the Apache License, Version 2.0 (the \"License\");\n",
              "// you may not use this file except in compliance with the License.\n",
              "// You may obtain a copy of the License at\n",
              "//\n",
              "//      http://www.apache.org/licenses/LICENSE-2.0\n",
              "//\n",
              "// Unless required by applicable law or agreed to in writing, software\n",
              "// distributed under the License is distributed on an \"AS IS\" BASIS,\n",
              "// WITHOUT WARRANTIES OR CONDITIONS OF ANY KIND, either express or implied.\n",
              "// See the License for the specific language governing permissions and\n",
              "// limitations under the License.\n",
              "\n",
              "/**\n",
              " * @fileoverview Helpers for google.colab Python module.\n",
              " */\n",
              "(function(scope) {\n",
              "function span(text, styleAttributes = {}) {\n",
              "  const element = document.createElement('span');\n",
              "  element.textContent = text;\n",
              "  for (const key of Object.keys(styleAttributes)) {\n",
              "    element.style[key] = styleAttributes[key];\n",
              "  }\n",
              "  return element;\n",
              "}\n",
              "\n",
              "// Max number of bytes which will be uploaded at a time.\n",
              "const MAX_PAYLOAD_SIZE = 100 * 1024;\n",
              "\n",
              "function _uploadFiles(inputId, outputId) {\n",
              "  const steps = uploadFilesStep(inputId, outputId);\n",
              "  const outputElement = document.getElementById(outputId);\n",
              "  // Cache steps on the outputElement to make it available for the next call\n",
              "  // to uploadFilesContinue from Python.\n",
              "  outputElement.steps = steps;\n",
              "\n",
              "  return _uploadFilesContinue(outputId);\n",
              "}\n",
              "\n",
              "// This is roughly an async generator (not supported in the browser yet),\n",
              "// where there are multiple asynchronous steps and the Python side is going\n",
              "// to poll for completion of each step.\n",
              "// This uses a Promise to block the python side on completion of each step,\n",
              "// then passes the result of the previous step as the input to the next step.\n",
              "function _uploadFilesContinue(outputId) {\n",
              "  const outputElement = document.getElementById(outputId);\n",
              "  const steps = outputElement.steps;\n",
              "\n",
              "  const next = steps.next(outputElement.lastPromiseValue);\n",
              "  return Promise.resolve(next.value.promise).then((value) => {\n",
              "    // Cache the last promise value to make it available to the next\n",
              "    // step of the generator.\n",
              "    outputElement.lastPromiseValue = value;\n",
              "    return next.value.response;\n",
              "  });\n",
              "}\n",
              "\n",
              "/**\n",
              " * Generator function which is called between each async step of the upload\n",
              " * process.\n",
              " * @param {string} inputId Element ID of the input file picker element.\n",
              " * @param {string} outputId Element ID of the output display.\n",
              " * @return {!Iterable<!Object>} Iterable of next steps.\n",
              " */\n",
              "function* uploadFilesStep(inputId, outputId) {\n",
              "  const inputElement = document.getElementById(inputId);\n",
              "  inputElement.disabled = false;\n",
              "\n",
              "  const outputElement = document.getElementById(outputId);\n",
              "  outputElement.innerHTML = '';\n",
              "\n",
              "  const pickedPromise = new Promise((resolve) => {\n",
              "    inputElement.addEventListener('change', (e) => {\n",
              "      resolve(e.target.files);\n",
              "    });\n",
              "  });\n",
              "\n",
              "  const cancel = document.createElement('button');\n",
              "  inputElement.parentElement.appendChild(cancel);\n",
              "  cancel.textContent = 'Cancel upload';\n",
              "  const cancelPromise = new Promise((resolve) => {\n",
              "    cancel.onclick = () => {\n",
              "      resolve(null);\n",
              "    };\n",
              "  });\n",
              "\n",
              "  // Wait for the user to pick the files.\n",
              "  const files = yield {\n",
              "    promise: Promise.race([pickedPromise, cancelPromise]),\n",
              "    response: {\n",
              "      action: 'starting',\n",
              "    }\n",
              "  };\n",
              "\n",
              "  cancel.remove();\n",
              "\n",
              "  // Disable the input element since further picks are not allowed.\n",
              "  inputElement.disabled = true;\n",
              "\n",
              "  if (!files) {\n",
              "    return {\n",
              "      response: {\n",
              "        action: 'complete',\n",
              "      }\n",
              "    };\n",
              "  }\n",
              "\n",
              "  for (const file of files) {\n",
              "    const li = document.createElement('li');\n",
              "    li.append(span(file.name, {fontWeight: 'bold'}));\n",
              "    li.append(span(\n",
              "        `(${file.type || 'n/a'}) - ${file.size} bytes, ` +\n",
              "        `last modified: ${\n",
              "            file.lastModifiedDate ? file.lastModifiedDate.toLocaleDateString() :\n",
              "                                    'n/a'} - `));\n",
              "    const percent = span('0% done');\n",
              "    li.appendChild(percent);\n",
              "\n",
              "    outputElement.appendChild(li);\n",
              "\n",
              "    const fileDataPromise = new Promise((resolve) => {\n",
              "      const reader = new FileReader();\n",
              "      reader.onload = (e) => {\n",
              "        resolve(e.target.result);\n",
              "      };\n",
              "      reader.readAsArrayBuffer(file);\n",
              "    });\n",
              "    // Wait for the data to be ready.\n",
              "    let fileData = yield {\n",
              "      promise: fileDataPromise,\n",
              "      response: {\n",
              "        action: 'continue',\n",
              "      }\n",
              "    };\n",
              "\n",
              "    // Use a chunked sending to avoid message size limits. See b/62115660.\n",
              "    let position = 0;\n",
              "    do {\n",
              "      const length = Math.min(fileData.byteLength - position, MAX_PAYLOAD_SIZE);\n",
              "      const chunk = new Uint8Array(fileData, position, length);\n",
              "      position += length;\n",
              "\n",
              "      const base64 = btoa(String.fromCharCode.apply(null, chunk));\n",
              "      yield {\n",
              "        response: {\n",
              "          action: 'append',\n",
              "          file: file.name,\n",
              "          data: base64,\n",
              "        },\n",
              "      };\n",
              "\n",
              "      let percentDone = fileData.byteLength === 0 ?\n",
              "          100 :\n",
              "          Math.round((position / fileData.byteLength) * 100);\n",
              "      percent.textContent = `${percentDone}% done`;\n",
              "\n",
              "    } while (position < fileData.byteLength);\n",
              "  }\n",
              "\n",
              "  // All done.\n",
              "  yield {\n",
              "    response: {\n",
              "      action: 'complete',\n",
              "    }\n",
              "  };\n",
              "}\n",
              "\n",
              "scope.google = scope.google || {};\n",
              "scope.google.colab = scope.google.colab || {};\n",
              "scope.google.colab._files = {\n",
              "  _uploadFiles,\n",
              "  _uploadFilesContinue,\n",
              "};\n",
              "})(self);\n",
              "</script> "
            ]
          },
          "metadata": {}
        },
        {
          "output_type": "stream",
          "name": "stdout",
          "text": [
            "Saving diabetes.xlsx to diabetes.xlsx\n"
          ]
        }
      ]
    },
    {
      "cell_type": "code",
      "source": [
        "df = pd.read_excel(io.BytesIO(uploaded['diabetes.xlsx']))"
      ],
      "metadata": {
        "id": "dIx6DT9cXe9A"
      },
      "execution_count": null,
      "outputs": []
    },
    {
      "cell_type": "code",
      "source": [
        "# Display the first few rows of the dataset to ensure it's loaded correctly\n",
        "df.head()"
      ],
      "metadata": {
        "colab": {
          "base_uri": "https://localhost:8080/",
          "height": 256
        },
        "id": "gHBLyduYGvJj",
        "outputId": "7c07d1e1-7198-4837-eca2-9d5c39d7cd4a"
      },
      "execution_count": null,
      "outputs": [
        {
          "output_type": "execute_result",
          "data": {
            "text/plain": [
              "   Age_at_Exam    sBP   sBP_Date        BMI   BMI_Date   LDL   LDL_Date   HDL  \\\n",
              "0           65  126.0 2013-06-11  31.000000 2013-06-11  1.66 2013-06-14  1.11   \n",
              "1           62  135.0 2014-06-19  25.846483 2014-10-17  2.49 2014-05-28  1.37   \n",
              "2           63  133.0 2012-07-31  30.900000 2011-12-01  1.65 2012-06-01   NaN   \n",
              "3           51  136.0 2014-01-06  56.710775 2014-01-06  2.80 2014-01-14  1.94   \n",
              "4           40  123.0 2015-06-12  33.067867 2015-06-12  2.48 2015-06-24  1.17   \n",
              "\n",
              "    HDL_Date  A1c  ... leastO(A1c_Date)  leastO(DM_OnsetDate)  \\\n",
              "0 2013-06-14  5.4  ...              NaN                   NaN   \n",
              "1 2014-05-28  5.8  ...              NaN                   NaN   \n",
              "2        NaT  6.1  ...              NaN                   NaN   \n",
              "3 2014-01-14  6.0  ...              NaN                   NaN   \n",
              "4 2015-06-24  5.8  ...              NaN                   NaN   \n",
              "\n",
              "  leastO(FBS_Date)  LeastOfAll A1C_BEF_DM  FBS_BEF_DM        Patient_ID  \\\n",
              "0              NaN         NaN        NaN         NaN  4001000000255903   \n",
              "1              NaN         NaN        NaN         NaN  4001000000256456   \n",
              "2              NaN         NaN        NaN         NaN  1001000000000054   \n",
              "3              NaN         NaN        NaN         NaN  4001000000259496   \n",
              "4              NaN         NaN        NaN         NaN  4001000000262094   \n",
              "\n",
              "  DM_Onset_Revised  DM_Onset_Revised_1YrPrior DIABETES  \n",
              "0              NaT                        NaT       No  \n",
              "1              NaT                        NaT       No  \n",
              "2              NaT                        NaT       No  \n",
              "3              NaT                        NaT       No  \n",
              "4              NaT                        NaT       No  \n",
              "\n",
              "[5 rows x 43 columns]"
            ],
            "text/html": [
              "\n",
              "  <div id=\"df-841d0687-6916-4cf8-bcbe-2badb17bf845\" class=\"colab-df-container\">\n",
              "    <div>\n",
              "<style scoped>\n",
              "    .dataframe tbody tr th:only-of-type {\n",
              "        vertical-align: middle;\n",
              "    }\n",
              "\n",
              "    .dataframe tbody tr th {\n",
              "        vertical-align: top;\n",
              "    }\n",
              "\n",
              "    .dataframe thead th {\n",
              "        text-align: right;\n",
              "    }\n",
              "</style>\n",
              "<table border=\"1\" class=\"dataframe\">\n",
              "  <thead>\n",
              "    <tr style=\"text-align: right;\">\n",
              "      <th></th>\n",
              "      <th>Age_at_Exam</th>\n",
              "      <th>sBP</th>\n",
              "      <th>sBP_Date</th>\n",
              "      <th>BMI</th>\n",
              "      <th>BMI_Date</th>\n",
              "      <th>LDL</th>\n",
              "      <th>LDL_Date</th>\n",
              "      <th>HDL</th>\n",
              "      <th>HDL_Date</th>\n",
              "      <th>A1c</th>\n",
              "      <th>...</th>\n",
              "      <th>leastO(A1c_Date)</th>\n",
              "      <th>leastO(DM_OnsetDate)</th>\n",
              "      <th>leastO(FBS_Date)</th>\n",
              "      <th>LeastOfAll</th>\n",
              "      <th>A1C_BEF_DM</th>\n",
              "      <th>FBS_BEF_DM</th>\n",
              "      <th>Patient_ID</th>\n",
              "      <th>DM_Onset_Revised</th>\n",
              "      <th>DM_Onset_Revised_1YrPrior</th>\n",
              "      <th>DIABETES</th>\n",
              "    </tr>\n",
              "  </thead>\n",
              "  <tbody>\n",
              "    <tr>\n",
              "      <th>0</th>\n",
              "      <td>65</td>\n",
              "      <td>126.0</td>\n",
              "      <td>2013-06-11</td>\n",
              "      <td>31.000000</td>\n",
              "      <td>2013-06-11</td>\n",
              "      <td>1.66</td>\n",
              "      <td>2013-06-14</td>\n",
              "      <td>1.11</td>\n",
              "      <td>2013-06-14</td>\n",
              "      <td>5.4</td>\n",
              "      <td>...</td>\n",
              "      <td>NaN</td>\n",
              "      <td>NaN</td>\n",
              "      <td>NaN</td>\n",
              "      <td>NaN</td>\n",
              "      <td>NaN</td>\n",
              "      <td>NaN</td>\n",
              "      <td>4001000000255903</td>\n",
              "      <td>NaT</td>\n",
              "      <td>NaT</td>\n",
              "      <td>No</td>\n",
              "    </tr>\n",
              "    <tr>\n",
              "      <th>1</th>\n",
              "      <td>62</td>\n",
              "      <td>135.0</td>\n",
              "      <td>2014-06-19</td>\n",
              "      <td>25.846483</td>\n",
              "      <td>2014-10-17</td>\n",
              "      <td>2.49</td>\n",
              "      <td>2014-05-28</td>\n",
              "      <td>1.37</td>\n",
              "      <td>2014-05-28</td>\n",
              "      <td>5.8</td>\n",
              "      <td>...</td>\n",
              "      <td>NaN</td>\n",
              "      <td>NaN</td>\n",
              "      <td>NaN</td>\n",
              "      <td>NaN</td>\n",
              "      <td>NaN</td>\n",
              "      <td>NaN</td>\n",
              "      <td>4001000000256456</td>\n",
              "      <td>NaT</td>\n",
              "      <td>NaT</td>\n",
              "      <td>No</td>\n",
              "    </tr>\n",
              "    <tr>\n",
              "      <th>2</th>\n",
              "      <td>63</td>\n",
              "      <td>133.0</td>\n",
              "      <td>2012-07-31</td>\n",
              "      <td>30.900000</td>\n",
              "      <td>2011-12-01</td>\n",
              "      <td>1.65</td>\n",
              "      <td>2012-06-01</td>\n",
              "      <td>NaN</td>\n",
              "      <td>NaT</td>\n",
              "      <td>6.1</td>\n",
              "      <td>...</td>\n",
              "      <td>NaN</td>\n",
              "      <td>NaN</td>\n",
              "      <td>NaN</td>\n",
              "      <td>NaN</td>\n",
              "      <td>NaN</td>\n",
              "      <td>NaN</td>\n",
              "      <td>1001000000000054</td>\n",
              "      <td>NaT</td>\n",
              "      <td>NaT</td>\n",
              "      <td>No</td>\n",
              "    </tr>\n",
              "    <tr>\n",
              "      <th>3</th>\n",
              "      <td>51</td>\n",
              "      <td>136.0</td>\n",
              "      <td>2014-01-06</td>\n",
              "      <td>56.710775</td>\n",
              "      <td>2014-01-06</td>\n",
              "      <td>2.80</td>\n",
              "      <td>2014-01-14</td>\n",
              "      <td>1.94</td>\n",
              "      <td>2014-01-14</td>\n",
              "      <td>6.0</td>\n",
              "      <td>...</td>\n",
              "      <td>NaN</td>\n",
              "      <td>NaN</td>\n",
              "      <td>NaN</td>\n",
              "      <td>NaN</td>\n",
              "      <td>NaN</td>\n",
              "      <td>NaN</td>\n",
              "      <td>4001000000259496</td>\n",
              "      <td>NaT</td>\n",
              "      <td>NaT</td>\n",
              "      <td>No</td>\n",
              "    </tr>\n",
              "    <tr>\n",
              "      <th>4</th>\n",
              "      <td>40</td>\n",
              "      <td>123.0</td>\n",
              "      <td>2015-06-12</td>\n",
              "      <td>33.067867</td>\n",
              "      <td>2015-06-12</td>\n",
              "      <td>2.48</td>\n",
              "      <td>2015-06-24</td>\n",
              "      <td>1.17</td>\n",
              "      <td>2015-06-24</td>\n",
              "      <td>5.8</td>\n",
              "      <td>...</td>\n",
              "      <td>NaN</td>\n",
              "      <td>NaN</td>\n",
              "      <td>NaN</td>\n",
              "      <td>NaN</td>\n",
              "      <td>NaN</td>\n",
              "      <td>NaN</td>\n",
              "      <td>4001000000262094</td>\n",
              "      <td>NaT</td>\n",
              "      <td>NaT</td>\n",
              "      <td>No</td>\n",
              "    </tr>\n",
              "  </tbody>\n",
              "</table>\n",
              "<p>5 rows × 43 columns</p>\n",
              "</div>\n",
              "    <div class=\"colab-df-buttons\">\n",
              "\n",
              "  <div class=\"colab-df-container\">\n",
              "    <button class=\"colab-df-convert\" onclick=\"convertToInteractive('df-841d0687-6916-4cf8-bcbe-2badb17bf845')\"\n",
              "            title=\"Convert this dataframe to an interactive table.\"\n",
              "            style=\"display:none;\">\n",
              "\n",
              "  <svg xmlns=\"http://www.w3.org/2000/svg\" height=\"24px\" viewBox=\"0 -960 960 960\">\n",
              "    <path d=\"M120-120v-720h720v720H120Zm60-500h600v-160H180v160Zm220 220h160v-160H400v160Zm0 220h160v-160H400v160ZM180-400h160v-160H180v160Zm440 0h160v-160H620v160ZM180-180h160v-160H180v160Zm440 0h160v-160H620v160Z\"/>\n",
              "  </svg>\n",
              "    </button>\n",
              "\n",
              "  <style>\n",
              "    .colab-df-container {\n",
              "      display:flex;\n",
              "      gap: 12px;\n",
              "    }\n",
              "\n",
              "    .colab-df-convert {\n",
              "      background-color: #E8F0FE;\n",
              "      border: none;\n",
              "      border-radius: 50%;\n",
              "      cursor: pointer;\n",
              "      display: none;\n",
              "      fill: #1967D2;\n",
              "      height: 32px;\n",
              "      padding: 0 0 0 0;\n",
              "      width: 32px;\n",
              "    }\n",
              "\n",
              "    .colab-df-convert:hover {\n",
              "      background-color: #E2EBFA;\n",
              "      box-shadow: 0px 1px 2px rgba(60, 64, 67, 0.3), 0px 1px 3px 1px rgba(60, 64, 67, 0.15);\n",
              "      fill: #174EA6;\n",
              "    }\n",
              "\n",
              "    .colab-df-buttons div {\n",
              "      margin-bottom: 4px;\n",
              "    }\n",
              "\n",
              "    [theme=dark] .colab-df-convert {\n",
              "      background-color: #3B4455;\n",
              "      fill: #D2E3FC;\n",
              "    }\n",
              "\n",
              "    [theme=dark] .colab-df-convert:hover {\n",
              "      background-color: #434B5C;\n",
              "      box-shadow: 0px 1px 3px 1px rgba(0, 0, 0, 0.15);\n",
              "      filter: drop-shadow(0px 1px 2px rgba(0, 0, 0, 0.3));\n",
              "      fill: #FFFFFF;\n",
              "    }\n",
              "  </style>\n",
              "\n",
              "    <script>\n",
              "      const buttonEl =\n",
              "        document.querySelector('#df-841d0687-6916-4cf8-bcbe-2badb17bf845 button.colab-df-convert');\n",
              "      buttonEl.style.display =\n",
              "        google.colab.kernel.accessAllowed ? 'block' : 'none';\n",
              "\n",
              "      async function convertToInteractive(key) {\n",
              "        const element = document.querySelector('#df-841d0687-6916-4cf8-bcbe-2badb17bf845');\n",
              "        const dataTable =\n",
              "          await google.colab.kernel.invokeFunction('convertToInteractive',\n",
              "                                                    [key], {});\n",
              "        if (!dataTable) return;\n",
              "\n",
              "        const docLinkHtml = 'Like what you see? Visit the ' +\n",
              "          '<a target=\"_blank\" href=https://colab.research.google.com/notebooks/data_table.ipynb>data table notebook</a>'\n",
              "          + ' to learn more about interactive tables.';\n",
              "        element.innerHTML = '';\n",
              "        dataTable['output_type'] = 'display_data';\n",
              "        await google.colab.output.renderOutput(dataTable, element);\n",
              "        const docLink = document.createElement('div');\n",
              "        docLink.innerHTML = docLinkHtml;\n",
              "        element.appendChild(docLink);\n",
              "      }\n",
              "    </script>\n",
              "  </div>\n",
              "\n",
              "\n",
              "<div id=\"df-819e2877-44c2-427a-8d63-32d8a6d71d04\">\n",
              "  <button class=\"colab-df-quickchart\" onclick=\"quickchart('df-819e2877-44c2-427a-8d63-32d8a6d71d04')\"\n",
              "            title=\"Suggest charts\"\n",
              "            style=\"display:none;\">\n",
              "\n",
              "<svg xmlns=\"http://www.w3.org/2000/svg\" height=\"24px\"viewBox=\"0 0 24 24\"\n",
              "     width=\"24px\">\n",
              "    <g>\n",
              "        <path d=\"M19 3H5c-1.1 0-2 .9-2 2v14c0 1.1.9 2 2 2h14c1.1 0 2-.9 2-2V5c0-1.1-.9-2-2-2zM9 17H7v-7h2v7zm4 0h-2V7h2v10zm4 0h-2v-4h2v4z\"/>\n",
              "    </g>\n",
              "</svg>\n",
              "  </button>\n",
              "\n",
              "<style>\n",
              "  .colab-df-quickchart {\n",
              "      --bg-color: #E8F0FE;\n",
              "      --fill-color: #1967D2;\n",
              "      --hover-bg-color: #E2EBFA;\n",
              "      --hover-fill-color: #174EA6;\n",
              "      --disabled-fill-color: #AAA;\n",
              "      --disabled-bg-color: #DDD;\n",
              "  }\n",
              "\n",
              "  [theme=dark] .colab-df-quickchart {\n",
              "      --bg-color: #3B4455;\n",
              "      --fill-color: #D2E3FC;\n",
              "      --hover-bg-color: #434B5C;\n",
              "      --hover-fill-color: #FFFFFF;\n",
              "      --disabled-bg-color: #3B4455;\n",
              "      --disabled-fill-color: #666;\n",
              "  }\n",
              "\n",
              "  .colab-df-quickchart {\n",
              "    background-color: var(--bg-color);\n",
              "    border: none;\n",
              "    border-radius: 50%;\n",
              "    cursor: pointer;\n",
              "    display: none;\n",
              "    fill: var(--fill-color);\n",
              "    height: 32px;\n",
              "    padding: 0;\n",
              "    width: 32px;\n",
              "  }\n",
              "\n",
              "  .colab-df-quickchart:hover {\n",
              "    background-color: var(--hover-bg-color);\n",
              "    box-shadow: 0 1px 2px rgba(60, 64, 67, 0.3), 0 1px 3px 1px rgba(60, 64, 67, 0.15);\n",
              "    fill: var(--button-hover-fill-color);\n",
              "  }\n",
              "\n",
              "  .colab-df-quickchart-complete:disabled,\n",
              "  .colab-df-quickchart-complete:disabled:hover {\n",
              "    background-color: var(--disabled-bg-color);\n",
              "    fill: var(--disabled-fill-color);\n",
              "    box-shadow: none;\n",
              "  }\n",
              "\n",
              "  .colab-df-spinner {\n",
              "    border: 2px solid var(--fill-color);\n",
              "    border-color: transparent;\n",
              "    border-bottom-color: var(--fill-color);\n",
              "    animation:\n",
              "      spin 1s steps(1) infinite;\n",
              "  }\n",
              "\n",
              "  @keyframes spin {\n",
              "    0% {\n",
              "      border-color: transparent;\n",
              "      border-bottom-color: var(--fill-color);\n",
              "      border-left-color: var(--fill-color);\n",
              "    }\n",
              "    20% {\n",
              "      border-color: transparent;\n",
              "      border-left-color: var(--fill-color);\n",
              "      border-top-color: var(--fill-color);\n",
              "    }\n",
              "    30% {\n",
              "      border-color: transparent;\n",
              "      border-left-color: var(--fill-color);\n",
              "      border-top-color: var(--fill-color);\n",
              "      border-right-color: var(--fill-color);\n",
              "    }\n",
              "    40% {\n",
              "      border-color: transparent;\n",
              "      border-right-color: var(--fill-color);\n",
              "      border-top-color: var(--fill-color);\n",
              "    }\n",
              "    60% {\n",
              "      border-color: transparent;\n",
              "      border-right-color: var(--fill-color);\n",
              "    }\n",
              "    80% {\n",
              "      border-color: transparent;\n",
              "      border-right-color: var(--fill-color);\n",
              "      border-bottom-color: var(--fill-color);\n",
              "    }\n",
              "    90% {\n",
              "      border-color: transparent;\n",
              "      border-bottom-color: var(--fill-color);\n",
              "    }\n",
              "  }\n",
              "</style>\n",
              "\n",
              "  <script>\n",
              "    async function quickchart(key) {\n",
              "      const quickchartButtonEl =\n",
              "        document.querySelector('#' + key + ' button');\n",
              "      quickchartButtonEl.disabled = true;  // To prevent multiple clicks.\n",
              "      quickchartButtonEl.classList.add('colab-df-spinner');\n",
              "      try {\n",
              "        const charts = await google.colab.kernel.invokeFunction(\n",
              "            'suggestCharts', [key], {});\n",
              "      } catch (error) {\n",
              "        console.error('Error during call to suggestCharts:', error);\n",
              "      }\n",
              "      quickchartButtonEl.classList.remove('colab-df-spinner');\n",
              "      quickchartButtonEl.classList.add('colab-df-quickchart-complete');\n",
              "    }\n",
              "    (() => {\n",
              "      let quickchartButtonEl =\n",
              "        document.querySelector('#df-819e2877-44c2-427a-8d63-32d8a6d71d04 button');\n",
              "      quickchartButtonEl.style.display =\n",
              "        google.colab.kernel.accessAllowed ? 'block' : 'none';\n",
              "    })();\n",
              "  </script>\n",
              "</div>\n",
              "    </div>\n",
              "  </div>\n"
            ]
          },
          "metadata": {},
          "execution_count": 8
        }
      ]
    },
    {
      "cell_type": "markdown",
      "source": [
        "**Initial data inspection**"
      ],
      "metadata": {
        "id": "PaNyPTpOgaWv"
      }
    },
    {
      "cell_type": "code",
      "execution_count": null,
      "metadata": {
        "colab": {
          "base_uri": "https://localhost:8080/",
          "height": 338
        },
        "id": "Me2Pw_ZS9zL2",
        "outputId": "6257d71d-16f4-4465-9e84-8ef26dcb38d0"
      },
      "outputs": [
        {
          "output_type": "stream",
          "name": "stdout",
          "text": [
            "(10000, 43)\n"
          ]
        },
        {
          "output_type": "execute_result",
          "data": {
            "text/plain": [
              "        Age_at_Exam          sBP           BMI          LDL          HDL  \\\n",
              "count  10000.000000  9996.000000  10000.000000  9939.000000  9928.000000   \n",
              "mean      63.197600   130.394358     30.415909     2.540959     1.321803   \n",
              "std       13.127627    17.018794      6.831567     0.949213     0.402217   \n",
              "min       18.000000    60.000000      1.376352     0.070000     0.160000   \n",
              "25%       54.000000   120.000000     25.898654     1.820000     1.040000   \n",
              "50%       64.000000   130.000000     29.300000     2.400000     1.250000   \n",
              "75%       73.000000   140.000000     33.790000     3.160000     1.540000   \n",
              "max       90.000000   229.000000     73.400000     8.630000     3.960000   \n",
              "\n",
              "                A1c           TG           FBS        FBS>DM  \\\n",
              "count  10000.000000  9947.000000  10000.000000  10000.000000   \n",
              "mean       6.266754     1.553615      6.311903      0.922800   \n",
              "std        0.954380     1.021511      1.733209      0.266922   \n",
              "min        3.400000     0.240000      2.800000      0.000000   \n",
              "25%        5.700000     0.950000      5.200000      1.000000   \n",
              "50%        6.000000     1.320000      5.900000      1.000000   \n",
              "75%        6.600000     1.890000      6.900000      1.000000   \n",
              "max       14.300000    22.640000     23.500000      1.000000   \n",
              "\n",
              "       Total_Cholesterol      Diabetes    Depression           HTN  \\\n",
              "count        9793.000000  10000.000000  10000.000000  10000.000000   \n",
              "mean            4.558164      0.513900      0.212200      0.642400   \n",
              "std             1.136145      0.499832      0.408886      0.479317   \n",
              "min             0.000000      0.000000      0.000000      0.000000   \n",
              "25%             3.710000      0.000000      0.000000      0.000000   \n",
              "50%             4.450000      1.000000      0.000000      1.000000   \n",
              "75%             5.300000      1.000000      0.000000      1.000000   \n",
              "max            12.660000      1.000000      1.000000      1.000000   \n",
              "\n",
              "                 OA          COPD  leastO(A1c_Date)  leastO(DM_OnsetDate)  \\\n",
              "count  10000.000000  10000.000000       5406.000000           5137.000000   \n",
              "mean       0.315600      0.098600      41210.426193          40014.597820   \n",
              "std        0.464778      0.298139        723.369067           1021.388765   \n",
              "min        0.000000      0.000000      37966.000000          32509.000000   \n",
              "25%        0.000000      0.000000      40785.000000          39286.000000   \n",
              "50%        0.000000      0.000000      41402.000000          39944.000000   \n",
              "75%        1.000000      0.000000      41773.000000          40770.000000   \n",
              "max        1.000000      1.000000      42184.000000          42185.000000   \n",
              "\n",
              "       leastO(FBS_Date)    LeastOfAll    Patient_ID  \n",
              "count       5411.000000   5137.000000  1.000000e+04  \n",
              "mean       41125.007577  39943.999221  3.940949e+15  \n",
              "std          766.210873    971.454948  2.401364e+15  \n",
              "min        38023.000000  32509.000000  1.001000e+15  \n",
              "25%        40643.000000  39254.000000  2.001000e+15  \n",
              "50%        41298.000000  39918.000000  4.001000e+15  \n",
              "75%        41745.000000  40687.000000  4.001000e+15  \n",
              "max        42184.000000  42157.000000  1.000100e+16  "
            ],
            "text/html": [
              "\n",
              "  <div id=\"df-bd2f8746-78dd-4722-b0c9-c444759e788c\" class=\"colab-df-container\">\n",
              "    <div>\n",
              "<style scoped>\n",
              "    .dataframe tbody tr th:only-of-type {\n",
              "        vertical-align: middle;\n",
              "    }\n",
              "\n",
              "    .dataframe tbody tr th {\n",
              "        vertical-align: top;\n",
              "    }\n",
              "\n",
              "    .dataframe thead th {\n",
              "        text-align: right;\n",
              "    }\n",
              "</style>\n",
              "<table border=\"1\" class=\"dataframe\">\n",
              "  <thead>\n",
              "    <tr style=\"text-align: right;\">\n",
              "      <th></th>\n",
              "      <th>Age_at_Exam</th>\n",
              "      <th>sBP</th>\n",
              "      <th>BMI</th>\n",
              "      <th>LDL</th>\n",
              "      <th>HDL</th>\n",
              "      <th>A1c</th>\n",
              "      <th>TG</th>\n",
              "      <th>FBS</th>\n",
              "      <th>FBS&gt;DM</th>\n",
              "      <th>Total_Cholesterol</th>\n",
              "      <th>Diabetes</th>\n",
              "      <th>Depression</th>\n",
              "      <th>HTN</th>\n",
              "      <th>OA</th>\n",
              "      <th>COPD</th>\n",
              "      <th>leastO(A1c_Date)</th>\n",
              "      <th>leastO(DM_OnsetDate)</th>\n",
              "      <th>leastO(FBS_Date)</th>\n",
              "      <th>LeastOfAll</th>\n",
              "      <th>Patient_ID</th>\n",
              "    </tr>\n",
              "  </thead>\n",
              "  <tbody>\n",
              "    <tr>\n",
              "      <th>count</th>\n",
              "      <td>10000.000000</td>\n",
              "      <td>9996.000000</td>\n",
              "      <td>10000.000000</td>\n",
              "      <td>9939.000000</td>\n",
              "      <td>9928.000000</td>\n",
              "      <td>10000.000000</td>\n",
              "      <td>9947.000000</td>\n",
              "      <td>10000.000000</td>\n",
              "      <td>10000.000000</td>\n",
              "      <td>9793.000000</td>\n",
              "      <td>10000.000000</td>\n",
              "      <td>10000.000000</td>\n",
              "      <td>10000.000000</td>\n",
              "      <td>10000.000000</td>\n",
              "      <td>10000.000000</td>\n",
              "      <td>5406.000000</td>\n",
              "      <td>5137.000000</td>\n",
              "      <td>5411.000000</td>\n",
              "      <td>5137.000000</td>\n",
              "      <td>1.000000e+04</td>\n",
              "    </tr>\n",
              "    <tr>\n",
              "      <th>mean</th>\n",
              "      <td>63.197600</td>\n",
              "      <td>130.394358</td>\n",
              "      <td>30.415909</td>\n",
              "      <td>2.540959</td>\n",
              "      <td>1.321803</td>\n",
              "      <td>6.266754</td>\n",
              "      <td>1.553615</td>\n",
              "      <td>6.311903</td>\n",
              "      <td>0.922800</td>\n",
              "      <td>4.558164</td>\n",
              "      <td>0.513900</td>\n",
              "      <td>0.212200</td>\n",
              "      <td>0.642400</td>\n",
              "      <td>0.315600</td>\n",
              "      <td>0.098600</td>\n",
              "      <td>41210.426193</td>\n",
              "      <td>40014.597820</td>\n",
              "      <td>41125.007577</td>\n",
              "      <td>39943.999221</td>\n",
              "      <td>3.940949e+15</td>\n",
              "    </tr>\n",
              "    <tr>\n",
              "      <th>std</th>\n",
              "      <td>13.127627</td>\n",
              "      <td>17.018794</td>\n",
              "      <td>6.831567</td>\n",
              "      <td>0.949213</td>\n",
              "      <td>0.402217</td>\n",
              "      <td>0.954380</td>\n",
              "      <td>1.021511</td>\n",
              "      <td>1.733209</td>\n",
              "      <td>0.266922</td>\n",
              "      <td>1.136145</td>\n",
              "      <td>0.499832</td>\n",
              "      <td>0.408886</td>\n",
              "      <td>0.479317</td>\n",
              "      <td>0.464778</td>\n",
              "      <td>0.298139</td>\n",
              "      <td>723.369067</td>\n",
              "      <td>1021.388765</td>\n",
              "      <td>766.210873</td>\n",
              "      <td>971.454948</td>\n",
              "      <td>2.401364e+15</td>\n",
              "    </tr>\n",
              "    <tr>\n",
              "      <th>min</th>\n",
              "      <td>18.000000</td>\n",
              "      <td>60.000000</td>\n",
              "      <td>1.376352</td>\n",
              "      <td>0.070000</td>\n",
              "      <td>0.160000</td>\n",
              "      <td>3.400000</td>\n",
              "      <td>0.240000</td>\n",
              "      <td>2.800000</td>\n",
              "      <td>0.000000</td>\n",
              "      <td>0.000000</td>\n",
              "      <td>0.000000</td>\n",
              "      <td>0.000000</td>\n",
              "      <td>0.000000</td>\n",
              "      <td>0.000000</td>\n",
              "      <td>0.000000</td>\n",
              "      <td>37966.000000</td>\n",
              "      <td>32509.000000</td>\n",
              "      <td>38023.000000</td>\n",
              "      <td>32509.000000</td>\n",
              "      <td>1.001000e+15</td>\n",
              "    </tr>\n",
              "    <tr>\n",
              "      <th>25%</th>\n",
              "      <td>54.000000</td>\n",
              "      <td>120.000000</td>\n",
              "      <td>25.898654</td>\n",
              "      <td>1.820000</td>\n",
              "      <td>1.040000</td>\n",
              "      <td>5.700000</td>\n",
              "      <td>0.950000</td>\n",
              "      <td>5.200000</td>\n",
              "      <td>1.000000</td>\n",
              "      <td>3.710000</td>\n",
              "      <td>0.000000</td>\n",
              "      <td>0.000000</td>\n",
              "      <td>0.000000</td>\n",
              "      <td>0.000000</td>\n",
              "      <td>0.000000</td>\n",
              "      <td>40785.000000</td>\n",
              "      <td>39286.000000</td>\n",
              "      <td>40643.000000</td>\n",
              "      <td>39254.000000</td>\n",
              "      <td>2.001000e+15</td>\n",
              "    </tr>\n",
              "    <tr>\n",
              "      <th>50%</th>\n",
              "      <td>64.000000</td>\n",
              "      <td>130.000000</td>\n",
              "      <td>29.300000</td>\n",
              "      <td>2.400000</td>\n",
              "      <td>1.250000</td>\n",
              "      <td>6.000000</td>\n",
              "      <td>1.320000</td>\n",
              "      <td>5.900000</td>\n",
              "      <td>1.000000</td>\n",
              "      <td>4.450000</td>\n",
              "      <td>1.000000</td>\n",
              "      <td>0.000000</td>\n",
              "      <td>1.000000</td>\n",
              "      <td>0.000000</td>\n",
              "      <td>0.000000</td>\n",
              "      <td>41402.000000</td>\n",
              "      <td>39944.000000</td>\n",
              "      <td>41298.000000</td>\n",
              "      <td>39918.000000</td>\n",
              "      <td>4.001000e+15</td>\n",
              "    </tr>\n",
              "    <tr>\n",
              "      <th>75%</th>\n",
              "      <td>73.000000</td>\n",
              "      <td>140.000000</td>\n",
              "      <td>33.790000</td>\n",
              "      <td>3.160000</td>\n",
              "      <td>1.540000</td>\n",
              "      <td>6.600000</td>\n",
              "      <td>1.890000</td>\n",
              "      <td>6.900000</td>\n",
              "      <td>1.000000</td>\n",
              "      <td>5.300000</td>\n",
              "      <td>1.000000</td>\n",
              "      <td>0.000000</td>\n",
              "      <td>1.000000</td>\n",
              "      <td>1.000000</td>\n",
              "      <td>0.000000</td>\n",
              "      <td>41773.000000</td>\n",
              "      <td>40770.000000</td>\n",
              "      <td>41745.000000</td>\n",
              "      <td>40687.000000</td>\n",
              "      <td>4.001000e+15</td>\n",
              "    </tr>\n",
              "    <tr>\n",
              "      <th>max</th>\n",
              "      <td>90.000000</td>\n",
              "      <td>229.000000</td>\n",
              "      <td>73.400000</td>\n",
              "      <td>8.630000</td>\n",
              "      <td>3.960000</td>\n",
              "      <td>14.300000</td>\n",
              "      <td>22.640000</td>\n",
              "      <td>23.500000</td>\n",
              "      <td>1.000000</td>\n",
              "      <td>12.660000</td>\n",
              "      <td>1.000000</td>\n",
              "      <td>1.000000</td>\n",
              "      <td>1.000000</td>\n",
              "      <td>1.000000</td>\n",
              "      <td>1.000000</td>\n",
              "      <td>42184.000000</td>\n",
              "      <td>42185.000000</td>\n",
              "      <td>42184.000000</td>\n",
              "      <td>42157.000000</td>\n",
              "      <td>1.000100e+16</td>\n",
              "    </tr>\n",
              "  </tbody>\n",
              "</table>\n",
              "</div>\n",
              "    <div class=\"colab-df-buttons\">\n",
              "\n",
              "  <div class=\"colab-df-container\">\n",
              "    <button class=\"colab-df-convert\" onclick=\"convertToInteractive('df-bd2f8746-78dd-4722-b0c9-c444759e788c')\"\n",
              "            title=\"Convert this dataframe to an interactive table.\"\n",
              "            style=\"display:none;\">\n",
              "\n",
              "  <svg xmlns=\"http://www.w3.org/2000/svg\" height=\"24px\" viewBox=\"0 -960 960 960\">\n",
              "    <path d=\"M120-120v-720h720v720H120Zm60-500h600v-160H180v160Zm220 220h160v-160H400v160Zm0 220h160v-160H400v160ZM180-400h160v-160H180v160Zm440 0h160v-160H620v160ZM180-180h160v-160H180v160Zm440 0h160v-160H620v160Z\"/>\n",
              "  </svg>\n",
              "    </button>\n",
              "\n",
              "  <style>\n",
              "    .colab-df-container {\n",
              "      display:flex;\n",
              "      gap: 12px;\n",
              "    }\n",
              "\n",
              "    .colab-df-convert {\n",
              "      background-color: #E8F0FE;\n",
              "      border: none;\n",
              "      border-radius: 50%;\n",
              "      cursor: pointer;\n",
              "      display: none;\n",
              "      fill: #1967D2;\n",
              "      height: 32px;\n",
              "      padding: 0 0 0 0;\n",
              "      width: 32px;\n",
              "    }\n",
              "\n",
              "    .colab-df-convert:hover {\n",
              "      background-color: #E2EBFA;\n",
              "      box-shadow: 0px 1px 2px rgba(60, 64, 67, 0.3), 0px 1px 3px 1px rgba(60, 64, 67, 0.15);\n",
              "      fill: #174EA6;\n",
              "    }\n",
              "\n",
              "    .colab-df-buttons div {\n",
              "      margin-bottom: 4px;\n",
              "    }\n",
              "\n",
              "    [theme=dark] .colab-df-convert {\n",
              "      background-color: #3B4455;\n",
              "      fill: #D2E3FC;\n",
              "    }\n",
              "\n",
              "    [theme=dark] .colab-df-convert:hover {\n",
              "      background-color: #434B5C;\n",
              "      box-shadow: 0px 1px 3px 1px rgba(0, 0, 0, 0.15);\n",
              "      filter: drop-shadow(0px 1px 2px rgba(0, 0, 0, 0.3));\n",
              "      fill: #FFFFFF;\n",
              "    }\n",
              "  </style>\n",
              "\n",
              "    <script>\n",
              "      const buttonEl =\n",
              "        document.querySelector('#df-bd2f8746-78dd-4722-b0c9-c444759e788c button.colab-df-convert');\n",
              "      buttonEl.style.display =\n",
              "        google.colab.kernel.accessAllowed ? 'block' : 'none';\n",
              "\n",
              "      async function convertToInteractive(key) {\n",
              "        const element = document.querySelector('#df-bd2f8746-78dd-4722-b0c9-c444759e788c');\n",
              "        const dataTable =\n",
              "          await google.colab.kernel.invokeFunction('convertToInteractive',\n",
              "                                                    [key], {});\n",
              "        if (!dataTable) return;\n",
              "\n",
              "        const docLinkHtml = 'Like what you see? Visit the ' +\n",
              "          '<a target=\"_blank\" href=https://colab.research.google.com/notebooks/data_table.ipynb>data table notebook</a>'\n",
              "          + ' to learn more about interactive tables.';\n",
              "        element.innerHTML = '';\n",
              "        dataTable['output_type'] = 'display_data';\n",
              "        await google.colab.output.renderOutput(dataTable, element);\n",
              "        const docLink = document.createElement('div');\n",
              "        docLink.innerHTML = docLinkHtml;\n",
              "        element.appendChild(docLink);\n",
              "      }\n",
              "    </script>\n",
              "  </div>\n",
              "\n",
              "\n",
              "<div id=\"df-4b903b43-53da-43e4-8514-8da23396ac3b\">\n",
              "  <button class=\"colab-df-quickchart\" onclick=\"quickchart('df-4b903b43-53da-43e4-8514-8da23396ac3b')\"\n",
              "            title=\"Suggest charts\"\n",
              "            style=\"display:none;\">\n",
              "\n",
              "<svg xmlns=\"http://www.w3.org/2000/svg\" height=\"24px\"viewBox=\"0 0 24 24\"\n",
              "     width=\"24px\">\n",
              "    <g>\n",
              "        <path d=\"M19 3H5c-1.1 0-2 .9-2 2v14c0 1.1.9 2 2 2h14c1.1 0 2-.9 2-2V5c0-1.1-.9-2-2-2zM9 17H7v-7h2v7zm4 0h-2V7h2v10zm4 0h-2v-4h2v4z\"/>\n",
              "    </g>\n",
              "</svg>\n",
              "  </button>\n",
              "\n",
              "<style>\n",
              "  .colab-df-quickchart {\n",
              "      --bg-color: #E8F0FE;\n",
              "      --fill-color: #1967D2;\n",
              "      --hover-bg-color: #E2EBFA;\n",
              "      --hover-fill-color: #174EA6;\n",
              "      --disabled-fill-color: #AAA;\n",
              "      --disabled-bg-color: #DDD;\n",
              "  }\n",
              "\n",
              "  [theme=dark] .colab-df-quickchart {\n",
              "      --bg-color: #3B4455;\n",
              "      --fill-color: #D2E3FC;\n",
              "      --hover-bg-color: #434B5C;\n",
              "      --hover-fill-color: #FFFFFF;\n",
              "      --disabled-bg-color: #3B4455;\n",
              "      --disabled-fill-color: #666;\n",
              "  }\n",
              "\n",
              "  .colab-df-quickchart {\n",
              "    background-color: var(--bg-color);\n",
              "    border: none;\n",
              "    border-radius: 50%;\n",
              "    cursor: pointer;\n",
              "    display: none;\n",
              "    fill: var(--fill-color);\n",
              "    height: 32px;\n",
              "    padding: 0;\n",
              "    width: 32px;\n",
              "  }\n",
              "\n",
              "  .colab-df-quickchart:hover {\n",
              "    background-color: var(--hover-bg-color);\n",
              "    box-shadow: 0 1px 2px rgba(60, 64, 67, 0.3), 0 1px 3px 1px rgba(60, 64, 67, 0.15);\n",
              "    fill: var(--button-hover-fill-color);\n",
              "  }\n",
              "\n",
              "  .colab-df-quickchart-complete:disabled,\n",
              "  .colab-df-quickchart-complete:disabled:hover {\n",
              "    background-color: var(--disabled-bg-color);\n",
              "    fill: var(--disabled-fill-color);\n",
              "    box-shadow: none;\n",
              "  }\n",
              "\n",
              "  .colab-df-spinner {\n",
              "    border: 2px solid var(--fill-color);\n",
              "    border-color: transparent;\n",
              "    border-bottom-color: var(--fill-color);\n",
              "    animation:\n",
              "      spin 1s steps(1) infinite;\n",
              "  }\n",
              "\n",
              "  @keyframes spin {\n",
              "    0% {\n",
              "      border-color: transparent;\n",
              "      border-bottom-color: var(--fill-color);\n",
              "      border-left-color: var(--fill-color);\n",
              "    }\n",
              "    20% {\n",
              "      border-color: transparent;\n",
              "      border-left-color: var(--fill-color);\n",
              "      border-top-color: var(--fill-color);\n",
              "    }\n",
              "    30% {\n",
              "      border-color: transparent;\n",
              "      border-left-color: var(--fill-color);\n",
              "      border-top-color: var(--fill-color);\n",
              "      border-right-color: var(--fill-color);\n",
              "    }\n",
              "    40% {\n",
              "      border-color: transparent;\n",
              "      border-right-color: var(--fill-color);\n",
              "      border-top-color: var(--fill-color);\n",
              "    }\n",
              "    60% {\n",
              "      border-color: transparent;\n",
              "      border-right-color: var(--fill-color);\n",
              "    }\n",
              "    80% {\n",
              "      border-color: transparent;\n",
              "      border-right-color: var(--fill-color);\n",
              "      border-bottom-color: var(--fill-color);\n",
              "    }\n",
              "    90% {\n",
              "      border-color: transparent;\n",
              "      border-bottom-color: var(--fill-color);\n",
              "    }\n",
              "  }\n",
              "</style>\n",
              "\n",
              "  <script>\n",
              "    async function quickchart(key) {\n",
              "      const quickchartButtonEl =\n",
              "        document.querySelector('#' + key + ' button');\n",
              "      quickchartButtonEl.disabled = true;  // To prevent multiple clicks.\n",
              "      quickchartButtonEl.classList.add('colab-df-spinner');\n",
              "      try {\n",
              "        const charts = await google.colab.kernel.invokeFunction(\n",
              "            'suggestCharts', [key], {});\n",
              "      } catch (error) {\n",
              "        console.error('Error during call to suggestCharts:', error);\n",
              "      }\n",
              "      quickchartButtonEl.classList.remove('colab-df-spinner');\n",
              "      quickchartButtonEl.classList.add('colab-df-quickchart-complete');\n",
              "    }\n",
              "    (() => {\n",
              "      let quickchartButtonEl =\n",
              "        document.querySelector('#df-4b903b43-53da-43e4-8514-8da23396ac3b button');\n",
              "      quickchartButtonEl.style.display =\n",
              "        google.colab.kernel.accessAllowed ? 'block' : 'none';\n",
              "    })();\n",
              "  </script>\n",
              "</div>\n",
              "    </div>\n",
              "  </div>\n"
            ]
          },
          "metadata": {},
          "execution_count": 9
        }
      ],
      "source": [
        "#description of features\n",
        "print(df.shape)\n",
        "description = df.describe()\n",
        "description"
      ]
    },
    {
      "cell_type": "code",
      "source": [
        "#number of unique patients\n",
        "df['Patient_ID'].nunique()"
      ],
      "metadata": {
        "colab": {
          "base_uri": "https://localhost:8080/"
        },
        "id": "qouLIUoLf69S",
        "outputId": "abcb9db7-6a61-4e29-c7fe-c047f5aa3dcb"
      },
      "execution_count": null,
      "outputs": [
        {
          "output_type": "execute_result",
          "data": {
            "text/plain": [
              "8602"
            ]
          },
          "metadata": {},
          "execution_count": 10
        }
      ]
    },
    {
      "cell_type": "code",
      "source": [
        "# Checking for missing values\n",
        "missing_values_count = df.isnull().sum()\n",
        "print(missing_values_count)"
      ],
      "metadata": {
        "colab": {
          "base_uri": "https://localhost:8080/"
        },
        "id": "tyR-3_ESf8gz",
        "outputId": "91b55313-ff8d-4286-e64d-ae3c2dc6df68"
      },
      "execution_count": null,
      "outputs": [
        {
          "output_type": "stream",
          "name": "stdout",
          "text": [
            "Age_at_Exam                                   0\n",
            "sBP                                           4\n",
            "sBP_Date                                      0\n",
            "BMI                                           0\n",
            "BMI_Date                                      0\n",
            "LDL                                          61\n",
            "LDL_Date                                      0\n",
            "HDL                                          72\n",
            "HDL_Date                                     64\n",
            "A1c                                           0\n",
            "A1c_Date                                      0\n",
            "TG                                           53\n",
            "TG_Date                                      42\n",
            "FBS                                           0\n",
            "FBS_Date                                      0\n",
            "FBS>DM                                        0\n",
            "Total_Cholesterol                           207\n",
            "Total_Cholesterol_Lab_Date                  197\n",
            "Diabetes                                      0\n",
            "DM_OnsetDate                               4863\n",
            "Depression                                    0\n",
            "Depression_OnsetDate                       7884\n",
            "HTN                                           0\n",
            "HTN_OnsetDate                              3589\n",
            "OA                                            0\n",
            "OA_OnsetDate                               6860\n",
            "COPD                                          0\n",
            "COPD_Date                                  9014\n",
            "Hypertension_Medications                   2962\n",
            "Hypertension_Medications_First_Instance    2963\n",
            "Corticosteroids                            7145\n",
            "Corticosteroids_first_instance             7145\n",
            "Sex                                           0\n",
            "leastO(A1c_Date)                           4594\n",
            "leastO(DM_OnsetDate)                       4863\n",
            "leastO(FBS_Date)                           4589\n",
            "LeastOfAll                                 4863\n",
            "A1C_BEF_DM                                 4863\n",
            "FBS_BEF_DM                                 4863\n",
            "Patient_ID                                    0\n",
            "DM_Onset_Revised                           4863\n",
            "DM_Onset_Revised_1YrPrior                  4863\n",
            "DIABETES                                      0\n",
            "dtype: int64\n"
          ]
        }
      ]
    },
    {
      "cell_type": "markdown",
      "metadata": {
        "id": "N1uEosdUNXfE"
      },
      "source": [
        "Missing data important to note:\n",
        "\n",
        "* 2 entries of yes diabetes do not have diabetes date (4861 no diabetes, 4863 missing diabetes date) - MCRA\n",
        "* 4 sBP missing 0 missing sBP date - MCAR\n",
        "* 61 LDL missing 0 missing LDL date - MCAR\n",
        "* 72 HDL missing 64 missing HDL date - MCAR\n",
        "* 53 TG missing 42 missing TG date - MCAR\n",
        "* 207 missing cholesterole 197 missing cholesterole date - MCAR\n",
        "* 4863 missing from A1C_BEF_DM and FBS_BEF_DM, matches with number of patients who do not have diabetes* - MNAR\n",
        "* DM_Onset variables also matches with number of patients without diabetes* - MNAR\n",
        "\n",
        "Other points to note:\n",
        "* No definition for leastO and LeastOfAll columns - could also be related to patients without diabetes? missing seems to match - MNAR\n",
        "Checked with Dr. K. Keshavjee- Reply: \"You can safely ignore those.  I used them to calculate a truer date of onset of diabetes. The previous one was not correct in most cases.\"\n",
        "\n",
        "\n"
      ]
    },
    {
      "cell_type": "code",
      "source": [
        "df.dtypes"
      ],
      "metadata": {
        "colab": {
          "base_uri": "https://localhost:8080/"
        },
        "id": "AoyvJ1sCzMrN",
        "outputId": "03202eff-b43e-4838-892e-2dd90db72eab"
      },
      "execution_count": null,
      "outputs": [
        {
          "output_type": "execute_result",
          "data": {
            "text/plain": [
              "Age_at_Exam                                         int64\n",
              "sBP                                               float64\n",
              "sBP_Date                                   datetime64[ns]\n",
              "BMI                                               float64\n",
              "BMI_Date                                   datetime64[ns]\n",
              "LDL                                               float64\n",
              "LDL_Date                                   datetime64[ns]\n",
              "HDL                                               float64\n",
              "HDL_Date                                   datetime64[ns]\n",
              "A1c                                               float64\n",
              "A1c_Date                                   datetime64[ns]\n",
              "TG                                                float64\n",
              "TG_Date                                    datetime64[ns]\n",
              "FBS                                               float64\n",
              "FBS_Date                                   datetime64[ns]\n",
              "FBS>DM                                              int64\n",
              "Total_Cholesterol                                 float64\n",
              "Total_Cholesterol_Lab_Date                 datetime64[ns]\n",
              "Diabetes                                            int64\n",
              "DM_OnsetDate                               datetime64[ns]\n",
              "Depression                                          int64\n",
              "Depression_OnsetDate                       datetime64[ns]\n",
              "HTN                                                 int64\n",
              "HTN_OnsetDate                              datetime64[ns]\n",
              "OA                                                  int64\n",
              "OA_OnsetDate                               datetime64[ns]\n",
              "COPD                                                int64\n",
              "COPD_Date                                  datetime64[ns]\n",
              "Hypertension_Medications                           object\n",
              "Hypertension_Medications_First_Instance    datetime64[ns]\n",
              "Corticosteroids                                    object\n",
              "Corticosteroids_first_instance             datetime64[ns]\n",
              "Sex                                                object\n",
              "leastO(A1c_Date)                                  float64\n",
              "leastO(DM_OnsetDate)                              float64\n",
              "leastO(FBS_Date)                                  float64\n",
              "LeastOfAll                                        float64\n",
              "A1C_BEF_DM                                         object\n",
              "FBS_BEF_DM                                         object\n",
              "Patient_ID                                          int64\n",
              "DM_Onset_Revised                           datetime64[ns]\n",
              "DM_Onset_Revised_1YrPrior                  datetime64[ns]\n",
              "DIABETES                                           object\n",
              "dtype: object"
            ]
          },
          "metadata": {},
          "execution_count": 12
        }
      ]
    },
    {
      "cell_type": "code",
      "source": [
        "#replaces features outside of acceptable value ranges\n",
        "df['sBP'] = df['sBP'].where((60 <= df['sBP']) & (df['sBP'] <= 267))\n",
        "df['BMI'] = df['BMI'].where((10 <= df['BMI']) & (df['BMI'] <= 60))\n",
        "df['A1c'] = df['A1c'].where((3 <= df['A1c']) & (df['A1c'] <= 17.8))\n",
        "df['FBS'] = df['FBS'].where((1.3 <= df['FBS']) & (df['FBS'] <= 23))\n",
        "df['LDL'] = df['LDL'].where((0.5 <= df['LDL']) & (df['LDL'] <= 10))"
      ],
      "metadata": {
        "id": "s4FUMS3UWUPs"
      },
      "execution_count": null,
      "outputs": []
    },
    {
      "cell_type": "code",
      "source": [
        "#description of features\n",
        "print(df.shape)\n",
        "description = df.describe()\n",
        "description"
      ],
      "metadata": {
        "colab": {
          "base_uri": "https://localhost:8080/",
          "height": 338
        },
        "id": "RmQXEzW8X7XO",
        "outputId": "1551e0f1-bfb9-459b-8f12-5e8e3b84e2da"
      },
      "execution_count": null,
      "outputs": [
        {
          "output_type": "stream",
          "name": "stdout",
          "text": [
            "(10000, 43)\n"
          ]
        },
        {
          "output_type": "execute_result",
          "data": {
            "text/plain": [
              "        Age_at_Exam          sBP          BMI          LDL          HDL  \\\n",
              "count  10000.000000  9996.000000  9950.000000  9930.000000  9928.000000   \n",
              "mean      63.197600   130.394358    30.252554     2.542964     1.321803   \n",
              "std       13.127627    17.018794     6.384266     0.947293     0.402217   \n",
              "min       18.000000    60.000000    11.810000     0.500000     0.160000   \n",
              "25%       54.000000   120.000000    25.875937     1.820000     1.040000   \n",
              "50%       64.000000   130.000000    29.280000     2.410000     1.250000   \n",
              "75%       73.000000   140.000000    33.692821     3.160000     1.540000   \n",
              "max       90.000000   229.000000    60.000000     8.630000     3.960000   \n",
              "\n",
              "                A1c           TG          FBS        FBS>DM  \\\n",
              "count  10000.000000  9947.000000  9999.000000  10000.000000   \n",
              "mean       6.266754     1.553615     6.310184      0.922800   \n",
              "std        0.954380     1.021511     1.724750      0.266922   \n",
              "min        3.400000     0.240000     2.800000      0.000000   \n",
              "25%        5.700000     0.950000     5.200000      1.000000   \n",
              "50%        6.000000     1.320000     5.900000      1.000000   \n",
              "75%        6.600000     1.890000     6.900000      1.000000   \n",
              "max       14.300000    22.640000    21.200000      1.000000   \n",
              "\n",
              "       Total_Cholesterol      Diabetes    Depression           HTN  \\\n",
              "count        9793.000000  10000.000000  10000.000000  10000.000000   \n",
              "mean            4.558164      0.513900      0.212200      0.642400   \n",
              "std             1.136145      0.499832      0.408886      0.479317   \n",
              "min             0.000000      0.000000      0.000000      0.000000   \n",
              "25%             3.710000      0.000000      0.000000      0.000000   \n",
              "50%             4.450000      1.000000      0.000000      1.000000   \n",
              "75%             5.300000      1.000000      0.000000      1.000000   \n",
              "max            12.660000      1.000000      1.000000      1.000000   \n",
              "\n",
              "                 OA          COPD  leastO(A1c_Date)  leastO(DM_OnsetDate)  \\\n",
              "count  10000.000000  10000.000000       5406.000000           5137.000000   \n",
              "mean       0.315600      0.098600      41210.426193          40014.597820   \n",
              "std        0.464778      0.298139        723.369067           1021.388765   \n",
              "min        0.000000      0.000000      37966.000000          32509.000000   \n",
              "25%        0.000000      0.000000      40785.000000          39286.000000   \n",
              "50%        0.000000      0.000000      41402.000000          39944.000000   \n",
              "75%        1.000000      0.000000      41773.000000          40770.000000   \n",
              "max        1.000000      1.000000      42184.000000          42185.000000   \n",
              "\n",
              "       leastO(FBS_Date)    LeastOfAll    Patient_ID  \n",
              "count       5411.000000   5137.000000  1.000000e+04  \n",
              "mean       41125.007577  39943.999221  3.940949e+15  \n",
              "std          766.210873    971.454948  2.401364e+15  \n",
              "min        38023.000000  32509.000000  1.001000e+15  \n",
              "25%        40643.000000  39254.000000  2.001000e+15  \n",
              "50%        41298.000000  39918.000000  4.001000e+15  \n",
              "75%        41745.000000  40687.000000  4.001000e+15  \n",
              "max        42184.000000  42157.000000  1.000100e+16  "
            ],
            "text/html": [
              "\n",
              "  <div id=\"df-9877e617-c009-433b-81be-d4be5bf42fe1\" class=\"colab-df-container\">\n",
              "    <div>\n",
              "<style scoped>\n",
              "    .dataframe tbody tr th:only-of-type {\n",
              "        vertical-align: middle;\n",
              "    }\n",
              "\n",
              "    .dataframe tbody tr th {\n",
              "        vertical-align: top;\n",
              "    }\n",
              "\n",
              "    .dataframe thead th {\n",
              "        text-align: right;\n",
              "    }\n",
              "</style>\n",
              "<table border=\"1\" class=\"dataframe\">\n",
              "  <thead>\n",
              "    <tr style=\"text-align: right;\">\n",
              "      <th></th>\n",
              "      <th>Age_at_Exam</th>\n",
              "      <th>sBP</th>\n",
              "      <th>BMI</th>\n",
              "      <th>LDL</th>\n",
              "      <th>HDL</th>\n",
              "      <th>A1c</th>\n",
              "      <th>TG</th>\n",
              "      <th>FBS</th>\n",
              "      <th>FBS&gt;DM</th>\n",
              "      <th>Total_Cholesterol</th>\n",
              "      <th>Diabetes</th>\n",
              "      <th>Depression</th>\n",
              "      <th>HTN</th>\n",
              "      <th>OA</th>\n",
              "      <th>COPD</th>\n",
              "      <th>leastO(A1c_Date)</th>\n",
              "      <th>leastO(DM_OnsetDate)</th>\n",
              "      <th>leastO(FBS_Date)</th>\n",
              "      <th>LeastOfAll</th>\n",
              "      <th>Patient_ID</th>\n",
              "    </tr>\n",
              "  </thead>\n",
              "  <tbody>\n",
              "    <tr>\n",
              "      <th>count</th>\n",
              "      <td>10000.000000</td>\n",
              "      <td>9996.000000</td>\n",
              "      <td>9950.000000</td>\n",
              "      <td>9930.000000</td>\n",
              "      <td>9928.000000</td>\n",
              "      <td>10000.000000</td>\n",
              "      <td>9947.000000</td>\n",
              "      <td>9999.000000</td>\n",
              "      <td>10000.000000</td>\n",
              "      <td>9793.000000</td>\n",
              "      <td>10000.000000</td>\n",
              "      <td>10000.000000</td>\n",
              "      <td>10000.000000</td>\n",
              "      <td>10000.000000</td>\n",
              "      <td>10000.000000</td>\n",
              "      <td>5406.000000</td>\n",
              "      <td>5137.000000</td>\n",
              "      <td>5411.000000</td>\n",
              "      <td>5137.000000</td>\n",
              "      <td>1.000000e+04</td>\n",
              "    </tr>\n",
              "    <tr>\n",
              "      <th>mean</th>\n",
              "      <td>63.197600</td>\n",
              "      <td>130.394358</td>\n",
              "      <td>30.252554</td>\n",
              "      <td>2.542964</td>\n",
              "      <td>1.321803</td>\n",
              "      <td>6.266754</td>\n",
              "      <td>1.553615</td>\n",
              "      <td>6.310184</td>\n",
              "      <td>0.922800</td>\n",
              "      <td>4.558164</td>\n",
              "      <td>0.513900</td>\n",
              "      <td>0.212200</td>\n",
              "      <td>0.642400</td>\n",
              "      <td>0.315600</td>\n",
              "      <td>0.098600</td>\n",
              "      <td>41210.426193</td>\n",
              "      <td>40014.597820</td>\n",
              "      <td>41125.007577</td>\n",
              "      <td>39943.999221</td>\n",
              "      <td>3.940949e+15</td>\n",
              "    </tr>\n",
              "    <tr>\n",
              "      <th>std</th>\n",
              "      <td>13.127627</td>\n",
              "      <td>17.018794</td>\n",
              "      <td>6.384266</td>\n",
              "      <td>0.947293</td>\n",
              "      <td>0.402217</td>\n",
              "      <td>0.954380</td>\n",
              "      <td>1.021511</td>\n",
              "      <td>1.724750</td>\n",
              "      <td>0.266922</td>\n",
              "      <td>1.136145</td>\n",
              "      <td>0.499832</td>\n",
              "      <td>0.408886</td>\n",
              "      <td>0.479317</td>\n",
              "      <td>0.464778</td>\n",
              "      <td>0.298139</td>\n",
              "      <td>723.369067</td>\n",
              "      <td>1021.388765</td>\n",
              "      <td>766.210873</td>\n",
              "      <td>971.454948</td>\n",
              "      <td>2.401364e+15</td>\n",
              "    </tr>\n",
              "    <tr>\n",
              "      <th>min</th>\n",
              "      <td>18.000000</td>\n",
              "      <td>60.000000</td>\n",
              "      <td>11.810000</td>\n",
              "      <td>0.500000</td>\n",
              "      <td>0.160000</td>\n",
              "      <td>3.400000</td>\n",
              "      <td>0.240000</td>\n",
              "      <td>2.800000</td>\n",
              "      <td>0.000000</td>\n",
              "      <td>0.000000</td>\n",
              "      <td>0.000000</td>\n",
              "      <td>0.000000</td>\n",
              "      <td>0.000000</td>\n",
              "      <td>0.000000</td>\n",
              "      <td>0.000000</td>\n",
              "      <td>37966.000000</td>\n",
              "      <td>32509.000000</td>\n",
              "      <td>38023.000000</td>\n",
              "      <td>32509.000000</td>\n",
              "      <td>1.001000e+15</td>\n",
              "    </tr>\n",
              "    <tr>\n",
              "      <th>25%</th>\n",
              "      <td>54.000000</td>\n",
              "      <td>120.000000</td>\n",
              "      <td>25.875937</td>\n",
              "      <td>1.820000</td>\n",
              "      <td>1.040000</td>\n",
              "      <td>5.700000</td>\n",
              "      <td>0.950000</td>\n",
              "      <td>5.200000</td>\n",
              "      <td>1.000000</td>\n",
              "      <td>3.710000</td>\n",
              "      <td>0.000000</td>\n",
              "      <td>0.000000</td>\n",
              "      <td>0.000000</td>\n",
              "      <td>0.000000</td>\n",
              "      <td>0.000000</td>\n",
              "      <td>40785.000000</td>\n",
              "      <td>39286.000000</td>\n",
              "      <td>40643.000000</td>\n",
              "      <td>39254.000000</td>\n",
              "      <td>2.001000e+15</td>\n",
              "    </tr>\n",
              "    <tr>\n",
              "      <th>50%</th>\n",
              "      <td>64.000000</td>\n",
              "      <td>130.000000</td>\n",
              "      <td>29.280000</td>\n",
              "      <td>2.410000</td>\n",
              "      <td>1.250000</td>\n",
              "      <td>6.000000</td>\n",
              "      <td>1.320000</td>\n",
              "      <td>5.900000</td>\n",
              "      <td>1.000000</td>\n",
              "      <td>4.450000</td>\n",
              "      <td>1.000000</td>\n",
              "      <td>0.000000</td>\n",
              "      <td>1.000000</td>\n",
              "      <td>0.000000</td>\n",
              "      <td>0.000000</td>\n",
              "      <td>41402.000000</td>\n",
              "      <td>39944.000000</td>\n",
              "      <td>41298.000000</td>\n",
              "      <td>39918.000000</td>\n",
              "      <td>4.001000e+15</td>\n",
              "    </tr>\n",
              "    <tr>\n",
              "      <th>75%</th>\n",
              "      <td>73.000000</td>\n",
              "      <td>140.000000</td>\n",
              "      <td>33.692821</td>\n",
              "      <td>3.160000</td>\n",
              "      <td>1.540000</td>\n",
              "      <td>6.600000</td>\n",
              "      <td>1.890000</td>\n",
              "      <td>6.900000</td>\n",
              "      <td>1.000000</td>\n",
              "      <td>5.300000</td>\n",
              "      <td>1.000000</td>\n",
              "      <td>0.000000</td>\n",
              "      <td>1.000000</td>\n",
              "      <td>1.000000</td>\n",
              "      <td>0.000000</td>\n",
              "      <td>41773.000000</td>\n",
              "      <td>40770.000000</td>\n",
              "      <td>41745.000000</td>\n",
              "      <td>40687.000000</td>\n",
              "      <td>4.001000e+15</td>\n",
              "    </tr>\n",
              "    <tr>\n",
              "      <th>max</th>\n",
              "      <td>90.000000</td>\n",
              "      <td>229.000000</td>\n",
              "      <td>60.000000</td>\n",
              "      <td>8.630000</td>\n",
              "      <td>3.960000</td>\n",
              "      <td>14.300000</td>\n",
              "      <td>22.640000</td>\n",
              "      <td>21.200000</td>\n",
              "      <td>1.000000</td>\n",
              "      <td>12.660000</td>\n",
              "      <td>1.000000</td>\n",
              "      <td>1.000000</td>\n",
              "      <td>1.000000</td>\n",
              "      <td>1.000000</td>\n",
              "      <td>1.000000</td>\n",
              "      <td>42184.000000</td>\n",
              "      <td>42185.000000</td>\n",
              "      <td>42184.000000</td>\n",
              "      <td>42157.000000</td>\n",
              "      <td>1.000100e+16</td>\n",
              "    </tr>\n",
              "  </tbody>\n",
              "</table>\n",
              "</div>\n",
              "    <div class=\"colab-df-buttons\">\n",
              "\n",
              "  <div class=\"colab-df-container\">\n",
              "    <button class=\"colab-df-convert\" onclick=\"convertToInteractive('df-9877e617-c009-433b-81be-d4be5bf42fe1')\"\n",
              "            title=\"Convert this dataframe to an interactive table.\"\n",
              "            style=\"display:none;\">\n",
              "\n",
              "  <svg xmlns=\"http://www.w3.org/2000/svg\" height=\"24px\" viewBox=\"0 -960 960 960\">\n",
              "    <path d=\"M120-120v-720h720v720H120Zm60-500h600v-160H180v160Zm220 220h160v-160H400v160Zm0 220h160v-160H400v160ZM180-400h160v-160H180v160Zm440 0h160v-160H620v160ZM180-180h160v-160H180v160Zm440 0h160v-160H620v160Z\"/>\n",
              "  </svg>\n",
              "    </button>\n",
              "\n",
              "  <style>\n",
              "    .colab-df-container {\n",
              "      display:flex;\n",
              "      gap: 12px;\n",
              "    }\n",
              "\n",
              "    .colab-df-convert {\n",
              "      background-color: #E8F0FE;\n",
              "      border: none;\n",
              "      border-radius: 50%;\n",
              "      cursor: pointer;\n",
              "      display: none;\n",
              "      fill: #1967D2;\n",
              "      height: 32px;\n",
              "      padding: 0 0 0 0;\n",
              "      width: 32px;\n",
              "    }\n",
              "\n",
              "    .colab-df-convert:hover {\n",
              "      background-color: #E2EBFA;\n",
              "      box-shadow: 0px 1px 2px rgba(60, 64, 67, 0.3), 0px 1px 3px 1px rgba(60, 64, 67, 0.15);\n",
              "      fill: #174EA6;\n",
              "    }\n",
              "\n",
              "    .colab-df-buttons div {\n",
              "      margin-bottom: 4px;\n",
              "    }\n",
              "\n",
              "    [theme=dark] .colab-df-convert {\n",
              "      background-color: #3B4455;\n",
              "      fill: #D2E3FC;\n",
              "    }\n",
              "\n",
              "    [theme=dark] .colab-df-convert:hover {\n",
              "      background-color: #434B5C;\n",
              "      box-shadow: 0px 1px 3px 1px rgba(0, 0, 0, 0.15);\n",
              "      filter: drop-shadow(0px 1px 2px rgba(0, 0, 0, 0.3));\n",
              "      fill: #FFFFFF;\n",
              "    }\n",
              "  </style>\n",
              "\n",
              "    <script>\n",
              "      const buttonEl =\n",
              "        document.querySelector('#df-9877e617-c009-433b-81be-d4be5bf42fe1 button.colab-df-convert');\n",
              "      buttonEl.style.display =\n",
              "        google.colab.kernel.accessAllowed ? 'block' : 'none';\n",
              "\n",
              "      async function convertToInteractive(key) {\n",
              "        const element = document.querySelector('#df-9877e617-c009-433b-81be-d4be5bf42fe1');\n",
              "        const dataTable =\n",
              "          await google.colab.kernel.invokeFunction('convertToInteractive',\n",
              "                                                    [key], {});\n",
              "        if (!dataTable) return;\n",
              "\n",
              "        const docLinkHtml = 'Like what you see? Visit the ' +\n",
              "          '<a target=\"_blank\" href=https://colab.research.google.com/notebooks/data_table.ipynb>data table notebook</a>'\n",
              "          + ' to learn more about interactive tables.';\n",
              "        element.innerHTML = '';\n",
              "        dataTable['output_type'] = 'display_data';\n",
              "        await google.colab.output.renderOutput(dataTable, element);\n",
              "        const docLink = document.createElement('div');\n",
              "        docLink.innerHTML = docLinkHtml;\n",
              "        element.appendChild(docLink);\n",
              "      }\n",
              "    </script>\n",
              "  </div>\n",
              "\n",
              "\n",
              "<div id=\"df-d55a1762-c1c6-47a3-a8c9-a2814b1e8725\">\n",
              "  <button class=\"colab-df-quickchart\" onclick=\"quickchart('df-d55a1762-c1c6-47a3-a8c9-a2814b1e8725')\"\n",
              "            title=\"Suggest charts\"\n",
              "            style=\"display:none;\">\n",
              "\n",
              "<svg xmlns=\"http://www.w3.org/2000/svg\" height=\"24px\"viewBox=\"0 0 24 24\"\n",
              "     width=\"24px\">\n",
              "    <g>\n",
              "        <path d=\"M19 3H5c-1.1 0-2 .9-2 2v14c0 1.1.9 2 2 2h14c1.1 0 2-.9 2-2V5c0-1.1-.9-2-2-2zM9 17H7v-7h2v7zm4 0h-2V7h2v10zm4 0h-2v-4h2v4z\"/>\n",
              "    </g>\n",
              "</svg>\n",
              "  </button>\n",
              "\n",
              "<style>\n",
              "  .colab-df-quickchart {\n",
              "      --bg-color: #E8F0FE;\n",
              "      --fill-color: #1967D2;\n",
              "      --hover-bg-color: #E2EBFA;\n",
              "      --hover-fill-color: #174EA6;\n",
              "      --disabled-fill-color: #AAA;\n",
              "      --disabled-bg-color: #DDD;\n",
              "  }\n",
              "\n",
              "  [theme=dark] .colab-df-quickchart {\n",
              "      --bg-color: #3B4455;\n",
              "      --fill-color: #D2E3FC;\n",
              "      --hover-bg-color: #434B5C;\n",
              "      --hover-fill-color: #FFFFFF;\n",
              "      --disabled-bg-color: #3B4455;\n",
              "      --disabled-fill-color: #666;\n",
              "  }\n",
              "\n",
              "  .colab-df-quickchart {\n",
              "    background-color: var(--bg-color);\n",
              "    border: none;\n",
              "    border-radius: 50%;\n",
              "    cursor: pointer;\n",
              "    display: none;\n",
              "    fill: var(--fill-color);\n",
              "    height: 32px;\n",
              "    padding: 0;\n",
              "    width: 32px;\n",
              "  }\n",
              "\n",
              "  .colab-df-quickchart:hover {\n",
              "    background-color: var(--hover-bg-color);\n",
              "    box-shadow: 0 1px 2px rgba(60, 64, 67, 0.3), 0 1px 3px 1px rgba(60, 64, 67, 0.15);\n",
              "    fill: var(--button-hover-fill-color);\n",
              "  }\n",
              "\n",
              "  .colab-df-quickchart-complete:disabled,\n",
              "  .colab-df-quickchart-complete:disabled:hover {\n",
              "    background-color: var(--disabled-bg-color);\n",
              "    fill: var(--disabled-fill-color);\n",
              "    box-shadow: none;\n",
              "  }\n",
              "\n",
              "  .colab-df-spinner {\n",
              "    border: 2px solid var(--fill-color);\n",
              "    border-color: transparent;\n",
              "    border-bottom-color: var(--fill-color);\n",
              "    animation:\n",
              "      spin 1s steps(1) infinite;\n",
              "  }\n",
              "\n",
              "  @keyframes spin {\n",
              "    0% {\n",
              "      border-color: transparent;\n",
              "      border-bottom-color: var(--fill-color);\n",
              "      border-left-color: var(--fill-color);\n",
              "    }\n",
              "    20% {\n",
              "      border-color: transparent;\n",
              "      border-left-color: var(--fill-color);\n",
              "      border-top-color: var(--fill-color);\n",
              "    }\n",
              "    30% {\n",
              "      border-color: transparent;\n",
              "      border-left-color: var(--fill-color);\n",
              "      border-top-color: var(--fill-color);\n",
              "      border-right-color: var(--fill-color);\n",
              "    }\n",
              "    40% {\n",
              "      border-color: transparent;\n",
              "      border-right-color: var(--fill-color);\n",
              "      border-top-color: var(--fill-color);\n",
              "    }\n",
              "    60% {\n",
              "      border-color: transparent;\n",
              "      border-right-color: var(--fill-color);\n",
              "    }\n",
              "    80% {\n",
              "      border-color: transparent;\n",
              "      border-right-color: var(--fill-color);\n",
              "      border-bottom-color: var(--fill-color);\n",
              "    }\n",
              "    90% {\n",
              "      border-color: transparent;\n",
              "      border-bottom-color: var(--fill-color);\n",
              "    }\n",
              "  }\n",
              "</style>\n",
              "\n",
              "  <script>\n",
              "    async function quickchart(key) {\n",
              "      const quickchartButtonEl =\n",
              "        document.querySelector('#' + key + ' button');\n",
              "      quickchartButtonEl.disabled = true;  // To prevent multiple clicks.\n",
              "      quickchartButtonEl.classList.add('colab-df-spinner');\n",
              "      try {\n",
              "        const charts = await google.colab.kernel.invokeFunction(\n",
              "            'suggestCharts', [key], {});\n",
              "      } catch (error) {\n",
              "        console.error('Error during call to suggestCharts:', error);\n",
              "      }\n",
              "      quickchartButtonEl.classList.remove('colab-df-spinner');\n",
              "      quickchartButtonEl.classList.add('colab-df-quickchart-complete');\n",
              "    }\n",
              "    (() => {\n",
              "      let quickchartButtonEl =\n",
              "        document.querySelector('#df-d55a1762-c1c6-47a3-a8c9-a2814b1e8725 button');\n",
              "      quickchartButtonEl.style.display =\n",
              "        google.colab.kernel.accessAllowed ? 'block' : 'none';\n",
              "    })();\n",
              "  </script>\n",
              "</div>\n",
              "    </div>\n",
              "  </div>\n"
            ]
          },
          "metadata": {},
          "execution_count": 14
        }
      ]
    },
    {
      "cell_type": "code",
      "source": [
        "#boxplot of features\n",
        "description = description.drop('count')\n",
        "description.plot(kind='box', subplots=True, layout=(5, 4), figsize=(12, 8), color='#7569c9')\n",
        "plt.tight_layout()\n",
        "plt.show()"
      ],
      "metadata": {
        "colab": {
          "base_uri": "https://localhost:8080/",
          "height": 807
        },
        "id": "B88f7NBgf_jj",
        "outputId": "cb5171e9-0460-4bdb-a37c-c53d4c95016f"
      },
      "execution_count": null,
      "outputs": [
        {
          "output_type": "display_data",
          "data": {
            "text/plain": [
              "<Figure size 1200x800 with 20 Axes>"
            ],
            "image/png": "[encoded data removed]"
          },
          "metadata": {}
        }
      ]
    },
    {
      "cell_type": "code",
      "source": [
        "# Checking for missing values\n",
        "missing_values_count = df.isnull().sum()\n",
        "print(missing_values_count)"
      ],
      "metadata": {
        "colab": {
          "base_uri": "https://localhost:8080/"
        },
        "id": "cxLz5NEcYALW",
        "outputId": "56d80ebf-8245-4a58-9f41-e09301ad3646"
      },
      "execution_count": null,
      "outputs": [
        {
          "output_type": "stream",
          "name": "stdout",
          "text": [
            "Age_at_Exam                                   0\n",
            "sBP                                           4\n",
            "sBP_Date                                      0\n",
            "BMI                                          50\n",
            "BMI_Date                                      0\n",
            "LDL                                          70\n",
            "LDL_Date                                      0\n",
            "HDL                                          72\n",
            "HDL_Date                                     64\n",
            "A1c                                           0\n",
            "A1c_Date                                      0\n",
            "TG                                           53\n",
            "TG_Date                                      42\n",
            "FBS                                           1\n",
            "FBS_Date                                      0\n",
            "FBS>DM                                        0\n",
            "Total_Cholesterol                           207\n",
            "Total_Cholesterol_Lab_Date                  197\n",
            "Diabetes                                      0\n",
            "DM_OnsetDate                               4863\n",
            "Depression                                    0\n",
            "Depression_OnsetDate                       7884\n",
            "HTN                                           0\n",
            "HTN_OnsetDate                              3589\n",
            "OA                                            0\n",
            "OA_OnsetDate                               6860\n",
            "COPD                                          0\n",
            "COPD_Date                                  9014\n",
            "Hypertension_Medications                   2962\n",
            "Hypertension_Medications_First_Instance    2963\n",
            "Corticosteroids                            7145\n",
            "Corticosteroids_first_instance             7145\n",
            "Sex                                           0\n",
            "leastO(A1c_Date)                           4594\n",
            "leastO(DM_OnsetDate)                       4863\n",
            "leastO(FBS_Date)                           4589\n",
            "LeastOfAll                                 4863\n",
            "A1C_BEF_DM                                 4863\n",
            "FBS_BEF_DM                                 4863\n",
            "Patient_ID                                    0\n",
            "DM_Onset_Revised                           4863\n",
            "DM_Onset_Revised_1YrPrior                  4863\n",
            "DIABETES                                      0\n",
            "dtype: int64\n"
          ]
        }
      ]
    },
    {
      "cell_type": "code",
      "source": [
        "#list of all features that are categorical\n",
        "features_categorical = ['Diabetes', 'Depression', 'HTN', 'OA', 'COPD', 'Sex', 'FBS>DM', 'A1C_BEF_DM', 'FBS_BEF_DM'] #did not include medications because many are combination, too many categories\n",
        "\n",
        "for i, feature in enumerate(features_categorical):\n",
        "  #Graph distribution of categories\n",
        "  counts = df[feature].value_counts()\n",
        "\n",
        "  # Define your color sequence\n",
        "  colors = ['#1c3a73', '#7cb1c2']\n",
        "\n",
        "  fig = px.pie(\n",
        "      names=counts.index,\n",
        "      values=counts.values,\n",
        "      hole=0.5,  # size of the hole, 0.5 means 50%\n",
        "      title='Distribution of ' + feature,\n",
        "      color_discrete_sequence=colors  # apply your colors here\n",
        "  )\n",
        "\n",
        "  # Update layout for better appearance\n",
        "  fig.update_layout(\n",
        "      margin=dict(t=50, b=0, l=0, r=0),  # Adjust top margin to make room for title\n",
        "      legend=dict(\n",
        "          orientation=\"v\",\n",
        "          yanchor=\"top\",\n",
        "          y=0.5,\n",
        "          xanchor=\"left\",\n",
        "          x=1.05,\n",
        "          title=feature\n",
        "      ),\n",
        "      title=dict(\n",
        "          text='Distribution of ' + feature,\n",
        "          x=0.45,  # Centering the title\n",
        "          xanchor='center',\n",
        "          y=0.95,  # Adjusting y position to place title above chart\n",
        "          yanchor='top',\n",
        "          font=dict(size=16)\n",
        "      ),\n",
        "      width=500,\n",
        "      height=350\n",
        "  )\n",
        "\n",
        "  fig.show()"
      ],
      "metadata": {
        "colab": {
          "base_uri": "https://localhost:8080/",
          "height": 1000
        },
        "id": "8rMCHfrAgDME",
        "outputId": "611bde1b-e270-46d8-bd26-4e9670b42d82"
      },
      "execution_count": null,
      "outputs": [
        {
          "output_type": "display_data",
          "data": {
            "text/html": [
              "<html>\n",
              "<head><meta charset=\"utf-8\" /></head>\n",
              "<body>\n",
              "    <div>            <script src=\"https://cdnjs.cloudflare.com/ajax/libs/mathjax/2.7.5/MathJax.js?config=TeX-AMS-MML_SVG\"></script><script type=\"text/javascript\">if (window.MathJax && window.MathJax.Hub && window.MathJax.Hub.Config) {window.MathJax.Hub.Config({SVG: {font: \"STIX-Web\"}});}</script>                <script type=\"text/javascript\">window.PlotlyConfig = {MathJaxConfig: 'local'};</script>\n",
              "        <script charset=\"utf-8\" src=\"https://cdn.plot.ly/plotly-2.24.1.min.js\"></script>                <div id=\"45f4a9a3-11b7-4116-b4bd-17fe6656c3d1\" class=\"plotly-graph-div\" style=\"height:350px; width:500px;\"></div>            <script type=\"text/javascript\">                                    window.PLOTLYENV=window.PLOTLYENV || {};                                    if (document.getElementById(\"45f4a9a3-11b7-4116-b4bd-17fe6656c3d1\")) {                    Plotly.newPlot(                        \"45f4a9a3-11b7-4116-b4bd-17fe6656c3d1\",                        [{\"domain\":{\"x\":[0.0,1.0],\"y\":[0.0,1.0]},\"hole\":0.5,\"hovertemplate\":\"label=%{label}\\u003cbr\\u003evalue=%{value}\\u003cextra\\u003e\\u003c\\u002fextra\\u003e\",\"labels\":[1,0],\"legendgroup\":\"\",\"name\":\"\",\"showlegend\":true,\"values\":[5139,4861],\"type\":\"pie\"}],                        {\"template\":{\"data\":{\"histogram2dcontour\":[{\"type\":\"histogram2dcontour\",\"colorbar\":{\"outlinewidth\":0,\"ticks\":\"\"},\"colorscale\":[[0.0,\"#0d0887\"],[0.1111111111111111,\"#46039f\"],[0.2222222222222222,\"#7201a8\"],[0.3333333333333333,\"#9c179e\"],[0.4444444444444444,\"#bd3786\"],[0.5555555555555556,\"#d8576b\"],[0.6666666666666666,\"#ed7953\"],[0.7777777777777778,\"#fb9f3a\"],[0.8888888888888888,\"#fdca26\"],[1.0,\"#f0f921\"]]}],\"choropleth\":[{\"type\":\"choropleth\",\"colorbar\":{\"outlinewidth\":0,\"ticks\":\"\"}}],\"histogram2d\":[{\"type\":\"histogram2d\",\"colorbar\":{\"outlinewidth\":0,\"ticks\":\"\"},\"colorscale\":[[0.0,\"#0d0887\"],[0.1111111111111111,\"#46039f\"],[0.2222222222222222,\"#7201a8\"],[0.3333333333333333,\"#9c179e\"],[0.4444444444444444,\"#bd3786\"],[0.5555555555555556,\"#d8576b\"],[0.6666666666666666,\"#ed7953\"],[0.7777777777777778,\"#fb9f3a\"],[0.8888888888888888,\"#fdca26\"],[1.0,\"#f0f921\"]]}],\"heatmap\":[{\"type\":\"heatmap\",\"colorbar\":{\"outlinewidth\":0,\"ticks\":\"\"},\"colorscale\":[[0.0,\"#0d0887\"],[0.1111111111111111,\"#46039f\"],[0.2222222222222222,\"#7201a8\"],[0.3333333333333333,\"#9c179e\"],[0.4444444444444444,\"#bd3786\"],[0.5555555555555556,\"#d8576b\"],[0.6666666666666666,\"#ed7953\"],[0.7777777777777778,\"#fb9f3a\"],[0.8888888888888888,\"#fdca26\"],[1.0,\"#f0f921\"]]}],\"heatmapgl\":[{\"type\":\"heatmapgl\",\"colorbar\":{\"outlinewidth\":0,\"ticks\":\"\"},\"colorscale\":[[0.0,\"#0d0887\"],[0.1111111111111111,\"#46039f\"],[0.2222222222222222,\"#7201a8\"],[0.3333333333333333,\"#9c179e\"],[0.4444444444444444,\"#bd3786\"],[0.5555555555555556,\"#d8576b\"],[0.6666666666666666,\"#ed7953\"],[0.7777777777777778,\"#fb9f3a\"],[0.8888888888888888,\"#fdca26\"],[1.0,\"#f0f921\"]]}],\"contourcarpet\":[{\"type\":\"contourcarpet\",\"colorbar\":{\"outlinewidth\":0,\"ticks\":\"\"}}],\"contour\":[{\"type\":\"contour\",\"colorbar\":{\"outlinewidth\":0,\"ticks\":\"\"},\"colorscale\":[[0.0,\"#0d0887\"],[0.1111111111111111,\"#46039f\"],[0.2222222222222222,\"#7201a8\"],[0.3333333333333333,\"#9c179e\"],[0.4444444444444444,\"#bd3786\"],[0.5555555555555556,\"#d8576b\"],[0.6666666666666666,\"#ed7953\"],[0.7777777777777778,\"#fb9f3a\"],[0.8888888888888888,\"#fdca26\"],[1.0,\"#f0f921\"]]}],\"surface\":[{\"type\":\"surface\",\"colorbar\":{\"outlinewidth\":0,\"ticks\":\"\"},\"colorscale\":[[0.0,\"#0d0887\"],[0.1111111111111111,\"#46039f\"],[0.2222222222222222,\"#7201a8\"],[0.3333333333333333,\"#9c179e\"],[0.4444444444444444,\"#bd3786\"],[0.5555555555555556,\"#d8576b\"],[0.6666666666666666,\"#ed7953\"],[0.7777777777777778,\"#fb9f3a\"],[0.8888888888888888,\"#fdca26\"],[1.0,\"#f0f921\"]]}],\"mesh3d\":[{\"type\":\"mesh3d\",\"colorbar\":{\"outlinewidth\":0,\"ticks\":\"\"}}],\"scatter\":[{\"fillpattern\":{\"fillmode\":\"overlay\",\"size\":10,\"solidity\":0.2},\"type\":\"scatter\"}],\"parcoords\":[{\"type\":\"parcoords\",\"line\":{\"colorbar\":{\"outlinewidth\":0,\"ticks\":\"\"}}}],\"scatterpolargl\":[{\"type\":\"scatterpolargl\",\"marker\":{\"colorbar\":{\"outlinewidth\":0,\"ticks\":\"\"}}}],\"bar\":[{\"error_x\":{\"color\":\"#2a3f5f\"},\"error_y\":{\"color\":\"#2a3f5f\"},\"marker\":{\"line\":{\"color\":\"#E5ECF6\",\"width\":0.5},\"pattern\":{\"fillmode\":\"overlay\",\"size\":10,\"solidity\":0.2}},\"type\":\"bar\"}],\"scattergeo\":[{\"type\":\"scattergeo\",\"marker\":{\"colorbar\":{\"outlinewidth\":0,\"ticks\":\"\"}}}],\"scatterpolar\":[{\"type\":\"scatterpolar\",\"marker\":{\"colorbar\":{\"outlinewidth\":0,\"ticks\":\"\"}}}],\"histogram\":[{\"marker\":{\"pattern\":{\"fillmode\":\"overlay\",\"size\":10,\"solidity\":0.2}},\"type\":\"histogram\"}],\"scattergl\":[{\"type\":\"scattergl\",\"marker\":{\"colorbar\":{\"outlinewidth\":0,\"ticks\":\"\"}}}],\"scatter3d\":[{\"type\":\"scatter3d\",\"line\":{\"colorbar\":{\"outlinewidth\":0,\"ticks\":\"\"}},\"marker\":{\"colorbar\":{\"outlinewidth\":0,\"ticks\":\"\"}}}],\"scattermapbox\":[{\"type\":\"scattermapbox\",\"marker\":{\"colorbar\":{\"outlinewidth\":0,\"ticks\":\"\"}}}],\"scatterternary\":[{\"type\":\"scatterternary\",\"marker\":{\"colorbar\":{\"outlinewidth\":0,\"ticks\":\"\"}}}],\"scattercarpet\":[{\"type\":\"scattercarpet\",\"marker\":{\"colorbar\":{\"outlinewidth\":0,\"ticks\":\"\"}}}],\"carpet\":[{\"aaxis\":{\"endlinecolor\":\"#2a3f5f\",\"gridcolor\":\"white\",\"linecolor\":\"white\",\"minorgridcolor\":\"white\",\"startlinecolor\":\"#2a3f5f\"},\"baxis\":{\"endlinecolor\":\"#2a3f5f\",\"gridcolor\":\"white\",\"linecolor\":\"white\",\"minorgridcolor\":\"white\",\"startlinecolor\":\"#2a3f5f\"},\"type\":\"carpet\"}],\"table\":[{\"cells\":{\"fill\":{\"color\":\"#EBF0F8\"},\"line\":{\"color\":\"white\"}},\"header\":{\"fill\":{\"color\":\"#C8D4E3\"},\"line\":{\"color\":\"white\"}},\"type\":\"table\"}],\"barpolar\":[{\"marker\":{\"line\":{\"color\":\"#E5ECF6\",\"width\":0.5},\"pattern\":{\"fillmode\":\"overlay\",\"size\":10,\"solidity\":0.2}},\"type\":\"barpolar\"}],\"pie\":[{\"automargin\":true,\"type\":\"pie\"}]},\"layout\":{\"autotypenumbers\":\"strict\",\"colorway\":[\"#636efa\",\"#EF553B\",\"#00cc96\",\"#ab63fa\",\"#FFA15A\",\"#19d3f3\",\"#FF6692\",\"#B6E880\",\"#FF97FF\",\"#FECB52\"],\"font\":{\"color\":\"#2a3f5f\"},\"hovermode\":\"closest\",\"hoverlabel\":{\"align\":\"left\"},\"paper_bgcolor\":\"white\",\"plot_bgcolor\":\"#E5ECF6\",\"polar\":{\"bgcolor\":\"#E5ECF6\",\"angularaxis\":{\"gridcolor\":\"white\",\"linecolor\":\"white\",\"ticks\":\"\"},\"radialaxis\":{\"gridcolor\":\"white\",\"linecolor\":\"white\",\"ticks\":\"\"}},\"ternary\":{\"bgcolor\":\"#E5ECF6\",\"aaxis\":{\"gridcolor\":\"white\",\"linecolor\":\"white\",\"ticks\":\"\"},\"baxis\":{\"gridcolor\":\"white\",\"linecolor\":\"white\",\"ticks\":\"\"},\"caxis\":{\"gridcolor\":\"white\",\"linecolor\":\"white\",\"ticks\":\"\"}},\"coloraxis\":{\"colorbar\":{\"outlinewidth\":0,\"ticks\":\"\"}},\"colorscale\":{\"sequential\":[[0.0,\"#0d0887\"],[0.1111111111111111,\"#46039f\"],[0.2222222222222222,\"#7201a8\"],[0.3333333333333333,\"#9c179e\"],[0.4444444444444444,\"#bd3786\"],[0.5555555555555556,\"#d8576b\"],[0.6666666666666666,\"#ed7953\"],[0.7777777777777778,\"#fb9f3a\"],[0.8888888888888888,\"#fdca26\"],[1.0,\"#f0f921\"]],\"sequentialminus\":[[0.0,\"#0d0887\"],[0.1111111111111111,\"#46039f\"],[0.2222222222222222,\"#7201a8\"],[0.3333333333333333,\"#9c179e\"],[0.4444444444444444,\"#bd3786\"],[0.5555555555555556,\"#d8576b\"],[0.6666666666666666,\"#ed7953\"],[0.7777777777777778,\"#fb9f3a\"],[0.8888888888888888,\"#fdca26\"],[1.0,\"#f0f921\"]],\"diverging\":[[0,\"#8e0152\"],[0.1,\"#c51b7d\"],[0.2,\"#de77ae\"],[0.3,\"#f1b6da\"],[0.4,\"#fde0ef\"],[0.5,\"#f7f7f7\"],[0.6,\"#e6f5d0\"],[0.7,\"#b8e186\"],[0.8,\"#7fbc41\"],[0.9,\"#4d9221\"],[1,\"#276419\"]]},\"xaxis\":{\"gridcolor\":\"white\",\"linecolor\":\"white\",\"ticks\":\"\",\"title\":{\"standoff\":15},\"zerolinecolor\":\"white\",\"automargin\":true,\"zerolinewidth\":2},\"yaxis\":{\"gridcolor\":\"white\",\"linecolor\":\"white\",\"ticks\":\"\",\"title\":{\"standoff\":15},\"zerolinecolor\":\"white\",\"automargin\":true,\"zerolinewidth\":2},\"scene\":{\"xaxis\":{\"backgroundcolor\":\"#E5ECF6\",\"gridcolor\":\"white\",\"linecolor\":\"white\",\"showbackground\":true,\"ticks\":\"\",\"zerolinecolor\":\"white\",\"gridwidth\":2},\"yaxis\":{\"backgroundcolor\":\"#E5ECF6\",\"gridcolor\":\"white\",\"linecolor\":\"white\",\"showbackground\":true,\"ticks\":\"\",\"zerolinecolor\":\"white\",\"gridwidth\":2},\"zaxis\":{\"backgroundcolor\":\"#E5ECF6\",\"gridcolor\":\"white\",\"linecolor\":\"white\",\"showbackground\":true,\"ticks\":\"\",\"zerolinecolor\":\"white\",\"gridwidth\":2}},\"shapedefaults\":{\"line\":{\"color\":\"#2a3f5f\"}},\"annotationdefaults\":{\"arrowcolor\":\"#2a3f5f\",\"arrowhead\":0,\"arrowwidth\":1},\"geo\":{\"bgcolor\":\"white\",\"landcolor\":\"#E5ECF6\",\"subunitcolor\":\"white\",\"showland\":true,\"showlakes\":true,\"lakecolor\":\"white\"},\"title\":{\"x\":0.05},\"mapbox\":{\"style\":\"light\"}}},\"legend\":{\"tracegroupgap\":0,\"orientation\":\"v\",\"yanchor\":\"top\",\"y\":0.5,\"xanchor\":\"left\",\"x\":1.05,\"title\":{\"text\":\"Diabetes\"}},\"title\":{\"text\":\"Distribution of Diabetes\",\"font\":{\"size\":16},\"x\":0.45,\"xanchor\":\"center\",\"y\":0.95,\"yanchor\":\"top\"},\"piecolorway\":[\"#1c3a73\",\"#7cb1c2\"],\"margin\":{\"t\":50,\"b\":0,\"l\":0,\"r\":0},\"width\":500,\"height\":350},                        {\"responsive\": true}                    ).then(function(){\n",
              "                            \n",
              "var gd = document.getElementById('45f4a9a3-11b7-4116-b4bd-17fe6656c3d1');\n",
              "var x = new MutationObserver(function (mutations, observer) {{\n",
              "        var display = window.getComputedStyle(gd).display;\n",
              "        if (!display || display === 'none') {{\n",
              "            console.log([gd, 'removed!']);\n",
              "            Plotly.purge(gd);\n",
              "            observer.disconnect();\n",
              "        }}\n",
              "}});\n",
              "\n",
              "// Listen for the removal of the full notebook cells\n",
              "var notebookContainer = gd.closest('#notebook-container');\n",
              "if (notebookContainer) {{\n",
              "    x.observe(notebookContainer, {childList: true});\n",
              "}}\n",
              "\n",
              "// Listen for the clearing of the current output cell\n",
              "var outputEl = gd.closest('.output');\n",
              "if (outputEl) {{\n",
              "    x.observe(outputEl, {childList: true});\n",
              "}}\n",
              "\n",
              "                        })                };                            </script>        </div>\n",
              "</body>\n",
              "</html>"
            ]
          },
          "metadata": {}
        },
        {
          "output_type": "display_data",
          "data": {
            "text/html": [
              "<html>\n",
              "<head><meta charset=\"utf-8\" /></head>\n",
              "<body>\n",
              "    <div>            <script src=\"https://cdnjs.cloudflare.com/ajax/libs/mathjax/2.7.5/MathJax.js?config=TeX-AMS-MML_SVG\"></script><script type=\"text/javascript\">if (window.MathJax && window.MathJax.Hub && window.MathJax.Hub.Config) {window.MathJax.Hub.Config({SVG: {font: \"STIX-Web\"}});}</script>                <script type=\"text/javascript\">window.PlotlyConfig = {MathJaxConfig: 'local'};</script>\n",
              "        <script charset=\"utf-8\" src=\"https://cdn.plot.ly/plotly-2.24.1.min.js\"></script>                <div id=\"71b6290c-5df7-4fa9-a49e-9c81e7b29ef9\" class=\"plotly-graph-div\" style=\"height:350px; width:500px;\"></div>            <script type=\"text/javascript\">                                    window.PLOTLYENV=window.PLOTLYENV || {};                                    if (document.getElementById(\"71b6290c-5df7-4fa9-a49e-9c81e7b29ef9\")) {                    Plotly.newPlot(                        \"71b6290c-5df7-4fa9-a49e-9c81e7b29ef9\",                        [{\"domain\":{\"x\":[0.0,1.0],\"y\":[0.0,1.0]},\"hole\":0.5,\"hovertemplate\":\"label=%{label}\\u003cbr\\u003evalue=%{value}\\u003cextra\\u003e\\u003c\\u002fextra\\u003e\",\"labels\":[0,1],\"legendgroup\":\"\",\"name\":\"\",\"showlegend\":true,\"values\":[7878,2122],\"type\":\"pie\"}],                        {\"template\":{\"data\":{\"histogram2dcontour\":[{\"type\":\"histogram2dcontour\",\"colorbar\":{\"outlinewidth\":0,\"ticks\":\"\"},\"colorscale\":[[0.0,\"#0d0887\"],[0.1111111111111111,\"#46039f\"],[0.2222222222222222,\"#7201a8\"],[0.3333333333333333,\"#9c179e\"],[0.4444444444444444,\"#bd3786\"],[0.5555555555555556,\"#d8576b\"],[0.6666666666666666,\"#ed7953\"],[0.7777777777777778,\"#fb9f3a\"],[0.8888888888888888,\"#fdca26\"],[1.0,\"#f0f921\"]]}],\"choropleth\":[{\"type\":\"choropleth\",\"colorbar\":{\"outlinewidth\":0,\"ticks\":\"\"}}],\"histogram2d\":[{\"type\":\"histogram2d\",\"colorbar\":{\"outlinewidth\":0,\"ticks\":\"\"},\"colorscale\":[[0.0,\"#0d0887\"],[0.1111111111111111,\"#46039f\"],[0.2222222222222222,\"#7201a8\"],[0.3333333333333333,\"#9c179e\"],[0.4444444444444444,\"#bd3786\"],[0.5555555555555556,\"#d8576b\"],[0.6666666666666666,\"#ed7953\"],[0.7777777777777778,\"#fb9f3a\"],[0.8888888888888888,\"#fdca26\"],[1.0,\"#f0f921\"]]}],\"heatmap\":[{\"type\":\"heatmap\",\"colorbar\":{\"outlinewidth\":0,\"ticks\":\"\"},\"colorscale\":[[0.0,\"#0d0887\"],[0.1111111111111111,\"#46039f\"],[0.2222222222222222,\"#7201a8\"],[0.3333333333333333,\"#9c179e\"],[0.4444444444444444,\"#bd3786\"],[0.5555555555555556,\"#d8576b\"],[0.6666666666666666,\"#ed7953\"],[0.7777777777777778,\"#fb9f3a\"],[0.8888888888888888,\"#fdca26\"],[1.0,\"#f0f921\"]]}],\"heatmapgl\":[{\"type\":\"heatmapgl\",\"colorbar\":{\"outlinewidth\":0,\"ticks\":\"\"},\"colorscale\":[[0.0,\"#0d0887\"],[0.1111111111111111,\"#46039f\"],[0.2222222222222222,\"#7201a8\"],[0.3333333333333333,\"#9c179e\"],[0.4444444444444444,\"#bd3786\"],[0.5555555555555556,\"#d8576b\"],[0.6666666666666666,\"#ed7953\"],[0.7777777777777778,\"#fb9f3a\"],[0.8888888888888888,\"#fdca26\"],[1.0,\"#f0f921\"]]}],\"contourcarpet\":[{\"type\":\"contourcarpet\",\"colorbar\":{\"outlinewidth\":0,\"ticks\":\"\"}}],\"contour\":[{\"type\":\"contour\",\"colorbar\":{\"outlinewidth\":0,\"ticks\":\"\"},\"colorscale\":[[0.0,\"#0d0887\"],[0.1111111111111111,\"#46039f\"],[0.2222222222222222,\"#7201a8\"],[0.3333333333333333,\"#9c179e\"],[0.4444444444444444,\"#bd3786\"],[0.5555555555555556,\"#d8576b\"],[0.6666666666666666,\"#ed7953\"],[0.7777777777777778,\"#fb9f3a\"],[0.8888888888888888,\"#fdca26\"],[1.0,\"#f0f921\"]]}],\"surface\":[{\"type\":\"surface\",\"colorbar\":{\"outlinewidth\":0,\"ticks\":\"\"},\"colorscale\":[[0.0,\"#0d0887\"],[0.1111111111111111,\"#46039f\"],[0.2222222222222222,\"#7201a8\"],[0.3333333333333333,\"#9c179e\"],[0.4444444444444444,\"#bd3786\"],[0.5555555555555556,\"#d8576b\"],[0.6666666666666666,\"#ed7953\"],[0.7777777777777778,\"#fb9f3a\"],[0.8888888888888888,\"#fdca26\"],[1.0,\"#f0f921\"]]}],\"mesh3d\":[{\"type\":\"mesh3d\",\"colorbar\":{\"outlinewidth\":0,\"ticks\":\"\"}}],\"scatter\":[{\"fillpattern\":{\"fillmode\":\"overlay\",\"size\":10,\"solidity\":0.2},\"type\":\"scatter\"}],\"parcoords\":[{\"type\":\"parcoords\",\"line\":{\"colorbar\":{\"outlinewidth\":0,\"ticks\":\"\"}}}],\"scatterpolargl\":[{\"type\":\"scatterpolargl\",\"marker\":{\"colorbar\":{\"outlinewidth\":0,\"ticks\":\"\"}}}],\"bar\":[{\"error_x\":{\"color\":\"#2a3f5f\"},\"error_y\":{\"color\":\"#2a3f5f\"},\"marker\":{\"line\":{\"color\":\"#E5ECF6\",\"width\":0.5},\"pattern\":{\"fillmode\":\"overlay\",\"size\":10,\"solidity\":0.2}},\"type\":\"bar\"}],\"scattergeo\":[{\"type\":\"scattergeo\",\"marker\":{\"colorbar\":{\"outlinewidth\":0,\"ticks\":\"\"}}}],\"scatterpolar\":[{\"type\":\"scatterpolar\",\"marker\":{\"colorbar\":{\"outlinewidth\":0,\"ticks\":\"\"}}}],\"histogram\":[{\"marker\":{\"pattern\":{\"fillmode\":\"overlay\",\"size\":10,\"solidity\":0.2}},\"type\":\"histogram\"}],\"scattergl\":[{\"type\":\"scattergl\",\"marker\":{\"colorbar\":{\"outlinewidth\":0,\"ticks\":\"\"}}}],\"scatter3d\":[{\"type\":\"scatter3d\",\"line\":{\"colorbar\":{\"outlinewidth\":0,\"ticks\":\"\"}},\"marker\":{\"colorbar\":{\"outlinewidth\":0,\"ticks\":\"\"}}}],\"scattermapbox\":[{\"type\":\"scattermapbox\",\"marker\":{\"colorbar\":{\"outlinewidth\":0,\"ticks\":\"\"}}}],\"scatterternary\":[{\"type\":\"scatterternary\",\"marker\":{\"colorbar\":{\"outlinewidth\":0,\"ticks\":\"\"}}}],\"scattercarpet\":[{\"type\":\"scattercarpet\",\"marker\":{\"colorbar\":{\"outlinewidth\":0,\"ticks\":\"\"}}}],\"carpet\":[{\"aaxis\":{\"endlinecolor\":\"#2a3f5f\",\"gridcolor\":\"white\",\"linecolor\":\"white\",\"minorgridcolor\":\"white\",\"startlinecolor\":\"#2a3f5f\"},\"baxis\":{\"endlinecolor\":\"#2a3f5f\",\"gridcolor\":\"white\",\"linecolor\":\"white\",\"minorgridcolor\":\"white\",\"startlinecolor\":\"#2a3f5f\"},\"type\":\"carpet\"}],\"table\":[{\"cells\":{\"fill\":{\"color\":\"#EBF0F8\"},\"line\":{\"color\":\"white\"}},\"header\":{\"fill\":{\"color\":\"#C8D4E3\"},\"line\":{\"color\":\"white\"}},\"type\":\"table\"}],\"barpolar\":[{\"marker\":{\"line\":{\"color\":\"#E5ECF6\",\"width\":0.5},\"pattern\":{\"fillmode\":\"overlay\",\"size\":10,\"solidity\":0.2}},\"type\":\"barpolar\"}],\"pie\":[{\"automargin\":true,\"type\":\"pie\"}]},\"layout\":{\"autotypenumbers\":\"strict\",\"colorway\":[\"#636efa\",\"#EF553B\",\"#00cc96\",\"#ab63fa\",\"#FFA15A\",\"#19d3f3\",\"#FF6692\",\"#B6E880\",\"#FF97FF\",\"#FECB52\"],\"font\":{\"color\":\"#2a3f5f\"},\"hovermode\":\"closest\",\"hoverlabel\":{\"align\":\"left\"},\"paper_bgcolor\":\"white\",\"plot_bgcolor\":\"#E5ECF6\",\"polar\":{\"bgcolor\":\"#E5ECF6\",\"angularaxis\":{\"gridcolor\":\"white\",\"linecolor\":\"white\",\"ticks\":\"\"},\"radialaxis\":{\"gridcolor\":\"white\",\"linecolor\":\"white\",\"ticks\":\"\"}},\"ternary\":{\"bgcolor\":\"#E5ECF6\",\"aaxis\":{\"gridcolor\":\"white\",\"linecolor\":\"white\",\"ticks\":\"\"},\"baxis\":{\"gridcolor\":\"white\",\"linecolor\":\"white\",\"ticks\":\"\"},\"caxis\":{\"gridcolor\":\"white\",\"linecolor\":\"white\",\"ticks\":\"\"}},\"coloraxis\":{\"colorbar\":{\"outlinewidth\":0,\"ticks\":\"\"}},\"colorscale\":{\"sequential\":[[0.0,\"#0d0887\"],[0.1111111111111111,\"#46039f\"],[0.2222222222222222,\"#7201a8\"],[0.3333333333333333,\"#9c179e\"],[0.4444444444444444,\"#bd3786\"],[0.5555555555555556,\"#d8576b\"],[0.6666666666666666,\"#ed7953\"],[0.7777777777777778,\"#fb9f3a\"],[0.8888888888888888,\"#fdca26\"],[1.0,\"#f0f921\"]],\"sequentialminus\":[[0.0,\"#0d0887\"],[0.1111111111111111,\"#46039f\"],[0.2222222222222222,\"#7201a8\"],[0.3333333333333333,\"#9c179e\"],[0.4444444444444444,\"#bd3786\"],[0.5555555555555556,\"#d8576b\"],[0.6666666666666666,\"#ed7953\"],[0.7777777777777778,\"#fb9f3a\"],[0.8888888888888888,\"#fdca26\"],[1.0,\"#f0f921\"]],\"diverging\":[[0,\"#8e0152\"],[0.1,\"#c51b7d\"],[0.2,\"#de77ae\"],[0.3,\"#f1b6da\"],[0.4,\"#fde0ef\"],[0.5,\"#f7f7f7\"],[0.6,\"#e6f5d0\"],[0.7,\"#b8e186\"],[0.8,\"#7fbc41\"],[0.9,\"#4d9221\"],[1,\"#276419\"]]},\"xaxis\":{\"gridcolor\":\"white\",\"linecolor\":\"white\",\"ticks\":\"\",\"title\":{\"standoff\":15},\"zerolinecolor\":\"white\",\"automargin\":true,\"zerolinewidth\":2},\"yaxis\":{\"gridcolor\":\"white\",\"linecolor\":\"white\",\"ticks\":\"\",\"title\":{\"standoff\":15},\"zerolinecolor\":\"white\",\"automargin\":true,\"zerolinewidth\":2},\"scene\":{\"xaxis\":{\"backgroundcolor\":\"#E5ECF6\",\"gridcolor\":\"white\",\"linecolor\":\"white\",\"showbackground\":true,\"ticks\":\"\",\"zerolinecolor\":\"white\",\"gridwidth\":2},\"yaxis\":{\"backgroundcolor\":\"#E5ECF6\",\"gridcolor\":\"white\",\"linecolor\":\"white\",\"showbackground\":true,\"ticks\":\"\",\"zerolinecolor\":\"white\",\"gridwidth\":2},\"zaxis\":{\"backgroundcolor\":\"#E5ECF6\",\"gridcolor\":\"white\",\"linecolor\":\"white\",\"showbackground\":true,\"ticks\":\"\",\"zerolinecolor\":\"white\",\"gridwidth\":2}},\"shapedefaults\":{\"line\":{\"color\":\"#2a3f5f\"}},\"annotationdefaults\":{\"arrowcolor\":\"#2a3f5f\",\"arrowhead\":0,\"arrowwidth\":1},\"geo\":{\"bgcolor\":\"white\",\"landcolor\":\"#E5ECF6\",\"subunitcolor\":\"white\",\"showland\":true,\"showlakes\":true,\"lakecolor\":\"white\"},\"title\":{\"x\":0.05},\"mapbox\":{\"style\":\"light\"}}},\"legend\":{\"tracegroupgap\":0,\"orientation\":\"v\",\"yanchor\":\"top\",\"y\":0.5,\"xanchor\":\"left\",\"x\":1.05,\"title\":{\"text\":\"Depression\"}},\"title\":{\"text\":\"Distribution of Depression\",\"font\":{\"size\":16},\"x\":0.45,\"xanchor\":\"center\",\"y\":0.95,\"yanchor\":\"top\"},\"piecolorway\":[\"#1c3a73\",\"#7cb1c2\"],\"margin\":{\"t\":50,\"b\":0,\"l\":0,\"r\":0},\"width\":500,\"height\":350},                        {\"responsive\": true}                    ).then(function(){\n",
              "                            \n",
              "var gd = document.getElementById('71b6290c-5df7-4fa9-a49e-9c81e7b29ef9');\n",
              "var x = new MutationObserver(function (mutations, observer) {{\n",
              "        var display = window.getComputedStyle(gd).display;\n",
              "        if (!display || display === 'none') {{\n",
              "            console.log([gd, 'removed!']);\n",
              "            Plotly.purge(gd);\n",
              "            observer.disconnect();\n",
              "        }}\n",
              "}});\n",
              "\n",
              "// Listen for the removal of the full notebook cells\n",
              "var notebookContainer = gd.closest('#notebook-container');\n",
              "if (notebookContainer) {{\n",
              "    x.observe(notebookContainer, {childList: true});\n",
              "}}\n",
              "\n",
              "// Listen for the clearing of the current output cell\n",
              "var outputEl = gd.closest('.output');\n",
              "if (outputEl) {{\n",
              "    x.observe(outputEl, {childList: true});\n",
              "}}\n",
              "\n",
              "                        })                };                            </script>        </div>\n",
              "</body>\n",
              "</html>"
            ]
          },
          "metadata": {}
        },
        {
          "output_type": "display_data",
          "data": {
            "text/html": [
              "<html>\n",
              "<head><meta charset=\"utf-8\" /></head>\n",
              "<body>\n",
              "    <div>            <script src=\"https://cdnjs.cloudflare.com/ajax/libs/mathjax/2.7.5/MathJax.js?config=TeX-AMS-MML_SVG\"></script><script type=\"text/javascript\">if (window.MathJax && window.MathJax.Hub && window.MathJax.Hub.Config) {window.MathJax.Hub.Config({SVG: {font: \"STIX-Web\"}});}</script>                <script type=\"text/javascript\">window.PlotlyConfig = {MathJaxConfig: 'local'};</script>\n",
              "        <script charset=\"utf-8\" src=\"https://cdn.plot.ly/plotly-2.24.1.min.js\"></script>                <div id=\"50edfba8-e486-4a17-a414-cdc9446b7db1\" class=\"plotly-graph-div\" style=\"height:350px; width:500px;\"></div>            <script type=\"text/javascript\">                                    window.PLOTLYENV=window.PLOTLYENV || {};                                    if (document.getElementById(\"50edfba8-e486-4a17-a414-cdc9446b7db1\")) {                    Plotly.newPlot(                        \"50edfba8-e486-4a17-a414-cdc9446b7db1\",                        [{\"domain\":{\"x\":[0.0,1.0],\"y\":[0.0,1.0]},\"hole\":0.5,\"hovertemplate\":\"label=%{label}\\u003cbr\\u003evalue=%{value}\\u003cextra\\u003e\\u003c\\u002fextra\\u003e\",\"labels\":[1,0],\"legendgroup\":\"\",\"name\":\"\",\"showlegend\":true,\"values\":[6424,3576],\"type\":\"pie\"}],                        {\"template\":{\"data\":{\"histogram2dcontour\":[{\"type\":\"histogram2dcontour\",\"colorbar\":{\"outlinewidth\":0,\"ticks\":\"\"},\"colorscale\":[[0.0,\"#0d0887\"],[0.1111111111111111,\"#46039f\"],[0.2222222222222222,\"#7201a8\"],[0.3333333333333333,\"#9c179e\"],[0.4444444444444444,\"#bd3786\"],[0.5555555555555556,\"#d8576b\"],[0.6666666666666666,\"#ed7953\"],[0.7777777777777778,\"#fb9f3a\"],[0.8888888888888888,\"#fdca26\"],[1.0,\"#f0f921\"]]}],\"choropleth\":[{\"type\":\"choropleth\",\"colorbar\":{\"outlinewidth\":0,\"ticks\":\"\"}}],\"histogram2d\":[{\"type\":\"histogram2d\",\"colorbar\":{\"outlinewidth\":0,\"ticks\":\"\"},\"colorscale\":[[0.0,\"#0d0887\"],[0.1111111111111111,\"#46039f\"],[0.2222222222222222,\"#7201a8\"],[0.3333333333333333,\"#9c179e\"],[0.4444444444444444,\"#bd3786\"],[0.5555555555555556,\"#d8576b\"],[0.6666666666666666,\"#ed7953\"],[0.7777777777777778,\"#fb9f3a\"],[0.8888888888888888,\"#fdca26\"],[1.0,\"#f0f921\"]]}],\"heatmap\":[{\"type\":\"heatmap\",\"colorbar\":{\"outlinewidth\":0,\"ticks\":\"\"},\"colorscale\":[[0.0,\"#0d0887\"],[0.1111111111111111,\"#46039f\"],[0.2222222222222222,\"#7201a8\"],[0.3333333333333333,\"#9c179e\"],[0.4444444444444444,\"#bd3786\"],[0.5555555555555556,\"#d8576b\"],[0.6666666666666666,\"#ed7953\"],[0.7777777777777778,\"#fb9f3a\"],[0.8888888888888888,\"#fdca26\"],[1.0,\"#f0f921\"]]}],\"heatmapgl\":[{\"type\":\"heatmapgl\",\"colorbar\":{\"outlinewidth\":0,\"ticks\":\"\"},\"colorscale\":[[0.0,\"#0d0887\"],[0.1111111111111111,\"#46039f\"],[0.2222222222222222,\"#7201a8\"],[0.3333333333333333,\"#9c179e\"],[0.4444444444444444,\"#bd3786\"],[0.5555555555555556,\"#d8576b\"],[0.6666666666666666,\"#ed7953\"],[0.7777777777777778,\"#fb9f3a\"],[0.8888888888888888,\"#fdca26\"],[1.0,\"#f0f921\"]]}],\"contourcarpet\":[{\"type\":\"contourcarpet\",\"colorbar\":{\"outlinewidth\":0,\"ticks\":\"\"}}],\"contour\":[{\"type\":\"contour\",\"colorbar\":{\"outlinewidth\":0,\"ticks\":\"\"},\"colorscale\":[[0.0,\"#0d0887\"],[0.1111111111111111,\"#46039f\"],[0.2222222222222222,\"#7201a8\"],[0.3333333333333333,\"#9c179e\"],[0.4444444444444444,\"#bd3786\"],[0.5555555555555556,\"#d8576b\"],[0.6666666666666666,\"#ed7953\"],[0.7777777777777778,\"#fb9f3a\"],[0.8888888888888888,\"#fdca26\"],[1.0,\"#f0f921\"]]}],\"surface\":[{\"type\":\"surface\",\"colorbar\":{\"outlinewidth\":0,\"ticks\":\"\"},\"colorscale\":[[0.0,\"#0d0887\"],[0.1111111111111111,\"#46039f\"],[0.2222222222222222,\"#7201a8\"],[0.3333333333333333,\"#9c179e\"],[0.4444444444444444,\"#bd3786\"],[0.5555555555555556,\"#d8576b\"],[0.6666666666666666,\"#ed7953\"],[0.7777777777777778,\"#fb9f3a\"],[0.8888888888888888,\"#fdca26\"],[1.0,\"#f0f921\"]]}],\"mesh3d\":[{\"type\":\"mesh3d\",\"colorbar\":{\"outlinewidth\":0,\"ticks\":\"\"}}],\"scatter\":[{\"fillpattern\":{\"fillmode\":\"overlay\",\"size\":10,\"solidity\":0.2},\"type\":\"scatter\"}],\"parcoords\":[{\"type\":\"parcoords\",\"line\":{\"colorbar\":{\"outlinewidth\":0,\"ticks\":\"\"}}}],\"scatterpolargl\":[{\"type\":\"scatterpolargl\",\"marker\":{\"colorbar\":{\"outlinewidth\":0,\"ticks\":\"\"}}}],\"bar\":[{\"error_x\":{\"color\":\"#2a3f5f\"},\"error_y\":{\"color\":\"#2a3f5f\"},\"marker\":{\"line\":{\"color\":\"#E5ECF6\",\"width\":0.5},\"pattern\":{\"fillmode\":\"overlay\",\"size\":10,\"solidity\":0.2}},\"type\":\"bar\"}],\"scattergeo\":[{\"type\":\"scattergeo\",\"marker\":{\"colorbar\":{\"outlinewidth\":0,\"ticks\":\"\"}}}],\"scatterpolar\":[{\"type\":\"scatterpolar\",\"marker\":{\"colorbar\":{\"outlinewidth\":0,\"ticks\":\"\"}}}],\"histogram\":[{\"marker\":{\"pattern\":{\"fillmode\":\"overlay\",\"size\":10,\"solidity\":0.2}},\"type\":\"histogram\"}],\"scattergl\":[{\"type\":\"scattergl\",\"marker\":{\"colorbar\":{\"outlinewidth\":0,\"ticks\":\"\"}}}],\"scatter3d\":[{\"type\":\"scatter3d\",\"line\":{\"colorbar\":{\"outlinewidth\":0,\"ticks\":\"\"}},\"marker\":{\"colorbar\":{\"outlinewidth\":0,\"ticks\":\"\"}}}],\"scattermapbox\":[{\"type\":\"scattermapbox\",\"marker\":{\"colorbar\":{\"outlinewidth\":0,\"ticks\":\"\"}}}],\"scatterternary\":[{\"type\":\"scatterternary\",\"marker\":{\"colorbar\":{\"outlinewidth\":0,\"ticks\":\"\"}}}],\"scattercarpet\":[{\"type\":\"scattercarpet\",\"marker\":{\"colorbar\":{\"outlinewidth\":0,\"ticks\":\"\"}}}],\"carpet\":[{\"aaxis\":{\"endlinecolor\":\"#2a3f5f\",\"gridcolor\":\"white\",\"linecolor\":\"white\",\"minorgridcolor\":\"white\",\"startlinecolor\":\"#2a3f5f\"},\"baxis\":{\"endlinecolor\":\"#2a3f5f\",\"gridcolor\":\"white\",\"linecolor\":\"white\",\"minorgridcolor\":\"white\",\"startlinecolor\":\"#2a3f5f\"},\"type\":\"carpet\"}],\"table\":[{\"cells\":{\"fill\":{\"color\":\"#EBF0F8\"},\"line\":{\"color\":\"white\"}},\"header\":{\"fill\":{\"color\":\"#C8D4E3\"},\"line\":{\"color\":\"white\"}},\"type\":\"table\"}],\"barpolar\":[{\"marker\":{\"line\":{\"color\":\"#E5ECF6\",\"width\":0.5},\"pattern\":{\"fillmode\":\"overlay\",\"size\":10,\"solidity\":0.2}},\"type\":\"barpolar\"}],\"pie\":[{\"automargin\":true,\"type\":\"pie\"}]},\"layout\":{\"autotypenumbers\":\"strict\",\"colorway\":[\"#636efa\",\"#EF553B\",\"#00cc96\",\"#ab63fa\",\"#FFA15A\",\"#19d3f3\",\"#FF6692\",\"#B6E880\",\"#FF97FF\",\"#FECB52\"],\"font\":{\"color\":\"#2a3f5f\"},\"hovermode\":\"closest\",\"hoverlabel\":{\"align\":\"left\"},\"paper_bgcolor\":\"white\",\"plot_bgcolor\":\"#E5ECF6\",\"polar\":{\"bgcolor\":\"#E5ECF6\",\"angularaxis\":{\"gridcolor\":\"white\",\"linecolor\":\"white\",\"ticks\":\"\"},\"radialaxis\":{\"gridcolor\":\"white\",\"linecolor\":\"white\",\"ticks\":\"\"}},\"ternary\":{\"bgcolor\":\"#E5ECF6\",\"aaxis\":{\"gridcolor\":\"white\",\"linecolor\":\"white\",\"ticks\":\"\"},\"baxis\":{\"gridcolor\":\"white\",\"linecolor\":\"white\",\"ticks\":\"\"},\"caxis\":{\"gridcolor\":\"white\",\"linecolor\":\"white\",\"ticks\":\"\"}},\"coloraxis\":{\"colorbar\":{\"outlinewidth\":0,\"ticks\":\"\"}},\"colorscale\":{\"sequential\":[[0.0,\"#0d0887\"],[0.1111111111111111,\"#46039f\"],[0.2222222222222222,\"#7201a8\"],[0.3333333333333333,\"#9c179e\"],[0.4444444444444444,\"#bd3786\"],[0.5555555555555556,\"#d8576b\"],[0.6666666666666666,\"#ed7953\"],[0.7777777777777778,\"#fb9f3a\"],[0.8888888888888888,\"#fdca26\"],[1.0,\"#f0f921\"]],\"sequentialminus\":[[0.0,\"#0d0887\"],[0.1111111111111111,\"#46039f\"],[0.2222222222222222,\"#7201a8\"],[0.3333333333333333,\"#9c179e\"],[0.4444444444444444,\"#bd3786\"],[0.5555555555555556,\"#d8576b\"],[0.6666666666666666,\"#ed7953\"],[0.7777777777777778,\"#fb9f3a\"],[0.8888888888888888,\"#fdca26\"],[1.0,\"#f0f921\"]],\"diverging\":[[0,\"#8e0152\"],[0.1,\"#c51b7d\"],[0.2,\"#de77ae\"],[0.3,\"#f1b6da\"],[0.4,\"#fde0ef\"],[0.5,\"#f7f7f7\"],[0.6,\"#e6f5d0\"],[0.7,\"#b8e186\"],[0.8,\"#7fbc41\"],[0.9,\"#4d9221\"],[1,\"#276419\"]]},\"xaxis\":{\"gridcolor\":\"white\",\"linecolor\":\"white\",\"ticks\":\"\",\"title\":{\"standoff\":15},\"zerolinecolor\":\"white\",\"automargin\":true,\"zerolinewidth\":2},\"yaxis\":{\"gridcolor\":\"white\",\"linecolor\":\"white\",\"ticks\":\"\",\"title\":{\"standoff\":15},\"zerolinecolor\":\"white\",\"automargin\":true,\"zerolinewidth\":2},\"scene\":{\"xaxis\":{\"backgroundcolor\":\"#E5ECF6\",\"gridcolor\":\"white\",\"linecolor\":\"white\",\"showbackground\":true,\"ticks\":\"\",\"zerolinecolor\":\"white\",\"gridwidth\":2},\"yaxis\":{\"backgroundcolor\":\"#E5ECF6\",\"gridcolor\":\"white\",\"linecolor\":\"white\",\"showbackground\":true,\"ticks\":\"\",\"zerolinecolor\":\"white\",\"gridwidth\":2},\"zaxis\":{\"backgroundcolor\":\"#E5ECF6\",\"gridcolor\":\"white\",\"linecolor\":\"white\",\"showbackground\":true,\"ticks\":\"\",\"zerolinecolor\":\"white\",\"gridwidth\":2}},\"shapedefaults\":{\"line\":{\"color\":\"#2a3f5f\"}},\"annotationdefaults\":{\"arrowcolor\":\"#2a3f5f\",\"arrowhead\":0,\"arrowwidth\":1},\"geo\":{\"bgcolor\":\"white\",\"landcolor\":\"#E5ECF6\",\"subunitcolor\":\"white\",\"showland\":true,\"showlakes\":true,\"lakecolor\":\"white\"},\"title\":{\"x\":0.05},\"mapbox\":{\"style\":\"light\"}}},\"legend\":{\"tracegroupgap\":0,\"orientation\":\"v\",\"yanchor\":\"top\",\"y\":0.5,\"xanchor\":\"left\",\"x\":1.05,\"title\":{\"text\":\"HTN\"}},\"title\":{\"text\":\"Distribution of HTN\",\"font\":{\"size\":16},\"x\":0.45,\"xanchor\":\"center\",\"y\":0.95,\"yanchor\":\"top\"},\"piecolorway\":[\"#1c3a73\",\"#7cb1c2\"],\"margin\":{\"t\":50,\"b\":0,\"l\":0,\"r\":0},\"width\":500,\"height\":350},                        {\"responsive\": true}                    ).then(function(){\n",
              "                            \n",
              "var gd = document.getElementById('50edfba8-e486-4a17-a414-cdc9446b7db1');\n",
              "var x = new MutationObserver(function (mutations, observer) {{\n",
              "        var display = window.getComputedStyle(gd).display;\n",
              "        if (!display || display === 'none') {{\n",
              "            console.log([gd, 'removed!']);\n",
              "            Plotly.purge(gd);\n",
              "            observer.disconnect();\n",
              "        }}\n",
              "}});\n",
              "\n",
              "// Listen for the removal of the full notebook cells\n",
              "var notebookContainer = gd.closest('#notebook-container');\n",
              "if (notebookContainer) {{\n",
              "    x.observe(notebookContainer, {childList: true});\n",
              "}}\n",
              "\n",
              "// Listen for the clearing of the current output cell\n",
              "var outputEl = gd.closest('.output');\n",
              "if (outputEl) {{\n",
              "    x.observe(outputEl, {childList: true});\n",
              "}}\n",
              "\n",
              "                        })                };                            </script>        </div>\n",
              "</body>\n",
              "</html>"
            ]
          },
          "metadata": {}
        },
        {
          "output_type": "display_data",
          "data": {
            "text/html": [
              "<html>\n",
              "<head><meta charset=\"utf-8\" /></head>\n",
              "<body>\n",
              "    <div>            <script src=\"https://cdnjs.cloudflare.com/ajax/libs/mathjax/2.7.5/MathJax.js?config=TeX-AMS-MML_SVG\"></script><script type=\"text/javascript\">if (window.MathJax && window.MathJax.Hub && window.MathJax.Hub.Config) {window.MathJax.Hub.Config({SVG: {font: \"STIX-Web\"}});}</script>                <script type=\"text/javascript\">window.PlotlyConfig = {MathJaxConfig: 'local'};</script>\n",
              "        <script charset=\"utf-8\" src=\"https://cdn.plot.ly/plotly-2.24.1.min.js\"></script>                <div id=\"58a9066f-4fde-4915-8418-9e24ae0f4624\" class=\"plotly-graph-div\" style=\"height:350px; width:500px;\"></div>            <script type=\"text/javascript\">                                    window.PLOTLYENV=window.PLOTLYENV || {};                                    if (document.getElementById(\"58a9066f-4fde-4915-8418-9e24ae0f4624\")) {                    Plotly.newPlot(                        \"58a9066f-4fde-4915-8418-9e24ae0f4624\",                        [{\"domain\":{\"x\":[0.0,1.0],\"y\":[0.0,1.0]},\"hole\":0.5,\"hovertemplate\":\"label=%{label}\\u003cbr\\u003evalue=%{value}\\u003cextra\\u003e\\u003c\\u002fextra\\u003e\",\"labels\":[0,1],\"legendgroup\":\"\",\"name\":\"\",\"showlegend\":true,\"values\":[6844,3156],\"type\":\"pie\"}],                        {\"template\":{\"data\":{\"histogram2dcontour\":[{\"type\":\"histogram2dcontour\",\"colorbar\":{\"outlinewidth\":0,\"ticks\":\"\"},\"colorscale\":[[0.0,\"#0d0887\"],[0.1111111111111111,\"#46039f\"],[0.2222222222222222,\"#7201a8\"],[0.3333333333333333,\"#9c179e\"],[0.4444444444444444,\"#bd3786\"],[0.5555555555555556,\"#d8576b\"],[0.6666666666666666,\"#ed7953\"],[0.7777777777777778,\"#fb9f3a\"],[0.8888888888888888,\"#fdca26\"],[1.0,\"#f0f921\"]]}],\"choropleth\":[{\"type\":\"choropleth\",\"colorbar\":{\"outlinewidth\":0,\"ticks\":\"\"}}],\"histogram2d\":[{\"type\":\"histogram2d\",\"colorbar\":{\"outlinewidth\":0,\"ticks\":\"\"},\"colorscale\":[[0.0,\"#0d0887\"],[0.1111111111111111,\"#46039f\"],[0.2222222222222222,\"#7201a8\"],[0.3333333333333333,\"#9c179e\"],[0.4444444444444444,\"#bd3786\"],[0.5555555555555556,\"#d8576b\"],[0.6666666666666666,\"#ed7953\"],[0.7777777777777778,\"#fb9f3a\"],[0.8888888888888888,\"#fdca26\"],[1.0,\"#f0f921\"]]}],\"heatmap\":[{\"type\":\"heatmap\",\"colorbar\":{\"outlinewidth\":0,\"ticks\":\"\"},\"colorscale\":[[0.0,\"#0d0887\"],[0.1111111111111111,\"#46039f\"],[0.2222222222222222,\"#7201a8\"],[0.3333333333333333,\"#9c179e\"],[0.4444444444444444,\"#bd3786\"],[0.5555555555555556,\"#d8576b\"],[0.6666666666666666,\"#ed7953\"],[0.7777777777777778,\"#fb9f3a\"],[0.8888888888888888,\"#fdca26\"],[1.0,\"#f0f921\"]]}],\"heatmapgl\":[{\"type\":\"heatmapgl\",\"colorbar\":{\"outlinewidth\":0,\"ticks\":\"\"},\"colorscale\":[[0.0,\"#0d0887\"],[0.1111111111111111,\"#46039f\"],[0.2222222222222222,\"#7201a8\"],[0.3333333333333333,\"#9c179e\"],[0.4444444444444444,\"#bd3786\"],[0.5555555555555556,\"#d8576b\"],[0.6666666666666666,\"#ed7953\"],[0.7777777777777778,\"#fb9f3a\"],[0.8888888888888888,\"#fdca26\"],[1.0,\"#f0f921\"]]}],\"contourcarpet\":[{\"type\":\"contourcarpet\",\"colorbar\":{\"outlinewidth\":0,\"ticks\":\"\"}}],\"contour\":[{\"type\":\"contour\",\"colorbar\":{\"outlinewidth\":0,\"ticks\":\"\"},\"colorscale\":[[0.0,\"#0d0887\"],[0.1111111111111111,\"#46039f\"],[0.2222222222222222,\"#7201a8\"],[0.3333333333333333,\"#9c179e\"],[0.4444444444444444,\"#bd3786\"],[0.5555555555555556,\"#d8576b\"],[0.6666666666666666,\"#ed7953\"],[0.7777777777777778,\"#fb9f3a\"],[0.8888888888888888,\"#fdca26\"],[1.0,\"#f0f921\"]]}],\"surface\":[{\"type\":\"surface\",\"colorbar\":{\"outlinewidth\":0,\"ticks\":\"\"},\"colorscale\":[[0.0,\"#0d0887\"],[0.1111111111111111,\"#46039f\"],[0.2222222222222222,\"#7201a8\"],[0.3333333333333333,\"#9c179e\"],[0.4444444444444444,\"#bd3786\"],[0.5555555555555556,\"#d8576b\"],[0.6666666666666666,\"#ed7953\"],[0.7777777777777778,\"#fb9f3a\"],[0.8888888888888888,\"#fdca26\"],[1.0,\"#f0f921\"]]}],\"mesh3d\":[{\"type\":\"mesh3d\",\"colorbar\":{\"outlinewidth\":0,\"ticks\":\"\"}}],\"scatter\":[{\"fillpattern\":{\"fillmode\":\"overlay\",\"size\":10,\"solidity\":0.2},\"type\":\"scatter\"}],\"parcoords\":[{\"type\":\"parcoords\",\"line\":{\"colorbar\":{\"outlinewidth\":0,\"ticks\":\"\"}}}],\"scatterpolargl\":[{\"type\":\"scatterpolargl\",\"marker\":{\"colorbar\":{\"outlinewidth\":0,\"ticks\":\"\"}}}],\"bar\":[{\"error_x\":{\"color\":\"#2a3f5f\"},\"error_y\":{\"color\":\"#2a3f5f\"},\"marker\":{\"line\":{\"color\":\"#E5ECF6\",\"width\":0.5},\"pattern\":{\"fillmode\":\"overlay\",\"size\":10,\"solidity\":0.2}},\"type\":\"bar\"}],\"scattergeo\":[{\"type\":\"scattergeo\",\"marker\":{\"colorbar\":{\"outlinewidth\":0,\"ticks\":\"\"}}}],\"scatterpolar\":[{\"type\":\"scatterpolar\",\"marker\":{\"colorbar\":{\"outlinewidth\":0,\"ticks\":\"\"}}}],\"histogram\":[{\"marker\":{\"pattern\":{\"fillmode\":\"overlay\",\"size\":10,\"solidity\":0.2}},\"type\":\"histogram\"}],\"scattergl\":[{\"type\":\"scattergl\",\"marker\":{\"colorbar\":{\"outlinewidth\":0,\"ticks\":\"\"}}}],\"scatter3d\":[{\"type\":\"scatter3d\",\"line\":{\"colorbar\":{\"outlinewidth\":0,\"ticks\":\"\"}},\"marker\":{\"colorbar\":{\"outlinewidth\":0,\"ticks\":\"\"}}}],\"scattermapbox\":[{\"type\":\"scattermapbox\",\"marker\":{\"colorbar\":{\"outlinewidth\":0,\"ticks\":\"\"}}}],\"scatterternary\":[{\"type\":\"scatterternary\",\"marker\":{\"colorbar\":{\"outlinewidth\":0,\"ticks\":\"\"}}}],\"scattercarpet\":[{\"type\":\"scattercarpet\",\"marker\":{\"colorbar\":{\"outlinewidth\":0,\"ticks\":\"\"}}}],\"carpet\":[{\"aaxis\":{\"endlinecolor\":\"#2a3f5f\",\"gridcolor\":\"white\",\"linecolor\":\"white\",\"minorgridcolor\":\"white\",\"startlinecolor\":\"#2a3f5f\"},\"baxis\":{\"endlinecolor\":\"#2a3f5f\",\"gridcolor\":\"white\",\"linecolor\":\"white\",\"minorgridcolor\":\"white\",\"startlinecolor\":\"#2a3f5f\"},\"type\":\"carpet\"}],\"table\":[{\"cells\":{\"fill\":{\"color\":\"#EBF0F8\"},\"line\":{\"color\":\"white\"}},\"header\":{\"fill\":{\"color\":\"#C8D4E3\"},\"line\":{\"color\":\"white\"}},\"type\":\"table\"}],\"barpolar\":[{\"marker\":{\"line\":{\"color\":\"#E5ECF6\",\"width\":0.5},\"pattern\":{\"fillmode\":\"overlay\",\"size\":10,\"solidity\":0.2}},\"type\":\"barpolar\"}],\"pie\":[{\"automargin\":true,\"type\":\"pie\"}]},\"layout\":{\"autotypenumbers\":\"strict\",\"colorway\":[\"#636efa\",\"#EF553B\",\"#00cc96\",\"#ab63fa\",\"#FFA15A\",\"#19d3f3\",\"#FF6692\",\"#B6E880\",\"#FF97FF\",\"#FECB52\"],\"font\":{\"color\":\"#2a3f5f\"},\"hovermode\":\"closest\",\"hoverlabel\":{\"align\":\"left\"},\"paper_bgcolor\":\"white\",\"plot_bgcolor\":\"#E5ECF6\",\"polar\":{\"bgcolor\":\"#E5ECF6\",\"angularaxis\":{\"gridcolor\":\"white\",\"linecolor\":\"white\",\"ticks\":\"\"},\"radialaxis\":{\"gridcolor\":\"white\",\"linecolor\":\"white\",\"ticks\":\"\"}},\"ternary\":{\"bgcolor\":\"#E5ECF6\",\"aaxis\":{\"gridcolor\":\"white\",\"linecolor\":\"white\",\"ticks\":\"\"},\"baxis\":{\"gridcolor\":\"white\",\"linecolor\":\"white\",\"ticks\":\"\"},\"caxis\":{\"gridcolor\":\"white\",\"linecolor\":\"white\",\"ticks\":\"\"}},\"coloraxis\":{\"colorbar\":{\"outlinewidth\":0,\"ticks\":\"\"}},\"colorscale\":{\"sequential\":[[0.0,\"#0d0887\"],[0.1111111111111111,\"#46039f\"],[0.2222222222222222,\"#7201a8\"],[0.3333333333333333,\"#9c179e\"],[0.4444444444444444,\"#bd3786\"],[0.5555555555555556,\"#d8576b\"],[0.6666666666666666,\"#ed7953\"],[0.7777777777777778,\"#fb9f3a\"],[0.8888888888888888,\"#fdca26\"],[1.0,\"#f0f921\"]],\"sequentialminus\":[[0.0,\"#0d0887\"],[0.1111111111111111,\"#46039f\"],[0.2222222222222222,\"#7201a8\"],[0.3333333333333333,\"#9c179e\"],[0.4444444444444444,\"#bd3786\"],[0.5555555555555556,\"#d8576b\"],[0.6666666666666666,\"#ed7953\"],[0.7777777777777778,\"#fb9f3a\"],[0.8888888888888888,\"#fdca26\"],[1.0,\"#f0f921\"]],\"diverging\":[[0,\"#8e0152\"],[0.1,\"#c51b7d\"],[0.2,\"#de77ae\"],[0.3,\"#f1b6da\"],[0.4,\"#fde0ef\"],[0.5,\"#f7f7f7\"],[0.6,\"#e6f5d0\"],[0.7,\"#b8e186\"],[0.8,\"#7fbc41\"],[0.9,\"#4d9221\"],[1,\"#276419\"]]},\"xaxis\":{\"gridcolor\":\"white\",\"linecolor\":\"white\",\"ticks\":\"\",\"title\":{\"standoff\":15},\"zerolinecolor\":\"white\",\"automargin\":true,\"zerolinewidth\":2},\"yaxis\":{\"gridcolor\":\"white\",\"linecolor\":\"white\",\"ticks\":\"\",\"title\":{\"standoff\":15},\"zerolinecolor\":\"white\",\"automargin\":true,\"zerolinewidth\":2},\"scene\":{\"xaxis\":{\"backgroundcolor\":\"#E5ECF6\",\"gridcolor\":\"white\",\"linecolor\":\"white\",\"showbackground\":true,\"ticks\":\"\",\"zerolinecolor\":\"white\",\"gridwidth\":2},\"yaxis\":{\"backgroundcolor\":\"#E5ECF6\",\"gridcolor\":\"white\",\"linecolor\":\"white\",\"showbackground\":true,\"ticks\":\"\",\"zerolinecolor\":\"white\",\"gridwidth\":2},\"zaxis\":{\"backgroundcolor\":\"#E5ECF6\",\"gridcolor\":\"white\",\"linecolor\":\"white\",\"showbackground\":true,\"ticks\":\"\",\"zerolinecolor\":\"white\",\"gridwidth\":2}},\"shapedefaults\":{\"line\":{\"color\":\"#2a3f5f\"}},\"annotationdefaults\":{\"arrowcolor\":\"#2a3f5f\",\"arrowhead\":0,\"arrowwidth\":1},\"geo\":{\"bgcolor\":\"white\",\"landcolor\":\"#E5ECF6\",\"subunitcolor\":\"white\",\"showland\":true,\"showlakes\":true,\"lakecolor\":\"white\"},\"title\":{\"x\":0.05},\"mapbox\":{\"style\":\"light\"}}},\"legend\":{\"tracegroupgap\":0,\"orientation\":\"v\",\"yanchor\":\"top\",\"y\":0.5,\"xanchor\":\"left\",\"x\":1.05,\"title\":{\"text\":\"OA\"}},\"title\":{\"text\":\"Distribution of OA\",\"font\":{\"size\":16},\"x\":0.45,\"xanchor\":\"center\",\"y\":0.95,\"yanchor\":\"top\"},\"piecolorway\":[\"#1c3a73\",\"#7cb1c2\"],\"margin\":{\"t\":50,\"b\":0,\"l\":0,\"r\":0},\"width\":500,\"height\":350},                        {\"responsive\": true}                    ).then(function(){\n",
              "                            \n",
              "var gd = document.getElementById('58a9066f-4fde-4915-8418-9e24ae0f4624');\n",
              "var x = new MutationObserver(function (mutations, observer) {{\n",
              "        var display = window.getComputedStyle(gd).display;\n",
              "        if (!display || display === 'none') {{\n",
              "            console.log([gd, 'removed!']);\n",
              "            Plotly.purge(gd);\n",
              "            observer.disconnect();\n",
              "        }}\n",
              "}});\n",
              "\n",
              "// Listen for the removal of the full notebook cells\n",
              "var notebookContainer = gd.closest('#notebook-container');\n",
              "if (notebookContainer) {{\n",
              "    x.observe(notebookContainer, {childList: true});\n",
              "}}\n",
              "\n",
              "// Listen for the clearing of the current output cell\n",
              "var outputEl = gd.closest('.output');\n",
              "if (outputEl) {{\n",
              "    x.observe(outputEl, {childList: true});\n",
              "}}\n",
              "\n",
              "                        })                };                            </script>        </div>\n",
              "</body>\n",
              "</html>"
            ]
          },
          "metadata": {}
        },
        {
          "output_type": "display_data",
          "data": {
            "text/html": [
              "<html>\n",
              "<head><meta charset=\"utf-8\" /></head>\n",
              "<body>\n",
              "    <div>            <script src=\"https://cdnjs.cloudflare.com/ajax/libs/mathjax/2.7.5/MathJax.js?config=TeX-AMS-MML_SVG\"></script><script type=\"text/javascript\">if (window.MathJax && window.MathJax.Hub && window.MathJax.Hub.Config) {window.MathJax.Hub.Config({SVG: {font: \"STIX-Web\"}});}</script>                <script type=\"text/javascript\">window.PlotlyConfig = {MathJaxConfig: 'local'};</script>\n",
              "        <script charset=\"utf-8\" src=\"https://cdn.plot.ly/plotly-2.24.1.min.js\"></script>                <div id=\"c037a3f9-27a1-477c-8880-8b9db160beca\" class=\"plotly-graph-div\" style=\"height:350px; width:500px;\"></div>            <script type=\"text/javascript\">                                    window.PLOTLYENV=window.PLOTLYENV || {};                                    if (document.getElementById(\"c037a3f9-27a1-477c-8880-8b9db160beca\")) {                    Plotly.newPlot(                        \"c037a3f9-27a1-477c-8880-8b9db160beca\",                        [{\"domain\":{\"x\":[0.0,1.0],\"y\":[0.0,1.0]},\"hole\":0.5,\"hovertemplate\":\"label=%{label}\\u003cbr\\u003evalue=%{value}\\u003cextra\\u003e\\u003c\\u002fextra\\u003e\",\"labels\":[0,1],\"legendgroup\":\"\",\"name\":\"\",\"showlegend\":true,\"values\":[9014,986],\"type\":\"pie\"}],                        {\"template\":{\"data\":{\"histogram2dcontour\":[{\"type\":\"histogram2dcontour\",\"colorbar\":{\"outlinewidth\":0,\"ticks\":\"\"},\"colorscale\":[[0.0,\"#0d0887\"],[0.1111111111111111,\"#46039f\"],[0.2222222222222222,\"#7201a8\"],[0.3333333333333333,\"#9c179e\"],[0.4444444444444444,\"#bd3786\"],[0.5555555555555556,\"#d8576b\"],[0.6666666666666666,\"#ed7953\"],[0.7777777777777778,\"#fb9f3a\"],[0.8888888888888888,\"#fdca26\"],[1.0,\"#f0f921\"]]}],\"choropleth\":[{\"type\":\"choropleth\",\"colorbar\":{\"outlinewidth\":0,\"ticks\":\"\"}}],\"histogram2d\":[{\"type\":\"histogram2d\",\"colorbar\":{\"outlinewidth\":0,\"ticks\":\"\"},\"colorscale\":[[0.0,\"#0d0887\"],[0.1111111111111111,\"#46039f\"],[0.2222222222222222,\"#7201a8\"],[0.3333333333333333,\"#9c179e\"],[0.4444444444444444,\"#bd3786\"],[0.5555555555555556,\"#d8576b\"],[0.6666666666666666,\"#ed7953\"],[0.7777777777777778,\"#fb9f3a\"],[0.8888888888888888,\"#fdca26\"],[1.0,\"#f0f921\"]]}],\"heatmap\":[{\"type\":\"heatmap\",\"colorbar\":{\"outlinewidth\":0,\"ticks\":\"\"},\"colorscale\":[[0.0,\"#0d0887\"],[0.1111111111111111,\"#46039f\"],[0.2222222222222222,\"#7201a8\"],[0.3333333333333333,\"#9c179e\"],[0.4444444444444444,\"#bd3786\"],[0.5555555555555556,\"#d8576b\"],[0.6666666666666666,\"#ed7953\"],[0.7777777777777778,\"#fb9f3a\"],[0.8888888888888888,\"#fdca26\"],[1.0,\"#f0f921\"]]}],\"heatmapgl\":[{\"type\":\"heatmapgl\",\"colorbar\":{\"outlinewidth\":0,\"ticks\":\"\"},\"colorscale\":[[0.0,\"#0d0887\"],[0.1111111111111111,\"#46039f\"],[0.2222222222222222,\"#7201a8\"],[0.3333333333333333,\"#9c179e\"],[0.4444444444444444,\"#bd3786\"],[0.5555555555555556,\"#d8576b\"],[0.6666666666666666,\"#ed7953\"],[0.7777777777777778,\"#fb9f3a\"],[0.8888888888888888,\"#fdca26\"],[1.0,\"#f0f921\"]]}],\"contourcarpet\":[{\"type\":\"contourcarpet\",\"colorbar\":{\"outlinewidth\":0,\"ticks\":\"\"}}],\"contour\":[{\"type\":\"contour\",\"colorbar\":{\"outlinewidth\":0,\"ticks\":\"\"},\"colorscale\":[[0.0,\"#0d0887\"],[0.1111111111111111,\"#46039f\"],[0.2222222222222222,\"#7201a8\"],[0.3333333333333333,\"#9c179e\"],[0.4444444444444444,\"#bd3786\"],[0.5555555555555556,\"#d8576b\"],[0.6666666666666666,\"#ed7953\"],[0.7777777777777778,\"#fb9f3a\"],[0.8888888888888888,\"#fdca26\"],[1.0,\"#f0f921\"]]}],\"surface\":[{\"type\":\"surface\",\"colorbar\":{\"outlinewidth\":0,\"ticks\":\"\"},\"colorscale\":[[0.0,\"#0d0887\"],[0.1111111111111111,\"#46039f\"],[0.2222222222222222,\"#7201a8\"],[0.3333333333333333,\"#9c179e\"],[0.4444444444444444,\"#bd3786\"],[0.5555555555555556,\"#d8576b\"],[0.6666666666666666,\"#ed7953\"],[0.7777777777777778,\"#fb9f3a\"],[0.8888888888888888,\"#fdca26\"],[1.0,\"#f0f921\"]]}],\"mesh3d\":[{\"type\":\"mesh3d\",\"colorbar\":{\"outlinewidth\":0,\"ticks\":\"\"}}],\"scatter\":[{\"fillpattern\":{\"fillmode\":\"overlay\",\"size\":10,\"solidity\":0.2},\"type\":\"scatter\"}],\"parcoords\":[{\"type\":\"parcoords\",\"line\":{\"colorbar\":{\"outlinewidth\":0,\"ticks\":\"\"}}}],\"scatterpolargl\":[{\"type\":\"scatterpolargl\",\"marker\":{\"colorbar\":{\"outlinewidth\":0,\"ticks\":\"\"}}}],\"bar\":[{\"error_x\":{\"color\":\"#2a3f5f\"},\"error_y\":{\"color\":\"#2a3f5f\"},\"marker\":{\"line\":{\"color\":\"#E5ECF6\",\"width\":0.5},\"pattern\":{\"fillmode\":\"overlay\",\"size\":10,\"solidity\":0.2}},\"type\":\"bar\"}],\"scattergeo\":[{\"type\":\"scattergeo\",\"marker\":{\"colorbar\":{\"outlinewidth\":0,\"ticks\":\"\"}}}],\"scatterpolar\":[{\"type\":\"scatterpolar\",\"marker\":{\"colorbar\":{\"outlinewidth\":0,\"ticks\":\"\"}}}],\"histogram\":[{\"marker\":{\"pattern\":{\"fillmode\":\"overlay\",\"size\":10,\"solidity\":0.2}},\"type\":\"histogram\"}],\"scattergl\":[{\"type\":\"scattergl\",\"marker\":{\"colorbar\":{\"outlinewidth\":0,\"ticks\":\"\"}}}],\"scatter3d\":[{\"type\":\"scatter3d\",\"line\":{\"colorbar\":{\"outlinewidth\":0,\"ticks\":\"\"}},\"marker\":{\"colorbar\":{\"outlinewidth\":0,\"ticks\":\"\"}}}],\"scattermapbox\":[{\"type\":\"scattermapbox\",\"marker\":{\"colorbar\":{\"outlinewidth\":0,\"ticks\":\"\"}}}],\"scatterternary\":[{\"type\":\"scatterternary\",\"marker\":{\"colorbar\":{\"outlinewidth\":0,\"ticks\":\"\"}}}],\"scattercarpet\":[{\"type\":\"scattercarpet\",\"marker\":{\"colorbar\":{\"outlinewidth\":0,\"ticks\":\"\"}}}],\"carpet\":[{\"aaxis\":{\"endlinecolor\":\"#2a3f5f\",\"gridcolor\":\"white\",\"linecolor\":\"white\",\"minorgridcolor\":\"white\",\"startlinecolor\":\"#2a3f5f\"},\"baxis\":{\"endlinecolor\":\"#2a3f5f\",\"gridcolor\":\"white\",\"linecolor\":\"white\",\"minorgridcolor\":\"white\",\"startlinecolor\":\"#2a3f5f\"},\"type\":\"carpet\"}],\"table\":[{\"cells\":{\"fill\":{\"color\":\"#EBF0F8\"},\"line\":{\"color\":\"white\"}},\"header\":{\"fill\":{\"color\":\"#C8D4E3\"},\"line\":{\"color\":\"white\"}},\"type\":\"table\"}],\"barpolar\":[{\"marker\":{\"line\":{\"color\":\"#E5ECF6\",\"width\":0.5},\"pattern\":{\"fillmode\":\"overlay\",\"size\":10,\"solidity\":0.2}},\"type\":\"barpolar\"}],\"pie\":[{\"automargin\":true,\"type\":\"pie\"}]},\"layout\":{\"autotypenumbers\":\"strict\",\"colorway\":[\"#636efa\",\"#EF553B\",\"#00cc96\",\"#ab63fa\",\"#FFA15A\",\"#19d3f3\",\"#FF6692\",\"#B6E880\",\"#FF97FF\",\"#FECB52\"],\"font\":{\"color\":\"#2a3f5f\"},\"hovermode\":\"closest\",\"hoverlabel\":{\"align\":\"left\"},\"paper_bgcolor\":\"white\",\"plot_bgcolor\":\"#E5ECF6\",\"polar\":{\"bgcolor\":\"#E5ECF6\",\"angularaxis\":{\"gridcolor\":\"white\",\"linecolor\":\"white\",\"ticks\":\"\"},\"radialaxis\":{\"gridcolor\":\"white\",\"linecolor\":\"white\",\"ticks\":\"\"}},\"ternary\":{\"bgcolor\":\"#E5ECF6\",\"aaxis\":{\"gridcolor\":\"white\",\"linecolor\":\"white\",\"ticks\":\"\"},\"baxis\":{\"gridcolor\":\"white\",\"linecolor\":\"white\",\"ticks\":\"\"},\"caxis\":{\"gridcolor\":\"white\",\"linecolor\":\"white\",\"ticks\":\"\"}},\"coloraxis\":{\"colorbar\":{\"outlinewidth\":0,\"ticks\":\"\"}},\"colorscale\":{\"sequential\":[[0.0,\"#0d0887\"],[0.1111111111111111,\"#46039f\"],[0.2222222222222222,\"#7201a8\"],[0.3333333333333333,\"#9c179e\"],[0.4444444444444444,\"#bd3786\"],[0.5555555555555556,\"#d8576b\"],[0.6666666666666666,\"#ed7953\"],[0.7777777777777778,\"#fb9f3a\"],[0.8888888888888888,\"#fdca26\"],[1.0,\"#f0f921\"]],\"sequentialminus\":[[0.0,\"#0d0887\"],[0.1111111111111111,\"#46039f\"],[0.2222222222222222,\"#7201a8\"],[0.3333333333333333,\"#9c179e\"],[0.4444444444444444,\"#bd3786\"],[0.5555555555555556,\"#d8576b\"],[0.6666666666666666,\"#ed7953\"],[0.7777777777777778,\"#fb9f3a\"],[0.8888888888888888,\"#fdca26\"],[1.0,\"#f0f921\"]],\"diverging\":[[0,\"#8e0152\"],[0.1,\"#c51b7d\"],[0.2,\"#de77ae\"],[0.3,\"#f1b6da\"],[0.4,\"#fde0ef\"],[0.5,\"#f7f7f7\"],[0.6,\"#e6f5d0\"],[0.7,\"#b8e186\"],[0.8,\"#7fbc41\"],[0.9,\"#4d9221\"],[1,\"#276419\"]]},\"xaxis\":{\"gridcolor\":\"white\",\"linecolor\":\"white\",\"ticks\":\"\",\"title\":{\"standoff\":15},\"zerolinecolor\":\"white\",\"automargin\":true,\"zerolinewidth\":2},\"yaxis\":{\"gridcolor\":\"white\",\"linecolor\":\"white\",\"ticks\":\"\",\"title\":{\"standoff\":15},\"zerolinecolor\":\"white\",\"automargin\":true,\"zerolinewidth\":2},\"scene\":{\"xaxis\":{\"backgroundcolor\":\"#E5ECF6\",\"gridcolor\":\"white\",\"linecolor\":\"white\",\"showbackground\":true,\"ticks\":\"\",\"zerolinecolor\":\"white\",\"gridwidth\":2},\"yaxis\":{\"backgroundcolor\":\"#E5ECF6\",\"gridcolor\":\"white\",\"linecolor\":\"white\",\"showbackground\":true,\"ticks\":\"\",\"zerolinecolor\":\"white\",\"gridwidth\":2},\"zaxis\":{\"backgroundcolor\":\"#E5ECF6\",\"gridcolor\":\"white\",\"linecolor\":\"white\",\"showbackground\":true,\"ticks\":\"\",\"zerolinecolor\":\"white\",\"gridwidth\":2}},\"shapedefaults\":{\"line\":{\"color\":\"#2a3f5f\"}},\"annotationdefaults\":{\"arrowcolor\":\"#2a3f5f\",\"arrowhead\":0,\"arrowwidth\":1},\"geo\":{\"bgcolor\":\"white\",\"landcolor\":\"#E5ECF6\",\"subunitcolor\":\"white\",\"showland\":true,\"showlakes\":true,\"lakecolor\":\"white\"},\"title\":{\"x\":0.05},\"mapbox\":{\"style\":\"light\"}}},\"legend\":{\"tracegroupgap\":0,\"orientation\":\"v\",\"yanchor\":\"top\",\"y\":0.5,\"xanchor\":\"left\",\"x\":1.05,\"title\":{\"text\":\"COPD\"}},\"title\":{\"text\":\"Distribution of COPD\",\"font\":{\"size\":16},\"x\":0.45,\"xanchor\":\"center\",\"y\":0.95,\"yanchor\":\"top\"},\"piecolorway\":[\"#1c3a73\",\"#7cb1c2\"],\"margin\":{\"t\":50,\"b\":0,\"l\":0,\"r\":0},\"width\":500,\"height\":350},                        {\"responsive\": true}                    ).then(function(){\n",
              "                            \n",
              "var gd = document.getElementById('c037a3f9-27a1-477c-8880-8b9db160beca');\n",
              "var x = new MutationObserver(function (mutations, observer) {{\n",
              "        var display = window.getComputedStyle(gd).display;\n",
              "        if (!display || display === 'none') {{\n",
              "            console.log([gd, 'removed!']);\n",
              "            Plotly.purge(gd);\n",
              "            observer.disconnect();\n",
              "        }}\n",
              "}});\n",
              "\n",
              "// Listen for the removal of the full notebook cells\n",
              "var notebookContainer = gd.closest('#notebook-container');\n",
              "if (notebookContainer) {{\n",
              "    x.observe(notebookContainer, {childList: true});\n",
              "}}\n",
              "\n",
              "// Listen for the clearing of the current output cell\n",
              "var outputEl = gd.closest('.output');\n",
              "if (outputEl) {{\n",
              "    x.observe(outputEl, {childList: true});\n",
              "}}\n",
              "\n",
              "                        })                };                            </script>        </div>\n",
              "</body>\n",
              "</html>"
            ]
          },
          "metadata": {}
        },
        {
          "output_type": "display_data",
          "data": {
            "text/html": [
              "<html>\n",
              "<head><meta charset=\"utf-8\" /></head>\n",
              "<body>\n",
              "    <div>            <script src=\"https://cdnjs.cloudflare.com/ajax/libs/mathjax/2.7.5/MathJax.js?config=TeX-AMS-MML_SVG\"></script><script type=\"text/javascript\">if (window.MathJax && window.MathJax.Hub && window.MathJax.Hub.Config) {window.MathJax.Hub.Config({SVG: {font: \"STIX-Web\"}});}</script>                <script type=\"text/javascript\">window.PlotlyConfig = {MathJaxConfig: 'local'};</script>\n",
              "        <script charset=\"utf-8\" src=\"https://cdn.plot.ly/plotly-2.24.1.min.js\"></script>                <div id=\"bdbb1b43-debf-4df3-9f12-cbdfcfb112f4\" class=\"plotly-graph-div\" style=\"height:350px; width:500px;\"></div>            <script type=\"text/javascript\">                                    window.PLOTLYENV=window.PLOTLYENV || {};                                    if (document.getElementById(\"bdbb1b43-debf-4df3-9f12-cbdfcfb112f4\")) {                    Plotly.newPlot(                        \"bdbb1b43-debf-4df3-9f12-cbdfcfb112f4\",                        [{\"domain\":{\"x\":[0.0,1.0],\"y\":[0.0,1.0]},\"hole\":0.5,\"hovertemplate\":\"label=%{label}\\u003cbr\\u003evalue=%{value}\\u003cextra\\u003e\\u003c\\u002fextra\\u003e\",\"labels\":[\"Female\",\"Male\"],\"legendgroup\":\"\",\"name\":\"\",\"showlegend\":true,\"values\":[5336,4664],\"type\":\"pie\"}],                        {\"template\":{\"data\":{\"histogram2dcontour\":[{\"type\":\"histogram2dcontour\",\"colorbar\":{\"outlinewidth\":0,\"ticks\":\"\"},\"colorscale\":[[0.0,\"#0d0887\"],[0.1111111111111111,\"#46039f\"],[0.2222222222222222,\"#7201a8\"],[0.3333333333333333,\"#9c179e\"],[0.4444444444444444,\"#bd3786\"],[0.5555555555555556,\"#d8576b\"],[0.6666666666666666,\"#ed7953\"],[0.7777777777777778,\"#fb9f3a\"],[0.8888888888888888,\"#fdca26\"],[1.0,\"#f0f921\"]]}],\"choropleth\":[{\"type\":\"choropleth\",\"colorbar\":{\"outlinewidth\":0,\"ticks\":\"\"}}],\"histogram2d\":[{\"type\":\"histogram2d\",\"colorbar\":{\"outlinewidth\":0,\"ticks\":\"\"},\"colorscale\":[[0.0,\"#0d0887\"],[0.1111111111111111,\"#46039f\"],[0.2222222222222222,\"#7201a8\"],[0.3333333333333333,\"#9c179e\"],[0.4444444444444444,\"#bd3786\"],[0.5555555555555556,\"#d8576b\"],[0.6666666666666666,\"#ed7953\"],[0.7777777777777778,\"#fb9f3a\"],[0.8888888888888888,\"#fdca26\"],[1.0,\"#f0f921\"]]}],\"heatmap\":[{\"type\":\"heatmap\",\"colorbar\":{\"outlinewidth\":0,\"ticks\":\"\"},\"colorscale\":[[0.0,\"#0d0887\"],[0.1111111111111111,\"#46039f\"],[0.2222222222222222,\"#7201a8\"],[0.3333333333333333,\"#9c179e\"],[0.4444444444444444,\"#bd3786\"],[0.5555555555555556,\"#d8576b\"],[0.6666666666666666,\"#ed7953\"],[0.7777777777777778,\"#fb9f3a\"],[0.8888888888888888,\"#fdca26\"],[1.0,\"#f0f921\"]]}],\"heatmapgl\":[{\"type\":\"heatmapgl\",\"colorbar\":{\"outlinewidth\":0,\"ticks\":\"\"},\"colorscale\":[[0.0,\"#0d0887\"],[0.1111111111111111,\"#46039f\"],[0.2222222222222222,\"#7201a8\"],[0.3333333333333333,\"#9c179e\"],[0.4444444444444444,\"#bd3786\"],[0.5555555555555556,\"#d8576b\"],[0.6666666666666666,\"#ed7953\"],[0.7777777777777778,\"#fb9f3a\"],[0.8888888888888888,\"#fdca26\"],[1.0,\"#f0f921\"]]}],\"contourcarpet\":[{\"type\":\"contourcarpet\",\"colorbar\":{\"outlinewidth\":0,\"ticks\":\"\"}}],\"contour\":[{\"type\":\"contour\",\"colorbar\":{\"outlinewidth\":0,\"ticks\":\"\"},\"colorscale\":[[0.0,\"#0d0887\"],[0.1111111111111111,\"#46039f\"],[0.2222222222222222,\"#7201a8\"],[0.3333333333333333,\"#9c179e\"],[0.4444444444444444,\"#bd3786\"],[0.5555555555555556,\"#d8576b\"],[0.6666666666666666,\"#ed7953\"],[0.7777777777777778,\"#fb9f3a\"],[0.8888888888888888,\"#fdca26\"],[1.0,\"#f0f921\"]]}],\"surface\":[{\"type\":\"surface\",\"colorbar\":{\"outlinewidth\":0,\"ticks\":\"\"},\"colorscale\":[[0.0,\"#0d0887\"],[0.1111111111111111,\"#46039f\"],[0.2222222222222222,\"#7201a8\"],[0.3333333333333333,\"#9c179e\"],[0.4444444444444444,\"#bd3786\"],[0.5555555555555556,\"#d8576b\"],[0.6666666666666666,\"#ed7953\"],[0.7777777777777778,\"#fb9f3a\"],[0.8888888888888888,\"#fdca26\"],[1.0,\"#f0f921\"]]}],\"mesh3d\":[{\"type\":\"mesh3d\",\"colorbar\":{\"outlinewidth\":0,\"ticks\":\"\"}}],\"scatter\":[{\"fillpattern\":{\"fillmode\":\"overlay\",\"size\":10,\"solidity\":0.2},\"type\":\"scatter\"}],\"parcoords\":[{\"type\":\"parcoords\",\"line\":{\"colorbar\":{\"outlinewidth\":0,\"ticks\":\"\"}}}],\"scatterpolargl\":[{\"type\":\"scatterpolargl\",\"marker\":{\"colorbar\":{\"outlinewidth\":0,\"ticks\":\"\"}}}],\"bar\":[{\"error_x\":{\"color\":\"#2a3f5f\"},\"error_y\":{\"color\":\"#2a3f5f\"},\"marker\":{\"line\":{\"color\":\"#E5ECF6\",\"width\":0.5},\"pattern\":{\"fillmode\":\"overlay\",\"size\":10,\"solidity\":0.2}},\"type\":\"bar\"}],\"scattergeo\":[{\"type\":\"scattergeo\",\"marker\":{\"colorbar\":{\"outlinewidth\":0,\"ticks\":\"\"}}}],\"scatterpolar\":[{\"type\":\"scatterpolar\",\"marker\":{\"colorbar\":{\"outlinewidth\":0,\"ticks\":\"\"}}}],\"histogram\":[{\"marker\":{\"pattern\":{\"fillmode\":\"overlay\",\"size\":10,\"solidity\":0.2}},\"type\":\"histogram\"}],\"scattergl\":[{\"type\":\"scattergl\",\"marker\":{\"colorbar\":{\"outlinewidth\":0,\"ticks\":\"\"}}}],\"scatter3d\":[{\"type\":\"scatter3d\",\"line\":{\"colorbar\":{\"outlinewidth\":0,\"ticks\":\"\"}},\"marker\":{\"colorbar\":{\"outlinewidth\":0,\"ticks\":\"\"}}}],\"scattermapbox\":[{\"type\":\"scattermapbox\",\"marker\":{\"colorbar\":{\"outlinewidth\":0,\"ticks\":\"\"}}}],\"scatterternary\":[{\"type\":\"scatterternary\",\"marker\":{\"colorbar\":{\"outlinewidth\":0,\"ticks\":\"\"}}}],\"scattercarpet\":[{\"type\":\"scattercarpet\",\"marker\":{\"colorbar\":{\"outlinewidth\":0,\"ticks\":\"\"}}}],\"carpet\":[{\"aaxis\":{\"endlinecolor\":\"#2a3f5f\",\"gridcolor\":\"white\",\"linecolor\":\"white\",\"minorgridcolor\":\"white\",\"startlinecolor\":\"#2a3f5f\"},\"baxis\":{\"endlinecolor\":\"#2a3f5f\",\"gridcolor\":\"white\",\"linecolor\":\"white\",\"minorgridcolor\":\"white\",\"startlinecolor\":\"#2a3f5f\"},\"type\":\"carpet\"}],\"table\":[{\"cells\":{\"fill\":{\"color\":\"#EBF0F8\"},\"line\":{\"color\":\"white\"}},\"header\":{\"fill\":{\"color\":\"#C8D4E3\"},\"line\":{\"color\":\"white\"}},\"type\":\"table\"}],\"barpolar\":[{\"marker\":{\"line\":{\"color\":\"#E5ECF6\",\"width\":0.5},\"pattern\":{\"fillmode\":\"overlay\",\"size\":10,\"solidity\":0.2}},\"type\":\"barpolar\"}],\"pie\":[{\"automargin\":true,\"type\":\"pie\"}]},\"layout\":{\"autotypenumbers\":\"strict\",\"colorway\":[\"#636efa\",\"#EF553B\",\"#00cc96\",\"#ab63fa\",\"#FFA15A\",\"#19d3f3\",\"#FF6692\",\"#B6E880\",\"#FF97FF\",\"#FECB52\"],\"font\":{\"color\":\"#2a3f5f\"},\"hovermode\":\"closest\",\"hoverlabel\":{\"align\":\"left\"},\"paper_bgcolor\":\"white\",\"plot_bgcolor\":\"#E5ECF6\",\"polar\":{\"bgcolor\":\"#E5ECF6\",\"angularaxis\":{\"gridcolor\":\"white\",\"linecolor\":\"white\",\"ticks\":\"\"},\"radialaxis\":{\"gridcolor\":\"white\",\"linecolor\":\"white\",\"ticks\":\"\"}},\"ternary\":{\"bgcolor\":\"#E5ECF6\",\"aaxis\":{\"gridcolor\":\"white\",\"linecolor\":\"white\",\"ticks\":\"\"},\"baxis\":{\"gridcolor\":\"white\",\"linecolor\":\"white\",\"ticks\":\"\"},\"caxis\":{\"gridcolor\":\"white\",\"linecolor\":\"white\",\"ticks\":\"\"}},\"coloraxis\":{\"colorbar\":{\"outlinewidth\":0,\"ticks\":\"\"}},\"colorscale\":{\"sequential\":[[0.0,\"#0d0887\"],[0.1111111111111111,\"#46039f\"],[0.2222222222222222,\"#7201a8\"],[0.3333333333333333,\"#9c179e\"],[0.4444444444444444,\"#bd3786\"],[0.5555555555555556,\"#d8576b\"],[0.6666666666666666,\"#ed7953\"],[0.7777777777777778,\"#fb9f3a\"],[0.8888888888888888,\"#fdca26\"],[1.0,\"#f0f921\"]],\"sequentialminus\":[[0.0,\"#0d0887\"],[0.1111111111111111,\"#46039f\"],[0.2222222222222222,\"#7201a8\"],[0.3333333333333333,\"#9c179e\"],[0.4444444444444444,\"#bd3786\"],[0.5555555555555556,\"#d8576b\"],[0.6666666666666666,\"#ed7953\"],[0.7777777777777778,\"#fb9f3a\"],[0.8888888888888888,\"#fdca26\"],[1.0,\"#f0f921\"]],\"diverging\":[[0,\"#8e0152\"],[0.1,\"#c51b7d\"],[0.2,\"#de77ae\"],[0.3,\"#f1b6da\"],[0.4,\"#fde0ef\"],[0.5,\"#f7f7f7\"],[0.6,\"#e6f5d0\"],[0.7,\"#b8e186\"],[0.8,\"#7fbc41\"],[0.9,\"#4d9221\"],[1,\"#276419\"]]},\"xaxis\":{\"gridcolor\":\"white\",\"linecolor\":\"white\",\"ticks\":\"\",\"title\":{\"standoff\":15},\"zerolinecolor\":\"white\",\"automargin\":true,\"zerolinewidth\":2},\"yaxis\":{\"gridcolor\":\"white\",\"linecolor\":\"white\",\"ticks\":\"\",\"title\":{\"standoff\":15},\"zerolinecolor\":\"white\",\"automargin\":true,\"zerolinewidth\":2},\"scene\":{\"xaxis\":{\"backgroundcolor\":\"#E5ECF6\",\"gridcolor\":\"white\",\"linecolor\":\"white\",\"showbackground\":true,\"ticks\":\"\",\"zerolinecolor\":\"white\",\"gridwidth\":2},\"yaxis\":{\"backgroundcolor\":\"#E5ECF6\",\"gridcolor\":\"white\",\"linecolor\":\"white\",\"showbackground\":true,\"ticks\":\"\",\"zerolinecolor\":\"white\",\"gridwidth\":2},\"zaxis\":{\"backgroundcolor\":\"#E5ECF6\",\"gridcolor\":\"white\",\"linecolor\":\"white\",\"showbackground\":true,\"ticks\":\"\",\"zerolinecolor\":\"white\",\"gridwidth\":2}},\"shapedefaults\":{\"line\":{\"color\":\"#2a3f5f\"}},\"annotationdefaults\":{\"arrowcolor\":\"#2a3f5f\",\"arrowhead\":0,\"arrowwidth\":1},\"geo\":{\"bgcolor\":\"white\",\"landcolor\":\"#E5ECF6\",\"subunitcolor\":\"white\",\"showland\":true,\"showlakes\":true,\"lakecolor\":\"white\"},\"title\":{\"x\":0.05},\"mapbox\":{\"style\":\"light\"}}},\"legend\":{\"tracegroupgap\":0,\"orientation\":\"v\",\"yanchor\":\"top\",\"y\":0.5,\"xanchor\":\"left\",\"x\":1.05,\"title\":{\"text\":\"Sex\"}},\"title\":{\"text\":\"Distribution of Sex\",\"font\":{\"size\":16},\"x\":0.45,\"xanchor\":\"center\",\"y\":0.95,\"yanchor\":\"top\"},\"piecolorway\":[\"#1c3a73\",\"#7cb1c2\"],\"margin\":{\"t\":50,\"b\":0,\"l\":0,\"r\":0},\"width\":500,\"height\":350},                        {\"responsive\": true}                    ).then(function(){\n",
              "                            \n",
              "var gd = document.getElementById('bdbb1b43-debf-4df3-9f12-cbdfcfb112f4');\n",
              "var x = new MutationObserver(function (mutations, observer) {{\n",
              "        var display = window.getComputedStyle(gd).display;\n",
              "        if (!display || display === 'none') {{\n",
              "            console.log([gd, 'removed!']);\n",
              "            Plotly.purge(gd);\n",
              "            observer.disconnect();\n",
              "        }}\n",
              "}});\n",
              "\n",
              "// Listen for the removal of the full notebook cells\n",
              "var notebookContainer = gd.closest('#notebook-container');\n",
              "if (notebookContainer) {{\n",
              "    x.observe(notebookContainer, {childList: true});\n",
              "}}\n",
              "\n",
              "// Listen for the clearing of the current output cell\n",
              "var outputEl = gd.closest('.output');\n",
              "if (outputEl) {{\n",
              "    x.observe(outputEl, {childList: true});\n",
              "}}\n",
              "\n",
              "                        })                };                            </script>        </div>\n",
              "</body>\n",
              "</html>"
            ]
          },
          "metadata": {}
        },
        {
          "output_type": "display_data",
          "data": {
            "text/html": [
              "<html>\n",
              "<head><meta charset=\"utf-8\" /></head>\n",
              "<body>\n",
              "    <div>            <script src=\"https://cdnjs.cloudflare.com/ajax/libs/mathjax/2.7.5/MathJax.js?config=TeX-AMS-MML_SVG\"></script><script type=\"text/javascript\">if (window.MathJax && window.MathJax.Hub && window.MathJax.Hub.Config) {window.MathJax.Hub.Config({SVG: {font: \"STIX-Web\"}});}</script>                <script type=\"text/javascript\">window.PlotlyConfig = {MathJaxConfig: 'local'};</script>\n",
              "        <script charset=\"utf-8\" src=\"https://cdn.plot.ly/plotly-2.24.1.min.js\"></script>                <div id=\"ea1ca051-9e2a-4763-ae48-d58ad757c8b0\" class=\"plotly-graph-div\" style=\"height:350px; width:500px;\"></div>            <script type=\"text/javascript\">                                    window.PLOTLYENV=window.PLOTLYENV || {};                                    if (document.getElementById(\"ea1ca051-9e2a-4763-ae48-d58ad757c8b0\")) {                    Plotly.newPlot(                        \"ea1ca051-9e2a-4763-ae48-d58ad757c8b0\",                        [{\"domain\":{\"x\":[0.0,1.0],\"y\":[0.0,1.0]},\"hole\":0.5,\"hovertemplate\":\"label=%{label}\\u003cbr\\u003evalue=%{value}\\u003cextra\\u003e\\u003c\\u002fextra\\u003e\",\"labels\":[1,0],\"legendgroup\":\"\",\"name\":\"\",\"showlegend\":true,\"values\":[9228,772],\"type\":\"pie\"}],                        {\"template\":{\"data\":{\"histogram2dcontour\":[{\"type\":\"histogram2dcontour\",\"colorbar\":{\"outlinewidth\":0,\"ticks\":\"\"},\"colorscale\":[[0.0,\"#0d0887\"],[0.1111111111111111,\"#46039f\"],[0.2222222222222222,\"#7201a8\"],[0.3333333333333333,\"#9c179e\"],[0.4444444444444444,\"#bd3786\"],[0.5555555555555556,\"#d8576b\"],[0.6666666666666666,\"#ed7953\"],[0.7777777777777778,\"#fb9f3a\"],[0.8888888888888888,\"#fdca26\"],[1.0,\"#f0f921\"]]}],\"choropleth\":[{\"type\":\"choropleth\",\"colorbar\":{\"outlinewidth\":0,\"ticks\":\"\"}}],\"histogram2d\":[{\"type\":\"histogram2d\",\"colorbar\":{\"outlinewidth\":0,\"ticks\":\"\"},\"colorscale\":[[0.0,\"#0d0887\"],[0.1111111111111111,\"#46039f\"],[0.2222222222222222,\"#7201a8\"],[0.3333333333333333,\"#9c179e\"],[0.4444444444444444,\"#bd3786\"],[0.5555555555555556,\"#d8576b\"],[0.6666666666666666,\"#ed7953\"],[0.7777777777777778,\"#fb9f3a\"],[0.8888888888888888,\"#fdca26\"],[1.0,\"#f0f921\"]]}],\"heatmap\":[{\"type\":\"heatmap\",\"colorbar\":{\"outlinewidth\":0,\"ticks\":\"\"},\"colorscale\":[[0.0,\"#0d0887\"],[0.1111111111111111,\"#46039f\"],[0.2222222222222222,\"#7201a8\"],[0.3333333333333333,\"#9c179e\"],[0.4444444444444444,\"#bd3786\"],[0.5555555555555556,\"#d8576b\"],[0.6666666666666666,\"#ed7953\"],[0.7777777777777778,\"#fb9f3a\"],[0.8888888888888888,\"#fdca26\"],[1.0,\"#f0f921\"]]}],\"heatmapgl\":[{\"type\":\"heatmapgl\",\"colorbar\":{\"outlinewidth\":0,\"ticks\":\"\"},\"colorscale\":[[0.0,\"#0d0887\"],[0.1111111111111111,\"#46039f\"],[0.2222222222222222,\"#7201a8\"],[0.3333333333333333,\"#9c179e\"],[0.4444444444444444,\"#bd3786\"],[0.5555555555555556,\"#d8576b\"],[0.6666666666666666,\"#ed7953\"],[0.7777777777777778,\"#fb9f3a\"],[0.8888888888888888,\"#fdca26\"],[1.0,\"#f0f921\"]]}],\"contourcarpet\":[{\"type\":\"contourcarpet\",\"colorbar\":{\"outlinewidth\":0,\"ticks\":\"\"}}],\"contour\":[{\"type\":\"contour\",\"colorbar\":{\"outlinewidth\":0,\"ticks\":\"\"},\"colorscale\":[[0.0,\"#0d0887\"],[0.1111111111111111,\"#46039f\"],[0.2222222222222222,\"#7201a8\"],[0.3333333333333333,\"#9c179e\"],[0.4444444444444444,\"#bd3786\"],[0.5555555555555556,\"#d8576b\"],[0.6666666666666666,\"#ed7953\"],[0.7777777777777778,\"#fb9f3a\"],[0.8888888888888888,\"#fdca26\"],[1.0,\"#f0f921\"]]}],\"surface\":[{\"type\":\"surface\",\"colorbar\":{\"outlinewidth\":0,\"ticks\":\"\"},\"colorscale\":[[0.0,\"#0d0887\"],[0.1111111111111111,\"#46039f\"],[0.2222222222222222,\"#7201a8\"],[0.3333333333333333,\"#9c179e\"],[0.4444444444444444,\"#bd3786\"],[0.5555555555555556,\"#d8576b\"],[0.6666666666666666,\"#ed7953\"],[0.7777777777777778,\"#fb9f3a\"],[0.8888888888888888,\"#fdca26\"],[1.0,\"#f0f921\"]]}],\"mesh3d\":[{\"type\":\"mesh3d\",\"colorbar\":{\"outlinewidth\":0,\"ticks\":\"\"}}],\"scatter\":[{\"fillpattern\":{\"fillmode\":\"overlay\",\"size\":10,\"solidity\":0.2},\"type\":\"scatter\"}],\"parcoords\":[{\"type\":\"parcoords\",\"line\":{\"colorbar\":{\"outlinewidth\":0,\"ticks\":\"\"}}}],\"scatterpolargl\":[{\"type\":\"scatterpolargl\",\"marker\":{\"colorbar\":{\"outlinewidth\":0,\"ticks\":\"\"}}}],\"bar\":[{\"error_x\":{\"color\":\"#2a3f5f\"},\"error_y\":{\"color\":\"#2a3f5f\"},\"marker\":{\"line\":{\"color\":\"#E5ECF6\",\"width\":0.5},\"pattern\":{\"fillmode\":\"overlay\",\"size\":10,\"solidity\":0.2}},\"type\":\"bar\"}],\"scattergeo\":[{\"type\":\"scattergeo\",\"marker\":{\"colorbar\":{\"outlinewidth\":0,\"ticks\":\"\"}}}],\"scatterpolar\":[{\"type\":\"scatterpolar\",\"marker\":{\"colorbar\":{\"outlinewidth\":0,\"ticks\":\"\"}}}],\"histogram\":[{\"marker\":{\"pattern\":{\"fillmode\":\"overlay\",\"size\":10,\"solidity\":0.2}},\"type\":\"histogram\"}],\"scattergl\":[{\"type\":\"scattergl\",\"marker\":{\"colorbar\":{\"outlinewidth\":0,\"ticks\":\"\"}}}],\"scatter3d\":[{\"type\":\"scatter3d\",\"line\":{\"colorbar\":{\"outlinewidth\":0,\"ticks\":\"\"}},\"marker\":{\"colorbar\":{\"outlinewidth\":0,\"ticks\":\"\"}}}],\"scattermapbox\":[{\"type\":\"scattermapbox\",\"marker\":{\"colorbar\":{\"outlinewidth\":0,\"ticks\":\"\"}}}],\"scatterternary\":[{\"type\":\"scatterternary\",\"marker\":{\"colorbar\":{\"outlinewidth\":0,\"ticks\":\"\"}}}],\"scattercarpet\":[{\"type\":\"scattercarpet\",\"marker\":{\"colorbar\":{\"outlinewidth\":0,\"ticks\":\"\"}}}],\"carpet\":[{\"aaxis\":{\"endlinecolor\":\"#2a3f5f\",\"gridcolor\":\"white\",\"linecolor\":\"white\",\"minorgridcolor\":\"white\",\"startlinecolor\":\"#2a3f5f\"},\"baxis\":{\"endlinecolor\":\"#2a3f5f\",\"gridcolor\":\"white\",\"linecolor\":\"white\",\"minorgridcolor\":\"white\",\"startlinecolor\":\"#2a3f5f\"},\"type\":\"carpet\"}],\"table\":[{\"cells\":{\"fill\":{\"color\":\"#EBF0F8\"},\"line\":{\"color\":\"white\"}},\"header\":{\"fill\":{\"color\":\"#C8D4E3\"},\"line\":{\"color\":\"white\"}},\"type\":\"table\"}],\"barpolar\":[{\"marker\":{\"line\":{\"color\":\"#E5ECF6\",\"width\":0.5},\"pattern\":{\"fillmode\":\"overlay\",\"size\":10,\"solidity\":0.2}},\"type\":\"barpolar\"}],\"pie\":[{\"automargin\":true,\"type\":\"pie\"}]},\"layout\":{\"autotypenumbers\":\"strict\",\"colorway\":[\"#636efa\",\"#EF553B\",\"#00cc96\",\"#ab63fa\",\"#FFA15A\",\"#19d3f3\",\"#FF6692\",\"#B6E880\",\"#FF97FF\",\"#FECB52\"],\"font\":{\"color\":\"#2a3f5f\"},\"hovermode\":\"closest\",\"hoverlabel\":{\"align\":\"left\"},\"paper_bgcolor\":\"white\",\"plot_bgcolor\":\"#E5ECF6\",\"polar\":{\"bgcolor\":\"#E5ECF6\",\"angularaxis\":{\"gridcolor\":\"white\",\"linecolor\":\"white\",\"ticks\":\"\"},\"radialaxis\":{\"gridcolor\":\"white\",\"linecolor\":\"white\",\"ticks\":\"\"}},\"ternary\":{\"bgcolor\":\"#E5ECF6\",\"aaxis\":{\"gridcolor\":\"white\",\"linecolor\":\"white\",\"ticks\":\"\"},\"baxis\":{\"gridcolor\":\"white\",\"linecolor\":\"white\",\"ticks\":\"\"},\"caxis\":{\"gridcolor\":\"white\",\"linecolor\":\"white\",\"ticks\":\"\"}},\"coloraxis\":{\"colorbar\":{\"outlinewidth\":0,\"ticks\":\"\"}},\"colorscale\":{\"sequential\":[[0.0,\"#0d0887\"],[0.1111111111111111,\"#46039f\"],[0.2222222222222222,\"#7201a8\"],[0.3333333333333333,\"#9c179e\"],[0.4444444444444444,\"#bd3786\"],[0.5555555555555556,\"#d8576b\"],[0.6666666666666666,\"#ed7953\"],[0.7777777777777778,\"#fb9f3a\"],[0.8888888888888888,\"#fdca26\"],[1.0,\"#f0f921\"]],\"sequentialminus\":[[0.0,\"#0d0887\"],[0.1111111111111111,\"#46039f\"],[0.2222222222222222,\"#7201a8\"],[0.3333333333333333,\"#9c179e\"],[0.4444444444444444,\"#bd3786\"],[0.5555555555555556,\"#d8576b\"],[0.6666666666666666,\"#ed7953\"],[0.7777777777777778,\"#fb9f3a\"],[0.8888888888888888,\"#fdca26\"],[1.0,\"#f0f921\"]],\"diverging\":[[0,\"#8e0152\"],[0.1,\"#c51b7d\"],[0.2,\"#de77ae\"],[0.3,\"#f1b6da\"],[0.4,\"#fde0ef\"],[0.5,\"#f7f7f7\"],[0.6,\"#e6f5d0\"],[0.7,\"#b8e186\"],[0.8,\"#7fbc41\"],[0.9,\"#4d9221\"],[1,\"#276419\"]]},\"xaxis\":{\"gridcolor\":\"white\",\"linecolor\":\"white\",\"ticks\":\"\",\"title\":{\"standoff\":15},\"zerolinecolor\":\"white\",\"automargin\":true,\"zerolinewidth\":2},\"yaxis\":{\"gridcolor\":\"white\",\"linecolor\":\"white\",\"ticks\":\"\",\"title\":{\"standoff\":15},\"zerolinecolor\":\"white\",\"automargin\":true,\"zerolinewidth\":2},\"scene\":{\"xaxis\":{\"backgroundcolor\":\"#E5ECF6\",\"gridcolor\":\"white\",\"linecolor\":\"white\",\"showbackground\":true,\"ticks\":\"\",\"zerolinecolor\":\"white\",\"gridwidth\":2},\"yaxis\":{\"backgroundcolor\":\"#E5ECF6\",\"gridcolor\":\"white\",\"linecolor\":\"white\",\"showbackground\":true,\"ticks\":\"\",\"zerolinecolor\":\"white\",\"gridwidth\":2},\"zaxis\":{\"backgroundcolor\":\"#E5ECF6\",\"gridcolor\":\"white\",\"linecolor\":\"white\",\"showbackground\":true,\"ticks\":\"\",\"zerolinecolor\":\"white\",\"gridwidth\":2}},\"shapedefaults\":{\"line\":{\"color\":\"#2a3f5f\"}},\"annotationdefaults\":{\"arrowcolor\":\"#2a3f5f\",\"arrowhead\":0,\"arrowwidth\":1},\"geo\":{\"bgcolor\":\"white\",\"landcolor\":\"#E5ECF6\",\"subunitcolor\":\"white\",\"showland\":true,\"showlakes\":true,\"lakecolor\":\"white\"},\"title\":{\"x\":0.05},\"mapbox\":{\"style\":\"light\"}}},\"legend\":{\"tracegroupgap\":0,\"orientation\":\"v\",\"yanchor\":\"top\",\"y\":0.5,\"xanchor\":\"left\",\"x\":1.05,\"title\":{\"text\":\"FBS\\u003eDM\"}},\"title\":{\"text\":\"Distribution of FBS\\u003eDM\",\"font\":{\"size\":16},\"x\":0.45,\"xanchor\":\"center\",\"y\":0.95,\"yanchor\":\"top\"},\"piecolorway\":[\"#1c3a73\",\"#7cb1c2\"],\"margin\":{\"t\":50,\"b\":0,\"l\":0,\"r\":0},\"width\":500,\"height\":350},                        {\"responsive\": true}                    ).then(function(){\n",
              "                            \n",
              "var gd = document.getElementById('ea1ca051-9e2a-4763-ae48-d58ad757c8b0');\n",
              "var x = new MutationObserver(function (mutations, observer) {{\n",
              "        var display = window.getComputedStyle(gd).display;\n",
              "        if (!display || display === 'none') {{\n",
              "            console.log([gd, 'removed!']);\n",
              "            Plotly.purge(gd);\n",
              "            observer.disconnect();\n",
              "        }}\n",
              "}});\n",
              "\n",
              "// Listen for the removal of the full notebook cells\n",
              "var notebookContainer = gd.closest('#notebook-container');\n",
              "if (notebookContainer) {{\n",
              "    x.observe(notebookContainer, {childList: true});\n",
              "}}\n",
              "\n",
              "// Listen for the clearing of the current output cell\n",
              "var outputEl = gd.closest('.output');\n",
              "if (outputEl) {{\n",
              "    x.observe(outputEl, {childList: true});\n",
              "}}\n",
              "\n",
              "                        })                };                            </script>        </div>\n",
              "</body>\n",
              "</html>"
            ]
          },
          "metadata": {}
        },
        {
          "output_type": "display_data",
          "data": {
            "text/html": [
              "<html>\n",
              "<head><meta charset=\"utf-8\" /></head>\n",
              "<body>\n",
              "    <div>            <script src=\"https://cdnjs.cloudflare.com/ajax/libs/mathjax/2.7.5/MathJax.js?config=TeX-AMS-MML_SVG\"></script><script type=\"text/javascript\">if (window.MathJax && window.MathJax.Hub && window.MathJax.Hub.Config) {window.MathJax.Hub.Config({SVG: {font: \"STIX-Web\"}});}</script>                <script type=\"text/javascript\">window.PlotlyConfig = {MathJaxConfig: 'local'};</script>\n",
              "        <script charset=\"utf-8\" src=\"https://cdn.plot.ly/plotly-2.24.1.min.js\"></script>                <div id=\"8706a806-5e73-4f7f-b387-993bc4ec942c\" class=\"plotly-graph-div\" style=\"height:350px; width:500px;\"></div>            <script type=\"text/javascript\">                                    window.PLOTLYENV=window.PLOTLYENV || {};                                    if (document.getElementById(\"8706a806-5e73-4f7f-b387-993bc4ec942c\")) {                    Plotly.newPlot(                        \"8706a806-5e73-4f7f-b387-993bc4ec942c\",                        [{\"domain\":{\"x\":[0.0,1.0],\"y\":[0.0,1.0]},\"hole\":0.5,\"hovertemplate\":\"label=%{label}\\u003cbr\\u003evalue=%{value}\\u003cextra\\u003e\\u003c\\u002fextra\\u003e\",\"labels\":[false,true],\"legendgroup\":\"\",\"name\":\"\",\"showlegend\":true,\"values\":[4746,391],\"type\":\"pie\"}],                        {\"template\":{\"data\":{\"histogram2dcontour\":[{\"type\":\"histogram2dcontour\",\"colorbar\":{\"outlinewidth\":0,\"ticks\":\"\"},\"colorscale\":[[0.0,\"#0d0887\"],[0.1111111111111111,\"#46039f\"],[0.2222222222222222,\"#7201a8\"],[0.3333333333333333,\"#9c179e\"],[0.4444444444444444,\"#bd3786\"],[0.5555555555555556,\"#d8576b\"],[0.6666666666666666,\"#ed7953\"],[0.7777777777777778,\"#fb9f3a\"],[0.8888888888888888,\"#fdca26\"],[1.0,\"#f0f921\"]]}],\"choropleth\":[{\"type\":\"choropleth\",\"colorbar\":{\"outlinewidth\":0,\"ticks\":\"\"}}],\"histogram2d\":[{\"type\":\"histogram2d\",\"colorbar\":{\"outlinewidth\":0,\"ticks\":\"\"},\"colorscale\":[[0.0,\"#0d0887\"],[0.1111111111111111,\"#46039f\"],[0.2222222222222222,\"#7201a8\"],[0.3333333333333333,\"#9c179e\"],[0.4444444444444444,\"#bd3786\"],[0.5555555555555556,\"#d8576b\"],[0.6666666666666666,\"#ed7953\"],[0.7777777777777778,\"#fb9f3a\"],[0.8888888888888888,\"#fdca26\"],[1.0,\"#f0f921\"]]}],\"heatmap\":[{\"type\":\"heatmap\",\"colorbar\":{\"outlinewidth\":0,\"ticks\":\"\"},\"colorscale\":[[0.0,\"#0d0887\"],[0.1111111111111111,\"#46039f\"],[0.2222222222222222,\"#7201a8\"],[0.3333333333333333,\"#9c179e\"],[0.4444444444444444,\"#bd3786\"],[0.5555555555555556,\"#d8576b\"],[0.6666666666666666,\"#ed7953\"],[0.7777777777777778,\"#fb9f3a\"],[0.8888888888888888,\"#fdca26\"],[1.0,\"#f0f921\"]]}],\"heatmapgl\":[{\"type\":\"heatmapgl\",\"colorbar\":{\"outlinewidth\":0,\"ticks\":\"\"},\"colorscale\":[[0.0,\"#0d0887\"],[0.1111111111111111,\"#46039f\"],[0.2222222222222222,\"#7201a8\"],[0.3333333333333333,\"#9c179e\"],[0.4444444444444444,\"#bd3786\"],[0.5555555555555556,\"#d8576b\"],[0.6666666666666666,\"#ed7953\"],[0.7777777777777778,\"#fb9f3a\"],[0.8888888888888888,\"#fdca26\"],[1.0,\"#f0f921\"]]}],\"contourcarpet\":[{\"type\":\"contourcarpet\",\"colorbar\":{\"outlinewidth\":0,\"ticks\":\"\"}}],\"contour\":[{\"type\":\"contour\",\"colorbar\":{\"outlinewidth\":0,\"ticks\":\"\"},\"colorscale\":[[0.0,\"#0d0887\"],[0.1111111111111111,\"#46039f\"],[0.2222222222222222,\"#7201a8\"],[0.3333333333333333,\"#9c179e\"],[0.4444444444444444,\"#bd3786\"],[0.5555555555555556,\"#d8576b\"],[0.6666666666666666,\"#ed7953\"],[0.7777777777777778,\"#fb9f3a\"],[0.8888888888888888,\"#fdca26\"],[1.0,\"#f0f921\"]]}],\"surface\":[{\"type\":\"surface\",\"colorbar\":{\"outlinewidth\":0,\"ticks\":\"\"},\"colorscale\":[[0.0,\"#0d0887\"],[0.1111111111111111,\"#46039f\"],[0.2222222222222222,\"#7201a8\"],[0.3333333333333333,\"#9c179e\"],[0.4444444444444444,\"#bd3786\"],[0.5555555555555556,\"#d8576b\"],[0.6666666666666666,\"#ed7953\"],[0.7777777777777778,\"#fb9f3a\"],[0.8888888888888888,\"#fdca26\"],[1.0,\"#f0f921\"]]}],\"mesh3d\":[{\"type\":\"mesh3d\",\"colorbar\":{\"outlinewidth\":0,\"ticks\":\"\"}}],\"scatter\":[{\"fillpattern\":{\"fillmode\":\"overlay\",\"size\":10,\"solidity\":0.2},\"type\":\"scatter\"}],\"parcoords\":[{\"type\":\"parcoords\",\"line\":{\"colorbar\":{\"outlinewidth\":0,\"ticks\":\"\"}}}],\"scatterpolargl\":[{\"type\":\"scatterpolargl\",\"marker\":{\"colorbar\":{\"outlinewidth\":0,\"ticks\":\"\"}}}],\"bar\":[{\"error_x\":{\"color\":\"#2a3f5f\"},\"error_y\":{\"color\":\"#2a3f5f\"},\"marker\":{\"line\":{\"color\":\"#E5ECF6\",\"width\":0.5},\"pattern\":{\"fillmode\":\"overlay\",\"size\":10,\"solidity\":0.2}},\"type\":\"bar\"}],\"scattergeo\":[{\"type\":\"scattergeo\",\"marker\":{\"colorbar\":{\"outlinewidth\":0,\"ticks\":\"\"}}}],\"scatterpolar\":[{\"type\":\"scatterpolar\",\"marker\":{\"colorbar\":{\"outlinewidth\":0,\"ticks\":\"\"}}}],\"histogram\":[{\"marker\":{\"pattern\":{\"fillmode\":\"overlay\",\"size\":10,\"solidity\":0.2}},\"type\":\"histogram\"}],\"scattergl\":[{\"type\":\"scattergl\",\"marker\":{\"colorbar\":{\"outlinewidth\":0,\"ticks\":\"\"}}}],\"scatter3d\":[{\"type\":\"scatter3d\",\"line\":{\"colorbar\":{\"outlinewidth\":0,\"ticks\":\"\"}},\"marker\":{\"colorbar\":{\"outlinewidth\":0,\"ticks\":\"\"}}}],\"scattermapbox\":[{\"type\":\"scattermapbox\",\"marker\":{\"colorbar\":{\"outlinewidth\":0,\"ticks\":\"\"}}}],\"scatterternary\":[{\"type\":\"scatterternary\",\"marker\":{\"colorbar\":{\"outlinewidth\":0,\"ticks\":\"\"}}}],\"scattercarpet\":[{\"type\":\"scattercarpet\",\"marker\":{\"colorbar\":{\"outlinewidth\":0,\"ticks\":\"\"}}}],\"carpet\":[{\"aaxis\":{\"endlinecolor\":\"#2a3f5f\",\"gridcolor\":\"white\",\"linecolor\":\"white\",\"minorgridcolor\":\"white\",\"startlinecolor\":\"#2a3f5f\"},\"baxis\":{\"endlinecolor\":\"#2a3f5f\",\"gridcolor\":\"white\",\"linecolor\":\"white\",\"minorgridcolor\":\"white\",\"startlinecolor\":\"#2a3f5f\"},\"type\":\"carpet\"}],\"table\":[{\"cells\":{\"fill\":{\"color\":\"#EBF0F8\"},\"line\":{\"color\":\"white\"}},\"header\":{\"fill\":{\"color\":\"#C8D4E3\"},\"line\":{\"color\":\"white\"}},\"type\":\"table\"}],\"barpolar\":[{\"marker\":{\"line\":{\"color\":\"#E5ECF6\",\"width\":0.5},\"pattern\":{\"fillmode\":\"overlay\",\"size\":10,\"solidity\":0.2}},\"type\":\"barpolar\"}],\"pie\":[{\"automargin\":true,\"type\":\"pie\"}]},\"layout\":{\"autotypenumbers\":\"strict\",\"colorway\":[\"#636efa\",\"#EF553B\",\"#00cc96\",\"#ab63fa\",\"#FFA15A\",\"#19d3f3\",\"#FF6692\",\"#B6E880\",\"#FF97FF\",\"#FECB52\"],\"font\":{\"color\":\"#2a3f5f\"},\"hovermode\":\"closest\",\"hoverlabel\":{\"align\":\"left\"},\"paper_bgcolor\":\"white\",\"plot_bgcolor\":\"#E5ECF6\",\"polar\":{\"bgcolor\":\"#E5ECF6\",\"angularaxis\":{\"gridcolor\":\"white\",\"linecolor\":\"white\",\"ticks\":\"\"},\"radialaxis\":{\"gridcolor\":\"white\",\"linecolor\":\"white\",\"ticks\":\"\"}},\"ternary\":{\"bgcolor\":\"#E5ECF6\",\"aaxis\":{\"gridcolor\":\"white\",\"linecolor\":\"white\",\"ticks\":\"\"},\"baxis\":{\"gridcolor\":\"white\",\"linecolor\":\"white\",\"ticks\":\"\"},\"caxis\":{\"gridcolor\":\"white\",\"linecolor\":\"white\",\"ticks\":\"\"}},\"coloraxis\":{\"colorbar\":{\"outlinewidth\":0,\"ticks\":\"\"}},\"colorscale\":{\"sequential\":[[0.0,\"#0d0887\"],[0.1111111111111111,\"#46039f\"],[0.2222222222222222,\"#7201a8\"],[0.3333333333333333,\"#9c179e\"],[0.4444444444444444,\"#bd3786\"],[0.5555555555555556,\"#d8576b\"],[0.6666666666666666,\"#ed7953\"],[0.7777777777777778,\"#fb9f3a\"],[0.8888888888888888,\"#fdca26\"],[1.0,\"#f0f921\"]],\"sequentialminus\":[[0.0,\"#0d0887\"],[0.1111111111111111,\"#46039f\"],[0.2222222222222222,\"#7201a8\"],[0.3333333333333333,\"#9c179e\"],[0.4444444444444444,\"#bd3786\"],[0.5555555555555556,\"#d8576b\"],[0.6666666666666666,\"#ed7953\"],[0.7777777777777778,\"#fb9f3a\"],[0.8888888888888888,\"#fdca26\"],[1.0,\"#f0f921\"]],\"diverging\":[[0,\"#8e0152\"],[0.1,\"#c51b7d\"],[0.2,\"#de77ae\"],[0.3,\"#f1b6da\"],[0.4,\"#fde0ef\"],[0.5,\"#f7f7f7\"],[0.6,\"#e6f5d0\"],[0.7,\"#b8e186\"],[0.8,\"#7fbc41\"],[0.9,\"#4d9221\"],[1,\"#276419\"]]},\"xaxis\":{\"gridcolor\":\"white\",\"linecolor\":\"white\",\"ticks\":\"\",\"title\":{\"standoff\":15},\"zerolinecolor\":\"white\",\"automargin\":true,\"zerolinewidth\":2},\"yaxis\":{\"gridcolor\":\"white\",\"linecolor\":\"white\",\"ticks\":\"\",\"title\":{\"standoff\":15},\"zerolinecolor\":\"white\",\"automargin\":true,\"zerolinewidth\":2},\"scene\":{\"xaxis\":{\"backgroundcolor\":\"#E5ECF6\",\"gridcolor\":\"white\",\"linecolor\":\"white\",\"showbackground\":true,\"ticks\":\"\",\"zerolinecolor\":\"white\",\"gridwidth\":2},\"yaxis\":{\"backgroundcolor\":\"#E5ECF6\",\"gridcolor\":\"white\",\"linecolor\":\"white\",\"showbackground\":true,\"ticks\":\"\",\"zerolinecolor\":\"white\",\"gridwidth\":2},\"zaxis\":{\"backgroundcolor\":\"#E5ECF6\",\"gridcolor\":\"white\",\"linecolor\":\"white\",\"showbackground\":true,\"ticks\":\"\",\"zerolinecolor\":\"white\",\"gridwidth\":2}},\"shapedefaults\":{\"line\":{\"color\":\"#2a3f5f\"}},\"annotationdefaults\":{\"arrowcolor\":\"#2a3f5f\",\"arrowhead\":0,\"arrowwidth\":1},\"geo\":{\"bgcolor\":\"white\",\"landcolor\":\"#E5ECF6\",\"subunitcolor\":\"white\",\"showland\":true,\"showlakes\":true,\"lakecolor\":\"white\"},\"title\":{\"x\":0.05},\"mapbox\":{\"style\":\"light\"}}},\"legend\":{\"tracegroupgap\":0,\"orientation\":\"v\",\"yanchor\":\"top\",\"y\":0.5,\"xanchor\":\"left\",\"x\":1.05,\"title\":{\"text\":\"A1C_BEF_DM\"}},\"title\":{\"text\":\"Distribution of A1C_BEF_DM\",\"font\":{\"size\":16},\"x\":0.45,\"xanchor\":\"center\",\"y\":0.95,\"yanchor\":\"top\"},\"piecolorway\":[\"#1c3a73\",\"#7cb1c2\"],\"margin\":{\"t\":50,\"b\":0,\"l\":0,\"r\":0},\"width\":500,\"height\":350},                        {\"responsive\": true}                    ).then(function(){\n",
              "                            \n",
              "var gd = document.getElementById('8706a806-5e73-4f7f-b387-993bc4ec942c');\n",
              "var x = new MutationObserver(function (mutations, observer) {{\n",
              "        var display = window.getComputedStyle(gd).display;\n",
              "        if (!display || display === 'none') {{\n",
              "            console.log([gd, 'removed!']);\n",
              "            Plotly.purge(gd);\n",
              "            observer.disconnect();\n",
              "        }}\n",
              "}});\n",
              "\n",
              "// Listen for the removal of the full notebook cells\n",
              "var notebookContainer = gd.closest('#notebook-container');\n",
              "if (notebookContainer) {{\n",
              "    x.observe(notebookContainer, {childList: true});\n",
              "}}\n",
              "\n",
              "// Listen for the clearing of the current output cell\n",
              "var outputEl = gd.closest('.output');\n",
              "if (outputEl) {{\n",
              "    x.observe(outputEl, {childList: true});\n",
              "}}\n",
              "\n",
              "                        })                };                            </script>        </div>\n",
              "</body>\n",
              "</html>"
            ]
          },
          "metadata": {}
        },
        {
          "output_type": "display_data",
          "data": {
            "text/html": [
              "<html>\n",
              "<head><meta charset=\"utf-8\" /></head>\n",
              "<body>\n",
              "    <div>            <script src=\"https://cdnjs.cloudflare.com/ajax/libs/mathjax/2.7.5/MathJax.js?config=TeX-AMS-MML_SVG\"></script><script type=\"text/javascript\">if (window.MathJax && window.MathJax.Hub && window.MathJax.Hub.Config) {window.MathJax.Hub.Config({SVG: {font: \"STIX-Web\"}});}</script>                <script type=\"text/javascript\">window.PlotlyConfig = {MathJaxConfig: 'local'};</script>\n",
              "        <script charset=\"utf-8\" src=\"https://cdn.plot.ly/plotly-2.24.1.min.js\"></script>                <div id=\"ca811cf1-6ed6-4e39-bef2-eb21991526fe\" class=\"plotly-graph-div\" style=\"height:350px; width:500px;\"></div>            <script type=\"text/javascript\">                                    window.PLOTLYENV=window.PLOTLYENV || {};                                    if (document.getElementById(\"ca811cf1-6ed6-4e39-bef2-eb21991526fe\")) {                    Plotly.newPlot(                        \"ca811cf1-6ed6-4e39-bef2-eb21991526fe\",                        [{\"domain\":{\"x\":[0.0,1.0],\"y\":[0.0,1.0]},\"hole\":0.5,\"hovertemplate\":\"label=%{label}\\u003cbr\\u003evalue=%{value}\\u003cextra\\u003e\\u003c\\u002fextra\\u003e\",\"labels\":[false,true],\"legendgroup\":\"\",\"name\":\"\",\"showlegend\":true,\"values\":[4598,539],\"type\":\"pie\"}],                        {\"template\":{\"data\":{\"histogram2dcontour\":[{\"type\":\"histogram2dcontour\",\"colorbar\":{\"outlinewidth\":0,\"ticks\":\"\"},\"colorscale\":[[0.0,\"#0d0887\"],[0.1111111111111111,\"#46039f\"],[0.2222222222222222,\"#7201a8\"],[0.3333333333333333,\"#9c179e\"],[0.4444444444444444,\"#bd3786\"],[0.5555555555555556,\"#d8576b\"],[0.6666666666666666,\"#ed7953\"],[0.7777777777777778,\"#fb9f3a\"],[0.8888888888888888,\"#fdca26\"],[1.0,\"#f0f921\"]]}],\"choropleth\":[{\"type\":\"choropleth\",\"colorbar\":{\"outlinewidth\":0,\"ticks\":\"\"}}],\"histogram2d\":[{\"type\":\"histogram2d\",\"colorbar\":{\"outlinewidth\":0,\"ticks\":\"\"},\"colorscale\":[[0.0,\"#0d0887\"],[0.1111111111111111,\"#46039f\"],[0.2222222222222222,\"#7201a8\"],[0.3333333333333333,\"#9c179e\"],[0.4444444444444444,\"#bd3786\"],[0.5555555555555556,\"#d8576b\"],[0.6666666666666666,\"#ed7953\"],[0.7777777777777778,\"#fb9f3a\"],[0.8888888888888888,\"#fdca26\"],[1.0,\"#f0f921\"]]}],\"heatmap\":[{\"type\":\"heatmap\",\"colorbar\":{\"outlinewidth\":0,\"ticks\":\"\"},\"colorscale\":[[0.0,\"#0d0887\"],[0.1111111111111111,\"#46039f\"],[0.2222222222222222,\"#7201a8\"],[0.3333333333333333,\"#9c179e\"],[0.4444444444444444,\"#bd3786\"],[0.5555555555555556,\"#d8576b\"],[0.6666666666666666,\"#ed7953\"],[0.7777777777777778,\"#fb9f3a\"],[0.8888888888888888,\"#fdca26\"],[1.0,\"#f0f921\"]]}],\"heatmapgl\":[{\"type\":\"heatmapgl\",\"colorbar\":{\"outlinewidth\":0,\"ticks\":\"\"},\"colorscale\":[[0.0,\"#0d0887\"],[0.1111111111111111,\"#46039f\"],[0.2222222222222222,\"#7201a8\"],[0.3333333333333333,\"#9c179e\"],[0.4444444444444444,\"#bd3786\"],[0.5555555555555556,\"#d8576b\"],[0.6666666666666666,\"#ed7953\"],[0.7777777777777778,\"#fb9f3a\"],[0.8888888888888888,\"#fdca26\"],[1.0,\"#f0f921\"]]}],\"contourcarpet\":[{\"type\":\"contourcarpet\",\"colorbar\":{\"outlinewidth\":0,\"ticks\":\"\"}}],\"contour\":[{\"type\":\"contour\",\"colorbar\":{\"outlinewidth\":0,\"ticks\":\"\"},\"colorscale\":[[0.0,\"#0d0887\"],[0.1111111111111111,\"#46039f\"],[0.2222222222222222,\"#7201a8\"],[0.3333333333333333,\"#9c179e\"],[0.4444444444444444,\"#bd3786\"],[0.5555555555555556,\"#d8576b\"],[0.6666666666666666,\"#ed7953\"],[0.7777777777777778,\"#fb9f3a\"],[0.8888888888888888,\"#fdca26\"],[1.0,\"#f0f921\"]]}],\"surface\":[{\"type\":\"surface\",\"colorbar\":{\"outlinewidth\":0,\"ticks\":\"\"},\"colorscale\":[[0.0,\"#0d0887\"],[0.1111111111111111,\"#46039f\"],[0.2222222222222222,\"#7201a8\"],[0.3333333333333333,\"#9c179e\"],[0.4444444444444444,\"#bd3786\"],[0.5555555555555556,\"#d8576b\"],[0.6666666666666666,\"#ed7953\"],[0.7777777777777778,\"#fb9f3a\"],[0.8888888888888888,\"#fdca26\"],[1.0,\"#f0f921\"]]}],\"mesh3d\":[{\"type\":\"mesh3d\",\"colorbar\":{\"outlinewidth\":0,\"ticks\":\"\"}}],\"scatter\":[{\"fillpattern\":{\"fillmode\":\"overlay\",\"size\":10,\"solidity\":0.2},\"type\":\"scatter\"}],\"parcoords\":[{\"type\":\"parcoords\",\"line\":{\"colorbar\":{\"outlinewidth\":0,\"ticks\":\"\"}}}],\"scatterpolargl\":[{\"type\":\"scatterpolargl\",\"marker\":{\"colorbar\":{\"outlinewidth\":0,\"ticks\":\"\"}}}],\"bar\":[{\"error_x\":{\"color\":\"#2a3f5f\"},\"error_y\":{\"color\":\"#2a3f5f\"},\"marker\":{\"line\":{\"color\":\"#E5ECF6\",\"width\":0.5},\"pattern\":{\"fillmode\":\"overlay\",\"size\":10,\"solidity\":0.2}},\"type\":\"bar\"}],\"scattergeo\":[{\"type\":\"scattergeo\",\"marker\":{\"colorbar\":{\"outlinewidth\":0,\"ticks\":\"\"}}}],\"scatterpolar\":[{\"type\":\"scatterpolar\",\"marker\":{\"colorbar\":{\"outlinewidth\":0,\"ticks\":\"\"}}}],\"histogram\":[{\"marker\":{\"pattern\":{\"fillmode\":\"overlay\",\"size\":10,\"solidity\":0.2}},\"type\":\"histogram\"}],\"scattergl\":[{\"type\":\"scattergl\",\"marker\":{\"colorbar\":{\"outlinewidth\":0,\"ticks\":\"\"}}}],\"scatter3d\":[{\"type\":\"scatter3d\",\"line\":{\"colorbar\":{\"outlinewidth\":0,\"ticks\":\"\"}},\"marker\":{\"colorbar\":{\"outlinewidth\":0,\"ticks\":\"\"}}}],\"scattermapbox\":[{\"type\":\"scattermapbox\",\"marker\":{\"colorbar\":{\"outlinewidth\":0,\"ticks\":\"\"}}}],\"scatterternary\":[{\"type\":\"scatterternary\",\"marker\":{\"colorbar\":{\"outlinewidth\":0,\"ticks\":\"\"}}}],\"scattercarpet\":[{\"type\":\"scattercarpet\",\"marker\":{\"colorbar\":{\"outlinewidth\":0,\"ticks\":\"\"}}}],\"carpet\":[{\"aaxis\":{\"endlinecolor\":\"#2a3f5f\",\"gridcolor\":\"white\",\"linecolor\":\"white\",\"minorgridcolor\":\"white\",\"startlinecolor\":\"#2a3f5f\"},\"baxis\":{\"endlinecolor\":\"#2a3f5f\",\"gridcolor\":\"white\",\"linecolor\":\"white\",\"minorgridcolor\":\"white\",\"startlinecolor\":\"#2a3f5f\"},\"type\":\"carpet\"}],\"table\":[{\"cells\":{\"fill\":{\"color\":\"#EBF0F8\"},\"line\":{\"color\":\"white\"}},\"header\":{\"fill\":{\"color\":\"#C8D4E3\"},\"line\":{\"color\":\"white\"}},\"type\":\"table\"}],\"barpolar\":[{\"marker\":{\"line\":{\"color\":\"#E5ECF6\",\"width\":0.5},\"pattern\":{\"fillmode\":\"overlay\",\"size\":10,\"solidity\":0.2}},\"type\":\"barpolar\"}],\"pie\":[{\"automargin\":true,\"type\":\"pie\"}]},\"layout\":{\"autotypenumbers\":\"strict\",\"colorway\":[\"#636efa\",\"#EF553B\",\"#00cc96\",\"#ab63fa\",\"#FFA15A\",\"#19d3f3\",\"#FF6692\",\"#B6E880\",\"#FF97FF\",\"#FECB52\"],\"font\":{\"color\":\"#2a3f5f\"},\"hovermode\":\"closest\",\"hoverlabel\":{\"align\":\"left\"},\"paper_bgcolor\":\"white\",\"plot_bgcolor\":\"#E5ECF6\",\"polar\":{\"bgcolor\":\"#E5ECF6\",\"angularaxis\":{\"gridcolor\":\"white\",\"linecolor\":\"white\",\"ticks\":\"\"},\"radialaxis\":{\"gridcolor\":\"white\",\"linecolor\":\"white\",\"ticks\":\"\"}},\"ternary\":{\"bgcolor\":\"#E5ECF6\",\"aaxis\":{\"gridcolor\":\"white\",\"linecolor\":\"white\",\"ticks\":\"\"},\"baxis\":{\"gridcolor\":\"white\",\"linecolor\":\"white\",\"ticks\":\"\"},\"caxis\":{\"gridcolor\":\"white\",\"linecolor\":\"white\",\"ticks\":\"\"}},\"coloraxis\":{\"colorbar\":{\"outlinewidth\":0,\"ticks\":\"\"}},\"colorscale\":{\"sequential\":[[0.0,\"#0d0887\"],[0.1111111111111111,\"#46039f\"],[0.2222222222222222,\"#7201a8\"],[0.3333333333333333,\"#9c179e\"],[0.4444444444444444,\"#bd3786\"],[0.5555555555555556,\"#d8576b\"],[0.6666666666666666,\"#ed7953\"],[0.7777777777777778,\"#fb9f3a\"],[0.8888888888888888,\"#fdca26\"],[1.0,\"#f0f921\"]],\"sequentialminus\":[[0.0,\"#0d0887\"],[0.1111111111111111,\"#46039f\"],[0.2222222222222222,\"#7201a8\"],[0.3333333333333333,\"#9c179e\"],[0.4444444444444444,\"#bd3786\"],[0.5555555555555556,\"#d8576b\"],[0.6666666666666666,\"#ed7953\"],[0.7777777777777778,\"#fb9f3a\"],[0.8888888888888888,\"#fdca26\"],[1.0,\"#f0f921\"]],\"diverging\":[[0,\"#8e0152\"],[0.1,\"#c51b7d\"],[0.2,\"#de77ae\"],[0.3,\"#f1b6da\"],[0.4,\"#fde0ef\"],[0.5,\"#f7f7f7\"],[0.6,\"#e6f5d0\"],[0.7,\"#b8e186\"],[0.8,\"#7fbc41\"],[0.9,\"#4d9221\"],[1,\"#276419\"]]},\"xaxis\":{\"gridcolor\":\"white\",\"linecolor\":\"white\",\"ticks\":\"\",\"title\":{\"standoff\":15},\"zerolinecolor\":\"white\",\"automargin\":true,\"zerolinewidth\":2},\"yaxis\":{\"gridcolor\":\"white\",\"linecolor\":\"white\",\"ticks\":\"\",\"title\":{\"standoff\":15},\"zerolinecolor\":\"white\",\"automargin\":true,\"zerolinewidth\":2},\"scene\":{\"xaxis\":{\"backgroundcolor\":\"#E5ECF6\",\"gridcolor\":\"white\",\"linecolor\":\"white\",\"showbackground\":true,\"ticks\":\"\",\"zerolinecolor\":\"white\",\"gridwidth\":2},\"yaxis\":{\"backgroundcolor\":\"#E5ECF6\",\"gridcolor\":\"white\",\"linecolor\":\"white\",\"showbackground\":true,\"ticks\":\"\",\"zerolinecolor\":\"white\",\"gridwidth\":2},\"zaxis\":{\"backgroundcolor\":\"#E5ECF6\",\"gridcolor\":\"white\",\"linecolor\":\"white\",\"showbackground\":true,\"ticks\":\"\",\"zerolinecolor\":\"white\",\"gridwidth\":2}},\"shapedefaults\":{\"line\":{\"color\":\"#2a3f5f\"}},\"annotationdefaults\":{\"arrowcolor\":\"#2a3f5f\",\"arrowhead\":0,\"arrowwidth\":1},\"geo\":{\"bgcolor\":\"white\",\"landcolor\":\"#E5ECF6\",\"subunitcolor\":\"white\",\"showland\":true,\"showlakes\":true,\"lakecolor\":\"white\"},\"title\":{\"x\":0.05},\"mapbox\":{\"style\":\"light\"}}},\"legend\":{\"tracegroupgap\":0,\"orientation\":\"v\",\"yanchor\":\"top\",\"y\":0.5,\"xanchor\":\"left\",\"x\":1.05,\"title\":{\"text\":\"FBS_BEF_DM\"}},\"title\":{\"text\":\"Distribution of FBS_BEF_DM\",\"font\":{\"size\":16},\"x\":0.45,\"xanchor\":\"center\",\"y\":0.95,\"yanchor\":\"top\"},\"piecolorway\":[\"#1c3a73\",\"#7cb1c2\"],\"margin\":{\"t\":50,\"b\":0,\"l\":0,\"r\":0},\"width\":500,\"height\":350},                        {\"responsive\": true}                    ).then(function(){\n",
              "                            \n",
              "var gd = document.getElementById('ca811cf1-6ed6-4e39-bef2-eb21991526fe');\n",
              "var x = new MutationObserver(function (mutations, observer) {{\n",
              "        var display = window.getComputedStyle(gd).display;\n",
              "        if (!display || display === 'none') {{\n",
              "            console.log([gd, 'removed!']);\n",
              "            Plotly.purge(gd);\n",
              "            observer.disconnect();\n",
              "        }}\n",
              "}});\n",
              "\n",
              "// Listen for the removal of the full notebook cells\n",
              "var notebookContainer = gd.closest('#notebook-container');\n",
              "if (notebookContainer) {{\n",
              "    x.observe(notebookContainer, {childList: true});\n",
              "}}\n",
              "\n",
              "// Listen for the clearing of the current output cell\n",
              "var outputEl = gd.closest('.output');\n",
              "if (outputEl) {{\n",
              "    x.observe(outputEl, {childList: true});\n",
              "}}\n",
              "\n",
              "                        })                };                            </script>        </div>\n",
              "</body>\n",
              "</html>"
            ]
          },
          "metadata": {}
        }
      ]
    },
    {
      "cell_type": "markdown",
      "source": [
        "**Initial Feature Selection and Imputation**"
      ],
      "metadata": {
        "id": "PzsmcWRYgEqE"
      }
    },
    {
      "cell_type": "code",
      "source": [
        "# Feature selection\n",
        "selected_features = ['Age_at_Exam', 'sBP', 'BMI', 'LDL', 'HDL', 'A1c', 'TG', 'FBS', 'FBS>DM', 'Total_Cholesterol', 'Diabetes', 'HTN', 'OA', 'COPD', 'Sex', 'A1C_BEF_DM', 'FBS_BEF_DM', 'Depression', 'Patient_ID']\n",
        "selected_df_features = df[selected_features]\n",
        "print(selected_df_features.isna().sum())"
      ],
      "metadata": {
        "colab": {
          "base_uri": "https://localhost:8080/"
        },
        "outputId": "d0dedee5-1b01-4706-9f50-066806b20202",
        "id": "NwYT5cqTy4Cz"
      },
      "execution_count": null,
      "outputs": [
        {
          "output_type": "stream",
          "name": "stdout",
          "text": [
            "Age_at_Exam             0\n",
            "sBP                     4\n",
            "BMI                    50\n",
            "LDL                    70\n",
            "HDL                    72\n",
            "A1c                     0\n",
            "TG                     53\n",
            "FBS                     1\n",
            "FBS>DM                  0\n",
            "Total_Cholesterol     207\n",
            "Diabetes                0\n",
            "HTN                     0\n",
            "OA                      0\n",
            "COPD                    0\n",
            "Sex                     0\n",
            "A1C_BEF_DM           4863\n",
            "FBS_BEF_DM           4863\n",
            "Depression              0\n",
            "Patient_ID              0\n",
            "dtype: int64\n"
          ]
        }
      ]
    },
    {
      "cell_type": "code",
      "source": [
        "# Understanding missing values and effect on Depression\n",
        "for i, column in enumerate(selected_df_features):\n",
        "  if selected_df_features[column].isna().sum() > 0:\n",
        "    # Create a binary indicator column 'is_ethnicity_na' to represent missing values in the 'ethnicity' column\n",
        "    selected_df_features['is_na'] = selected_df_features[column].isna().astype(int)\n",
        "\n",
        "    # Convert the 'Class/ASD' column to string data type\n",
        "    selected_df_features['Depression'] = selected_df_features['Depression'].astype(str)\n",
        "\n",
        "    # Define a list of colors for the countplot\n",
        "    colors = ['#1c3a73', '#7cb1c2']\n",
        "\n",
        "    # Create a grouped bar chart using seaborn's countplot function with specified colors\n",
        "    plt.figure(figsize=(6, 5))\n",
        "    sns.countplot(data=selected_df_features, x='is_na', hue='Depression', palette=colors)\n",
        "\n",
        "    # Set labels and title for the plot\n",
        "    plt.xlabel('is_na')\n",
        "    plt.ylabel('Count')\n",
        "    plt.title('Count of Each Depression for ' + column)\n",
        "    plt.legend(title='Depression')\n",
        "    plt.show()\n",
        "\n",
        "    # Convert the 'Class/ASD' column back to integer data type\n",
        "    selected_df_features['Depression'] = selected_df_features['Depression'].astype(int)\n",
        "\n",
        "    # Calculate the mean of 'Class/ASD' grouped by 'is_ethnicity_na' and print the result\n",
        "    print(selected_df_features.groupby('is_na')['Depression'].count())\n",
        "\n",
        "    # Remove the 'is_ethnicity_na' column from the DataFrame\n",
        "    selected_df_features.drop('is_na', axis=1, inplace=True)"
      ],
      "metadata": {
        "colab": {
          "base_uri": "https://localhost:8080/",
          "height": 1000
        },
        "id": "DoDfyGBEgPB6",
        "outputId": "08910368-6103-4d06-c207-df1b1c12c68b"
      },
      "execution_count": null,
      "outputs": [
        {
          "output_type": "display_data",
          "data": {
            "text/plain": [
              "<Figure size 600x500 with 1 Axes>"
            ],
            "image/png": "[encoded data removed]"
          },
          "metadata": {}
        },
        {
          "output_type": "stream",
          "name": "stdout",
          "text": [
            "is_na\n",
            "0    9996\n",
            "1       4\n",
            "Name: Depression, dtype: int64\n"
          ]
        },
        {
          "output_type": "display_data",
          "data": {
            "text/plain": [
              "<Figure size 600x500 with 1 Axes>"
            ],
            "image/png": "[encoded data removed]"
          },
          "metadata": {}
        },
        {
          "output_type": "stream",
          "name": "stdout",
          "text": [
            "is_na\n",
            "0    9950\n",
            "1      50\n",
            "Name: Depression, dtype: int64\n"
          ]
        },
        {
          "output_type": "display_data",
          "data": {
            "text/plain": [
              "<Figure size 600x500 with 1 Axes>"
            ],
            "image/png": "[encoded data removed]"
          },
          "metadata": {}
        },
        {
          "output_type": "stream",
          "name": "stdout",
          "text": [
            "is_na\n",
            "0    9930\n",
            "1      70\n",
            "Name: Depression, dtype: int64\n"
          ]
        },
        {
          "output_type": "display_data",
          "data": {
            "text/plain": [
              "<Figure size 600x500 with 1 Axes>"
            ],
            "image/png": "[encoded data removed]"
          },
          "metadata": {}
        },
        {
          "output_type": "stream",
          "name": "stdout",
          "text": [
            "is_na\n",
            "0    9928\n",
            "1      72\n",
            "Name: Depression, dtype: int64\n"
          ]
        },
        {
          "output_type": "display_data",
          "data": {
            "text/plain": [
              "<Figure size 600x500 with 1 Axes>"
            ],
            "image/png": "[encoded data removed]"
          },
          "metadata": {}
        },
        {
          "output_type": "stream",
          "name": "stdout",
          "text": [
            "is_na\n",
            "0    9947\n",
            "1      53\n",
            "Name: Depression, dtype: int64\n"
          ]
        },
        {
          "output_type": "display_data",
          "data": {
            "text/plain": [
              "<Figure size 600x500 with 1 Axes>"
            ],
            "image/png": "[encoded data removed]"
          },
          "metadata": {}
        },
        {
          "output_type": "stream",
          "name": "stdout",
          "text": [
            "is_na\n",
            "0    9999\n",
            "1       1\n",
            "Name: Depression, dtype: int64\n"
          ]
        },
        {
          "output_type": "display_data",
          "data": {
            "text/plain": [
              "<Figure size 600x500 with 1 Axes>"
            ],
            "image/png": "[encoded data removed]"
          },
          "metadata": {}
        },
        {
          "output_type": "stream",
          "name": "stdout",
          "text": [
            "is_na\n",
            "0    9793\n",
            "1     207\n",
            "Name: Depression, dtype: int64\n"
          ]
        },
        {
          "output_type": "display_data",
          "data": {
            "text/plain": [
              "<Figure size 600x500 with 1 Axes>"
            ],
            "image/png": "[encoded data removed]"
          },
          "metadata": {}
        },
        {
          "output_type": "stream",
          "name": "stdout",
          "text": [
            "is_na\n",
            "0    5137\n",
            "1    4863\n",
            "Name: Depression, dtype: int64\n"
          ]
        },
        {
          "output_type": "display_data",
          "data": {
            "text/plain": [
              "<Figure size 600x500 with 1 Axes>"
            ],
            "image/png": "[encoded data removed]"
          },
          "metadata": {}
        },
        {
          "output_type": "stream",
          "name": "stdout",
          "text": [
            "is_na\n",
            "0    5137\n",
            "1    4863\n",
            "Name: Depression, dtype: int64\n"
          ]
        }
      ]
    },
    {
      "cell_type": "code",
      "source": [
        "selected_df_features.dtypes"
      ],
      "metadata": {
        "colab": {
          "base_uri": "https://localhost:8080/"
        },
        "id": "zKguMXKi0C28",
        "outputId": "9a71377c-123b-48a9-8b9d-0cf8eebea382"
      },
      "execution_count": null,
      "outputs": [
        {
          "output_type": "execute_result",
          "data": {
            "text/plain": [
              "Age_at_Exam            int64\n",
              "sBP                  float64\n",
              "BMI                  float64\n",
              "LDL                  float64\n",
              "HDL                  float64\n",
              "A1c                  float64\n",
              "TG                   float64\n",
              "FBS                  float64\n",
              "FBS>DM                 int64\n",
              "Total_Cholesterol    float64\n",
              "Diabetes               int64\n",
              "HTN                    int64\n",
              "OA                     int64\n",
              "COPD                   int64\n",
              "Sex                   object\n",
              "A1C_BEF_DM            object\n",
              "FBS_BEF_DM            object\n",
              "Depression             int64\n",
              "Patient_ID             int64\n",
              "dtype: object"
            ]
          },
          "metadata": {},
          "execution_count": 20
        }
      ]
    },
    {
      "cell_type": "code",
      "source": [
        "# create list of numerical, categorical, multinomial features\n",
        "target_column = 'Depression'\n",
        "categorical_columns = ['Sex', 'A1C_BEF_DM', 'FBS_BEF_DM']\n",
        "boolean_columns = ['HTN', 'OA', 'COPD', 'FBS>DM', 'Diabetes']\n",
        "ID_columns = 'Patient_ID'\n",
        "numerical_columns = [i for i in selected_df_features.columns if i not in categorical_columns + [target_column] + boolean_columns + [ID_columns]]"
      ],
      "metadata": {
        "id": "4O3fmSX-zqDa"
      },
      "execution_count": null,
      "outputs": []
    },
    {
      "cell_type": "code",
      "source": [
        "# convert boolean to int\n",
        "selected_df_features['A1C_BEF_DM'] = selected_df_features['A1C_BEF_DM']*1\n",
        "selected_df_features['FBS_BEF_DM'] = selected_df_features['FBS_BEF_DM']*1"
      ],
      "metadata": {
        "id": "iITRqL2yCAOx"
      },
      "execution_count": null,
      "outputs": []
    },
    {
      "cell_type": "code",
      "source": [
        "for i in categorical_columns:\n",
        "  selected_df_features[i] = selected_df_features[i].astype('category')\n",
        "selected_df_features.dtypes"
      ],
      "metadata": {
        "colab": {
          "base_uri": "https://localhost:8080/"
        },
        "id": "at0XV2Hk1l7s",
        "outputId": "4115e38c-57ba-4fbe-e446-a2f597626174"
      },
      "execution_count": null,
      "outputs": [
        {
          "output_type": "execute_result",
          "data": {
            "text/plain": [
              "Age_at_Exam             int64\n",
              "sBP                   float64\n",
              "BMI                   float64\n",
              "LDL                   float64\n",
              "HDL                   float64\n",
              "A1c                   float64\n",
              "TG                    float64\n",
              "FBS                   float64\n",
              "FBS>DM                  int64\n",
              "Total_Cholesterol     float64\n",
              "Diabetes                int64\n",
              "HTN                     int64\n",
              "OA                      int64\n",
              "COPD                    int64\n",
              "Sex                  category\n",
              "A1C_BEF_DM           category\n",
              "FBS_BEF_DM           category\n",
              "Depression              int64\n",
              "Patient_ID              int64\n",
              "dtype: object"
            ]
          },
          "metadata": {},
          "execution_count": 23
        }
      ]
    },
    {
      "cell_type": "code",
      "source": [
        "# Fill NAN values with NA since these patients were not diabetic\n",
        "selected_df_features['A1C_BEF_DM'] = selected_df_features['A1C_BEF_DM'].cat.add_categories('NA')\n",
        "selected_df_features['A1C_BEF_DM'].fillna('NA', inplace=True)\n",
        "selected_df_features['FBS_BEF_DM'] = selected_df_features['FBS_BEF_DM'].cat.add_categories('NA')\n",
        "selected_df_features['FBS_BEF_DM'].fillna('NA', inplace=True)"
      ],
      "metadata": {
        "id": "WqPr8V1riIfb"
      },
      "execution_count": null,
      "outputs": []
    },
    {
      "cell_type": "code",
      "source": [
        "for i in categorical_columns:\n",
        "  print(selected_df_features[i].unique())\n",
        "for i in boolean_columns:\n",
        "  print(selected_df_features[i].unique())"
      ],
      "metadata": {
        "colab": {
          "base_uri": "https://localhost:8080/"
        },
        "id": "3A4xvA9i06YP",
        "outputId": "de00808f-10aa-4f5a-9549-c6327f7b66b6"
      },
      "execution_count": null,
      "outputs": [
        {
          "output_type": "stream",
          "name": "stdout",
          "text": [
            "['Female', 'Male']\n",
            "Categories (2, object): ['Female', 'Male']\n",
            "['NA', 0, 1]\n",
            "Categories (3, object): [0, 1, 'NA']\n",
            "['NA', 0, 1]\n",
            "Categories (3, object): [0, 1, 'NA']\n",
            "[0 1]\n",
            "[0 1]\n",
            "[0 1]\n",
            "[1 0]\n",
            "[0 1]\n"
          ]
        }
      ]
    },
    {
      "cell_type": "code",
      "source": [
        "selected_df_features['Sex'].replace({'Female' : 0, 'Male' : 1}, inplace=True)\n",
        "selected_df_features['A1C_BEF_DM'].replace({'NA' : 2}, inplace=True)\n",
        "selected_df_features['FBS_BEF_DM'].replace({'NA' : 2}, inplace=True)"
      ],
      "metadata": {
        "id": "GVxxklb-DMpy"
      },
      "execution_count": null,
      "outputs": []
    },
    {
      "cell_type": "code",
      "source": [
        "for i in categorical_columns:\n",
        "  selected_df_features[i] = selected_df_features[i].astype('category')\n",
        "selected_df_features.dtypes"
      ],
      "metadata": {
        "colab": {
          "base_uri": "https://localhost:8080/"
        },
        "id": "mGLZ72ZDjtLh",
        "outputId": "ff79a1fd-5de7-4176-da59-22d30e010a0e"
      },
      "execution_count": null,
      "outputs": [
        {
          "output_type": "execute_result",
          "data": {
            "text/plain": [
              "Age_at_Exam             int64\n",
              "sBP                   float64\n",
              "BMI                   float64\n",
              "LDL                   float64\n",
              "HDL                   float64\n",
              "A1c                   float64\n",
              "TG                    float64\n",
              "FBS                   float64\n",
              "FBS>DM                  int64\n",
              "Total_Cholesterol     float64\n",
              "Diabetes                int64\n",
              "HTN                     int64\n",
              "OA                      int64\n",
              "COPD                    int64\n",
              "Sex                  category\n",
              "A1C_BEF_DM           category\n",
              "FBS_BEF_DM           category\n",
              "Depression              int64\n",
              "Patient_ID              int64\n",
              "dtype: object"
            ]
          },
          "metadata": {},
          "execution_count": 27
        }
      ]
    },
    {
      "cell_type": "markdown",
      "source": [
        "**Split Data**"
      ],
      "metadata": {
        "id": "Knup-RxB1_x_"
      }
    },
    {
      "cell_type": "code",
      "source": [
        "data = selected_df_features\n",
        "\n",
        "# Randomly sample 70% of the data for training\n",
        "training_data = data.sample(frac = .7, random_state=10)\n",
        "\n",
        "# Use the remaining 30% for testing\n",
        "testing_data = data.drop(training_data.index)\n",
        "\n",
        "# Check the mean of the 'Depression' column in both training and testing data\n",
        "print(training_data['Depression'].mean())\n",
        "print(testing_data['Depression'].mean())"
      ],
      "metadata": {
        "colab": {
          "base_uri": "https://localhost:8080/"
        },
        "id": "Ev7xwFD81_Nf",
        "outputId": "20ebe22d-5437-4a8b-ca7f-f8dd1e148c84"
      },
      "execution_count": null,
      "outputs": [
        {
          "output_type": "stream",
          "name": "stdout",
          "text": [
            "0.21471428571428572\n",
            "0.20633333333333334\n"
          ]
        }
      ]
    },
    {
      "cell_type": "markdown",
      "source": [
        "**Imputation**"
      ],
      "metadata": {
        "id": "iL3moPds3Aut"
      }
    },
    {
      "cell_type": "code",
      "source": [
        "# Check missing values for training\n",
        "missing_val = training_data.isnull().sum()\n",
        "print(missing_val)"
      ],
      "metadata": {
        "colab": {
          "base_uri": "https://localhost:8080/"
        },
        "id": "hFPzKB_G2-_f",
        "outputId": "011875c8-9bd4-4995-dda7-6f3020342bef"
      },
      "execution_count": null,
      "outputs": [
        {
          "output_type": "stream",
          "name": "stdout",
          "text": [
            "Age_at_Exam            0\n",
            "sBP                    4\n",
            "BMI                   37\n",
            "LDL                   42\n",
            "HDL                   46\n",
            "A1c                    0\n",
            "TG                    40\n",
            "FBS                    0\n",
            "FBS>DM                 0\n",
            "Total_Cholesterol    143\n",
            "Diabetes               0\n",
            "HTN                    0\n",
            "OA                     0\n",
            "COPD                   0\n",
            "Sex                    0\n",
            "A1C_BEF_DM             0\n",
            "FBS_BEF_DM             0\n",
            "Depression             0\n",
            "Patient_ID             0\n",
            "dtype: int64\n"
          ]
        }
      ]
    },
    {
      "cell_type": "code",
      "source": [
        "# missing values & numerical data imputation\n",
        "for i in numerical_columns:\n",
        "  training_data[i].fillna(training_data[i].median(), inplace=True)\n",
        "missing_val = training_data.isnull().sum()\n",
        "print(missing_val)"
      ],
      "metadata": {
        "id": "lC8LhtTFHL7L",
        "colab": {
          "base_uri": "https://localhost:8080/"
        },
        "outputId": "24213c4f-c165-4505-a65e-2b6ffa9b4b30"
      },
      "execution_count": null,
      "outputs": [
        {
          "output_type": "stream",
          "name": "stdout",
          "text": [
            "Age_at_Exam          0\n",
            "sBP                  0\n",
            "BMI                  0\n",
            "LDL                  0\n",
            "HDL                  0\n",
            "A1c                  0\n",
            "TG                   0\n",
            "FBS                  0\n",
            "FBS>DM               0\n",
            "Total_Cholesterol    0\n",
            "Diabetes             0\n",
            "HTN                  0\n",
            "OA                   0\n",
            "COPD                 0\n",
            "Sex                  0\n",
            "A1C_BEF_DM           0\n",
            "FBS_BEF_DM           0\n",
            "Depression           0\n",
            "Patient_ID           0\n",
            "dtype: int64\n"
          ]
        }
      ]
    },
    {
      "cell_type": "code",
      "source": [
        "# Check missing values for testing\n",
        "missing_val = testing_data.isnull().sum()\n",
        "print(missing_val)"
      ],
      "metadata": {
        "colab": {
          "base_uri": "https://localhost:8080/"
        },
        "id": "Tu-jalc53N0j",
        "outputId": "321bedf7-8fc7-460c-d0e4-bf545570de89"
      },
      "execution_count": null,
      "outputs": [
        {
          "output_type": "stream",
          "name": "stdout",
          "text": [
            "Age_at_Exam           0\n",
            "sBP                   0\n",
            "BMI                  13\n",
            "LDL                  28\n",
            "HDL                  26\n",
            "A1c                   0\n",
            "TG                   13\n",
            "FBS                   1\n",
            "FBS>DM                0\n",
            "Total_Cholesterol    64\n",
            "Diabetes              0\n",
            "HTN                   0\n",
            "OA                    0\n",
            "COPD                  0\n",
            "Sex                   0\n",
            "A1C_BEF_DM            0\n",
            "FBS_BEF_DM            0\n",
            "Depression            0\n",
            "Patient_ID            0\n",
            "dtype: int64\n"
          ]
        }
      ]
    },
    {
      "cell_type": "code",
      "source": [
        "# missing values & numerical data imputation\n",
        "for i in numerical_columns:\n",
        "  testing_data[i].fillna(testing_data[i].median(), inplace=True)\n",
        "missing_val = testing_data.isnull().sum()\n",
        "print(missing_val)"
      ],
      "metadata": {
        "colab": {
          "base_uri": "https://localhost:8080/"
        },
        "id": "u6AItUNi3RIg",
        "outputId": "53e5309a-e4c2-4796-a1ee-23f1b0c7b9e9"
      },
      "execution_count": null,
      "outputs": [
        {
          "output_type": "stream",
          "name": "stdout",
          "text": [
            "Age_at_Exam          0\n",
            "sBP                  0\n",
            "BMI                  0\n",
            "LDL                  0\n",
            "HDL                  0\n",
            "A1c                  0\n",
            "TG                   0\n",
            "FBS                  0\n",
            "FBS>DM               0\n",
            "Total_Cholesterol    0\n",
            "Diabetes             0\n",
            "HTN                  0\n",
            "OA                   0\n",
            "COPD                 0\n",
            "Sex                  0\n",
            "A1C_BEF_DM           0\n",
            "FBS_BEF_DM           0\n",
            "Depression           0\n",
            "Patient_ID           0\n",
            "dtype: int64\n"
          ]
        }
      ]
    },
    {
      "cell_type": "code",
      "source": [
        "training_data.drop('Patient_ID', axis =1, inplace=True)\n",
        "testing_data.drop('Patient_ID', axis =1, inplace=True)"
      ],
      "metadata": {
        "id": "zGIKY4uy0UnZ"
      },
      "execution_count": null,
      "outputs": []
    },
    {
      "cell_type": "code",
      "source": [
        "train_nn = training_data.copy()\n",
        "test_nn = testing_data.copy()"
      ],
      "metadata": {
        "id": "p4H09JMgA6u1"
      },
      "execution_count": null,
      "outputs": []
    },
    {
      "cell_type": "markdown",
      "source": [
        "**Tree Classifier**"
      ],
      "metadata": {
        "id": "SKlT_12l3fyx"
      }
    },
    {
      "cell_type": "code",
      "source": [
        "new_categorical_columns = categorical_columns + boolean_columns\n",
        "# Initializing a column transformer that will handle categorical data encoding\n",
        "ct = ColumnTransformer([('one_hot_encoder', OneHotEncoder(), [c for c in new_categorical_columns])],\n",
        "                       remainder='passthrough')\n",
        "\n",
        "# Initializing a Decision Tree classifier\n",
        "dt = tree.DecisionTreeClassifier(criterion='entropy',class_weight='balanced')\n",
        "\n",
        "# Creating a pipeline that first preprocesses the data and then applies the decision tree\n",
        "model = Pipeline([\n",
        "    ('pre_process', ct),\n",
        "    ('DT', dt)\n",
        "])\n",
        "\n",
        "# Training the model on the training data\n",
        "model = model.fit(training_data.drop('Depression', axis=1), training_data['Depression'])\n",
        "\n",
        "# Predicting and evaluating the model's performance on the training data\n",
        "Y_pred = model.predict(training_data.drop('Depression', axis=1))\n",
        "accuracy_score(training_data['Depression'], Y_pred)"
      ],
      "metadata": {
        "colab": {
          "base_uri": "https://localhost:8080/"
        },
        "id": "_1UeF50A3h1j",
        "outputId": "b38d9d55-2efe-4944-881a-6b149b1b10e5"
      },
      "execution_count": null,
      "outputs": [
        {
          "output_type": "execute_result",
          "data": {
            "text/plain": [
              "1.0"
            ]
          },
          "metadata": {},
          "execution_count": 76
        }
      ]
    },
    {
      "cell_type": "code",
      "source": [
        "# Predicting and evaluating the model's performance on the test data\n",
        "Y_pred = model.predict(testing_data.drop('Depression', axis=1))\n",
        "accuracy_score(testing_data['Depression'], Y_pred)"
      ],
      "metadata": {
        "colab": {
          "base_uri": "https://localhost:8080/"
        },
        "id": "Pdbenu588mcA",
        "outputId": "65661dcd-742e-4bb0-f924-c73f4a37c8ba"
      },
      "execution_count": null,
      "outputs": [
        {
          "output_type": "execute_result",
          "data": {
            "text/plain": [
              "0.7033333333333334"
            ]
          },
          "metadata": {},
          "execution_count": 77
        }
      ]
    },
    {
      "cell_type": "code",
      "source": [
        "# Define the hyperparameter values that should be tested\n",
        "param_dist = {\n",
        "    \"DT__max_depth\" : [5, 10, 15, 20 ,25, 30, 35],\n",
        "    \"DT__min_samples_leaf\" : [5, 10, 15, 20 ,25],\n",
        "    \"DT__splitter\" : ['best', 'random'],\n",
        "    \"DT__max_features\" : ['sqrt', 'log2']\n",
        "}\n",
        "\n",
        "# Setting up Stratified K-Fold cross-validation\n",
        "skf = StratifiedKFold(n_splits=5)\n",
        "\n",
        "# Initialize Grid Search with the model and the hyperparameters to search\n",
        "random_search = GridSearchCV(\n",
        "    model, param_grid=param_dist, cv=skf\n",
        ")\n",
        "\n",
        "# Train Grid Search on the training data\n",
        "random_search.fit(training_data.drop('Depression', axis=1), training_data['Depression'])\n",
        "\n",
        "# Extract results into a DataFrame\n",
        "results = pd.DataFrame(random_search.cv_results_)\n",
        "\n",
        "# Display the set of parameters that achieved the best score\n",
        "results[results['rank_test_score'] == 1]\n"
      ],
      "metadata": {
        "colab": {
          "base_uri": "https://localhost:8080/",
          "height": 153
        },
        "id": "WW6oujsg8xxk",
        "outputId": "4da2d5a9-940d-4227-8308-57f34486a241"
      },
      "execution_count": null,
      "outputs": [
        {
          "output_type": "execute_result",
          "data": {
            "text/plain": [
              "    mean_fit_time  std_fit_time  mean_score_time  std_score_time  \\\n",
              "80       0.049845      0.003503         0.010238        0.001938   \n",
              "\n",
              "   param_DT__max_depth param_DT__max_features param_DT__min_samples_leaf  \\\n",
              "80                  25                   sqrt                          5   \n",
              "\n",
              "   param_DT__splitter                                             params  \\\n",
              "80               best  {'DT__max_depth': 25, 'DT__max_features': 'sqr...   \n",
              "\n",
              "    split0_test_score  split1_test_score  split2_test_score  \\\n",
              "80           0.627857           0.642857           0.622857   \n",
              "\n",
              "    split3_test_score  split4_test_score  mean_test_score  std_test_score  \\\n",
              "80           0.596429           0.632143         0.624429        0.015475   \n",
              "\n",
              "    rank_test_score  \n",
              "80                1  "
            ],
            "text/html": [
              "\n",
              "  <div id=\"df-0eeed83e-020d-40d2-9129-a6561a114c0e\" class=\"colab-df-container\">\n",
              "    <div>\n",
              "<style scoped>\n",
              "    .dataframe tbody tr th:only-of-type {\n",
              "        vertical-align: middle;\n",
              "    }\n",
              "\n",
              "    .dataframe tbody tr th {\n",
              "        vertical-align: top;\n",
              "    }\n",
              "\n",
              "    .dataframe thead th {\n",
              "        text-align: right;\n",
              "    }\n",
              "</style>\n",
              "<table border=\"1\" class=\"dataframe\">\n",
              "  <thead>\n",
              "    <tr style=\"text-align: right;\">\n",
              "      <th></th>\n",
              "      <th>mean_fit_time</th>\n",
              "      <th>std_fit_time</th>\n",
              "      <th>mean_score_time</th>\n",
              "      <th>std_score_time</th>\n",
              "      <th>param_DT__max_depth</th>\n",
              "      <th>param_DT__max_features</th>\n",
              "      <th>param_DT__min_samples_leaf</th>\n",
              "      <th>param_DT__splitter</th>\n",
              "      <th>params</th>\n",
              "      <th>split0_test_score</th>\n",
              "      <th>split1_test_score</th>\n",
              "      <th>split2_test_score</th>\n",
              "      <th>split3_test_score</th>\n",
              "      <th>split4_test_score</th>\n",
              "      <th>mean_test_score</th>\n",
              "      <th>std_test_score</th>\n",
              "      <th>rank_test_score</th>\n",
              "    </tr>\n",
              "  </thead>\n",
              "  <tbody>\n",
              "    <tr>\n",
              "      <th>80</th>\n",
              "      <td>0.049845</td>\n",
              "      <td>0.003503</td>\n",
              "      <td>0.010238</td>\n",
              "      <td>0.001938</td>\n",
              "      <td>25</td>\n",
              "      <td>sqrt</td>\n",
              "      <td>5</td>\n",
              "      <td>best</td>\n",
              "      <td>{'DT__max_depth': 25, 'DT__max_features': 'sqr...</td>\n",
              "      <td>0.627857</td>\n",
              "      <td>0.642857</td>\n",
              "      <td>0.622857</td>\n",
              "      <td>0.596429</td>\n",
              "      <td>0.632143</td>\n",
              "      <td>0.624429</td>\n",
              "      <td>0.015475</td>\n",
              "      <td>1</td>\n",
              "    </tr>\n",
              "  </tbody>\n",
              "</table>\n",
              "</div>\n",
              "    <div class=\"colab-df-buttons\">\n",
              "\n",
              "  <div class=\"colab-df-container\">\n",
              "    <button class=\"colab-df-convert\" onclick=\"convertToInteractive('df-0eeed83e-020d-40d2-9129-a6561a114c0e')\"\n",
              "            title=\"Convert this dataframe to an interactive table.\"\n",
              "            style=\"display:none;\">\n",
              "\n",
              "  <svg xmlns=\"http://www.w3.org/2000/svg\" height=\"24px\" viewBox=\"0 -960 960 960\">\n",
              "    <path d=\"M120-120v-720h720v720H120Zm60-500h600v-160H180v160Zm220 220h160v-160H400v160Zm0 220h160v-160H400v160ZM180-400h160v-160H180v160Zm440 0h160v-160H620v160ZM180-180h160v-160H180v160Zm440 0h160v-160H620v160Z\"/>\n",
              "  </svg>\n",
              "    </button>\n",
              "\n",
              "  <style>\n",
              "    .colab-df-container {\n",
              "      display:flex;\n",
              "      gap: 12px;\n",
              "    }\n",
              "\n",
              "    .colab-df-convert {\n",
              "      background-color: #E8F0FE;\n",
              "      border: none;\n",
              "      border-radius: 50%;\n",
              "      cursor: pointer;\n",
              "      display: none;\n",
              "      fill: #1967D2;\n",
              "      height: 32px;\n",
              "      padding: 0 0 0 0;\n",
              "      width: 32px;\n",
              "    }\n",
              "\n",
              "    .colab-df-convert:hover {\n",
              "      background-color: #E2EBFA;\n",
              "      box-shadow: 0px 1px 2px rgba(60, 64, 67, 0.3), 0px 1px 3px 1px rgba(60, 64, 67, 0.15);\n",
              "      fill: #174EA6;\n",
              "    }\n",
              "\n",
              "    .colab-df-buttons div {\n",
              "      margin-bottom: 4px;\n",
              "    }\n",
              "\n",
              "    [theme=dark] .colab-df-convert {\n",
              "      background-color: #3B4455;\n",
              "      fill: #D2E3FC;\n",
              "    }\n",
              "\n",
              "    [theme=dark] .colab-df-convert:hover {\n",
              "      background-color: #434B5C;\n",
              "      box-shadow: 0px 1px 3px 1px rgba(0, 0, 0, 0.15);\n",
              "      filter: drop-shadow(0px 1px 2px rgba(0, 0, 0, 0.3));\n",
              "      fill: #FFFFFF;\n",
              "    }\n",
              "  </style>\n",
              "\n",
              "    <script>\n",
              "      const buttonEl =\n",
              "        document.querySelector('#df-0eeed83e-020d-40d2-9129-a6561a114c0e button.colab-df-convert');\n",
              "      buttonEl.style.display =\n",
              "        google.colab.kernel.accessAllowed ? 'block' : 'none';\n",
              "\n",
              "      async function convertToInteractive(key) {\n",
              "        const element = document.querySelector('#df-0eeed83e-020d-40d2-9129-a6561a114c0e');\n",
              "        const dataTable =\n",
              "          await google.colab.kernel.invokeFunction('convertToInteractive',\n",
              "                                                    [key], {});\n",
              "        if (!dataTable) return;\n",
              "\n",
              "        const docLinkHtml = 'Like what you see? Visit the ' +\n",
              "          '<a target=\"_blank\" href=https://colab.research.google.com/notebooks/data_table.ipynb>data table notebook</a>'\n",
              "          + ' to learn more about interactive tables.';\n",
              "        element.innerHTML = '';\n",
              "        dataTable['output_type'] = 'display_data';\n",
              "        await google.colab.output.renderOutput(dataTable, element);\n",
              "        const docLink = document.createElement('div');\n",
              "        docLink.innerHTML = docLinkHtml;\n",
              "        element.appendChild(docLink);\n",
              "      }\n",
              "    </script>\n",
              "  </div>\n",
              "\n",
              "    </div>\n",
              "  </div>\n"
            ]
          },
          "metadata": {},
          "execution_count": 78
        }
      ]
    },
    {
      "cell_type": "code",
      "source": [
        "# Retrieve the best hyperparameters after Grid Search\n",
        "random_search.best_params_"
      ],
      "metadata": {
        "colab": {
          "base_uri": "https://localhost:8080/"
        },
        "id": "kQ756RW283EW",
        "outputId": "8155f502-7e11-40a8-c442-0c30b099d769"
      },
      "execution_count": null,
      "outputs": [
        {
          "output_type": "execute_result",
          "data": {
            "text/plain": [
              "{'DT__max_depth': 25,\n",
              " 'DT__max_features': 'sqrt',\n",
              " 'DT__min_samples_leaf': 5,\n",
              " 'DT__splitter': 'best'}"
            ]
          },
          "metadata": {},
          "execution_count": 79
        }
      ]
    },
    {
      "cell_type": "code",
      "source": [
        "# Update the model's hyperparameters to the best found during Grid Search\n",
        "model = model.set_params(**random_search.best_params_)\n",
        "\n",
        "# Refit the model using the training data\n",
        "model = model.fit(training_data.drop('Depression', axis=1), training_data['Depression'])\n",
        "\n",
        "# Make predictions on the training set and compute the accuracy\n",
        "Y_pred = model.predict(training_data.drop('Depression', axis=1))\n",
        "train_accuracy = accuracy_score(training_data['Depression'], Y_pred)\n",
        "print(train_accuracy)\n",
        "\n",
        "# Make predictions on the test set and compute the accuracy\n",
        "Y_pred = model.predict(testing_data.drop('Depression', axis=1))\n",
        "test_accuracy = accuracy_score(testing_data['Depression'], Y_pred)\n",
        "print(test_accuracy)"
      ],
      "metadata": {
        "colab": {
          "base_uri": "https://localhost:8080/"
        },
        "id": "PUkXh3vC85D3",
        "outputId": "820efddf-f88b-4c3d-fb76-dbe38c70dc84"
      },
      "execution_count": null,
      "outputs": [
        {
          "output_type": "stream",
          "name": "stdout",
          "text": [
            "0.7994285714285714\n",
            "0.5966666666666667\n"
          ]
        }
      ]
    },
    {
      "cell_type": "code",
      "source": [
        "print(confusion_matrix(testing_data['Depression'], Y_pred))\n",
        "print(classification_report(testing_data['Depression'], Y_pred))"
      ],
      "metadata": {
        "colab": {
          "base_uri": "https://localhost:8080/"
        },
        "id": "aH4iygOCts-D",
        "outputId": "f732e8f4-87db-4f12-f570-57e70f482e9e"
      },
      "execution_count": null,
      "outputs": [
        {
          "output_type": "stream",
          "name": "stdout",
          "text": [
            "[[1517  864]\n",
            " [ 346  273]]\n",
            "              precision    recall  f1-score   support\n",
            "\n",
            "           0       0.81      0.64      0.71      2381\n",
            "           1       0.24      0.44      0.31       619\n",
            "\n",
            "    accuracy                           0.60      3000\n",
            "   macro avg       0.53      0.54      0.51      3000\n",
            "weighted avg       0.70      0.60      0.63      3000\n",
            "\n"
          ]
        }
      ]
    },
    {
      "cell_type": "code",
      "source": [
        "print(confusion_matrix(testing_data['Depression'], Y_pred))\n",
        "print(classification_report(testing_data['Depression'], Y_pred))"
      ],
      "metadata": {
        "colab": {
          "base_uri": "https://localhost:8080/"
        },
        "id": "YRTNbilbk1Mp",
        "outputId": "fdb3aa9f-244f-4a5f-8a6d-aa7310652e6e"
      },
      "execution_count": null,
      "outputs": [
        {
          "output_type": "stream",
          "name": "stdout",
          "text": [
            "[[1601  780]\n",
            " [ 344  275]]\n",
            "              precision    recall  f1-score   support\n",
            "\n",
            "           0       0.82      0.67      0.74      2381\n",
            "           1       0.26      0.44      0.33       619\n",
            "\n",
            "    accuracy                           0.63      3000\n",
            "   macro avg       0.54      0.56      0.53      3000\n",
            "weighted avg       0.71      0.63      0.66      3000\n",
            "\n"
          ]
        }
      ]
    },
    {
      "cell_type": "markdown",
      "source": [
        "**Random Forest**"
      ],
      "metadata": {
        "id": "_Kn14idx9FXu"
      }
    },
    {
      "cell_type": "code",
      "source": [
        "# Set up a column transformer which will preprocess the data\n",
        "\n",
        "ct = ColumnTransformer([('one_hot_encoder', OneHotEncoder(), [c for c in new_categorical_columns])],\n",
        "                       remainder='passthrough')\n",
        "\n",
        "# Initialize a Random Forest classifier\n",
        "# The criterion 'entropy' measures the quality of a split by how mixed the classes are in two groups\n",
        "# class_weight 'balanced_subsample' is used to handle imbalanced classes. It computes weights based on the bootstrap sample for every tree grown.\n",
        "# oob_score is set to True to use out-of-bag samples to estimate the generalization accuracy\n",
        "random_forest = RandomForestClassifier(criterion='entropy', class_weight='balanced_subsample', oob_score=True)\n",
        "\n",
        "# Creating a pipeline which first applies the column transformer preprocessing, then fits the Random Forest model\n",
        "model = Pipeline([\n",
        "    ('pre_process', ct),\n",
        "    ('random_forest', random_forest)\n",
        "])\n",
        "\n",
        "# Display the pipeline architecture\n",
        "model"
      ],
      "metadata": {
        "colab": {
          "base_uri": "https://localhost:8080/",
          "height": 192
        },
        "id": "fidmzVCQ9Knm",
        "outputId": "e9103cec-4b33-48d4-8067-114627a38dfa"
      },
      "execution_count": null,
      "outputs": [
        {
          "output_type": "execute_result",
          "data": {
            "text/plain": [
              "Pipeline(steps=[('pre_process',\n",
              "                 ColumnTransformer(remainder='passthrough',\n",
              "                                   transformers=[('one_hot_encoder',\n",
              "                                                  OneHotEncoder(),\n",
              "                                                  ['Sex', 'A1C_BEF_DM',\n",
              "                                                   'FBS_BEF_DM', 'HTN', 'OA',\n",
              "                                                   'COPD', 'FBS>DM',\n",
              "                                                   'Diabetes'])])),\n",
              "                ('random_forest',\n",
              "                 RandomForestClassifier(class_weight='balanced_subsample',\n",
              "                                        criterion='entropy', oob_score=True))])"
            ],
            "text/html": [
              "<style>#sk-container-id-1 {color: black;}#sk-container-id-1 pre{padding: 0;}#sk-container-id-1 div.sk-toggleable {background-color: white;}#sk-container-id-1 label.sk-toggleable__label {cursor: pointer;display: block;width: 100%;margin-bottom: 0;padding: 0.3em;box-sizing: border-box;text-align: center;}#sk-container-id-1 label.sk-toggleable__label-arrow:before {content: \"▸\";float: left;margin-right: 0.25em;color: #696969;}#sk-container-id-1 label.sk-toggleable__label-arrow:hover:before {color: black;}#sk-container-id-1 div.sk-estimator:hover label.sk-toggleable__label-arrow:before {color: black;}#sk-container-id-1 div.sk-toggleable__content {max-height: 0;max-width: 0;overflow: hidden;text-align: left;background-color: #f0f8ff;}#sk-container-id-1 div.sk-toggleable__content pre {margin: 0.2em;color: black;border-radius: 0.25em;background-color: #f0f8ff;}#sk-container-id-1 input.sk-toggleable__control:checked~div.sk-toggleable__content {max-height: 200px;max-width: 100%;overflow: auto;}#sk-container-id-1 input.sk-toggleable__control:checked~label.sk-toggleable__label-arrow:before {content: \"▾\";}#sk-container-id-1 div.sk-estimator input.sk-toggleable__control:checked~label.sk-toggleable__label {background-color: #d4ebff;}#sk-container-id-1 div.sk-label input.sk-toggleable__control:checked~label.sk-toggleable__label {background-color: #d4ebff;}#sk-container-id-1 input.sk-hidden--visually {border: 0;clip: rect(1px 1px 1px 1px);clip: rect(1px, 1px, 1px, 1px);height: 1px;margin: -1px;overflow: hidden;padding: 0;position: absolute;width: 1px;}#sk-container-id-1 div.sk-estimator {font-family: monospace;background-color: #f0f8ff;border: 1px dotted black;border-radius: 0.25em;box-sizing: border-box;margin-bottom: 0.5em;}#sk-container-id-1 div.sk-estimator:hover {background-color: #d4ebff;}#sk-container-id-1 div.sk-parallel-item::after {content: \"\";width: 100%;border-bottom: 1px solid gray;flex-grow: 1;}#sk-container-id-1 div.sk-label:hover label.sk-toggleable__label {background-color: #d4ebff;}#sk-container-id-1 div.sk-serial::before {content: \"\";position: absolute;border-left: 1px solid gray;box-sizing: border-box;top: 0;bottom: 0;left: 50%;z-index: 0;}#sk-container-id-1 div.sk-serial {display: flex;flex-direction: column;align-items: center;background-color: white;padding-right: 0.2em;padding-left: 0.2em;position: relative;}#sk-container-id-1 div.sk-item {position: relative;z-index: 1;}#sk-container-id-1 div.sk-parallel {display: flex;align-items: stretch;justify-content: center;background-color: white;position: relative;}#sk-container-id-1 div.sk-item::before, #sk-container-id-1 div.sk-parallel-item::before {content: \"\";position: absolute;border-left: 1px solid gray;box-sizing: border-box;top: 0;bottom: 0;left: 50%;z-index: -1;}#sk-container-id-1 div.sk-parallel-item {display: flex;flex-direction: column;z-index: 1;position: relative;background-color: white;}#sk-container-id-1 div.sk-parallel-item:first-child::after {align-self: flex-end;width: 50%;}#sk-container-id-1 div.sk-parallel-item:last-child::after {align-self: flex-start;width: 50%;}#sk-container-id-1 div.sk-parallel-item:only-child::after {width: 0;}#sk-container-id-1 div.sk-dashed-wrapped {border: 1px dashed gray;margin: 0 0.4em 0.5em 0.4em;box-sizing: border-box;padding-bottom: 0.4em;background-color: white;}#sk-container-id-1 div.sk-label label {font-family: monospace;font-weight: bold;display: inline-block;line-height: 1.2em;}#sk-container-id-1 div.sk-label-container {text-align: center;}#sk-container-id-1 div.sk-container {/* jupyter's `normalize.less` sets `[hidden] { display: none; }` but bootstrap.min.css set `[hidden] { display: none !important; }` so we also need the `!important` here to be able to override the default hidden behavior on the sphinx rendered scikit-learn.org. See: https://github.com/scikit-learn/scikit-learn/issues/21755 */display: inline-block !important;position: relative;}#sk-container-id-1 div.sk-text-repr-fallback {display: none;}</style><div id=\"sk-container-id-1\" class=\"sk-top-container\"><div class=\"sk-text-repr-fallback\"><pre>Pipeline(steps=[(&#x27;pre_process&#x27;,\n",
              "                 ColumnTransformer(remainder=&#x27;passthrough&#x27;,\n",
              "                                   transformers=[(&#x27;one_hot_encoder&#x27;,\n",
              "                                                  OneHotEncoder(),\n",
              "                                                  [&#x27;Sex&#x27;, &#x27;A1C_BEF_DM&#x27;,\n",
              "                                                   &#x27;FBS_BEF_DM&#x27;, &#x27;HTN&#x27;, &#x27;OA&#x27;,\n",
              "                                                   &#x27;COPD&#x27;, &#x27;FBS&gt;DM&#x27;,\n",
              "                                                   &#x27;Diabetes&#x27;])])),\n",
              "                (&#x27;random_forest&#x27;,\n",
              "                 RandomForestClassifier(class_weight=&#x27;balanced_subsample&#x27;,\n",
              "                                        criterion=&#x27;entropy&#x27;, oob_score=True))])</pre><b>In a Jupyter environment, please rerun this cell to show the HTML representation or trust the notebook. <br />On GitHub, the HTML representation is unable to render, please try loading this page with nbviewer.org.</b></div><div class=\"sk-container\" hidden><div class=\"sk-item sk-dashed-wrapped\"><div class=\"sk-label-container\"><div class=\"sk-label sk-toggleable\"><input class=\"sk-toggleable__control sk-hidden--visually\" id=\"sk-estimator-id-1\" type=\"checkbox\" ><label for=\"sk-estimator-id-1\" class=\"sk-toggleable__label sk-toggleable__label-arrow\">Pipeline</label><div class=\"sk-toggleable__content\"><pre>Pipeline(steps=[(&#x27;pre_process&#x27;,\n",
              "                 ColumnTransformer(remainder=&#x27;passthrough&#x27;,\n",
              "                                   transformers=[(&#x27;one_hot_encoder&#x27;,\n",
              "                                                  OneHotEncoder(),\n",
              "                                                  [&#x27;Sex&#x27;, &#x27;A1C_BEF_DM&#x27;,\n",
              "                                                   &#x27;FBS_BEF_DM&#x27;, &#x27;HTN&#x27;, &#x27;OA&#x27;,\n",
              "                                                   &#x27;COPD&#x27;, &#x27;FBS&gt;DM&#x27;,\n",
              "                                                   &#x27;Diabetes&#x27;])])),\n",
              "                (&#x27;random_forest&#x27;,\n",
              "                 RandomForestClassifier(class_weight=&#x27;balanced_subsample&#x27;,\n",
              "                                        criterion=&#x27;entropy&#x27;, oob_score=True))])</pre></div></div></div><div class=\"sk-serial\"><div class=\"sk-item sk-dashed-wrapped\"><div class=\"sk-label-container\"><div class=\"sk-label sk-toggleable\"><input class=\"sk-toggleable__control sk-hidden--visually\" id=\"sk-estimator-id-2\" type=\"checkbox\" ><label for=\"sk-estimator-id-2\" class=\"sk-toggleable__label sk-toggleable__label-arrow\">pre_process: ColumnTransformer</label><div class=\"sk-toggleable__content\"><pre>ColumnTransformer(remainder=&#x27;passthrough&#x27;,\n",
              "                  transformers=[(&#x27;one_hot_encoder&#x27;, OneHotEncoder(),\n",
              "                                 [&#x27;Sex&#x27;, &#x27;A1C_BEF_DM&#x27;, &#x27;FBS_BEF_DM&#x27;, &#x27;HTN&#x27;,\n",
              "                                  &#x27;OA&#x27;, &#x27;COPD&#x27;, &#x27;FBS&gt;DM&#x27;, &#x27;Diabetes&#x27;])])</pre></div></div></div><div class=\"sk-parallel\"><div class=\"sk-parallel-item\"><div class=\"sk-item\"><div class=\"sk-label-container\"><div class=\"sk-label sk-toggleable\"><input class=\"sk-toggleable__control sk-hidden--visually\" id=\"sk-estimator-id-3\" type=\"checkbox\" ><label for=\"sk-estimator-id-3\" class=\"sk-toggleable__label sk-toggleable__label-arrow\">one_hot_encoder</label><div class=\"sk-toggleable__content\"><pre>[&#x27;Sex&#x27;, &#x27;A1C_BEF_DM&#x27;, &#x27;FBS_BEF_DM&#x27;, &#x27;HTN&#x27;, &#x27;OA&#x27;, &#x27;COPD&#x27;, &#x27;FBS&gt;DM&#x27;, &#x27;Diabetes&#x27;]</pre></div></div></div><div class=\"sk-serial\"><div class=\"sk-item\"><div class=\"sk-estimator sk-toggleable\"><input class=\"sk-toggleable__control sk-hidden--visually\" id=\"sk-estimator-id-4\" type=\"checkbox\" ><label for=\"sk-estimator-id-4\" class=\"sk-toggleable__label sk-toggleable__label-arrow\">OneHotEncoder</label><div class=\"sk-toggleable__content\"><pre>OneHotEncoder()</pre></div></div></div></div></div></div><div class=\"sk-parallel-item\"><div class=\"sk-item\"><div class=\"sk-label-container\"><div class=\"sk-label sk-toggleable\"><input class=\"sk-toggleable__control sk-hidden--visually\" id=\"sk-estimator-id-5\" type=\"checkbox\" ><label for=\"sk-estimator-id-5\" class=\"sk-toggleable__label sk-toggleable__label-arrow\">remainder</label><div class=\"sk-toggleable__content\"><pre></pre></div></div></div><div class=\"sk-serial\"><div class=\"sk-item\"><div class=\"sk-estimator sk-toggleable\"><input class=\"sk-toggleable__control sk-hidden--visually\" id=\"sk-estimator-id-6\" type=\"checkbox\" ><label for=\"sk-estimator-id-6\" class=\"sk-toggleable__label sk-toggleable__label-arrow\">passthrough</label><div class=\"sk-toggleable__content\"><pre>passthrough</pre></div></div></div></div></div></div></div></div><div class=\"sk-item\"><div class=\"sk-estimator sk-toggleable\"><input class=\"sk-toggleable__control sk-hidden--visually\" id=\"sk-estimator-id-7\" type=\"checkbox\" ><label for=\"sk-estimator-id-7\" class=\"sk-toggleable__label sk-toggleable__label-arrow\">RandomForestClassifier</label><div class=\"sk-toggleable__content\"><pre>RandomForestClassifier(class_weight=&#x27;balanced_subsample&#x27;, criterion=&#x27;entropy&#x27;,\n",
              "                       oob_score=True)</pre></div></div></div></div></div></div></div>"
            ]
          },
          "metadata": {},
          "execution_count": 45
        }
      ]
    },
    {
      "cell_type": "code",
      "source": [
        "# Using the pipeline model to train on the training data.\n",
        "# Dropping the target column ('Depression') from the input features.\n",
        "model = model.fit(training_data.drop('Depression', axis=1), training_data['Depression'])\n",
        "\n",
        "# Predicting the target variable on the training set and evaluating the model's accuracy.\n",
        "Y_pred = model.predict(training_data.drop('Depression', axis=1))\n",
        "accuracy_score(training_data['Depression'], Y_pred)\n",
        "\n",
        "# Predicting the target variable on the test set and evaluating the model's accuracy.\n",
        "Y_pred = model.predict(testing_data.drop('Depression', axis=1))\n",
        "accuracy_score(testing_data['Depression'], Y_pred)"
      ],
      "metadata": {
        "colab": {
          "base_uri": "https://localhost:8080/"
        },
        "id": "923Ia3QX9SfX",
        "outputId": "d02b64e8-b8a9-4d00-ee09-267b93633a0f"
      },
      "execution_count": null,
      "outputs": [
        {
          "output_type": "execute_result",
          "data": {
            "text/plain": [
              "0.8043333333333333"
            ]
          },
          "metadata": {},
          "execution_count": 46
        }
      ]
    },
    {
      "cell_type": "code",
      "source": [
        "# Setting hyperparameters for Random Forest for the Grid Search.\n",
        "param_dist = {\n",
        "    \"random_forest__n_estimators\" : [200],\n",
        "    \"random_forest__max_depth\" : [5, 10, 15],\n",
        "    \"random_forest__min_samples_leaf\" : [15, 20 ,25],\n",
        "    \"random_forest__max_features\" : ['sqrt']\n",
        "}\n",
        "\n",
        "# Initializing stratified K-fold cross-validation. This ensures each fold has the same proportion of target labels as the whole dataset.\n",
        "skf = StratifiedKFold(n_splits=5)\n",
        "\n",
        "# Setting up GridSearchCV to search through the parameter space.\n",
        "# It will evaluate the model for each combination of hyperparameters provided using stratified K-fold cross-validation.\n",
        "random_search = GridSearchCV(\n",
        "    model, param_grid=param_dist, cv=skf\n",
        ")\n",
        "\n",
        "# Running the GridSearchCV on the training data.\n",
        "random_search.fit(training_data.drop('Depression', axis=1), training_data['Depression'])\n",
        "\n",
        "# Extracting the results of the Grid Search into a DataFrame for analysis.\n",
        "results = pd.DataFrame(random_search.cv_results_)\n",
        "\n",
        "# Filtering to get the rows with the best performing hyperparameters.\n",
        "results[results['rank_test_score'] == 1]"
      ],
      "metadata": {
        "colab": {
          "base_uri": "https://localhost:8080/",
          "height": 118
        },
        "id": "blOo3j8-96y9",
        "outputId": "682166a4-b7be-4d54-f111-d4eb6031c51a"
      },
      "execution_count": null,
      "outputs": [
        {
          "output_type": "execute_result",
          "data": {
            "text/plain": [
              "   mean_fit_time  std_fit_time  mean_score_time  std_score_time  \\\n",
              "6       1.792748      0.223214         0.050672        0.004852   \n",
              "\n",
              "  param_random_forest__max_depth param_random_forest__max_features  \\\n",
              "6                             15                              sqrt   \n",
              "\n",
              "  param_random_forest__min_samples_leaf param_random_forest__n_estimators  \\\n",
              "6                                    15                               200   \n",
              "\n",
              "                                              params  split0_test_score  \\\n",
              "6  {'random_forest__max_depth': 15, 'random_fores...           0.717143   \n",
              "\n",
              "   split1_test_score  split2_test_score  split3_test_score  split4_test_score  \\\n",
              "6           0.696429           0.722857           0.709286           0.720714   \n",
              "\n",
              "   mean_test_score  std_test_score  rank_test_score  \n",
              "6         0.713286        0.009611                1  "
            ],
            "text/html": [
              "\n",
              "  <div id=\"df-e3273cd0-5b03-49a3-b3e2-1a69dc2456c9\" class=\"colab-df-container\">\n",
              "    <div>\n",
              "<style scoped>\n",
              "    .dataframe tbody tr th:only-of-type {\n",
              "        vertical-align: middle;\n",
              "    }\n",
              "\n",
              "    .dataframe tbody tr th {\n",
              "        vertical-align: top;\n",
              "    }\n",
              "\n",
              "    .dataframe thead th {\n",
              "        text-align: right;\n",
              "    }\n",
              "</style>\n",
              "<table border=\"1\" class=\"dataframe\">\n",
              "  <thead>\n",
              "    <tr style=\"text-align: right;\">\n",
              "      <th></th>\n",
              "      <th>mean_fit_time</th>\n",
              "      <th>std_fit_time</th>\n",
              "      <th>mean_score_time</th>\n",
              "      <th>std_score_time</th>\n",
              "      <th>param_random_forest__max_depth</th>\n",
              "      <th>param_random_forest__max_features</th>\n",
              "      <th>param_random_forest__min_samples_leaf</th>\n",
              "      <th>param_random_forest__n_estimators</th>\n",
              "      <th>params</th>\n",
              "      <th>split0_test_score</th>\n",
              "      <th>split1_test_score</th>\n",
              "      <th>split2_test_score</th>\n",
              "      <th>split3_test_score</th>\n",
              "      <th>split4_test_score</th>\n",
              "      <th>mean_test_score</th>\n",
              "      <th>std_test_score</th>\n",
              "      <th>rank_test_score</th>\n",
              "    </tr>\n",
              "  </thead>\n",
              "  <tbody>\n",
              "    <tr>\n",
              "      <th>6</th>\n",
              "      <td>1.792748</td>\n",
              "      <td>0.223214</td>\n",
              "      <td>0.050672</td>\n",
              "      <td>0.004852</td>\n",
              "      <td>15</td>\n",
              "      <td>sqrt</td>\n",
              "      <td>15</td>\n",
              "      <td>200</td>\n",
              "      <td>{'random_forest__max_depth': 15, 'random_fores...</td>\n",
              "      <td>0.717143</td>\n",
              "      <td>0.696429</td>\n",
              "      <td>0.722857</td>\n",
              "      <td>0.709286</td>\n",
              "      <td>0.720714</td>\n",
              "      <td>0.713286</td>\n",
              "      <td>0.009611</td>\n",
              "      <td>1</td>\n",
              "    </tr>\n",
              "  </tbody>\n",
              "</table>\n",
              "</div>\n",
              "    <div class=\"colab-df-buttons\">\n",
              "\n",
              "  <div class=\"colab-df-container\">\n",
              "    <button class=\"colab-df-convert\" onclick=\"convertToInteractive('df-e3273cd0-5b03-49a3-b3e2-1a69dc2456c9')\"\n",
              "            title=\"Convert this dataframe to an interactive table.\"\n",
              "            style=\"display:none;\">\n",
              "\n",
              "  <svg xmlns=\"http://www.w3.org/2000/svg\" height=\"24px\" viewBox=\"0 -960 960 960\">\n",
              "    <path d=\"M120-120v-720h720v720H120Zm60-500h600v-160H180v160Zm220 220h160v-160H400v160Zm0 220h160v-160H400v160ZM180-400h160v-160H180v160Zm440 0h160v-160H620v160ZM180-180h160v-160H180v160Zm440 0h160v-160H620v160Z\"/>\n",
              "  </svg>\n",
              "    </button>\n",
              "\n",
              "  <style>\n",
              "    .colab-df-container {\n",
              "      display:flex;\n",
              "      gap: 12px;\n",
              "    }\n",
              "\n",
              "    .colab-df-convert {\n",
              "      background-color: #E8F0FE;\n",
              "      border: none;\n",
              "      border-radius: 50%;\n",
              "      cursor: pointer;\n",
              "      display: none;\n",
              "      fill: #1967D2;\n",
              "      height: 32px;\n",
              "      padding: 0 0 0 0;\n",
              "      width: 32px;\n",
              "    }\n",
              "\n",
              "    .colab-df-convert:hover {\n",
              "      background-color: #E2EBFA;\n",
              "      box-shadow: 0px 1px 2px rgba(60, 64, 67, 0.3), 0px 1px 3px 1px rgba(60, 64, 67, 0.15);\n",
              "      fill: #174EA6;\n",
              "    }\n",
              "\n",
              "    .colab-df-buttons div {\n",
              "      margin-bottom: 4px;\n",
              "    }\n",
              "\n",
              "    [theme=dark] .colab-df-convert {\n",
              "      background-color: #3B4455;\n",
              "      fill: #D2E3FC;\n",
              "    }\n",
              "\n",
              "    [theme=dark] .colab-df-convert:hover {\n",
              "      background-color: #434B5C;\n",
              "      box-shadow: 0px 1px 3px 1px rgba(0, 0, 0, 0.15);\n",
              "      filter: drop-shadow(0px 1px 2px rgba(0, 0, 0, 0.3));\n",
              "      fill: #FFFFFF;\n",
              "    }\n",
              "  </style>\n",
              "\n",
              "    <script>\n",
              "      const buttonEl =\n",
              "        document.querySelector('#df-e3273cd0-5b03-49a3-b3e2-1a69dc2456c9 button.colab-df-convert');\n",
              "      buttonEl.style.display =\n",
              "        google.colab.kernel.accessAllowed ? 'block' : 'none';\n",
              "\n",
              "      async function convertToInteractive(key) {\n",
              "        const element = document.querySelector('#df-e3273cd0-5b03-49a3-b3e2-1a69dc2456c9');\n",
              "        const dataTable =\n",
              "          await google.colab.kernel.invokeFunction('convertToInteractive',\n",
              "                                                    [key], {});\n",
              "        if (!dataTable) return;\n",
              "\n",
              "        const docLinkHtml = 'Like what you see? Visit the ' +\n",
              "          '<a target=\"_blank\" href=https://colab.research.google.com/notebooks/data_table.ipynb>data table notebook</a>'\n",
              "          + ' to learn more about interactive tables.';\n",
              "        element.innerHTML = '';\n",
              "        dataTable['output_type'] = 'display_data';\n",
              "        await google.colab.output.renderOutput(dataTable, element);\n",
              "        const docLink = document.createElement('div');\n",
              "        docLink.innerHTML = docLinkHtml;\n",
              "        element.appendChild(docLink);\n",
              "      }\n",
              "    </script>\n",
              "  </div>\n",
              "\n",
              "    </div>\n",
              "  </div>\n"
            ]
          },
          "metadata": {},
          "execution_count": 47
        }
      ]
    },
    {
      "cell_type": "code",
      "source": [
        "# Updating the model's hyperparameters with the best parameters identified from the Grid Search.\n",
        "model = model.set_params(**random_search.best_params_)\n",
        "\n",
        "# Retraining the model with the updated hyperparameters on the training data.\n",
        "model = model.fit(training_data.drop('Depression', axis=1), training_data['Depression'])\n",
        "\n",
        "# Predicting the target variable on the training set and evaluating the model's accuracy.\n",
        "Y_pred = model.predict(training_data.drop('Depression', axis=1))\n",
        "train_accuracy = accuracy_score(training_data['Depression'], Y_pred)\n",
        "print(train_accuracy)\n",
        "\n",
        "# Predicting the target variable on the test set and evaluating the model's accuracy.\n",
        "Y_pred = model.predict(testing_data.drop('Depression', axis=1))\n",
        "test_accuracy = accuracy_score(testing_data['Depression'], Y_pred)\n",
        "print(test_accuracy)"
      ],
      "metadata": {
        "colab": {
          "base_uri": "https://localhost:8080/"
        },
        "id": "asuu_Lzq9_T_",
        "outputId": "0a16a185-dffe-4090-c66c-421c62e671e7"
      },
      "execution_count": null,
      "outputs": [
        {
          "output_type": "stream",
          "name": "stdout",
          "text": [
            "0.8471428571428572\n",
            "0.7253333333333334\n"
          ]
        }
      ]
    },
    {
      "cell_type": "code",
      "source": [
        "print(confusion_matrix(testing_data['Depression'], Y_pred))\n",
        "print(classification_report(testing_data['Depression'], Y_pred))"
      ],
      "metadata": {
        "colab": {
          "base_uri": "https://localhost:8080/"
        },
        "id": "27e_vLVLofdm",
        "outputId": "6a8a75a9-3c80-4f69-e6b7-3c47d9013dce"
      },
      "execution_count": null,
      "outputs": [
        {
          "output_type": "stream",
          "name": "stdout",
          "text": [
            "[[1918  463]\n",
            " [ 361  258]]\n",
            "              precision    recall  f1-score   support\n",
            "\n",
            "           0       0.84      0.81      0.82      2381\n",
            "           1       0.36      0.42      0.39       619\n",
            "\n",
            "    accuracy                           0.73      3000\n",
            "   macro avg       0.60      0.61      0.60      3000\n",
            "weighted avg       0.74      0.73      0.73      3000\n",
            "\n"
          ]
        }
      ]
    },
    {
      "cell_type": "markdown",
      "source": [
        "**XGBoost**"
      ],
      "metadata": {
        "id": "qbMwtTMH_YjH"
      }
    },
    {
      "cell_type": "code",
      "source": [
        "# Initializing the ColumnTransformer\n",
        "# One-hot encoding is applied to all categorical columns except 'country'\n",
        "# Target encoding is applied specifically to the 'country' column\n",
        "ct = ColumnTransformer([\n",
        "    ('one_hot_encoder', OneHotEncoder(), [c for c in new_categorical_columns])\n",
        "], remainder='passthrough')  # Any other columns not specified will be passed through without any transformation\n",
        "\n",
        "# Initializing the Gradient Boosting Classifier with specified parameters\n",
        "random_forest = GradientBoostingClassifier(n_estimators=100, learning_rate=1.0, max_depth=1)\n",
        "\n",
        "# Creating a Pipeline:\n",
        "# First, the data goes through the specified column transformations (ct)\n",
        "# Then, the transformed data is used to train or predict using the Gradient Boosting model\n",
        "model = Pipeline([\n",
        "    ('pre_process', ct),        # Pre-processing step: Applying column transformations\n",
        "    ('xg_boost', random_forest) # Training/prediction step: Using Gradient Boosting\n",
        "])"
      ],
      "metadata": {
        "id": "Sh86Pl0U_WpO"
      },
      "execution_count": null,
      "outputs": []
    },
    {
      "cell_type": "code",
      "source": [
        "# Training the Gradient Boosting model on the training dataset\n",
        "model = model.fit(training_data.drop('Depression', axis=1), training_data['Depression'])\n",
        "\n",
        "# Predicting on the training dataset and computing the accuracy\n",
        "Y_pred = model.predict(training_data.drop('Depression', axis=1))\n",
        "train_accuracy = accuracy_score(training_data['Depression'], Y_pred)\n",
        "print(train_accuracy)\n",
        "\n",
        "# Predicting on the test dataset and computing the accuracy\n",
        "Y_pred = model.predict(testing_data.drop('Depression', axis=1))\n",
        "test_accuracy = accuracy_score(testing_data['Depression'], Y_pred)\n",
        "print(test_accuracy)"
      ],
      "metadata": {
        "colab": {
          "base_uri": "https://localhost:8080/"
        },
        "id": "Z6s3t1Hw_vCQ",
        "outputId": "1ae6d5da-d904-4d5b-91cb-95f5da17c8c0"
      },
      "execution_count": null,
      "outputs": [
        {
          "output_type": "stream",
          "name": "stdout",
          "text": [
            "0.794\n",
            "0.79\n"
          ]
        }
      ]
    },
    {
      "cell_type": "code",
      "source": [
        "print(confusion_matrix(testing_data['Depression'], Y_pred))\n",
        "print(classification_report(testing_data['Depression'], Y_pred))"
      ],
      "metadata": {
        "colab": {
          "base_uri": "https://localhost:8080/"
        },
        "id": "Ja3cL4Fpo7M2",
        "outputId": "642d8f14-9c65-459f-fe87-eedfad6285e4"
      },
      "execution_count": null,
      "outputs": [
        {
          "output_type": "stream",
          "name": "stdout",
          "text": [
            "[[2344   37]\n",
            " [ 593   26]]\n",
            "              precision    recall  f1-score   support\n",
            "\n",
            "           0       0.80      0.98      0.88      2381\n",
            "           1       0.41      0.04      0.08       619\n",
            "\n",
            "    accuracy                           0.79      3000\n",
            "   macro avg       0.61      0.51      0.48      3000\n",
            "weighted avg       0.72      0.79      0.72      3000\n",
            "\n"
          ]
        }
      ]
    },
    {
      "cell_type": "code",
      "source": [
        "# Setting up the column transformations (One-hot encoding for some categorical columns and target encoding for 'country')\n",
        "ct = ColumnTransformer([\n",
        "    ('one_hot_encoder', OneHotEncoder(), [c for c in new_categorical_columns])\n",
        "], remainder='passthrough')  # Any other columns not specified will be passed through without any transformation\n",
        "\n",
        "# Initializing the Gradient Boosting model with initial parameters\n",
        "random_forest = GradientBoostingClassifier(n_estimators=100, learning_rate=1.0, max_depth=1)\n",
        "\n",
        "# Creating a pipeline that first applies the column transformations and then runs the Gradient Boosting model\n",
        "model = Pipeline([\n",
        "    ('pre_process', ct),\n",
        "    ('xg_boost', random_forest)\n",
        "])"
      ],
      "metadata": {
        "id": "eGM9PKnB_-sR"
      },
      "execution_count": null,
      "outputs": []
    },
    {
      "cell_type": "code",
      "source": [
        "# Defining the hyperparameters to be tuned using GridSearchCV\n",
        "param_dist = {\n",
        "\n",
        "    \"xg_boost__max_depth\" : [1, 5],\n",
        "    \"xg_boost__min_samples_leaf\" : [25],\n",
        "    \"xg_boost__learning_rate\" : [.1,  .2]\n",
        "}\n",
        "\n",
        "# Using StratifiedKFold for cross-validation, ensuring each fold has the same proportion of observations with each target value\n",
        "skf = StratifiedKFold(n_splits=5)\n",
        "\n",
        "# Setting up the GridSearchCV to find the best hyperparameters for the Gradient Boosting model\n",
        "random_search = GridSearchCV(\n",
        "    model, param_grid=param_dist, cv=skf\n",
        ")\n",
        "\n",
        "# Fitting the GridSearchCV on the training data\n",
        "random_search.fit(training_data.drop('Depression', axis=1), training_data['Depression'])\n",
        "\n",
        "# Storing and displaying the results of the grid search\n",
        "results = pd.DataFrame(random_search.cv_results_)\n",
        "results[results['rank_test_score'] == 1]\n"
      ],
      "metadata": {
        "colab": {
          "base_uri": "https://localhost:8080/",
          "height": 118
        },
        "id": "Q2V7rN0WAEIW",
        "outputId": "2a7eba31-684a-4f64-e6a8-f5e4e3ca9f98"
      },
      "execution_count": null,
      "outputs": [
        {
          "output_type": "execute_result",
          "data": {
            "text/plain": [
              "   mean_fit_time  std_fit_time  mean_score_time  std_score_time  \\\n",
              "2       0.465643      0.008831          0.01054        0.001014   \n",
              "\n",
              "  param_xg_boost__learning_rate param_xg_boost__max_depth  \\\n",
              "2                           0.2                         1   \n",
              "\n",
              "  param_xg_boost__min_samples_leaf  \\\n",
              "2                               25   \n",
              "\n",
              "                                              params  split0_test_score  \\\n",
              "2  {'xg_boost__learning_rate': 0.2, 'xg_boost__ma...           0.785714   \n",
              "\n",
              "   split1_test_score  split2_test_score  split3_test_score  split4_test_score  \\\n",
              "2           0.787857              0.785           0.787857           0.782143   \n",
              "\n",
              "   mean_test_score  std_test_score  rank_test_score  \n",
              "2         0.785714        0.002119                1  "
            ],
            "text/html": [
              "\n",
              "  <div id=\"df-9c4afa2f-2df1-49cb-a6e8-b94c73196f0f\" class=\"colab-df-container\">\n",
              "    <div>\n",
              "<style scoped>\n",
              "    .dataframe tbody tr th:only-of-type {\n",
              "        vertical-align: middle;\n",
              "    }\n",
              "\n",
              "    .dataframe tbody tr th {\n",
              "        vertical-align: top;\n",
              "    }\n",
              "\n",
              "    .dataframe thead th {\n",
              "        text-align: right;\n",
              "    }\n",
              "</style>\n",
              "<table border=\"1\" class=\"dataframe\">\n",
              "  <thead>\n",
              "    <tr style=\"text-align: right;\">\n",
              "      <th></th>\n",
              "      <th>mean_fit_time</th>\n",
              "      <th>std_fit_time</th>\n",
              "      <th>mean_score_time</th>\n",
              "      <th>std_score_time</th>\n",
              "      <th>param_xg_boost__learning_rate</th>\n",
              "      <th>param_xg_boost__max_depth</th>\n",
              "      <th>param_xg_boost__min_samples_leaf</th>\n",
              "      <th>params</th>\n",
              "      <th>split0_test_score</th>\n",
              "      <th>split1_test_score</th>\n",
              "      <th>split2_test_score</th>\n",
              "      <th>split3_test_score</th>\n",
              "      <th>split4_test_score</th>\n",
              "      <th>mean_test_score</th>\n",
              "      <th>std_test_score</th>\n",
              "      <th>rank_test_score</th>\n",
              "    </tr>\n",
              "  </thead>\n",
              "  <tbody>\n",
              "    <tr>\n",
              "      <th>2</th>\n",
              "      <td>0.465643</td>\n",
              "      <td>0.008831</td>\n",
              "      <td>0.01054</td>\n",
              "      <td>0.001014</td>\n",
              "      <td>0.2</td>\n",
              "      <td>1</td>\n",
              "      <td>25</td>\n",
              "      <td>{'xg_boost__learning_rate': 0.2, 'xg_boost__ma...</td>\n",
              "      <td>0.785714</td>\n",
              "      <td>0.787857</td>\n",
              "      <td>0.785</td>\n",
              "      <td>0.787857</td>\n",
              "      <td>0.782143</td>\n",
              "      <td>0.785714</td>\n",
              "      <td>0.002119</td>\n",
              "      <td>1</td>\n",
              "    </tr>\n",
              "  </tbody>\n",
              "</table>\n",
              "</div>\n",
              "    <div class=\"colab-df-buttons\">\n",
              "\n",
              "  <div class=\"colab-df-container\">\n",
              "    <button class=\"colab-df-convert\" onclick=\"convertToInteractive('df-9c4afa2f-2df1-49cb-a6e8-b94c73196f0f')\"\n",
              "            title=\"Convert this dataframe to an interactive table.\"\n",
              "            style=\"display:none;\">\n",
              "\n",
              "  <svg xmlns=\"http://www.w3.org/2000/svg\" height=\"24px\" viewBox=\"0 -960 960 960\">\n",
              "    <path d=\"M120-120v-720h720v720H120Zm60-500h600v-160H180v160Zm220 220h160v-160H400v160Zm0 220h160v-160H400v160ZM180-400h160v-160H180v160Zm440 0h160v-160H620v160ZM180-180h160v-160H180v160Zm440 0h160v-160H620v160Z\"/>\n",
              "  </svg>\n",
              "    </button>\n",
              "\n",
              "  <style>\n",
              "    .colab-df-container {\n",
              "      display:flex;\n",
              "      gap: 12px;\n",
              "    }\n",
              "\n",
              "    .colab-df-convert {\n",
              "      background-color: #E8F0FE;\n",
              "      border: none;\n",
              "      border-radius: 50%;\n",
              "      cursor: pointer;\n",
              "      display: none;\n",
              "      fill: #1967D2;\n",
              "      height: 32px;\n",
              "      padding: 0 0 0 0;\n",
              "      width: 32px;\n",
              "    }\n",
              "\n",
              "    .colab-df-convert:hover {\n",
              "      background-color: #E2EBFA;\n",
              "      box-shadow: 0px 1px 2px rgba(60, 64, 67, 0.3), 0px 1px 3px 1px rgba(60, 64, 67, 0.15);\n",
              "      fill: #174EA6;\n",
              "    }\n",
              "\n",
              "    .colab-df-buttons div {\n",
              "      margin-bottom: 4px;\n",
              "    }\n",
              "\n",
              "    [theme=dark] .colab-df-convert {\n",
              "      background-color: #3B4455;\n",
              "      fill: #D2E3FC;\n",
              "    }\n",
              "\n",
              "    [theme=dark] .colab-df-convert:hover {\n",
              "      background-color: #434B5C;\n",
              "      box-shadow: 0px 1px 3px 1px rgba(0, 0, 0, 0.15);\n",
              "      filter: drop-shadow(0px 1px 2px rgba(0, 0, 0, 0.3));\n",
              "      fill: #FFFFFF;\n",
              "    }\n",
              "  </style>\n",
              "\n",
              "    <script>\n",
              "      const buttonEl =\n",
              "        document.querySelector('#df-9c4afa2f-2df1-49cb-a6e8-b94c73196f0f button.colab-df-convert');\n",
              "      buttonEl.style.display =\n",
              "        google.colab.kernel.accessAllowed ? 'block' : 'none';\n",
              "\n",
              "      async function convertToInteractive(key) {\n",
              "        const element = document.querySelector('#df-9c4afa2f-2df1-49cb-a6e8-b94c73196f0f');\n",
              "        const dataTable =\n",
              "          await google.colab.kernel.invokeFunction('convertToInteractive',\n",
              "                                                    [key], {});\n",
              "        if (!dataTable) return;\n",
              "\n",
              "        const docLinkHtml = 'Like what you see? Visit the ' +\n",
              "          '<a target=\"_blank\" href=https://colab.research.google.com/notebooks/data_table.ipynb>data table notebook</a>'\n",
              "          + ' to learn more about interactive tables.';\n",
              "        element.innerHTML = '';\n",
              "        dataTable['output_type'] = 'display_data';\n",
              "        await google.colab.output.renderOutput(dataTable, element);\n",
              "        const docLink = document.createElement('div');\n",
              "        docLink.innerHTML = docLinkHtml;\n",
              "        element.appendChild(docLink);\n",
              "      }\n",
              "    </script>\n",
              "  </div>\n",
              "\n",
              "    </div>\n",
              "  </div>\n"
            ]
          },
          "metadata": {},
          "execution_count": 54
        }
      ]
    },
    {
      "cell_type": "code",
      "source": [
        "# Updating the model's parameters with the best ones found from GridSearchCV\n",
        "model = model.set_params(**random_search.best_params_)\n",
        "\n",
        "# Retraining the model with the best parameters on the training dataset\n",
        "model = model.fit(training_data.drop('Depression', axis=1), training_data['Depression'])\n",
        "\n",
        "# Predicting on the training dataset and computing the accuracy\n",
        "Y_pred = model.predict(training_data.drop('Depression', axis=1))\n",
        "train_accuracy = accuracy_score(training_data['Depression'], Y_pred)\n",
        "print(train_accuracy)\n",
        "\n",
        "# Predicting on the test dataset and computing the accuracy\n",
        "Y_pred = model.predict(testing_data.drop('Depression', axis=1))\n",
        "test_accuracy = accuracy_score(testing_data['Depression'], Y_pred)\n",
        "print(test_accuracy)"
      ],
      "metadata": {
        "colab": {
          "base_uri": "https://localhost:8080/"
        },
        "id": "iyUf01QfAKST",
        "outputId": "6dedef6e-5754-4b8d-8d9b-76e8378bb7df"
      },
      "execution_count": null,
      "outputs": [
        {
          "output_type": "stream",
          "name": "stdout",
          "text": [
            "0.7872857142857143\n",
            "0.7933333333333333\n"
          ]
        }
      ]
    },
    {
      "cell_type": "code",
      "source": [
        "print(confusion_matrix(testing_data['Depression'], Y_pred))\n",
        "print(classification_report(testing_data['Depression'], Y_pred))"
      ],
      "metadata": {
        "colab": {
          "base_uri": "https://localhost:8080/"
        },
        "id": "7Ti0CAwqpH4B",
        "outputId": "cf0e0f3a-f878-42ba-f287-a97ede72e184"
      },
      "execution_count": null,
      "outputs": [
        {
          "output_type": "stream",
          "name": "stdout",
          "text": [
            "[[2377    4]\n",
            " [ 616    3]]\n",
            "              precision    recall  f1-score   support\n",
            "\n",
            "           0       0.79      1.00      0.88      2381\n",
            "           1       0.43      0.00      0.01       619\n",
            "\n",
            "    accuracy                           0.79      3000\n",
            "   macro avg       0.61      0.50      0.45      3000\n",
            "weighted avg       0.72      0.79      0.70      3000\n",
            "\n"
          ]
        }
      ]
    },
    {
      "cell_type": "markdown",
      "source": [
        "**Neural Networks**"
      ],
      "metadata": {
        "id": "ObmrIIbJAklM"
      }
    },
    {
      "cell_type": "code",
      "source": [
        ";# importing PyTorch library as 't' for convenience\n",
        "import torch as t\n",
        "\n",
        "# importing other necessary libraries\n",
        "import numpy as np\n",
        "from torch.nn.functional import sigmoid, relu, tanh\n",
        "from torch.optim import Adam\n",
        "import matplotlib.pyplot as plt\n",
        "import pandas as pd\n",
        "from sklearn.preprocessing import StandardScaler\n",
        "from torch.utils.data import TensorDataset, DataLoader\n",
        "\n",
        "# importing PyTorch modules for building neural networks\n",
        "from torch.nn import Tanh, Linear, Sequential, Sigmoid, Dropout"
      ],
      "metadata": {
        "id": "cQByg_IGAm3t"
      },
      "execution_count": null,
      "outputs": []
    },
    {
      "cell_type": "code",
      "source": [
        "train_nn.dtypes"
      ],
      "metadata": {
        "colab": {
          "base_uri": "https://localhost:8080/"
        },
        "id": "4B9yDIlDAosB",
        "outputId": "bd0007d2-de61-4982-eeda-56712aa7708b"
      },
      "execution_count": null,
      "outputs": [
        {
          "output_type": "execute_result",
          "data": {
            "text/plain": [
              "Age_at_Exam             int64\n",
              "sBP                   float64\n",
              "BMI                   float64\n",
              "LDL                   float64\n",
              "HDL                   float64\n",
              "A1c                   float64\n",
              "TG                    float64\n",
              "FBS                   float64\n",
              "FBS>DM                  int64\n",
              "Total_Cholesterol     float64\n",
              "Diabetes                int64\n",
              "HTN                     int64\n",
              "OA                      int64\n",
              "COPD                    int64\n",
              "Sex                  category\n",
              "A1C_BEF_DM           category\n",
              "FBS_BEF_DM           category\n",
              "Depression              int64\n",
              "dtype: object"
            ]
          },
          "metadata": {},
          "execution_count": 43
        }
      ]
    },
    {
      "cell_type": "code",
      "source": [
        "train_nn.columns"
      ],
      "metadata": {
        "colab": {
          "base_uri": "https://localhost:8080/"
        },
        "id": "xA1iiCcLBooD",
        "outputId": "db542665-dd75-4835-b01f-d1257c1f0327"
      },
      "execution_count": null,
      "outputs": [
        {
          "output_type": "execute_result",
          "data": {
            "text/plain": [
              "Index(['Age_at_Exam', 'sBP', 'BMI', 'LDL', 'HDL', 'A1c', 'TG', 'FBS', 'FBS>DM',\n",
              "       'Total_Cholesterol', 'Diabetes', 'HTN', 'OA', 'COPD', 'Sex',\n",
              "       'A1C_BEF_DM', 'FBS_BEF_DM', 'Depression'],\n",
              "      dtype='object')"
            ]
          },
          "metadata": {},
          "execution_count": 44
        }
      ]
    },
    {
      "cell_type": "code",
      "source": [
        "# Data Preparation\n",
        "\n",
        "# Extract the 'Depression' column as the target variable for training and testing\n",
        "Y_train = train_nn['Depression'].to_numpy()\n",
        "Y_test = test_nn['Depression'].to_numpy()\n",
        "\n",
        "# Extract the features (excluding 'Depression') for training and testing\n",
        "X_train = train_nn.drop('Depression', axis=1).to_numpy()\n",
        "X_test = test_nn.drop('Depression', axis=1).to_numpy()\n",
        "\n",
        "# Standardize the features to have zero mean and unit variance\n",
        "#sc = StandardScaler()\n",
        "#X_train = sc.fit_transform(X_train)\n",
        "#X_test = sc.transform(X_test)"
      ],
      "metadata": {
        "id": "mIJYZer9B9j7"
      },
      "execution_count": null,
      "outputs": []
    },
    {
      "cell_type": "code",
      "source": [
        "X_train1 = pd.DataFrame(X_train, columns=training_data.drop('Depression', axis=1).columns)\n",
        "X_test1 = pd.DataFrame(X_test, columns=testing_data.drop('Depression', axis=1).columns)\n",
        "\n",
        "scaler = StandardScaler()\n",
        "numerical_data_standardized = scaler.fit_transform(X_train1[numerical_columns])\n",
        "a = pd.DataFrame(numerical_data_standardized, columns = numerical_columns)\n",
        "\n",
        "#encoder = TargetEncoder()\n",
        "#categorical_data_encoded = encoder.fit_transform(X_train1[categorical_columns], Y_train)\n",
        "#categorical_data_standardized = scaler.fit_transform(categorical_data_encoded)\n",
        "\n",
        "#b = pd.DataFrame(categorical_data_encoded, columns = categorical_columns)\n",
        "b = pd.DataFrame(X_train1[categorical_columns], columns = categorical_columns)\n",
        "c = pd.DataFrame(X_train1[boolean_columns], columns = boolean_columns)\n",
        "\n",
        "X_train = pd.concat([a,b,c], axis=1).to_numpy()\n",
        "\n",
        "\n",
        "scaler = StandardScaler()\n",
        "numerical_data_standardized = scaler.fit_transform(X_test1[numerical_columns])\n",
        "d = pd.DataFrame(numerical_data_standardized, columns = numerical_columns)\n",
        "\n",
        "#encoder = TargetEncoder()\n",
        "#categorical_data_encoded = encoder.fit_transform(X_test1[categorical_columns], Y_test)\n",
        "#categorical_data_standardized = scaler.fit_transform(categorical_data_encoded)\n",
        "#e = pd.DataFrame(categorical_data_standardized, columns = categorical_columns)\n",
        "e = pd.DataFrame(X_test1[categorical_columns], columns = categorical_columns)\n",
        "f = pd.DataFrame(X_test1[boolean_columns], columns = boolean_columns)\n",
        "\n",
        "X_test = pd.concat([d,e,f], axis=1).to_numpy()"
      ],
      "metadata": {
        "id": "-Ee5lF4F4QHZ"
      },
      "execution_count": null,
      "outputs": []
    },
    {
      "cell_type": "code",
      "source": [
        "# Define the number of neurons in the first and second hidden layers\n",
        "hidden_units_layer_1 = 10\n",
        "hidden_units_layer_2 = 10\n",
        "\n",
        "# FIRST LAYER: Define weights and biases for the first layer\n",
        "W1 = t.randn((17, hidden_units_layer_1), requires_grad=True)\n",
        "B1 = t.zeros((1, hidden_units_layer_1), requires_grad=True)\n",
        "\n",
        "# SECOND LAYER: Define weights and biases for the second layer\n",
        "W2 = t.randn((hidden_units_layer_1, hidden_units_layer_2), requires_grad=True)\n",
        "B2 = t.zeros((1, hidden_units_layer_2), requires_grad=True)\n",
        "\n",
        "# THIRD LAYER: Define weights and biases for the output layer\n",
        "W3 = t.randn((hidden_units_layer_2, 1), requires_grad=True)\n",
        "B3 = t.zeros((1, 1), requires_grad=True)"
      ],
      "metadata": {
        "id": "EnWAIm8uDfRE"
      },
      "execution_count": null,
      "outputs": []
    },
    {
      "cell_type": "code",
      "source": [
        "# Define the forward pass of the neural network\n",
        "def forward(input):\n",
        "    # First hidden layer with tanh activation\n",
        "    out = tanh(input @ W1 + B1)\n",
        "\n",
        "    # Second hidden layer with tanh activation\n",
        "    out = tanh(out @ W2 + B2)\n",
        "\n",
        "    # Output layer with sigmoid activation (since it's a binary classification problem)\n",
        "    out = sigmoid(out @ W3 + B3)\n",
        "    return out"
      ],
      "metadata": {
        "id": "O6VV_g68DiSg"
      },
      "execution_count": null,
      "outputs": []
    },
    {
      "cell_type": "code",
      "source": [
        "# Convert the training data to PyTorch tensors\n",
        "X = t.Tensor(X_train).type(t.float32)\n",
        "Y = t.Tensor(Y_train).type(t.float32)\n",
        "\n",
        "# Create a dataset from tensors to be used with DataLoader\n",
        "train_dataset = TensorDataset(X, Y)\n",
        "\n",
        "# Define training hyperparameters\n",
        "epochs = 1000\n",
        "learning_rate = 0.001\n",
        "batch_size = 100\n",
        "\n",
        "# DataLoader provides batches of data for training\n",
        "train_data_loader = DataLoader(train_dataset, batch_size=batch_size, shuffle=True)\n",
        "\n",
        "# Define the optimizer (Adam) and include all weights and biases\n",
        "optimizer = Adam([W1, B1, W2, B2, W3, B3], lr=learning_rate)\n",
        "\n",
        "# Define the loss function (Binary Cross-Entropy Loss)\n",
        "loss_fn = t.nn.BCELoss()"
      ],
      "metadata": {
        "id": "cox8hz_GDlfS"
      },
      "execution_count": null,
      "outputs": []
    },
    {
      "cell_type": "code",
      "source": [
        "train_loss_list = []\n",
        "\n",
        "# Train the model for a specified number of epochs\n",
        "for epoch in range(epochs):\n",
        "    # Reduce the learning rate every 500 epochs\n",
        "    if epoch % 100 == 0:\n",
        "        learning_rate *= .9\n",
        "\n",
        "    per_epoch_loss_list = []\n",
        "\n",
        "    # Iterate over all batches of data\n",
        "    for batch_idx, (X, Y) in enumerate(train_data_loader):\n",
        "        # Forward pass: Compute predictions\n",
        "        probs = forward(X)\n",
        "\n",
        "        # Compute the loss\n",
        "        loss = loss_fn(probs.view(-1), Y)\n",
        "\n",
        "        # Backward pass: Compute gradient and update weights\n",
        "        optimizer.zero_grad()\n",
        "        loss.backward()\n",
        "        optimizer.step()\n",
        "\n",
        "        # Record the loss for this batch\n",
        "        per_epoch_loss_list.append(loss.item())\n",
        "\n",
        "    # Record the average loss for this epoch\n",
        "    train_loss_list.append(sum(per_epoch_loss_list) / len(per_epoch_loss_list))"
      ],
      "metadata": {
        "id": "hvqPQN2ODqiO"
      },
      "execution_count": null,
      "outputs": []
    },
    {
      "cell_type": "code",
      "source": [
        "# Plot the training loss over epochs\n",
        "plt.plot([i for i in range(len(train_loss_list))], train_loss_list)\n",
        "plt.xlabel('epochs')\n",
        "plt.ylabel('loss')"
      ],
      "metadata": {
        "colab": {
          "base_uri": "https://localhost:8080/",
          "height": 466
        },
        "id": "54c-8cVBEPo9",
        "outputId": "82958898-c2b7-4356-dbea-7301486ba088"
      },
      "execution_count": null,
      "outputs": [
        {
          "output_type": "execute_result",
          "data": {
            "text/plain": [
              "Text(0, 0.5, 'loss')"
            ]
          },
          "metadata": {},
          "execution_count": 51
        },
        {
          "output_type": "display_data",
          "data": {
            "text/plain": [
              "<Figure size 640x480 with 1 Axes>"
            ],
            "image/png": "[encoded data removed]"
          },
          "metadata": {}
        }
      ]
    },
    {
      "cell_type": "code",
      "source": [
        "# Evaluate Model Performance on Validation Data\n",
        "\n",
        "# Disable gradient calculations for evaluation using t.no_grad()\n",
        "with t.no_grad():\n",
        "    # Prepare the validation data\n",
        "    X = t.Tensor(X_test).type(t.float32)  # Convert validation features to a PyTorch tensor\n",
        "    Y = t.Tensor(Y_test).type(t.float32)  # Convert validation labels to a PyTorch tensor\n",
        "\n",
        "    # Calculate predictions on the validation data\n",
        "    probs = forward(X)  # Pass validation data through the trained model\n",
        "    loss = loss_fn(probs.view(-1), Y)  # Compute the loss between predictions and actual labels\n",
        "\n",
        "    # Print the validation loss\n",
        "    print(loss.item())\n",
        "\n",
        "    # Now, evaluate the model on the training data\n",
        "    X = t.Tensor(X_train).type(t.float32)  # Convert training features to a PyTorch tensor\n",
        "    Y = t.Tensor(Y_train).type(t.float32)  # Convert training labels to a PyTorch tensor\n",
        "\n",
        "    # Calculate predictions on the training data\n",
        "    probs = forward(X)  # Pass training data through the trained model\n",
        "    loss = loss_fn(probs.view(-1), Y)  # Compute the loss between predictions and actual labels\n",
        "\n",
        "    # Print the training loss\n",
        "    print(loss.item())"
      ],
      "metadata": {
        "colab": {
          "base_uri": "https://localhost:8080/"
        },
        "id": "d321j-DYF_8r",
        "outputId": "16666b68-660f-480f-b0aa-6dd46670ed4b"
      },
      "execution_count": null,
      "outputs": [
        {
          "output_type": "stream",
          "name": "stdout",
          "text": [
            "0.5320576429367065\n",
            "0.44527745246887207\n"
          ]
        }
      ]
    },
    {
      "cell_type": "code",
      "source": [
        "import torch as t\n",
        "import torch.nn as nn\n",
        "from torch.optim import Adam\n",
        "from torch.utils.data import TensorDataset, DataLoader\n",
        "import matplotlib.pyplot as plt\n",
        "\n",
        "number_of_input_features = 17  # Number of input features in the dataset\n",
        "\n",
        "# Reduced number of hidden units to 5 and just using 1 hidden layer\n",
        "number_of_hidden_units = 10  # Number of hidden units in the neural network\n",
        "epochs = 200  # Number of training epochs\n",
        "learning_rate = 0.001  # Learning rate for the optimizer\n",
        "batch_size = 100  # Number of samples in each training batch\n",
        "dropout_probablity = 0.6  # Probability of dropping out a neuron in dropout layer\n",
        "landa = 0.01  # Regularization term (lambda)\n",
        "\n",
        "# Convert training and testing data to PyTorch tensors\n",
        "X_train_tensor = t.Tensor(X_train).type(t.float32)\n",
        "Y_train_tensor = t.Tensor(Y_train).type(t.float32)\n",
        "X_test_tensor = t.Tensor(X_test).type(t.float32)\n",
        "Y_test_tensor = t.Tensor(Y_test).type(t.float32)\n",
        "\n",
        "# Create a training dataset and data loader\n",
        "train_dataset = TensorDataset(X_train_tensor, Y_train_tensor)\n",
        "train_data_loader = DataLoader(train_dataset, batch_size=batch_size, shuffle=True)\n",
        "\n",
        "# Define the neural network model\n",
        "model = Sequential(\n",
        "    Linear(number_of_input_features, number_of_hidden_units),  # Linear layer for matrix multiplication and bias addition\n",
        "    Tanh(),  # Add Tanh activation function\n",
        "    Dropout(dropout_probablity),  # Dropout layer to prevent overfitting\n",
        "    Linear(number_of_hidden_units, 1),  # Another linear layer\n",
        "    Sigmoid()  # Sigmoid activation for probability output\n",
        ")\n",
        "\n",
        "# Define the optimizer\n",
        "optimizer = Adam(model.parameters(), lr=learning_rate)\n",
        "\n",
        "# Define the loss function as Binary Cross-Entropy Loss\n",
        "loss_fn = t.nn.BCELoss()\n",
        "\n",
        "train_accuracy_list = []  # List to store training accuracy\n",
        "validation_accuracy_list = []  # List to store validation accuracy\n",
        "train_loss_list = []\n",
        "\n",
        "# Training loop\n",
        "for epoch in range(epochs):\n",
        "    if epoch % 50 == 0:\n",
        "        learning_rate *= 0.9  # Learning rate scheduling\n",
        "\n",
        "    per_epoch_loss_list = []  # List to store losses for each epoch\n",
        "\n",
        "    for batch_idx, (X, Y) in enumerate(train_data_loader):\n",
        "        # Forward pass: Compute predictions\n",
        "        probs = model(X)\n",
        "\n",
        "        # Adding regularization term for all parameters in the model\n",
        "        l2_term = sum([(w ** 2).sum() for w in model.parameters()])\n",
        "\n",
        "        # New loss is the old loss + regularization term\n",
        "        loss = loss_fn(probs.view(-1), Y) + landa * l2_term\n",
        "\n",
        "        per_epoch_loss_list.append(loss.item())\n",
        "\n",
        "        # Backward pass: Compute gradients and update weights\n",
        "        optimizer.zero_grad()\n",
        "        loss.backward()\n",
        "        optimizer.step()\n",
        "\n",
        "    # Evaluate the model on training and validation data\n",
        "    with t.no_grad():\n",
        "        # Set the model in eval mode; some layers use this for certain calculations during training\n",
        "        model.eval()\n",
        "\n",
        "        # Calculate accuracy on train data\n",
        "        probs = model(X_train_tensor)\n",
        "        prediction = (probs >= 0.5).type(t.LongTensor).view(-1)\n",
        "        train_accuracy = (prediction == Y_train_tensor).type(t.float32).mean().item()\n",
        "\n",
        "        # Calculate accuracy on validation data\n",
        "        probs = model(X_test_tensor)\n",
        "        prediction = (probs >= 0.5).type(t.LongTensor).view(-1)\n",
        "        validation_accuracy = (prediction == Y_test_tensor).type(t.float32).mean().item()\n",
        "\n",
        "        print(f'epoch {epoch}/{epochs} ---> train_accuracy: {train_accuracy}, validation_accuracy: {validation_accuracy}')\n",
        "\n",
        "        # Set the model back to train mode\n",
        "        model.train()\n",
        "\n",
        "        # Append accuracy values to lists\n",
        "        train_accuracy_list.append(train_accuracy)\n",
        "        validation_accuracy_list.append(validation_accuracy)\n",
        "\n",
        "    # Calculate and append the average loss for the epoch\n",
        "    train_loss_list.append(sum(per_epoch_loss_list) / len(per_epoch_loss_list))"
      ],
      "metadata": {
        "colab": {
          "base_uri": "https://localhost:8080/"
        },
        "id": "7qheSruvNrKw",
        "outputId": "7baae5c0-0204-41e4-f5a8-82c735bc9594"
      },
      "execution_count": null,
      "outputs": [
        {
          "output_type": "stream",
          "name": "stdout",
          "text": [
            "epoch 0/200 ---> train_accuracy: 0.7845714092254639, validation_accuracy: 0.7913333177566528\n",
            "epoch 1/200 ---> train_accuracy: 0.7852857112884521, validation_accuracy: 0.793666660785675\n",
            "epoch 2/200 ---> train_accuracy: 0.7854285836219788, validation_accuracy: 0.793666660785675\n",
            "epoch 3/200 ---> train_accuracy: 0.7855714559555054, validation_accuracy: 0.793666660785675\n",
            "epoch 4/200 ---> train_accuracy: 0.7855714559555054, validation_accuracy: 0.7933333516120911\n",
            "epoch 5/200 ---> train_accuracy: 0.7852857112884521, validation_accuracy: 0.793666660785675\n",
            "epoch 6/200 ---> train_accuracy: 0.7854285836219788, validation_accuracy: 0.793666660785675\n",
            "epoch 7/200 ---> train_accuracy: 0.7847142815589905, validation_accuracy: 0.793666660785675\n",
            "epoch 8/200 ---> train_accuracy: 0.7847142815589905, validation_accuracy: 0.7940000295639038\n",
            "epoch 9/200 ---> train_accuracy: 0.7847142815589905, validation_accuracy: 0.7940000295639038\n",
            "epoch 10/200 ---> train_accuracy: 0.7851428389549255, validation_accuracy: 0.7940000295639038\n",
            "epoch 11/200 ---> train_accuracy: 0.7850000262260437, validation_accuracy: 0.793666660785675\n",
            "epoch 12/200 ---> train_accuracy: 0.7852857112884521, validation_accuracy: 0.793666660785675\n",
            "epoch 13/200 ---> train_accuracy: 0.7852857112884521, validation_accuracy: 0.7940000295639038\n",
            "epoch 14/200 ---> train_accuracy: 0.7852857112884521, validation_accuracy: 0.7933333516120911\n",
            "epoch 15/200 ---> train_accuracy: 0.7852857112884521, validation_accuracy: 0.7933333516120911\n",
            "epoch 16/200 ---> train_accuracy: 0.7850000262260437, validation_accuracy: 0.793666660785675\n",
            "epoch 17/200 ---> train_accuracy: 0.7851428389549255, validation_accuracy: 0.7933333516120911\n",
            "epoch 18/200 ---> train_accuracy: 0.7852857112884521, validation_accuracy: 0.7933333516120911\n",
            "epoch 19/200 ---> train_accuracy: 0.7852857112884521, validation_accuracy: 0.7933333516120911\n",
            "epoch 20/200 ---> train_accuracy: 0.7851428389549255, validation_accuracy: 0.793666660785675\n",
            "epoch 21/200 ---> train_accuracy: 0.7851428389549255, validation_accuracy: 0.7933333516120911\n",
            "epoch 22/200 ---> train_accuracy: 0.7851428389549255, validation_accuracy: 0.7933333516120911\n",
            "epoch 23/200 ---> train_accuracy: 0.7852857112884521, validation_accuracy: 0.7933333516120911\n",
            "epoch 24/200 ---> train_accuracy: 0.7850000262260437, validation_accuracy: 0.7933333516120911\n",
            "epoch 25/200 ---> train_accuracy: 0.7851428389549255, validation_accuracy: 0.793666660785675\n",
            "epoch 26/200 ---> train_accuracy: 0.7851428389549255, validation_accuracy: 0.793666660785675\n",
            "epoch 27/200 ---> train_accuracy: 0.7851428389549255, validation_accuracy: 0.793666660785675\n",
            "epoch 28/200 ---> train_accuracy: 0.7851428389549255, validation_accuracy: 0.7933333516120911\n",
            "epoch 29/200 ---> train_accuracy: 0.7851428389549255, validation_accuracy: 0.793666660785675\n",
            "epoch 30/200 ---> train_accuracy: 0.7851428389549255, validation_accuracy: 0.793666660785675\n",
            "epoch 31/200 ---> train_accuracy: 0.7851428389549255, validation_accuracy: 0.793666660785675\n",
            "epoch 32/200 ---> train_accuracy: 0.7851428389549255, validation_accuracy: 0.793666660785675\n",
            "epoch 33/200 ---> train_accuracy: 0.7851428389549255, validation_accuracy: 0.7933333516120911\n",
            "epoch 34/200 ---> train_accuracy: 0.7851428389549255, validation_accuracy: 0.7933333516120911\n",
            "epoch 35/200 ---> train_accuracy: 0.7851428389549255, validation_accuracy: 0.793666660785675\n",
            "epoch 36/200 ---> train_accuracy: 0.7851428389549255, validation_accuracy: 0.7933333516120911\n",
            "epoch 37/200 ---> train_accuracy: 0.7850000262260437, validation_accuracy: 0.7933333516120911\n",
            "epoch 38/200 ---> train_accuracy: 0.7848571538925171, validation_accuracy: 0.7933333516120911\n",
            "epoch 39/200 ---> train_accuracy: 0.7850000262260437, validation_accuracy: 0.7933333516120911\n",
            "epoch 40/200 ---> train_accuracy: 0.7850000262260437, validation_accuracy: 0.793666660785675\n",
            "epoch 41/200 ---> train_accuracy: 0.7851428389549255, validation_accuracy: 0.7933333516120911\n",
            "epoch 42/200 ---> train_accuracy: 0.7848571538925171, validation_accuracy: 0.7933333516120911\n",
            "epoch 43/200 ---> train_accuracy: 0.7851428389549255, validation_accuracy: 0.7933333516120911\n",
            "epoch 44/200 ---> train_accuracy: 0.7851428389549255, validation_accuracy: 0.7933333516120911\n",
            "epoch 45/200 ---> train_accuracy: 0.7852857112884521, validation_accuracy: 0.7933333516120911\n",
            "epoch 46/200 ---> train_accuracy: 0.7851428389549255, validation_accuracy: 0.7933333516120911\n",
            "epoch 47/200 ---> train_accuracy: 0.7851428389549255, validation_accuracy: 0.7933333516120911\n",
            "epoch 48/200 ---> train_accuracy: 0.7851428389549255, validation_accuracy: 0.793666660785675\n",
            "epoch 49/200 ---> train_accuracy: 0.7850000262260437, validation_accuracy: 0.7933333516120911\n",
            "epoch 50/200 ---> train_accuracy: 0.7851428389549255, validation_accuracy: 0.7933333516120911\n",
            "epoch 51/200 ---> train_accuracy: 0.7851428389549255, validation_accuracy: 0.793666660785675\n",
            "epoch 52/200 ---> train_accuracy: 0.7852857112884521, validation_accuracy: 0.7933333516120911\n",
            "epoch 53/200 ---> train_accuracy: 0.7848571538925171, validation_accuracy: 0.7933333516120911\n",
            "epoch 54/200 ---> train_accuracy: 0.7850000262260437, validation_accuracy: 0.7933333516120911\n",
            "epoch 55/200 ---> train_accuracy: 0.7851428389549255, validation_accuracy: 0.7933333516120911\n",
            "epoch 56/200 ---> train_accuracy: 0.7848571538925171, validation_accuracy: 0.7933333516120911\n",
            "epoch 57/200 ---> train_accuracy: 0.7851428389549255, validation_accuracy: 0.7933333516120911\n",
            "epoch 58/200 ---> train_accuracy: 0.7850000262260437, validation_accuracy: 0.7933333516120911\n",
            "epoch 59/200 ---> train_accuracy: 0.7851428389549255, validation_accuracy: 0.7933333516120911\n",
            "epoch 60/200 ---> train_accuracy: 0.7850000262260437, validation_accuracy: 0.7933333516120911\n",
            "epoch 61/200 ---> train_accuracy: 0.7850000262260437, validation_accuracy: 0.7933333516120911\n",
            "epoch 62/200 ---> train_accuracy: 0.7851428389549255, validation_accuracy: 0.793666660785675\n",
            "epoch 63/200 ---> train_accuracy: 0.7851428389549255, validation_accuracy: 0.793666660785675\n",
            "epoch 64/200 ---> train_accuracy: 0.7850000262260437, validation_accuracy: 0.793666660785675\n",
            "epoch 65/200 ---> train_accuracy: 0.7851428389549255, validation_accuracy: 0.7933333516120911\n",
            "epoch 66/200 ---> train_accuracy: 0.7850000262260437, validation_accuracy: 0.7933333516120911\n",
            "epoch 67/200 ---> train_accuracy: 0.7851428389549255, validation_accuracy: 0.7933333516120911\n",
            "epoch 68/200 ---> train_accuracy: 0.7851428389549255, validation_accuracy: 0.7933333516120911\n",
            "epoch 69/200 ---> train_accuracy: 0.7852857112884521, validation_accuracy: 0.7933333516120911\n",
            "epoch 70/200 ---> train_accuracy: 0.7852857112884521, validation_accuracy: 0.7933333516120911\n",
            "epoch 71/200 ---> train_accuracy: 0.7851428389549255, validation_accuracy: 0.793666660785675\n",
            "epoch 72/200 ---> train_accuracy: 0.7851428389549255, validation_accuracy: 0.7933333516120911\n",
            "epoch 73/200 ---> train_accuracy: 0.7851428389549255, validation_accuracy: 0.7933333516120911\n",
            "epoch 74/200 ---> train_accuracy: 0.7850000262260437, validation_accuracy: 0.7933333516120911\n",
            "epoch 75/200 ---> train_accuracy: 0.7850000262260437, validation_accuracy: 0.7933333516120911\n",
            "epoch 76/200 ---> train_accuracy: 0.7851428389549255, validation_accuracy: 0.7933333516120911\n",
            "epoch 77/200 ---> train_accuracy: 0.7851428389549255, validation_accuracy: 0.7933333516120911\n",
            "epoch 78/200 ---> train_accuracy: 0.7851428389549255, validation_accuracy: 0.7933333516120911\n",
            "epoch 79/200 ---> train_accuracy: 0.7851428389549255, validation_accuracy: 0.7933333516120911\n",
            "epoch 80/200 ---> train_accuracy: 0.7850000262260437, validation_accuracy: 0.7933333516120911\n",
            "epoch 81/200 ---> train_accuracy: 0.7850000262260437, validation_accuracy: 0.7933333516120911\n",
            "epoch 82/200 ---> train_accuracy: 0.7851428389549255, validation_accuracy: 0.7933333516120911\n",
            "epoch 83/200 ---> train_accuracy: 0.7851428389549255, validation_accuracy: 0.7933333516120911\n",
            "epoch 84/200 ---> train_accuracy: 0.7851428389549255, validation_accuracy: 0.7933333516120911\n",
            "epoch 85/200 ---> train_accuracy: 0.7851428389549255, validation_accuracy: 0.7933333516120911\n",
            "epoch 86/200 ---> train_accuracy: 0.7851428389549255, validation_accuracy: 0.7933333516120911\n",
            "epoch 87/200 ---> train_accuracy: 0.7851428389549255, validation_accuracy: 0.7933333516120911\n",
            "epoch 88/200 ---> train_accuracy: 0.7852857112884521, validation_accuracy: 0.7933333516120911\n",
            "epoch 89/200 ---> train_accuracy: 0.7851428389549255, validation_accuracy: 0.7933333516120911\n",
            "epoch 90/200 ---> train_accuracy: 0.7850000262260437, validation_accuracy: 0.7933333516120911\n",
            "epoch 91/200 ---> train_accuracy: 0.7850000262260437, validation_accuracy: 0.7933333516120911\n",
            "epoch 92/200 ---> train_accuracy: 0.7851428389549255, validation_accuracy: 0.7933333516120911\n",
            "epoch 93/200 ---> train_accuracy: 0.7851428389549255, validation_accuracy: 0.7933333516120911\n",
            "epoch 94/200 ---> train_accuracy: 0.7850000262260437, validation_accuracy: 0.7933333516120911\n",
            "epoch 95/200 ---> train_accuracy: 0.7852857112884521, validation_accuracy: 0.7933333516120911\n",
            "epoch 96/200 ---> train_accuracy: 0.7852857112884521, validation_accuracy: 0.7933333516120911\n",
            "epoch 97/200 ---> train_accuracy: 0.7852857112884521, validation_accuracy: 0.7933333516120911\n",
            "epoch 98/200 ---> train_accuracy: 0.7850000262260437, validation_accuracy: 0.7933333516120911\n",
            "epoch 99/200 ---> train_accuracy: 0.7851428389549255, validation_accuracy: 0.7933333516120911\n",
            "epoch 100/200 ---> train_accuracy: 0.7851428389549255, validation_accuracy: 0.7933333516120911\n",
            "epoch 101/200 ---> train_accuracy: 0.7851428389549255, validation_accuracy: 0.7933333516120911\n",
            "epoch 102/200 ---> train_accuracy: 0.7850000262260437, validation_accuracy: 0.7933333516120911\n",
            "epoch 103/200 ---> train_accuracy: 0.7852857112884521, validation_accuracy: 0.7933333516120911\n",
            "epoch 104/200 ---> train_accuracy: 0.7851428389549255, validation_accuracy: 0.7933333516120911\n",
            "epoch 105/200 ---> train_accuracy: 0.7851428389549255, validation_accuracy: 0.7933333516120911\n",
            "epoch 106/200 ---> train_accuracy: 0.7851428389549255, validation_accuracy: 0.7933333516120911\n",
            "epoch 107/200 ---> train_accuracy: 0.7851428389549255, validation_accuracy: 0.7933333516120911\n",
            "epoch 108/200 ---> train_accuracy: 0.7852857112884521, validation_accuracy: 0.7933333516120911\n",
            "epoch 109/200 ---> train_accuracy: 0.7852857112884521, validation_accuracy: 0.7933333516120911\n",
            "epoch 110/200 ---> train_accuracy: 0.7852857112884521, validation_accuracy: 0.7933333516120911\n",
            "epoch 111/200 ---> train_accuracy: 0.7852857112884521, validation_accuracy: 0.7933333516120911\n",
            "epoch 112/200 ---> train_accuracy: 0.7851428389549255, validation_accuracy: 0.7933333516120911\n",
            "epoch 113/200 ---> train_accuracy: 0.7852857112884521, validation_accuracy: 0.7933333516120911\n",
            "epoch 114/200 ---> train_accuracy: 0.7851428389549255, validation_accuracy: 0.7933333516120911\n",
            "epoch 115/200 ---> train_accuracy: 0.7850000262260437, validation_accuracy: 0.7933333516120911\n",
            "epoch 116/200 ---> train_accuracy: 0.7851428389549255, validation_accuracy: 0.7933333516120911\n",
            "epoch 117/200 ---> train_accuracy: 0.7852857112884521, validation_accuracy: 0.7933333516120911\n",
            "epoch 118/200 ---> train_accuracy: 0.7851428389549255, validation_accuracy: 0.7933333516120911\n",
            "epoch 119/200 ---> train_accuracy: 0.7851428389549255, validation_accuracy: 0.7933333516120911\n",
            "epoch 120/200 ---> train_accuracy: 0.7851428389549255, validation_accuracy: 0.7933333516120911\n",
            "epoch 121/200 ---> train_accuracy: 0.7851428389549255, validation_accuracy: 0.7933333516120911\n",
            "epoch 122/200 ---> train_accuracy: 0.7851428389549255, validation_accuracy: 0.793666660785675\n",
            "epoch 123/200 ---> train_accuracy: 0.7851428389549255, validation_accuracy: 0.7933333516120911\n",
            "epoch 124/200 ---> train_accuracy: 0.7851428389549255, validation_accuracy: 0.7933333516120911\n",
            "epoch 125/200 ---> train_accuracy: 0.7851428389549255, validation_accuracy: 0.7933333516120911\n",
            "epoch 126/200 ---> train_accuracy: 0.7851428389549255, validation_accuracy: 0.7933333516120911\n",
            "epoch 127/200 ---> train_accuracy: 0.7848571538925171, validation_accuracy: 0.7933333516120911\n",
            "epoch 128/200 ---> train_accuracy: 0.7850000262260437, validation_accuracy: 0.7933333516120911\n",
            "epoch 129/200 ---> train_accuracy: 0.7850000262260437, validation_accuracy: 0.7933333516120911\n",
            "epoch 130/200 ---> train_accuracy: 0.7852857112884521, validation_accuracy: 0.7933333516120911\n",
            "epoch 131/200 ---> train_accuracy: 0.7852857112884521, validation_accuracy: 0.7933333516120911\n",
            "epoch 132/200 ---> train_accuracy: 0.7851428389549255, validation_accuracy: 0.7933333516120911\n",
            "epoch 133/200 ---> train_accuracy: 0.7850000262260437, validation_accuracy: 0.7933333516120911\n",
            "epoch 134/200 ---> train_accuracy: 0.7851428389549255, validation_accuracy: 0.7933333516120911\n",
            "epoch 135/200 ---> train_accuracy: 0.7850000262260437, validation_accuracy: 0.7933333516120911\n",
            "epoch 136/200 ---> train_accuracy: 0.7851428389549255, validation_accuracy: 0.7933333516120911\n",
            "epoch 137/200 ---> train_accuracy: 0.7850000262260437, validation_accuracy: 0.7933333516120911\n",
            "epoch 138/200 ---> train_accuracy: 0.7851428389549255, validation_accuracy: 0.7933333516120911\n",
            "epoch 139/200 ---> train_accuracy: 0.7850000262260437, validation_accuracy: 0.7933333516120911\n",
            "epoch 140/200 ---> train_accuracy: 0.7850000262260437, validation_accuracy: 0.7933333516120911\n",
            "epoch 141/200 ---> train_accuracy: 0.7850000262260437, validation_accuracy: 0.7933333516120911\n",
            "epoch 142/200 ---> train_accuracy: 0.7850000262260437, validation_accuracy: 0.7933333516120911\n",
            "epoch 143/200 ---> train_accuracy: 0.7850000262260437, validation_accuracy: 0.7933333516120911\n",
            "epoch 144/200 ---> train_accuracy: 0.7850000262260437, validation_accuracy: 0.7933333516120911\n",
            "epoch 145/200 ---> train_accuracy: 0.7850000262260437, validation_accuracy: 0.7933333516120911\n",
            "epoch 146/200 ---> train_accuracy: 0.7850000262260437, validation_accuracy: 0.7933333516120911\n",
            "epoch 147/200 ---> train_accuracy: 0.7852857112884521, validation_accuracy: 0.7933333516120911\n",
            "epoch 148/200 ---> train_accuracy: 0.7850000262260437, validation_accuracy: 0.7933333516120911\n",
            "epoch 149/200 ---> train_accuracy: 0.7850000262260437, validation_accuracy: 0.7933333516120911\n",
            "epoch 150/200 ---> train_accuracy: 0.7851428389549255, validation_accuracy: 0.7933333516120911\n",
            "epoch 151/200 ---> train_accuracy: 0.7851428389549255, validation_accuracy: 0.7933333516120911\n",
            "epoch 152/200 ---> train_accuracy: 0.7851428389549255, validation_accuracy: 0.7933333516120911\n",
            "epoch 153/200 ---> train_accuracy: 0.7851428389549255, validation_accuracy: 0.793666660785675\n",
            "epoch 154/200 ---> train_accuracy: 0.7850000262260437, validation_accuracy: 0.7933333516120911\n",
            "epoch 155/200 ---> train_accuracy: 0.7851428389549255, validation_accuracy: 0.7933333516120911\n",
            "epoch 156/200 ---> train_accuracy: 0.7851428389549255, validation_accuracy: 0.793666660785675\n",
            "epoch 157/200 ---> train_accuracy: 0.7851428389549255, validation_accuracy: 0.7933333516120911\n",
            "epoch 158/200 ---> train_accuracy: 0.7852857112884521, validation_accuracy: 0.7933333516120911\n",
            "epoch 159/200 ---> train_accuracy: 0.7850000262260437, validation_accuracy: 0.7933333516120911\n",
            "epoch 160/200 ---> train_accuracy: 0.7850000262260437, validation_accuracy: 0.7933333516120911\n",
            "epoch 161/200 ---> train_accuracy: 0.7851428389549255, validation_accuracy: 0.7933333516120911\n",
            "epoch 162/200 ---> train_accuracy: 0.7848571538925171, validation_accuracy: 0.7933333516120911\n",
            "epoch 163/200 ---> train_accuracy: 0.7852857112884521, validation_accuracy: 0.7933333516120911\n",
            "epoch 164/200 ---> train_accuracy: 0.7851428389549255, validation_accuracy: 0.7933333516120911\n",
            "epoch 165/200 ---> train_accuracy: 0.7850000262260437, validation_accuracy: 0.7933333516120911\n",
            "epoch 166/200 ---> train_accuracy: 0.7851428389549255, validation_accuracy: 0.7933333516120911\n",
            "epoch 167/200 ---> train_accuracy: 0.7851428389549255, validation_accuracy: 0.7933333516120911\n",
            "epoch 168/200 ---> train_accuracy: 0.7851428389549255, validation_accuracy: 0.7933333516120911\n",
            "epoch 169/200 ---> train_accuracy: 0.7851428389549255, validation_accuracy: 0.7933333516120911\n",
            "epoch 170/200 ---> train_accuracy: 0.7852857112884521, validation_accuracy: 0.7933333516120911\n",
            "epoch 171/200 ---> train_accuracy: 0.7852857112884521, validation_accuracy: 0.7933333516120911\n",
            "epoch 172/200 ---> train_accuracy: 0.7852857112884521, validation_accuracy: 0.7933333516120911\n",
            "epoch 173/200 ---> train_accuracy: 0.7852857112884521, validation_accuracy: 0.7933333516120911\n",
            "epoch 174/200 ---> train_accuracy: 0.7852857112884521, validation_accuracy: 0.7933333516120911\n",
            "epoch 175/200 ---> train_accuracy: 0.7851428389549255, validation_accuracy: 0.7933333516120911\n",
            "epoch 176/200 ---> train_accuracy: 0.7850000262260437, validation_accuracy: 0.7933333516120911\n",
            "epoch 177/200 ---> train_accuracy: 0.7851428389549255, validation_accuracy: 0.7933333516120911\n",
            "epoch 178/200 ---> train_accuracy: 0.7852857112884521, validation_accuracy: 0.7933333516120911\n",
            "epoch 179/200 ---> train_accuracy: 0.7851428389549255, validation_accuracy: 0.7933333516120911\n",
            "epoch 180/200 ---> train_accuracy: 0.7852857112884521, validation_accuracy: 0.7933333516120911\n",
            "epoch 181/200 ---> train_accuracy: 0.7852857112884521, validation_accuracy: 0.7933333516120911\n",
            "epoch 182/200 ---> train_accuracy: 0.7852857112884521, validation_accuracy: 0.7933333516120911\n",
            "epoch 183/200 ---> train_accuracy: 0.7851428389549255, validation_accuracy: 0.7933333516120911\n",
            "epoch 184/200 ---> train_accuracy: 0.7851428389549255, validation_accuracy: 0.7933333516120911\n",
            "epoch 185/200 ---> train_accuracy: 0.7851428389549255, validation_accuracy: 0.793666660785675\n",
            "epoch 186/200 ---> train_accuracy: 0.7850000262260437, validation_accuracy: 0.7933333516120911\n",
            "epoch 187/200 ---> train_accuracy: 0.7850000262260437, validation_accuracy: 0.7933333516120911\n",
            "epoch 188/200 ---> train_accuracy: 0.7851428389549255, validation_accuracy: 0.793666660785675\n",
            "epoch 189/200 ---> train_accuracy: 0.7851428389549255, validation_accuracy: 0.793666660785675\n",
            "epoch 190/200 ---> train_accuracy: 0.7851428389549255, validation_accuracy: 0.793666660785675\n",
            "epoch 191/200 ---> train_accuracy: 0.7851428389549255, validation_accuracy: 0.793666660785675\n",
            "epoch 192/200 ---> train_accuracy: 0.7851428389549255, validation_accuracy: 0.7933333516120911\n",
            "epoch 193/200 ---> train_accuracy: 0.7851428389549255, validation_accuracy: 0.7933333516120911\n",
            "epoch 194/200 ---> train_accuracy: 0.7851428389549255, validation_accuracy: 0.7933333516120911\n",
            "epoch 195/200 ---> train_accuracy: 0.7851428389549255, validation_accuracy: 0.7933333516120911\n",
            "epoch 196/200 ---> train_accuracy: 0.7851428389549255, validation_accuracy: 0.793666660785675\n",
            "epoch 197/200 ---> train_accuracy: 0.7851428389549255, validation_accuracy: 0.793666660785675\n",
            "epoch 198/200 ---> train_accuracy: 0.7850000262260437, validation_accuracy: 0.7933333516120911\n",
            "epoch 199/200 ---> train_accuracy: 0.7851428389549255, validation_accuracy: 0.7933333516120911\n"
          ]
        }
      ]
    },
    {
      "cell_type": "code",
      "source": [
        "# Plot training and validation accuracy over epochs\n",
        "plt.plot([i for i in range(len(train_accuracy_list))], train_accuracy_list, label=\"Train\")\n",
        "plt.plot([i for i in range(len(validation_accuracy_list))], validation_accuracy_list, label=\"Validation\")\n",
        "plt.legend(loc=\"upper left\")\n",
        "plt.xlabel('Epochs')\n",
        "plt.ylabel('Accuracy')\n",
        "plt.show()"
      ],
      "metadata": {
        "colab": {
          "base_uri": "https://localhost:8080/",
          "height": 449
        },
        "id": "LfIpCRePNf9M",
        "outputId": "cf2bd8e2-457b-4013-90f8-9dddb6c718f8"
      },
      "execution_count": null,
      "outputs": [
        {
          "output_type": "display_data",
          "data": {
            "text/plain": [
              "<Figure size 640x480 with 1 Axes>"
            ],
            "image/png": "[encoded data removed]"
          },
          "metadata": {}
        }
      ]
    },
    {
      "cell_type": "code",
      "source": [
        "Y_pred = model(X_test_tensor)"
      ],
      "metadata": {
        "id": "KKzL76_rpuLP"
      },
      "execution_count": null,
      "outputs": []
    },
    {
      "cell_type": "code",
      "source": [
        "print(confusion_matrix(testing_data['Depression'], Y_pred.round().reshape(-1).detach()))\n",
        "print(classification_report(testing_data['Depression'], Y_pred.round().reshape(-1).detach()))"
      ],
      "metadata": {
        "colab": {
          "base_uri": "https://localhost:8080/"
        },
        "id": "_pX9zrYhpomi",
        "outputId": "9e2f1d67-b07a-4b0e-d859-bec6fa2dfbfa"
      },
      "execution_count": null,
      "outputs": [
        {
          "output_type": "stream",
          "name": "stdout",
          "text": [
            "[[2380    1]\n",
            " [ 617    2]]\n",
            "              precision    recall  f1-score   support\n",
            "\n",
            "           0       0.79      1.00      0.89      2381\n",
            "           1       0.67      0.00      0.01       619\n",
            "\n",
            "    accuracy                           0.79      3000\n",
            "   macro avg       0.73      0.50      0.45      3000\n",
            "weighted avg       0.77      0.79      0.70      3000\n",
            "\n"
          ]
        }
      ]
    },
    {
      "cell_type": "markdown",
      "source": [
        "**RNN**"
      ],
      "metadata": {
        "id": "_yqwzUjqh0sR"
      }
    },
    {
      "cell_type": "code",
      "source": [
        "# copy of dataset for rnn\n",
        "data_rnn = selected_df_features.copy()"
      ],
      "metadata": {
        "id": "2Li_c8eAh5_1"
      },
      "execution_count": null,
      "outputs": []
    },
    {
      "cell_type": "code",
      "source": [
        "from sklearn.model_selection import train_test_split\n",
        "\n",
        "# Grouping by 'patient_nbr' and creating a list of dataframes, one per group\n",
        "grouped = data_rnn.groupby('Patient_ID')\n",
        "grouped_dfs = [group for _, group in grouped]\n",
        "\n",
        "# Splitting the groups into training and test sets with an 70:30 ratio\n",
        "train_groups, test_groups = train_test_split(grouped_dfs, test_size=0.3, random_state=42)\n",
        "\n",
        "# Reassembling the training and test datasets from the groups\n",
        "train_df = pd.concat(train_groups)\n",
        "test_df = pd.concat(test_groups)\n",
        "\n",
        "# Displaying the shape of the training and test sets\n",
        "train_df_shape = train_df.shape\n",
        "test_df_shape = test_df.shape\n",
        "\n",
        "train_df_shape, test_df_shape"
      ],
      "metadata": {
        "colab": {
          "base_uri": "https://localhost:8080/"
        },
        "id": "yYagR2hg2szA",
        "outputId": "1ddcfc0e-0064-474c-b544-8994630dca14"
      },
      "execution_count": null,
      "outputs": [
        {
          "output_type": "execute_result",
          "data": {
            "text/plain": [
              "((7003, 19), (2997, 19))"
            ]
          },
          "metadata": {},
          "execution_count": 36
        }
      ]
    },
    {
      "cell_type": "code",
      "source": [
        "# Check missing values for training\n",
        "missing_val = train_df.isnull().sum()\n",
        "print(missing_val)"
      ],
      "metadata": {
        "colab": {
          "base_uri": "https://localhost:8080/"
        },
        "id": "rNNGf58C42Tb",
        "outputId": "fb85eadd-d412-45ed-cc45-74701facb60c"
      },
      "execution_count": null,
      "outputs": [
        {
          "output_type": "stream",
          "name": "stdout",
          "text": [
            "Age_at_Exam            0\n",
            "sBP                    3\n",
            "BMI                   33\n",
            "LDL                   48\n",
            "HDL                   45\n",
            "A1c                    0\n",
            "TG                    33\n",
            "FBS                    1\n",
            "FBS>DM                 0\n",
            "Total_Cholesterol    138\n",
            "Diabetes               0\n",
            "HTN                    0\n",
            "OA                     0\n",
            "COPD                   0\n",
            "Sex                    0\n",
            "A1C_BEF_DM             0\n",
            "FBS_BEF_DM             0\n",
            "Depression             0\n",
            "Patient_ID             0\n",
            "dtype: int64\n"
          ]
        }
      ]
    },
    {
      "cell_type": "code",
      "source": [
        "# missing values & numerical data imputation\n",
        "for i in numerical_columns:\n",
        "  train_df[i].fillna(train_df[i].median(), inplace=True)\n",
        "missing_val = train_df.isnull().sum()\n",
        "print(missing_val)"
      ],
      "metadata": {
        "colab": {
          "base_uri": "https://localhost:8080/"
        },
        "id": "-IVhl9VM4-W4",
        "outputId": "0ae34438-f62d-45e2-d6a1-5ff3756b8531"
      },
      "execution_count": null,
      "outputs": [
        {
          "output_type": "stream",
          "name": "stdout",
          "text": [
            "Age_at_Exam          0\n",
            "sBP                  0\n",
            "BMI                  0\n",
            "LDL                  0\n",
            "HDL                  0\n",
            "A1c                  0\n",
            "TG                   0\n",
            "FBS                  0\n",
            "FBS>DM               0\n",
            "Total_Cholesterol    0\n",
            "Diabetes             0\n",
            "HTN                  0\n",
            "OA                   0\n",
            "COPD                 0\n",
            "Sex                  0\n",
            "A1C_BEF_DM           0\n",
            "FBS_BEF_DM           0\n",
            "Depression           0\n",
            "Patient_ID           0\n",
            "dtype: int64\n"
          ]
        }
      ]
    },
    {
      "cell_type": "code",
      "source": [
        "# Check missing values for testing\n",
        "missing_val = test_df.isnull().sum()\n",
        "print(missing_val)"
      ],
      "metadata": {
        "colab": {
          "base_uri": "https://localhost:8080/"
        },
        "id": "rAZFqi325EFR",
        "outputId": "0a30705f-6374-44aa-d28f-20488a6bfbd1"
      },
      "execution_count": null,
      "outputs": [
        {
          "output_type": "stream",
          "name": "stdout",
          "text": [
            "Age_at_Exam           0\n",
            "sBP                   1\n",
            "BMI                  17\n",
            "LDL                  22\n",
            "HDL                  27\n",
            "A1c                   0\n",
            "TG                   20\n",
            "FBS                   0\n",
            "FBS>DM                0\n",
            "Total_Cholesterol    69\n",
            "Diabetes              0\n",
            "HTN                   0\n",
            "OA                    0\n",
            "COPD                  0\n",
            "Sex                   0\n",
            "A1C_BEF_DM            0\n",
            "FBS_BEF_DM            0\n",
            "Depression            0\n",
            "Patient_ID            0\n",
            "dtype: int64\n"
          ]
        }
      ]
    },
    {
      "cell_type": "code",
      "source": [
        "# missing values & numerical data imputation\n",
        "for i in numerical_columns:\n",
        "  test_df[i].fillna(test_df[i].median(), inplace=True)\n",
        "missing_val = test_df.isnull().sum()\n",
        "print(missing_val)"
      ],
      "metadata": {
        "colab": {
          "base_uri": "https://localhost:8080/"
        },
        "id": "4hRRFGV65HvH",
        "outputId": "e1050a76-b8ba-4df0-96e6-90d5792a10a1"
      },
      "execution_count": null,
      "outputs": [
        {
          "output_type": "stream",
          "name": "stdout",
          "text": [
            "Age_at_Exam          0\n",
            "sBP                  0\n",
            "BMI                  0\n",
            "LDL                  0\n",
            "HDL                  0\n",
            "A1c                  0\n",
            "TG                   0\n",
            "FBS                  0\n",
            "FBS>DM               0\n",
            "Total_Cholesterol    0\n",
            "Diabetes             0\n",
            "HTN                  0\n",
            "OA                   0\n",
            "COPD                 0\n",
            "Sex                  0\n",
            "A1C_BEF_DM           0\n",
            "FBS_BEF_DM           0\n",
            "Depression           0\n",
            "Patient_ID           0\n",
            "dtype: int64\n"
          ]
        }
      ]
    },
    {
      "cell_type": "code",
      "source": [
        "# Initializing the StandardScaler\n",
        "scaler = StandardScaler()\n",
        "\n",
        "# Fitting the scaler to the training data and transforming both training and test data\n",
        "train_df[numerical_columns] = scaler.fit_transform(train_df[numerical_columns])\n",
        "test_df[numerical_columns] = scaler.transform(test_df[numerical_columns])\n",
        "\n",
        "# Checking the first few rows of the normalized training data\n",
        "train_df.head()"
      ],
      "metadata": {
        "colab": {
          "base_uri": "https://localhost:8080/",
          "height": 226
        },
        "id": "ZEss-SrL5g2P",
        "outputId": "cc1433d3-7a2f-4f51-8ded-a872a3252a53"
      },
      "execution_count": null,
      "outputs": [
        {
          "output_type": "execute_result",
          "data": {
            "text/plain": [
              "      Age_at_Exam       sBP       BMI       LDL       HDL       A1c        TG  \\\n",
              "9083    -0.313905  0.802707  0.588490  0.890748 -0.172730  0.875494  0.674019   \n",
              "2656    -0.085029 -0.260870 -0.916526 -0.173217  1.051462 -0.594954 -0.544004   \n",
              "3240    -0.008737  2.338984  2.265955 -0.373368 -0.397581 -1.015082 -0.706407   \n",
              "4805    -1.153118 -0.497220  1.025885 -0.636726 -0.922235 -0.279858 -0.412052   \n",
              "8363     0.601599  0.507269 -1.120330 -0.046805 -0.672400 -0.384890 -0.391751   \n",
              "\n",
              "           FBS  FBS>DM  Total_Cholesterol  Diabetes  HTN  OA  COPD Sex  \\\n",
              "9083  0.747953       1           0.966249         1    0   0     0   1   \n",
              "2656 -0.473748       1           0.021359         0    0   0     0   1   \n",
              "3240 -0.299219       1          -0.711593         0    0   1     0   0   \n",
              "4805 -0.182867       1          -0.102272         0    0   1     0   1   \n",
              "8363 -0.531924       1          -0.446671         1    1   0     0   1   \n",
              "\n",
              "     A1C_BEF_DM FBS_BEF_DM  Depression        Patient_ID  \n",
              "9083          0          0           0  3005000000126341  \n",
              "2656          2          2           1  1001000000123976  \n",
              "3240          2          2           0  1003000000052069  \n",
              "4805          2          2           1  4001000000051180  \n",
              "8363          0          0           0  1003000000058525  "
            ],
            "text/html": [
              "\n",
              "  <div id=\"df-fa99e09c-c41c-4658-8c82-0b5ec9a7d5f3\" class=\"colab-df-container\">\n",
              "    <div>\n",
              "<style scoped>\n",
              "    .dataframe tbody tr th:only-of-type {\n",
              "        vertical-align: middle;\n",
              "    }\n",
              "\n",
              "    .dataframe tbody tr th {\n",
              "        vertical-align: top;\n",
              "    }\n",
              "\n",
              "    .dataframe thead th {\n",
              "        text-align: right;\n",
              "    }\n",
              "</style>\n",
              "<table border=\"1\" class=\"dataframe\">\n",
              "  <thead>\n",
              "    <tr style=\"text-align: right;\">\n",
              "      <th></th>\n",
              "      <th>Age_at_Exam</th>\n",
              "      <th>sBP</th>\n",
              "      <th>BMI</th>\n",
              "      <th>LDL</th>\n",
              "      <th>HDL</th>\n",
              "      <th>A1c</th>\n",
              "      <th>TG</th>\n",
              "      <th>FBS</th>\n",
              "      <th>FBS&gt;DM</th>\n",
              "      <th>Total_Cholesterol</th>\n",
              "      <th>Diabetes</th>\n",
              "      <th>HTN</th>\n",
              "      <th>OA</th>\n",
              "      <th>COPD</th>\n",
              "      <th>Sex</th>\n",
              "      <th>A1C_BEF_DM</th>\n",
              "      <th>FBS_BEF_DM</th>\n",
              "      <th>Depression</th>\n",
              "      <th>Patient_ID</th>\n",
              "    </tr>\n",
              "  </thead>\n",
              "  <tbody>\n",
              "    <tr>\n",
              "      <th>9083</th>\n",
              "      <td>-0.313905</td>\n",
              "      <td>0.802707</td>\n",
              "      <td>0.588490</td>\n",
              "      <td>0.890748</td>\n",
              "      <td>-0.172730</td>\n",
              "      <td>0.875494</td>\n",
              "      <td>0.674019</td>\n",
              "      <td>0.747953</td>\n",
              "      <td>1</td>\n",
              "      <td>0.966249</td>\n",
              "      <td>1</td>\n",
              "      <td>0</td>\n",
              "      <td>0</td>\n",
              "      <td>0</td>\n",
              "      <td>1</td>\n",
              "      <td>0</td>\n",
              "      <td>0</td>\n",
              "      <td>0</td>\n",
              "      <td>3005000000126341</td>\n",
              "    </tr>\n",
              "    <tr>\n",
              "      <th>2656</th>\n",
              "      <td>-0.085029</td>\n",
              "      <td>-0.260870</td>\n",
              "      <td>-0.916526</td>\n",
              "      <td>-0.173217</td>\n",
              "      <td>1.051462</td>\n",
              "      <td>-0.594954</td>\n",
              "      <td>-0.544004</td>\n",
              "      <td>-0.473748</td>\n",
              "      <td>1</td>\n",
              "      <td>0.021359</td>\n",
              "      <td>0</td>\n",
              "      <td>0</td>\n",
              "      <td>0</td>\n",
              "      <td>0</td>\n",
              "      <td>1</td>\n",
              "      <td>2</td>\n",
              "      <td>2</td>\n",
              "      <td>1</td>\n",
              "      <td>1001000000123976</td>\n",
              "    </tr>\n",
              "    <tr>\n",
              "      <th>3240</th>\n",
              "      <td>-0.008737</td>\n",
              "      <td>2.338984</td>\n",
              "      <td>2.265955</td>\n",
              "      <td>-0.373368</td>\n",
              "      <td>-0.397581</td>\n",
              "      <td>-1.015082</td>\n",
              "      <td>-0.706407</td>\n",
              "      <td>-0.299219</td>\n",
              "      <td>1</td>\n",
              "      <td>-0.711593</td>\n",
              "      <td>0</td>\n",
              "      <td>0</td>\n",
              "      <td>1</td>\n",
              "      <td>0</td>\n",
              "      <td>0</td>\n",
              "      <td>2</td>\n",
              "      <td>2</td>\n",
              "      <td>0</td>\n",
              "      <td>1003000000052069</td>\n",
              "    </tr>\n",
              "    <tr>\n",
              "      <th>4805</th>\n",
              "      <td>-1.153118</td>\n",
              "      <td>-0.497220</td>\n",
              "      <td>1.025885</td>\n",
              "      <td>-0.636726</td>\n",
              "      <td>-0.922235</td>\n",
              "      <td>-0.279858</td>\n",
              "      <td>-0.412052</td>\n",
              "      <td>-0.182867</td>\n",
              "      <td>1</td>\n",
              "      <td>-0.102272</td>\n",
              "      <td>0</td>\n",
              "      <td>0</td>\n",
              "      <td>1</td>\n",
              "      <td>0</td>\n",
              "      <td>1</td>\n",
              "      <td>2</td>\n",
              "      <td>2</td>\n",
              "      <td>1</td>\n",
              "      <td>4001000000051180</td>\n",
              "    </tr>\n",
              "    <tr>\n",
              "      <th>8363</th>\n",
              "      <td>0.601599</td>\n",
              "      <td>0.507269</td>\n",
              "      <td>-1.120330</td>\n",
              "      <td>-0.046805</td>\n",
              "      <td>-0.672400</td>\n",
              "      <td>-0.384890</td>\n",
              "      <td>-0.391751</td>\n",
              "      <td>-0.531924</td>\n",
              "      <td>1</td>\n",
              "      <td>-0.446671</td>\n",
              "      <td>1</td>\n",
              "      <td>1</td>\n",
              "      <td>0</td>\n",
              "      <td>0</td>\n",
              "      <td>1</td>\n",
              "      <td>0</td>\n",
              "      <td>0</td>\n",
              "      <td>0</td>\n",
              "      <td>1003000000058525</td>\n",
              "    </tr>\n",
              "  </tbody>\n",
              "</table>\n",
              "</div>\n",
              "    <div class=\"colab-df-buttons\">\n",
              "\n",
              "  <div class=\"colab-df-container\">\n",
              "    <button class=\"colab-df-convert\" onclick=\"convertToInteractive('df-fa99e09c-c41c-4658-8c82-0b5ec9a7d5f3')\"\n",
              "            title=\"Convert this dataframe to an interactive table.\"\n",
              "            style=\"display:none;\">\n",
              "\n",
              "  <svg xmlns=\"http://www.w3.org/2000/svg\" height=\"24px\" viewBox=\"0 -960 960 960\">\n",
              "    <path d=\"M120-120v-720h720v720H120Zm60-500h600v-160H180v160Zm220 220h160v-160H400v160Zm0 220h160v-160H400v160ZM180-400h160v-160H180v160Zm440 0h160v-160H620v160ZM180-180h160v-160H180v160Zm440 0h160v-160H620v160Z\"/>\n",
              "  </svg>\n",
              "    </button>\n",
              "\n",
              "  <style>\n",
              "    .colab-df-container {\n",
              "      display:flex;\n",
              "      gap: 12px;\n",
              "    }\n",
              "\n",
              "    .colab-df-convert {\n",
              "      background-color: #E8F0FE;\n",
              "      border: none;\n",
              "      border-radius: 50%;\n",
              "      cursor: pointer;\n",
              "      display: none;\n",
              "      fill: #1967D2;\n",
              "      height: 32px;\n",
              "      padding: 0 0 0 0;\n",
              "      width: 32px;\n",
              "    }\n",
              "\n",
              "    .colab-df-convert:hover {\n",
              "      background-color: #E2EBFA;\n",
              "      box-shadow: 0px 1px 2px rgba(60, 64, 67, 0.3), 0px 1px 3px 1px rgba(60, 64, 67, 0.15);\n",
              "      fill: #174EA6;\n",
              "    }\n",
              "\n",
              "    .colab-df-buttons div {\n",
              "      margin-bottom: 4px;\n",
              "    }\n",
              "\n",
              "    [theme=dark] .colab-df-convert {\n",
              "      background-color: #3B4455;\n",
              "      fill: #D2E3FC;\n",
              "    }\n",
              "\n",
              "    [theme=dark] .colab-df-convert:hover {\n",
              "      background-color: #434B5C;\n",
              "      box-shadow: 0px 1px 3px 1px rgba(0, 0, 0, 0.15);\n",
              "      filter: drop-shadow(0px 1px 2px rgba(0, 0, 0, 0.3));\n",
              "      fill: #FFFFFF;\n",
              "    }\n",
              "  </style>\n",
              "\n",
              "    <script>\n",
              "      const buttonEl =\n",
              "        document.querySelector('#df-fa99e09c-c41c-4658-8c82-0b5ec9a7d5f3 button.colab-df-convert');\n",
              "      buttonEl.style.display =\n",
              "        google.colab.kernel.accessAllowed ? 'block' : 'none';\n",
              "\n",
              "      async function convertToInteractive(key) {\n",
              "        const element = document.querySelector('#df-fa99e09c-c41c-4658-8c82-0b5ec9a7d5f3');\n",
              "        const dataTable =\n",
              "          await google.colab.kernel.invokeFunction('convertToInteractive',\n",
              "                                                    [key], {});\n",
              "        if (!dataTable) return;\n",
              "\n",
              "        const docLinkHtml = 'Like what you see? Visit the ' +\n",
              "          '<a target=\"_blank\" href=https://colab.research.google.com/notebooks/data_table.ipynb>data table notebook</a>'\n",
              "          + ' to learn more about interactive tables.';\n",
              "        element.innerHTML = '';\n",
              "        dataTable['output_type'] = 'display_data';\n",
              "        await google.colab.output.renderOutput(dataTable, element);\n",
              "        const docLink = document.createElement('div');\n",
              "        docLink.innerHTML = docLinkHtml;\n",
              "        element.appendChild(docLink);\n",
              "      }\n",
              "    </script>\n",
              "  </div>\n",
              "\n",
              "\n",
              "<div id=\"df-475d7361-13d9-422a-b145-644a2f853a16\">\n",
              "  <button class=\"colab-df-quickchart\" onclick=\"quickchart('df-475d7361-13d9-422a-b145-644a2f853a16')\"\n",
              "            title=\"Suggest charts\"\n",
              "            style=\"display:none;\">\n",
              "\n",
              "<svg xmlns=\"http://www.w3.org/2000/svg\" height=\"24px\"viewBox=\"0 0 24 24\"\n",
              "     width=\"24px\">\n",
              "    <g>\n",
              "        <path d=\"M19 3H5c-1.1 0-2 .9-2 2v14c0 1.1.9 2 2 2h14c1.1 0 2-.9 2-2V5c0-1.1-.9-2-2-2zM9 17H7v-7h2v7zm4 0h-2V7h2v10zm4 0h-2v-4h2v4z\"/>\n",
              "    </g>\n",
              "</svg>\n",
              "  </button>\n",
              "\n",
              "<style>\n",
              "  .colab-df-quickchart {\n",
              "      --bg-color: #E8F0FE;\n",
              "      --fill-color: #1967D2;\n",
              "      --hover-bg-color: #E2EBFA;\n",
              "      --hover-fill-color: #174EA6;\n",
              "      --disabled-fill-color: #AAA;\n",
              "      --disabled-bg-color: #DDD;\n",
              "  }\n",
              "\n",
              "  [theme=dark] .colab-df-quickchart {\n",
              "      --bg-color: #3B4455;\n",
              "      --fill-color: #D2E3FC;\n",
              "      --hover-bg-color: #434B5C;\n",
              "      --hover-fill-color: #FFFFFF;\n",
              "      --disabled-bg-color: #3B4455;\n",
              "      --disabled-fill-color: #666;\n",
              "  }\n",
              "\n",
              "  .colab-df-quickchart {\n",
              "    background-color: var(--bg-color);\n",
              "    border: none;\n",
              "    border-radius: 50%;\n",
              "    cursor: pointer;\n",
              "    display: none;\n",
              "    fill: var(--fill-color);\n",
              "    height: 32px;\n",
              "    padding: 0;\n",
              "    width: 32px;\n",
              "  }\n",
              "\n",
              "  .colab-df-quickchart:hover {\n",
              "    background-color: var(--hover-bg-color);\n",
              "    box-shadow: 0 1px 2px rgba(60, 64, 67, 0.3), 0 1px 3px 1px rgba(60, 64, 67, 0.15);\n",
              "    fill: var(--button-hover-fill-color);\n",
              "  }\n",
              "\n",
              "  .colab-df-quickchart-complete:disabled,\n",
              "  .colab-df-quickchart-complete:disabled:hover {\n",
              "    background-color: var(--disabled-bg-color);\n",
              "    fill: var(--disabled-fill-color);\n",
              "    box-shadow: none;\n",
              "  }\n",
              "\n",
              "  .colab-df-spinner {\n",
              "    border: 2px solid var(--fill-color);\n",
              "    border-color: transparent;\n",
              "    border-bottom-color: var(--fill-color);\n",
              "    animation:\n",
              "      spin 1s steps(1) infinite;\n",
              "  }\n",
              "\n",
              "  @keyframes spin {\n",
              "    0% {\n",
              "      border-color: transparent;\n",
              "      border-bottom-color: var(--fill-color);\n",
              "      border-left-color: var(--fill-color);\n",
              "    }\n",
              "    20% {\n",
              "      border-color: transparent;\n",
              "      border-left-color: var(--fill-color);\n",
              "      border-top-color: var(--fill-color);\n",
              "    }\n",
              "    30% {\n",
              "      border-color: transparent;\n",
              "      border-left-color: var(--fill-color);\n",
              "      border-top-color: var(--fill-color);\n",
              "      border-right-color: var(--fill-color);\n",
              "    }\n",
              "    40% {\n",
              "      border-color: transparent;\n",
              "      border-right-color: var(--fill-color);\n",
              "      border-top-color: var(--fill-color);\n",
              "    }\n",
              "    60% {\n",
              "      border-color: transparent;\n",
              "      border-right-color: var(--fill-color);\n",
              "    }\n",
              "    80% {\n",
              "      border-color: transparent;\n",
              "      border-right-color: var(--fill-color);\n",
              "      border-bottom-color: var(--fill-color);\n",
              "    }\n",
              "    90% {\n",
              "      border-color: transparent;\n",
              "      border-bottom-color: var(--fill-color);\n",
              "    }\n",
              "  }\n",
              "</style>\n",
              "\n",
              "  <script>\n",
              "    async function quickchart(key) {\n",
              "      const quickchartButtonEl =\n",
              "        document.querySelector('#' + key + ' button');\n",
              "      quickchartButtonEl.disabled = true;  // To prevent multiple clicks.\n",
              "      quickchartButtonEl.classList.add('colab-df-spinner');\n",
              "      try {\n",
              "        const charts = await google.colab.kernel.invokeFunction(\n",
              "            'suggestCharts', [key], {});\n",
              "      } catch (error) {\n",
              "        console.error('Error during call to suggestCharts:', error);\n",
              "      }\n",
              "      quickchartButtonEl.classList.remove('colab-df-spinner');\n",
              "      quickchartButtonEl.classList.add('colab-df-quickchart-complete');\n",
              "    }\n",
              "    (() => {\n",
              "      let quickchartButtonEl =\n",
              "        document.querySelector('#df-475d7361-13d9-422a-b145-644a2f853a16 button');\n",
              "      quickchartButtonEl.style.display =\n",
              "        google.colab.kernel.accessAllowed ? 'block' : 'none';\n",
              "    })();\n",
              "  </script>\n",
              "</div>\n",
              "    </div>\n",
              "  </div>\n"
            ]
          },
          "metadata": {},
          "execution_count": 41
        }
      ]
    },
    {
      "cell_type": "code",
      "source": [
        "# Checking the class distribution in the 'Depression' column of the training set\n",
        "class_distribution = train_df.groupby('Patient_ID').apply(lambda x : x.iloc[-1]['Depression']).value_counts()\n",
        "class_distribution"
      ],
      "metadata": {
        "colab": {
          "base_uri": "https://localhost:8080/"
        },
        "id": "e5sxl9YE57h_",
        "outputId": "244f9fa8-b8a0-477b-ed54-8f1f6bfc185b"
      },
      "execution_count": null,
      "outputs": [
        {
          "output_type": "execute_result",
          "data": {
            "text/plain": [
              "0.0    4752\n",
              "1.0    1269\n",
              "dtype: int64"
            ]
          },
          "metadata": {},
          "execution_count": 42
        }
      ]
    },
    {
      "cell_type": "code",
      "source": [
        "train_df[train_df['Patient_ID'] == 582840]['Depression']"
      ],
      "metadata": {
        "colab": {
          "base_uri": "https://localhost:8080/"
        },
        "id": "73k90WHH72dd",
        "outputId": "00ccdc8f-d4b1-4901-ea63-c9eadfe6f8b1"
      },
      "execution_count": null,
      "outputs": [
        {
          "output_type": "execute_result",
          "data": {
            "text/plain": [
              "Series([], Name: Depression, dtype: int64)"
            ]
          },
          "metadata": {},
          "execution_count": 43
        }
      ]
    },
    {
      "cell_type": "code",
      "source": [
        "len(train_df['Patient_ID'].unique())"
      ],
      "metadata": {
        "colab": {
          "base_uri": "https://localhost:8080/"
        },
        "id": "IszYqm-R78tQ",
        "outputId": "cdf5b5f7-a606-4b96-f04c-a3e0853671ae"
      },
      "execution_count": null,
      "outputs": [
        {
          "output_type": "execute_result",
          "data": {
            "text/plain": [
              "6021"
            ]
          },
          "metadata": {},
          "execution_count": 44
        }
      ]
    },
    {
      "cell_type": "code",
      "source": [
        "from sklearn.utils import resample\n",
        "\n",
        "# Grouping the original training data by 'patient_nbr'\n",
        "grouped_by_patient = train_df.groupby('Patient_ID')\n",
        "\n",
        "# Creating separate lists for each class\n",
        "groups_class_0 = [grouped_by_patient.get_group(patient) for patient in grouped_by_patient.groups if grouped_by_patient.get_group(patient)['Depression'].iloc[-1] == 0]\n",
        "groups_class_1 = [grouped_by_patient.get_group(patient) for patient in grouped_by_patient.groups if grouped_by_patient.get_group(patient)['Depression'].iloc[-1] == 1]"
      ],
      "metadata": {
        "id": "ODEPWOqf8av5"
      },
      "execution_count": null,
      "outputs": []
    },
    {
      "cell_type": "code",
      "source": [
        "groups_class_0[0]['Patient_ID'] = -1"
      ],
      "metadata": {
        "id": "g4jQc7Wd8niE"
      },
      "execution_count": null,
      "outputs": []
    },
    {
      "cell_type": "code",
      "source": [
        "# Importing tqdm for progress bar visualization in loops\n",
        "from tqdm import tqdm\n",
        "\n",
        "# Oversampling the minority groups (class 1 and class 2)\n",
        "# Using resample to duplicate records in groups_class_1 to match the number of records in groups_class_0\n",
        "oversampled_groups_class_1 = resample(groups_class_1, replace=True, n_samples=len(groups_class_0), random_state=42)\n",
        "\n",
        "# Combining the oversampled minority class groups with the majority class group\n",
        "# This results in a balanced dataset with an equal number of records for each class\n",
        "balanced_groups = oversampled_groups_class_1 + groups_class_0\n",
        "\n",
        "# Preparing to create a modified copy of the balanced dataset\n",
        "balanced_groups_copy = []\n",
        "i = 0\n",
        "# Looping over each group in the balanced dataset\n",
        "for i, group in tqdm(enumerate(balanced_groups)):\n",
        "    # Assigning a new, unique identifier to each record in the group\n",
        "    group.loc[:,'Patient_ID'] = i\n",
        "    # Incrementing the identifier for the next group\n",
        "    i += 1\n",
        "    # Appending a copy of the modified group to the balanced_groups_copy list\n",
        "    balanced_groups_copy.append(group.copy())"
      ],
      "metadata": {
        "colab": {
          "base_uri": "https://localhost:8080/"
        },
        "id": "3GWYNW2J8qLQ",
        "outputId": "034ec0ea-77a2-47e9-8586-15a515726411"
      },
      "execution_count": null,
      "outputs": [
        {
          "output_type": "stream",
          "name": "stderr",
          "text": [
            "9504it [00:04, 2254.18it/s]\n"
          ]
        }
      ]
    },
    {
      "cell_type": "code",
      "source": [
        "# Reassembling the balanced training dataset\n",
        "train_df_balanced = pd.concat(balanced_groups_copy, ignore_index=True)\n",
        "\n",
        "# Checking the new class distribution in the balanced dataset\n",
        "print(train_df_balanced.groupby('Patient_ID').apply(lambda x : x.iloc[-1]['Depression']).value_counts())"
      ],
      "metadata": {
        "colab": {
          "base_uri": "https://localhost:8080/"
        },
        "id": "c_I16ItF9Q3e",
        "outputId": "9927bbd9-b34d-49c5-fd8f-2cacae4aaee5"
      },
      "execution_count": null,
      "outputs": [
        {
          "output_type": "stream",
          "name": "stdout",
          "text": [
            "1.0    4752\n",
            "0.0    4752\n",
            "dtype: int64\n"
          ]
        }
      ]
    },
    {
      "cell_type": "code",
      "source": [
        "from tensorflow.keras.preprocessing.sequence import pad_sequences\n",
        "\n",
        "# Group by 'Patient_ID' and create sequences\n",
        "grouped = train_df_balanced.groupby('Patient_ID', sort=False)\n",
        "sequences = [group.drop(columns=['Patient_ID', 'Depression']).values for _, group in grouped]\n",
        "targets = [group['Depression'].iloc[-1] for _, group in grouped]  # Assuming all records for a patient have the same target\n",
        "\n",
        "# Padding sequences\n",
        "max_length = max(len(s) for s in sequences)\n",
        "# We cal also go with max_length\n",
        "padded_sequences = pad_sequences(sequences, maxlen=5, padding='post', dtype='float')\n",
        "\n",
        "padded_sequences.shape"
      ],
      "metadata": {
        "colab": {
          "base_uri": "https://localhost:8080/"
        },
        "id": "spwLiYw57uFO",
        "outputId": "471f088f-9a74-4141-e2c9-2b535ed8b678"
      },
      "execution_count": null,
      "outputs": [
        {
          "output_type": "execute_result",
          "data": {
            "text/plain": [
              "(9504, 5, 17)"
            ]
          },
          "metadata": {},
          "execution_count": 49
        }
      ]
    },
    {
      "cell_type": "code",
      "source": [
        "#Testing sequences\n",
        "\n",
        "# Group by 'patient_nbr' and create sequences\n",
        "grouped_test = test_df.groupby('Patient_ID', sort=False)\n",
        "sequences_test = [group.drop(columns=['Patient_ID', 'Depression']).values for _, group in grouped_test]\n",
        "targets_test = [group['Depression'].iloc[-1] for _, group in grouped_test]  # Assuming all records for a patient have the same target\n",
        "\n",
        "# Padding sequences for the test set\n",
        "padded_sequences_test = pad_sequences(sequences_test, maxlen=5, padding='post', dtype='float')\n",
        "\n",
        "padded_sequences_test.shape"
      ],
      "metadata": {
        "colab": {
          "base_uri": "https://localhost:8080/"
        },
        "id": "NcgRpkzA9nLV",
        "outputId": "801d71c3-16e6-4e8d-ffcb-92b62b059a7e"
      },
      "execution_count": null,
      "outputs": [
        {
          "output_type": "execute_result",
          "data": {
            "text/plain": [
              "(2581, 5, 17)"
            ]
          },
          "metadata": {},
          "execution_count": 50
        }
      ]
    },
    {
      "cell_type": "code",
      "source": [
        "import torch as t\n",
        "import torch.nn as nn\n",
        "from torch.optim import Adam\n",
        "from torch.utils.data import TensorDataset, DataLoader\n",
        "\n",
        "# Hyperparameters\n",
        "input_size = padded_sequences.shape[2]\n",
        "hidden_size = 15  # Number of hidden units in RNN\n",
        "num_classes = 2  # For two-class classification\n",
        "epochs = 35\n",
        "learning_rate = 0.01\n",
        "batch_size = 100\n",
        "landa = 0.000001  # Regularization term (lambda)\n",
        "\n",
        "# Data preparation\n",
        "train_dataset = TensorDataset(t.tensor(padded_sequences, dtype=t.float32), t.tensor(targets, dtype=t.long))\n",
        "train_data_loader = DataLoader(train_dataset, batch_size=batch_size, shuffle=True)\n",
        "\n",
        "test_dataset = TensorDataset(t.tensor(padded_sequences_test, dtype=t.float32), t.tensor(targets_test, dtype=t.long))\n",
        "test_data_loader = DataLoader(test_dataset, batch_size=batch_size, shuffle=False)\n",
        "\n",
        "# RNN layers and additional fully connected layer\n",
        "rnn_layer1 = nn.RNN(input_size, hidden_size, batch_first=True)\n",
        "dropout1 = nn.Dropout(0.3)  # Add dropout between RNN layers\n",
        "# rnn_layer2 = nn.RNN(hidden_size, hidden_size, batch_first=True)\n",
        "# dropout2 = nn.Dropout(0.5)  # Add dropout between RNN layers\n",
        "fc_layer1 = nn.Linear(hidden_size, hidden_size // 2)  # Additional fully connected layer\n",
        "fc_layer2 = nn.Linear(hidden_size  // 2, num_classes)  # Final output layer\n",
        "\n",
        "# Dropout layer\n",
        "dropout_fc = nn.Dropout(0.4)  # Add dropout between fully connected layers\n",
        "\n",
        "# Activation function\n",
        "relu = nn.ReLU()\n",
        "\n",
        "# Loss function and optimizer\n",
        "loss_fn = nn.CrossEntropyLoss()\n",
        "# optimizer = Adam(list(rnn_layer1.parameters()) + list(rnn_layer2.parameters()) + list(fc_layer1.parameters()) + list(fc_layer2.parameters()), lr=learning_rate)\n",
        "# optimizer = Adam(list(rnn_layer1.parameters())+ list(fc_layer1.parameters()) + list(fc_layer2.parameters()), lr=learning_rate)\n",
        "\n",
        "# Lists to store accuracies and losses\n",
        "all_loss = []\n",
        "train_accuracy_list = []\n",
        "validation_accuracy_list = []\n",
        "train_loss_list = []\n",
        "\n",
        "# Training loop\n",
        "for epoch in range(epochs):\n",
        "\n",
        "    if epoch % 10 == 0:\n",
        "        learning_rate *= 0.9  # Learning rate scheduling\n",
        "\n",
        "    optimizer = Adam(list(rnn_layer1.parameters())+ list(fc_layer1.parameters()) + list(fc_layer2.parameters()), lr=learning_rate)\n",
        "\n",
        "    per_epoch_loss_list = []\n",
        "    for X, Y in train_data_loader:\n",
        "        # Forward pass through layers\n",
        "        out, _ = rnn_layer1(X)\n",
        "        out = dropout1(out)  # Apply dropout between RNN layers\n",
        "        # out, _ = rnn_layer2(out)\n",
        "        # out = dropout2(out)  # Apply dropout between RNN layers\n",
        "        out = out[:, -1, :]  # Get the last output of the sequence\n",
        "        out = relu(fc_layer1(out))  # Apply activation function after first fully connected layer\n",
        "        out = dropout_fc(out)  # Apply dropout between fully connected layers\n",
        "        out = fc_layer2(out)\n",
        "\n",
        "        # Regularization\n",
        "        # l2_term = sum([(w ** 2).sum() for w in list(rnn_layer1.parameters()) + list(rnn_layer2.parameters()) + list(fc_layer1.parameters()) + list(fc_layer2.parameters())])\n",
        "        # l2_term = sum([(w ** 2).sum() for w in list(rnn_layer1.parameters()) + list(fc_layer1.parameters()) + list(fc_layer2.parameters())])\n",
        "        # loss = loss_fn(out, Y) + landa * l2_term\n",
        "        loss = loss_fn(out, Y)\n",
        "        per_epoch_loss_list.append(loss.item())\n",
        "\n",
        "        # Backward pass and optimization\n",
        "        optimizer.zero_grad()\n",
        "        loss.backward()\n",
        "        optimizer.step()\n",
        "\n",
        "        # max_iter -=1\n",
        "        # if max_iter == 0:\n",
        "        #     break\n",
        "    all_loss += per_epoch_loss_list\n",
        "\n",
        "    # Evaluation on training and validation data\n",
        "    rnn_layer1.eval()\n",
        "    # rnn_layer2.eval()\n",
        "    fc_layer1.eval()\n",
        "    fc_layer2.eval()\n",
        "\n",
        "    with t.no_grad():\n",
        "        # Training data\n",
        "        train_correct, train_total = 0, 0\n",
        "        for X, Y in train_data_loader:\n",
        "            out, _ = rnn_layer1(X)\n",
        "            # out, _ = rnn_layer2(out)\n",
        "            out = out[:, -1, :]\n",
        "            out = relu(fc_layer1(out))\n",
        "            out = fc_layer2(out)\n",
        "            _, predicted = t.max(out.data, 1)\n",
        "            train_total += Y.size(0)\n",
        "            train_correct += (predicted == Y).sum().item()\n",
        "        train_accuracy = 100 * train_correct / train_total\n",
        "\n",
        "        # Validation data\n",
        "        validation_correct, validation_total = 0, 0\n",
        "        for X, Y in test_data_loader:\n",
        "            out, _ = rnn_layer1(X)\n",
        "            # out, _ = rnn_layer2(out)\n",
        "            out = out[:, -1, :]\n",
        "            out = relu(fc_layer1(out))\n",
        "            out = fc_layer2(out)\n",
        "            _, predicted = t.max(out.data, 1)\n",
        "            validation_total += Y.size(0)\n",
        "            validation_correct += (predicted == Y).sum().item()\n",
        "        validation_accuracy = 100 * validation_correct / validation_total\n",
        "\n",
        "        # Print accuracy for the current epoch\n",
        "        print(f'Epoch {epoch}/{epochs} ---> Train Accuracy: {train_accuracy}%, Validation Accuracy: {validation_accuracy}%')\n",
        "\n",
        "        # Append accuracy values to lists\n",
        "        train_accuracy_list.append(train_accuracy)\n",
        "        validation_accuracy_list.append(validation_accuracy)\n",
        "\n",
        "    # Calculate and append the average loss for the epoch\n",
        "    train_loss_list.append(sum(per_epoch_loss_list) / len(per_epoch_loss_list))\n",
        "\n",
        "    # Set the model back to train mode\n",
        "    rnn_layer1.train()\n",
        "    # rnn_layer2.train()\n",
        "    fc_layer1.train()\n",
        "    fc_layer2.train()\n"
      ],
      "metadata": {
        "colab": {
          "base_uri": "https://localhost:8080/"
        },
        "id": "70xZ2FRM94H8",
        "outputId": "4a134bd4-14c9-4e82-ad0a-ba8e85e2afc5"
      },
      "execution_count": null,
      "outputs": [
        {
          "output_type": "stream",
          "name": "stdout",
          "text": [
            "Epoch 0/35 ---> Train Accuracy: 60.58501683501684%, Validation Accuracy: 67.33824099186361%\n",
            "Epoch 1/35 ---> Train Accuracy: 62.51052188552188%, Validation Accuracy: 65.01356063541263%\n",
            "Epoch 2/35 ---> Train Accuracy: 62.48947811447812%, Validation Accuracy: 63.50251840371949%\n",
            "Epoch 3/35 ---> Train Accuracy: 62.24747474747475%, Validation Accuracy: 63.46377373111197%\n",
            "Epoch 4/35 ---> Train Accuracy: 63.25757575757576%, Validation Accuracy: 64.35490120108486%\n",
            "Epoch 5/35 ---> Train Accuracy: 64.01515151515152%, Validation Accuracy: 61.449050755521114%\n",
            "Epoch 6/35 ---> Train Accuracy: 63.1523569023569%, Validation Accuracy: 68.38434715226656%\n",
            "Epoch 7/35 ---> Train Accuracy: 63.93097643097643%, Validation Accuracy: 61.332816737698565%\n",
            "Epoch 8/35 ---> Train Accuracy: 63.5942760942761%, Validation Accuracy: 50.52305308020147%\n",
            "Epoch 9/35 ---> Train Accuracy: 64.39393939393939%, Validation Accuracy: 57.497094149554435%\n",
            "Epoch 10/35 ---> Train Accuracy: 64.5307239057239%, Validation Accuracy: 62.03022084463386%\n",
            "Epoch 11/35 ---> Train Accuracy: 64.85690235690235%, Validation Accuracy: 53.54513754358776%\n",
            "Epoch 12/35 ---> Train Accuracy: 65.08838383838383%, Validation Accuracy: 61.91398682681131%\n",
            "Epoch 13/35 ---> Train Accuracy: 65.76178451178451%, Validation Accuracy: 66.60209221232081%\n",
            "Epoch 14/35 ---> Train Accuracy: 65.70917508417509%, Validation Accuracy: 66.40836884928322%\n",
            "Epoch 15/35 ---> Train Accuracy: 66.66666666666667%, Validation Accuracy: 61.449050755521114%\n",
            "Epoch 16/35 ---> Train Accuracy: 66.67718855218855%, Validation Accuracy: 60.24796590468811%\n",
            "Epoch 17/35 ---> Train Accuracy: 67.66624579124579%, Validation Accuracy: 67.02828361100349%\n",
            "Epoch 18/35 ---> Train Accuracy: 68.25547138047138%, Validation Accuracy: 66.1371561410306%\n",
            "Epoch 19/35 ---> Train Accuracy: 68.05555555555556%, Validation Accuracy: 66.56334753971329%\n",
            "Epoch 20/35 ---> Train Accuracy: 68.58164983164983%, Validation Accuracy: 67.84192173576133%\n",
            "Epoch 21/35 ---> Train Accuracy: 68.68686868686869%, Validation Accuracy: 66.79581557535839%\n",
            "Epoch 22/35 ---> Train Accuracy: 69.45496632996633%, Validation Accuracy: 66.25339015885315%\n",
            "Epoch 23/35 ---> Train Accuracy: 69.6233164983165%, Validation Accuracy: 65.94343277799302%\n",
            "Epoch 24/35 ---> Train Accuracy: 69.06565656565657%, Validation Accuracy: 66.02092212320805%\n",
            "Epoch 25/35 ---> Train Accuracy: 69.56018518518519%, Validation Accuracy: 63.657497094149555%\n",
            "Epoch 26/35 ---> Train Accuracy: 70.42297979797979%, Validation Accuracy: 64.62611390933746%\n",
            "Epoch 27/35 ---> Train Accuracy: 69.87584175084174%, Validation Accuracy: 68.03564509879891%\n",
            "Epoch 28/35 ---> Train Accuracy: 70.62289562289563%, Validation Accuracy: 65.1685393258427%\n",
            "Epoch 29/35 ---> Train Accuracy: 70.43350168350169%, Validation Accuracy: 63.73498643936459%\n",
            "Epoch 30/35 ---> Train Accuracy: 70.62289562289563%, Validation Accuracy: 65.28477334366525%\n",
            "Epoch 31/35 ---> Train Accuracy: 70.84385521885523%, Validation Accuracy: 66.17590081363812%\n",
            "Epoch 32/35 ---> Train Accuracy: 71.45412457912458%, Validation Accuracy: 65.71096474234793%\n",
            "Epoch 33/35 ---> Train Accuracy: 70.62289562289563%, Validation Accuracy: 66.98953893839597%\n",
            "Epoch 34/35 ---> Train Accuracy: 70.128367003367%, Validation Accuracy: 65.6334753971329%\n"
          ]
        }
      ]
    },
    {
      "cell_type": "code",
      "source": [
        "plt.plot([i for i in range(len(all_loss))], all_loss, label=\"Train\")\n",
        "plt.xlabel('Batch Iteration')\n",
        "plt.ylabel('Train Loss')\n",
        "plt.show()"
      ],
      "metadata": {
        "colab": {
          "base_uri": "https://localhost:8080/",
          "height": 449
        },
        "id": "tpMX8DtmEI2w",
        "outputId": "2e7a8404-5b8f-44e2-f431-cfbedaa5c538"
      },
      "execution_count": null,
      "outputs": [
        {
          "output_type": "display_data",
          "data": {
            "text/plain": [
              "<Figure size 640x480 with 1 Axes>"
            ],
            "image/png": "[encoded data removed]"
          },
          "metadata": {}
        }
      ]
    },
    {
      "cell_type": "code",
      "source": [
        "# Plot training and validation accuracy over epochs\n",
        "plt.plot([i for i in range(len(train_accuracy_list))], train_accuracy_list, label=\"Train\")\n",
        "plt.plot([i for i in range(len(validation_accuracy_list))], validation_accuracy_list, label=\"Validation\")\n",
        "plt.legend(loc=\"upper left\")\n",
        "plt.xlabel('Epochs')\n",
        "plt.ylabel('Accuracy')\n",
        "plt.show()\n"
      ],
      "metadata": {
        "colab": {
          "base_uri": "https://localhost:8080/",
          "height": 449
        },
        "id": "h5-ZKYHdELKQ",
        "outputId": "e3729d3e-b269-4c38-bcd1-2f2b01c9aff4"
      },
      "execution_count": null,
      "outputs": [
        {
          "output_type": "display_data",
          "data": {
            "text/plain": [
              "<Figure size 640x480 with 1 Axes>"
            ],
            "image/png": "[encoded data removed]"
          },
          "metadata": {}
        }
      ]
    },
    {
      "cell_type": "markdown",
      "source": [
        "**LSTM**"
      ],
      "metadata": {
        "id": "DzuSPTPZFAhO"
      }
    },
    {
      "cell_type": "code",
      "source": [
        "import torch as t\n",
        "import torch.nn as nn\n",
        "from torch.optim import Adam\n",
        "from torch.utils.data import TensorDataset, DataLoader\n",
        "\n",
        "# Hyperparameters\n",
        "input_size = padded_sequences.shape[2]\n",
        "hidden_size = 15  # Number of hidden units in RNN\n",
        "num_classes = 2  # For two-class classification\n",
        "epochs = 35\n",
        "learning_rate = 0.01\n",
        "batch_size = 100\n",
        "landa = 0.0001  # Regularization term (lambda)\n",
        "\n",
        "# Data preparation\n",
        "train_dataset = TensorDataset(t.tensor(padded_sequences, dtype=t.float32), t.tensor(targets, dtype=t.long))\n",
        "train_data_loader = DataLoader(train_dataset, batch_size=batch_size, shuffle=True)\n",
        "\n",
        "test_dataset = TensorDataset(t.tensor(padded_sequences_test, dtype=t.float32), t.tensor(targets_test, dtype=t.long))\n",
        "test_data_loader = DataLoader(test_dataset, batch_size=batch_size, shuffle=False)\n",
        "\n",
        "# RNN layers and additional fully connected layer\n",
        "rnn_layer1 = nn.LSTM(input_size, hidden_size, batch_first=True)\n",
        "dropout1 = nn.Dropout(0.3)  # Add dropout between RNN layers\n",
        "# rnn_layer2 = nn.LSTM(hidden_size, hidden_size, batch_first=True)\n",
        "# dropout2 = nn.Dropout(0.5)  # Add dropout between RNN layers\n",
        "fc_layer1 = nn.Linear(hidden_size, hidden_size)  # Additional fully connected layer\n",
        "fc_layer2 = nn.Linear(hidden_size, num_classes)  # Final output layer\n",
        "\n",
        "# Dropout layer\n",
        "dropout_fc = nn.Dropout(0.4)  # Add dropout between fully connected layers\n",
        "\n",
        "# Activation function\n",
        "relu = nn.ReLU()\n",
        "\n",
        "# Loss function and optimizer\n",
        "loss_fn = nn.CrossEntropyLoss()\n",
        "# optimizer = Adam(list(rnn_layer1.parameters()) + list(rnn_layer2.parameters()) + list(fc_layer1.parameters()) + list(fc_layer2.parameters()), lr=learning_rate)\n",
        "optimizer = Adam(list(rnn_layer1.parameters()) + list(fc_layer1.parameters()) + list(fc_layer2.parameters()), lr=learning_rate)\n",
        "\n",
        "# Lists to store accuracies and losses\n",
        "train_accuracy_list = []\n",
        "validation_accuracy_list = []\n",
        "train_loss_list = []\n",
        "\n",
        "# Training loop\n",
        "for epoch in range(epochs):\n",
        "    if epoch % 10 == 0:\n",
        "        learning_rate *= 0.9  # Learning rate scheduling\n",
        "\n",
        "    per_epoch_loss_list = []\n",
        "    for X, Y in train_data_loader:\n",
        "        # Forward pass through layers\n",
        "        out, _ = rnn_layer1(X)\n",
        "        out = dropout1(out)  # Apply dropout between RNN layers\n",
        "        # out, _ = rnn_layer2(out)\n",
        "        # out = dropout2(out)  # Apply dropout between RNN layers\n",
        "        out = out[:, -1, :]  # Get the last output of the sequence\n",
        "        out = relu(fc_layer1(out))  # Apply activation function after first fully connected layer\n",
        "        out = dropout_fc(out)  # Apply dropout between fully connected layers\n",
        "        out = fc_layer2(out)\n",
        "\n",
        "        # Regularization\n",
        "        # l2_term = sum([(w ** 2).sum() for w in list(rnn_layer1.parameters()) + list(rnn_layer2.parameters()) + list(fc_layer1.parameters()) + list(fc_layer2.parameters())])\n",
        "        # loss = loss_fn(out, Y) + landa * l2_term\n",
        "        loss = loss_fn(out, Y)\n",
        "\n",
        "        per_epoch_loss_list.append(loss.item())\n",
        "\n",
        "        # Backward pass and optimization\n",
        "        optimizer.zero_grad()\n",
        "        loss.backward()\n",
        "        optimizer.step()\n",
        "\n",
        "    # Evaluation on training and validation data\n",
        "    rnn_layer1.eval()\n",
        "    # rnn_layer2.eval()\n",
        "    fc_layer1.eval()\n",
        "    fc_layer2.eval()\n",
        "\n",
        "    with t.no_grad():\n",
        "        # Training data\n",
        "        train_correct, train_total = 0, 0\n",
        "        for X, Y in train_data_loader:\n",
        "            out, _ = rnn_layer1(X)\n",
        "            out = dropout1(out)  # Apply dropout between RNN layers\n",
        "            # out, _ = rnn_layer2(out)\n",
        "            # out = dropout2(out)  # Apply dropout between RNN layers\n",
        "            out = out[:, -1, :]\n",
        "            out = relu(fc_layer1(out))\n",
        "            out = dropout_fc(out)  # Apply dropout between fully connected layers\n",
        "            out = fc_layer2(out)\n",
        "            _, predicted = t.max(out.data, 1)\n",
        "            train_total += Y.size(0)\n",
        "            train_correct += (predicted == Y).sum().item()\n",
        "        train_accuracy = 100 * train_correct / train_total\n",
        "\n",
        "        # Validation data\n",
        "        validation_correct, validation_total = 0, 0\n",
        "        for X, Y in test_data_loader:\n",
        "            out, _ = rnn_layer1(X)\n",
        "            out = dropout1(out)  # Apply dropout between RNN layers\n",
        "            # out, _ = rnn_layer2(out)\n",
        "            # out = dropout2(out)  # Apply dropout between RNN layers\n",
        "            out = out[:, -1, :]\n",
        "            out = relu(fc_layer1(out))\n",
        "            out = dropout_fc(out)  # Apply dropout between fully connected layers\n",
        "            out = fc_layer2(out)\n",
        "            _, predicted = t.max(out.data, 1)\n",
        "            validation_total += Y.size(0)\n",
        "            validation_correct += (predicted == Y).sum().item()\n",
        "        validation_accuracy = 100 * validation_correct / validation_total\n",
        "\n",
        "        # Print accuracy for the current epoch\n",
        "        print(f'Epoch {epoch}/{epochs} ---> Train Accuracy: {train_accuracy}%, Validation Accuracy: {validation_accuracy}%')\n",
        "\n",
        "        # Append accuracy values to lists\n",
        "        train_accuracy_list.append(train_accuracy)\n",
        "        validation_accuracy_list.append(validation_accuracy)\n",
        "\n",
        "    # Calculate and append the average loss for the epoch\n",
        "    train_loss_list.append(sum(per_epoch_loss_list) / len(per_epoch_loss_list))\n",
        "\n",
        "    # Set the model back to train mode\n",
        "    rnn_layer1.train()\n",
        "    # rnn_layer2.train()\n",
        "    fc_layer1.train()\n",
        "    fc_layer2.train()"
      ],
      "metadata": {
        "colab": {
          "base_uri": "https://localhost:8080/"
        },
        "id": "KzGsoIiXFE9Y",
        "outputId": "e68e603f-8a8e-4069-a22c-6f202b07d9e4"
      },
      "execution_count": null,
      "outputs": [
        {
          "output_type": "stream",
          "name": "stdout",
          "text": [
            "Epoch 0/35 ---> Train Accuracy: 60.111531986531986%, Validation Accuracy: 51.64664858581945%\n",
            "Epoch 1/35 ---> Train Accuracy: 61.6266835016835%, Validation Accuracy: 65.01356063541263%\n",
            "Epoch 2/35 ---> Train Accuracy: 61.763468013468014%, Validation Accuracy: 52.07283998450213%\n",
            "Epoch 3/35 ---> Train Accuracy: 63.82575757575758%, Validation Accuracy: 57.380860131731886%\n",
            "Epoch 4/35 ---> Train Accuracy: 64.3097643097643%, Validation Accuracy: 57.34211545912437%\n",
            "Epoch 5/35 ---> Train Accuracy: 65.29882154882155%, Validation Accuracy: 64.97481596280511%\n",
            "Epoch 6/35 ---> Train Accuracy: 65.63552188552188%, Validation Accuracy: 57.72956218519953%\n",
            "Epoch 7/35 ---> Train Accuracy: 65.16203703703704%, Validation Accuracy: 64.58736923672996%\n",
            "Epoch 8/35 ---> Train Accuracy: 66.75084175084174%, Validation Accuracy: 65.28477334366525%\n",
            "Epoch 9/35 ---> Train Accuracy: 67.8766835016835%, Validation Accuracy: 64.85858194498256%\n",
            "Epoch 10/35 ---> Train Accuracy: 68.68686868686869%, Validation Accuracy: 62.14645486245641%\n",
            "Epoch 11/35 ---> Train Accuracy: 68.58164983164983%, Validation Accuracy: 56.877179387834175%\n",
            "Epoch 12/35 ---> Train Accuracy: 69.63383838383838%, Validation Accuracy: 62.14645486245641%\n",
            "Epoch 13/35 ---> Train Accuracy: 69.58122895622895%, Validation Accuracy: 69.04300658659434%\n",
            "Epoch 14/35 ---> Train Accuracy: 71.06481481481481%, Validation Accuracy: 62.06896551724138%\n",
            "Epoch 15/35 ---> Train Accuracy: 69.85479797979798%, Validation Accuracy: 59.62805114296784%\n",
            "Epoch 16/35 ---> Train Accuracy: 69.45496632996633%, Validation Accuracy: 51.452925222781865%\n",
            "Epoch 17/35 ---> Train Accuracy: 71.35942760942761%, Validation Accuracy: 56.334753971328944%\n",
            "Epoch 18/35 ---> Train Accuracy: 72.59048821548822%, Validation Accuracy: 62.14645486245641%\n",
            "Epoch 19/35 ---> Train Accuracy: 72.04335016835017%, Validation Accuracy: 56.063541263076324%\n",
            "Epoch 20/35 ---> Train Accuracy: 73.45328282828282%, Validation Accuracy: 67.57070902750871%\n",
            "Epoch 21/35 ---> Train Accuracy: 73.46380471380472%, Validation Accuracy: 64.78109259976753%\n",
            "Epoch 22/35 ---> Train Accuracy: 74.2003367003367%, Validation Accuracy: 65.6722200697404%\n",
            "Epoch 23/35 ---> Train Accuracy: 74.64225589225589%, Validation Accuracy: 62.57264626113909%\n",
            "Epoch 24/35 ---> Train Accuracy: 76.43097643097643%, Validation Accuracy: 62.378922898101514%\n",
            "Epoch 25/35 ---> Train Accuracy: 76.50462962962963%, Validation Accuracy: 61.79775280898876%\n",
            "Epoch 26/35 ---> Train Accuracy: 77.12542087542087%, Validation Accuracy: 59.47307245253778%\n",
            "Epoch 27/35 ---> Train Accuracy: 76.92550505050505%, Validation Accuracy: 62.378922898101514%\n",
            "Epoch 28/35 ---> Train Accuracy: 77.16750841750842%, Validation Accuracy: 61.604029445951184%\n",
            "Epoch 29/35 ---> Train Accuracy: 76.35732323232324%, Validation Accuracy: 67.9969004261914%\n",
            "Epoch 30/35 ---> Train Accuracy: 78.65109427609427%, Validation Accuracy: 60.054242541650524%\n",
            "Epoch 31/35 ---> Train Accuracy: 77.4726430976431%, Validation Accuracy: 56.877179387834175%\n",
            "Epoch 32/35 ---> Train Accuracy: 75.35774410774411%, Validation Accuracy: 63.34753971328942%\n",
            "Epoch 33/35 ---> Train Accuracy: 76.8202861952862%, Validation Accuracy: 57.69081751259202%\n",
            "Epoch 34/35 ---> Train Accuracy: 79.22979797979798%, Validation Accuracy: 62.223944207671444%\n"
          ]
        }
      ]
    },
    {
      "cell_type": "code",
      "source": [
        "# Plot training and validation accuracy over epochs\n",
        "plt.plot([i for i in range(len(train_accuracy_list))], train_accuracy_list, label=\"Train\")\n",
        "plt.plot([i for i in range(len(validation_accuracy_list))], validation_accuracy_list, label=\"Validation\")\n",
        "plt.legend(loc=\"upper left\")\n",
        "plt.xlabel('Epochs')\n",
        "plt.ylabel('Accuracy')\n",
        "plt.show()"
      ],
      "metadata": {
        "colab": {
          "base_uri": "https://localhost:8080/",
          "height": 449
        },
        "id": "pPg6T3Y6Ferw",
        "outputId": "0989314c-379a-4650-c7a4-8b46c37360f7"
      },
      "execution_count": null,
      "outputs": [
        {
          "output_type": "display_data",
          "data": {
            "text/plain": [
              "<Figure size 640x480 with 1 Axes>"
            ],
            "image/png": "[encoded data removed]"
          },
          "metadata": {}
        }
      ]
    }
  ],
  "metadata": {
    "colab": {
      "provenance": [],
      "include_colab_link": true
    },
    "kernelspec": {
      "display_name": "Python 3",
      "name": "python3"
    },
    "language_info": {
      "name": "python"
    }
  },
  "nbformat": 4,
  "nbformat_minor": 0
}